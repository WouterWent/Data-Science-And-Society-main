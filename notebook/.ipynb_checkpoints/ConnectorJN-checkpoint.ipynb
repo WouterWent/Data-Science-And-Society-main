{
 "cells": [
  {
   "cell_type": "code",
   "execution_count": 28,
   "id": "d3f4cc24-fd2f-4220-9253-9385ccd95d1c",
   "metadata": {},
   "outputs": [],
   "source": [
    "import pandas as pd\n",
    "import psycopg2\n",
    "import configparser\n",
    "import plotly.express as px\n",
    "import plotly.graph_objects as go\n",
    "import re"
   ]
  },
  {
   "cell_type": "code",
   "execution_count": 29,
   "id": "ef983b2e-498a-4bd7-9bcf-bf8d1e7c1bbc",
   "metadata": {},
   "outputs": [
    {
     "data": {
      "text/plain": [
       "['Config.txt']"
      ]
     },
     "execution_count": 29,
     "metadata": {},
     "output_type": "execute_result"
    }
   ],
   "source": [
    "# Load config\n",
    "config = configparser.ConfigParser()\n",
    "config.read('Config.txt')"
   ]
  },
  {
   "cell_type": "code",
   "execution_count": 30,
   "id": "2fdda4f4-7e8c-44ee-bed3-59bec9dc20f6",
   "metadata": {},
   "outputs": [],
   "source": [
    "# Get database configurations\n",
    "db_config = config['DATABASE']"
   ]
  },
  {
   "cell_type": "code",
   "execution_count": 31,
   "id": "b2f99222-b9b8-4b65-9b7a-ce70ed5435eb",
   "metadata": {},
   "outputs": [
    {
     "name": "stdout",
     "output_type": "stream",
     "text": [
      "Connected successfully!\n"
     ]
    },
    {
     "data": {
      "application/vnd.plotly.v1+json": {
       "config": {
        "plotlyServerURL": "https://plot.ly"
       },
       "data": [
        {
         "type": "scatter",
         "x": [
          "2023-01-06",
          "2023-01-13",
          "2023-01-20",
          "2023-01-27",
          "2023-02-03",
          "2023-02-10",
          "2023-02-17",
          "2023-02-24",
          "2023-03-03",
          "2023-03-10",
          "2023-03-17",
          "2023-03-24"
         ],
         "y": [
          0.5109563829787234,
          0.4977648936170213,
          0.5045580645161291,
          0.5011747252747253,
          0.4916784946236559,
          0.5088268817204301,
          0.4931065934065934,
          0.4821835164835165,
          0.492147311827957,
          0.4805903225806451,
          0.4734870967741936,
          0.4667021276595744
         ]
        }
       ],
       "layout": {
        "autosize": true,
        "template": {
         "data": {
          "bar": [
           {
            "error_x": {
             "color": "#2a3f5f"
            },
            "error_y": {
             "color": "#2a3f5f"
            },
            "marker": {
             "line": {
              "color": "#E5ECF6",
              "width": 0.5
             },
             "pattern": {
              "fillmode": "overlay",
              "size": 10,
              "solidity": 0.2
             }
            },
            "type": "bar"
           }
          ],
          "barpolar": [
           {
            "marker": {
             "line": {
              "color": "#E5ECF6",
              "width": 0.5
             },
             "pattern": {
              "fillmode": "overlay",
              "size": 10,
              "solidity": 0.2
             }
            },
            "type": "barpolar"
           }
          ],
          "carpet": [
           {
            "aaxis": {
             "endlinecolor": "#2a3f5f",
             "gridcolor": "white",
             "linecolor": "white",
             "minorgridcolor": "white",
             "startlinecolor": "#2a3f5f"
            },
            "baxis": {
             "endlinecolor": "#2a3f5f",
             "gridcolor": "white",
             "linecolor": "white",
             "minorgridcolor": "white",
             "startlinecolor": "#2a3f5f"
            },
            "type": "carpet"
           }
          ],
          "choropleth": [
           {
            "colorbar": {
             "outlinewidth": 0,
             "ticks": ""
            },
            "type": "choropleth"
           }
          ],
          "contour": [
           {
            "colorbar": {
             "outlinewidth": 0,
             "ticks": ""
            },
            "colorscale": [
             [
              0,
              "#0d0887"
             ],
             [
              0.1111111111111111,
              "#46039f"
             ],
             [
              0.2222222222222222,
              "#7201a8"
             ],
             [
              0.3333333333333333,
              "#9c179e"
             ],
             [
              0.4444444444444444,
              "#bd3786"
             ],
             [
              0.5555555555555556,
              "#d8576b"
             ],
             [
              0.6666666666666666,
              "#ed7953"
             ],
             [
              0.7777777777777778,
              "#fb9f3a"
             ],
             [
              0.8888888888888888,
              "#fdca26"
             ],
             [
              1,
              "#f0f921"
             ]
            ],
            "type": "contour"
           }
          ],
          "contourcarpet": [
           {
            "colorbar": {
             "outlinewidth": 0,
             "ticks": ""
            },
            "type": "contourcarpet"
           }
          ],
          "heatmap": [
           {
            "colorbar": {
             "outlinewidth": 0,
             "ticks": ""
            },
            "colorscale": [
             [
              0,
              "#0d0887"
             ],
             [
              0.1111111111111111,
              "#46039f"
             ],
             [
              0.2222222222222222,
              "#7201a8"
             ],
             [
              0.3333333333333333,
              "#9c179e"
             ],
             [
              0.4444444444444444,
              "#bd3786"
             ],
             [
              0.5555555555555556,
              "#d8576b"
             ],
             [
              0.6666666666666666,
              "#ed7953"
             ],
             [
              0.7777777777777778,
              "#fb9f3a"
             ],
             [
              0.8888888888888888,
              "#fdca26"
             ],
             [
              1,
              "#f0f921"
             ]
            ],
            "type": "heatmap"
           }
          ],
          "heatmapgl": [
           {
            "colorbar": {
             "outlinewidth": 0,
             "ticks": ""
            },
            "colorscale": [
             [
              0,
              "#0d0887"
             ],
             [
              0.1111111111111111,
              "#46039f"
             ],
             [
              0.2222222222222222,
              "#7201a8"
             ],
             [
              0.3333333333333333,
              "#9c179e"
             ],
             [
              0.4444444444444444,
              "#bd3786"
             ],
             [
              0.5555555555555556,
              "#d8576b"
             ],
             [
              0.6666666666666666,
              "#ed7953"
             ],
             [
              0.7777777777777778,
              "#fb9f3a"
             ],
             [
              0.8888888888888888,
              "#fdca26"
             ],
             [
              1,
              "#f0f921"
             ]
            ],
            "type": "heatmapgl"
           }
          ],
          "histogram": [
           {
            "marker": {
             "pattern": {
              "fillmode": "overlay",
              "size": 10,
              "solidity": 0.2
             }
            },
            "type": "histogram"
           }
          ],
          "histogram2d": [
           {
            "colorbar": {
             "outlinewidth": 0,
             "ticks": ""
            },
            "colorscale": [
             [
              0,
              "#0d0887"
             ],
             [
              0.1111111111111111,
              "#46039f"
             ],
             [
              0.2222222222222222,
              "#7201a8"
             ],
             [
              0.3333333333333333,
              "#9c179e"
             ],
             [
              0.4444444444444444,
              "#bd3786"
             ],
             [
              0.5555555555555556,
              "#d8576b"
             ],
             [
              0.6666666666666666,
              "#ed7953"
             ],
             [
              0.7777777777777778,
              "#fb9f3a"
             ],
             [
              0.8888888888888888,
              "#fdca26"
             ],
             [
              1,
              "#f0f921"
             ]
            ],
            "type": "histogram2d"
           }
          ],
          "histogram2dcontour": [
           {
            "colorbar": {
             "outlinewidth": 0,
             "ticks": ""
            },
            "colorscale": [
             [
              0,
              "#0d0887"
             ],
             [
              0.1111111111111111,
              "#46039f"
             ],
             [
              0.2222222222222222,
              "#7201a8"
             ],
             [
              0.3333333333333333,
              "#9c179e"
             ],
             [
              0.4444444444444444,
              "#bd3786"
             ],
             [
              0.5555555555555556,
              "#d8576b"
             ],
             [
              0.6666666666666666,
              "#ed7953"
             ],
             [
              0.7777777777777778,
              "#fb9f3a"
             ],
             [
              0.8888888888888888,
              "#fdca26"
             ],
             [
              1,
              "#f0f921"
             ]
            ],
            "type": "histogram2dcontour"
           }
          ],
          "mesh3d": [
           {
            "colorbar": {
             "outlinewidth": 0,
             "ticks": ""
            },
            "type": "mesh3d"
           }
          ],
          "parcoords": [
           {
            "line": {
             "colorbar": {
              "outlinewidth": 0,
              "ticks": ""
             }
            },
            "type": "parcoords"
           }
          ],
          "pie": [
           {
            "automargin": true,
            "type": "pie"
           }
          ],
          "scatter": [
           {
            "fillpattern": {
             "fillmode": "overlay",
             "size": 10,
             "solidity": 0.2
            },
            "type": "scatter"
           }
          ],
          "scatter3d": [
           {
            "line": {
             "colorbar": {
              "outlinewidth": 0,
              "ticks": ""
             }
            },
            "marker": {
             "colorbar": {
              "outlinewidth": 0,
              "ticks": ""
             }
            },
            "type": "scatter3d"
           }
          ],
          "scattercarpet": [
           {
            "marker": {
             "colorbar": {
              "outlinewidth": 0,
              "ticks": ""
             }
            },
            "type": "scattercarpet"
           }
          ],
          "scattergeo": [
           {
            "marker": {
             "colorbar": {
              "outlinewidth": 0,
              "ticks": ""
             }
            },
            "type": "scattergeo"
           }
          ],
          "scattergl": [
           {
            "marker": {
             "colorbar": {
              "outlinewidth": 0,
              "ticks": ""
             }
            },
            "type": "scattergl"
           }
          ],
          "scattermapbox": [
           {
            "marker": {
             "colorbar": {
              "outlinewidth": 0,
              "ticks": ""
             }
            },
            "type": "scattermapbox"
           }
          ],
          "scatterpolar": [
           {
            "marker": {
             "colorbar": {
              "outlinewidth": 0,
              "ticks": ""
             }
            },
            "type": "scatterpolar"
           }
          ],
          "scatterpolargl": [
           {
            "marker": {
             "colorbar": {
              "outlinewidth": 0,
              "ticks": ""
             }
            },
            "type": "scatterpolargl"
           }
          ],
          "scatterternary": [
           {
            "marker": {
             "colorbar": {
              "outlinewidth": 0,
              "ticks": ""
             }
            },
            "type": "scatterternary"
           }
          ],
          "surface": [
           {
            "colorbar": {
             "outlinewidth": 0,
             "ticks": ""
            },
            "colorscale": [
             [
              0,
              "#0d0887"
             ],
             [
              0.1111111111111111,
              "#46039f"
             ],
             [
              0.2222222222222222,
              "#7201a8"
             ],
             [
              0.3333333333333333,
              "#9c179e"
             ],
             [
              0.4444444444444444,
              "#bd3786"
             ],
             [
              0.5555555555555556,
              "#d8576b"
             ],
             [
              0.6666666666666666,
              "#ed7953"
             ],
             [
              0.7777777777777778,
              "#fb9f3a"
             ],
             [
              0.8888888888888888,
              "#fdca26"
             ],
             [
              1,
              "#f0f921"
             ]
            ],
            "type": "surface"
           }
          ],
          "table": [
           {
            "cells": {
             "fill": {
              "color": "#EBF0F8"
             },
             "line": {
              "color": "white"
             }
            },
            "header": {
             "fill": {
              "color": "#C8D4E3"
             },
             "line": {
              "color": "white"
             }
            },
            "type": "table"
           }
          ]
         },
         "layout": {
          "annotationdefaults": {
           "arrowcolor": "#2a3f5f",
           "arrowhead": 0,
           "arrowwidth": 1
          },
          "autotypenumbers": "strict",
          "coloraxis": {
           "colorbar": {
            "outlinewidth": 0,
            "ticks": ""
           }
          },
          "colorscale": {
           "diverging": [
            [
             0,
             "#8e0152"
            ],
            [
             0.1,
             "#c51b7d"
            ],
            [
             0.2,
             "#de77ae"
            ],
            [
             0.3,
             "#f1b6da"
            ],
            [
             0.4,
             "#fde0ef"
            ],
            [
             0.5,
             "#f7f7f7"
            ],
            [
             0.6,
             "#e6f5d0"
            ],
            [
             0.7,
             "#b8e186"
            ],
            [
             0.8,
             "#7fbc41"
            ],
            [
             0.9,
             "#4d9221"
            ],
            [
             1,
             "#276419"
            ]
           ],
           "sequential": [
            [
             0,
             "#0d0887"
            ],
            [
             0.1111111111111111,
             "#46039f"
            ],
            [
             0.2222222222222222,
             "#7201a8"
            ],
            [
             0.3333333333333333,
             "#9c179e"
            ],
            [
             0.4444444444444444,
             "#bd3786"
            ],
            [
             0.5555555555555556,
             "#d8576b"
            ],
            [
             0.6666666666666666,
             "#ed7953"
            ],
            [
             0.7777777777777778,
             "#fb9f3a"
            ],
            [
             0.8888888888888888,
             "#fdca26"
            ],
            [
             1,
             "#f0f921"
            ]
           ],
           "sequentialminus": [
            [
             0,
             "#0d0887"
            ],
            [
             0.1111111111111111,
             "#46039f"
            ],
            [
             0.2222222222222222,
             "#7201a8"
            ],
            [
             0.3333333333333333,
             "#9c179e"
            ],
            [
             0.4444444444444444,
             "#bd3786"
            ],
            [
             0.5555555555555556,
             "#d8576b"
            ],
            [
             0.6666666666666666,
             "#ed7953"
            ],
            [
             0.7777777777777778,
             "#fb9f3a"
            ],
            [
             0.8888888888888888,
             "#fdca26"
            ],
            [
             1,
             "#f0f921"
            ]
           ]
          },
          "colorway": [
           "#636efa",
           "#EF553B",
           "#00cc96",
           "#ab63fa",
           "#FFA15A",
           "#19d3f3",
           "#FF6692",
           "#B6E880",
           "#FF97FF",
           "#FECB52"
          ],
          "font": {
           "color": "#2a3f5f"
          },
          "geo": {
           "bgcolor": "white",
           "lakecolor": "white",
           "landcolor": "#E5ECF6",
           "showlakes": true,
           "showland": true,
           "subunitcolor": "white"
          },
          "hoverlabel": {
           "align": "left"
          },
          "hovermode": "closest",
          "mapbox": {
           "style": "light"
          },
          "paper_bgcolor": "white",
          "plot_bgcolor": "#E5ECF6",
          "polar": {
           "angularaxis": {
            "gridcolor": "white",
            "linecolor": "white",
            "ticks": ""
           },
           "bgcolor": "#E5ECF6",
           "radialaxis": {
            "gridcolor": "white",
            "linecolor": "white",
            "ticks": ""
           }
          },
          "scene": {
           "xaxis": {
            "backgroundcolor": "#E5ECF6",
            "gridcolor": "white",
            "gridwidth": 2,
            "linecolor": "white",
            "showbackground": true,
            "ticks": "",
            "zerolinecolor": "white"
           },
           "yaxis": {
            "backgroundcolor": "#E5ECF6",
            "gridcolor": "white",
            "gridwidth": 2,
            "linecolor": "white",
            "showbackground": true,
            "ticks": "",
            "zerolinecolor": "white"
           },
           "zaxis": {
            "backgroundcolor": "#E5ECF6",
            "gridcolor": "white",
            "gridwidth": 2,
            "linecolor": "white",
            "showbackground": true,
            "ticks": "",
            "zerolinecolor": "white"
           }
          },
          "shapedefaults": {
           "line": {
            "color": "#2a3f5f"
           }
          },
          "ternary": {
           "aaxis": {
            "gridcolor": "white",
            "linecolor": "white",
            "ticks": ""
           },
           "baxis": {
            "gridcolor": "white",
            "linecolor": "white",
            "ticks": ""
           },
           "bgcolor": "#E5ECF6",
           "caxis": {
            "gridcolor": "white",
            "linecolor": "white",
            "ticks": ""
           }
          },
          "title": {
           "x": 0.05
          },
          "xaxis": {
           "automargin": true,
           "gridcolor": "white",
           "linecolor": "white",
           "ticks": "",
           "title": {
            "standoff": 15
           },
           "zerolinecolor": "white",
           "zerolinewidth": 2
          },
          "yaxis": {
           "automargin": true,
           "gridcolor": "white",
           "linecolor": "white",
           "ticks": "",
           "title": {
            "standoff": 15
           },
           "zerolinecolor": "white",
           "zerolinewidth": 2
          }
         }
        },
        "xaxis": {
         "autorange": true,
         "range": [
          "2023-01-01 09:11:25.2792",
          "2023-03-28 14:48:34.7208"
         ],
         "type": "date"
        },
        "yaxis": {
         "autorange": true,
         "range": [
          0.463050077463334,
          0.5146084331749639
         ],
         "type": "linear"
        }
       }
      },
      "image/png": "[encoded data removed]",
      "text/html": [
       "<div>                            <div id=\"8436f3ce-c404-4d70-9204-747a5dafd754\" class=\"plotly-graph-div\" style=\"height:525px; width:100%;\"></div>            <script type=\"text/javascript\">                require([\"plotly\"], function(Plotly) {                    window.PLOTLYENV=window.PLOTLYENV || {};                                    if (document.getElementById(\"8436f3ce-c404-4d70-9204-747a5dafd754\")) {                    Plotly.newPlot(                        \"8436f3ce-c404-4d70-9204-747a5dafd754\",                        [{\"x\":[\"2023-01-06\",\"2023-01-13\",\"2023-01-20\",\"2023-01-27\",\"2023-02-03\",\"2023-02-10\",\"2023-02-17\",\"2023-02-24\",\"2023-03-03\",\"2023-03-10\",\"2023-03-17\",\"2023-03-24\"],\"y\":[0.5109563829787234,0.4977648936170213,0.5045580645161291,0.5011747252747253,0.4916784946236559,0.5088268817204301,0.4931065934065934,0.4821835164835165,0.492147311827957,0.4805903225806451,0.4734870967741936,0.4667021276595744],\"type\":\"scatter\"}],                        {\"template\":{\"data\":{\"histogram2dcontour\":[{\"type\":\"histogram2dcontour\",\"colorbar\":{\"outlinewidth\":0,\"ticks\":\"\"},\"colorscale\":[[0.0,\"#0d0887\"],[0.1111111111111111,\"#46039f\"],[0.2222222222222222,\"#7201a8\"],[0.3333333333333333,\"#9c179e\"],[0.4444444444444444,\"#bd3786\"],[0.5555555555555556,\"#d8576b\"],[0.6666666666666666,\"#ed7953\"],[0.7777777777777778,\"#fb9f3a\"],[0.8888888888888888,\"#fdca26\"],[1.0,\"#f0f921\"]]}],\"choropleth\":[{\"type\":\"choropleth\",\"colorbar\":{\"outlinewidth\":0,\"ticks\":\"\"}}],\"histogram2d\":[{\"type\":\"histogram2d\",\"colorbar\":{\"outlinewidth\":0,\"ticks\":\"\"},\"colorscale\":[[0.0,\"#0d0887\"],[0.1111111111111111,\"#46039f\"],[0.2222222222222222,\"#7201a8\"],[0.3333333333333333,\"#9c179e\"],[0.4444444444444444,\"#bd3786\"],[0.5555555555555556,\"#d8576b\"],[0.6666666666666666,\"#ed7953\"],[0.7777777777777778,\"#fb9f3a\"],[0.8888888888888888,\"#fdca26\"],[1.0,\"#f0f921\"]]}],\"heatmap\":[{\"type\":\"heatmap\",\"colorbar\":{\"outlinewidth\":0,\"ticks\":\"\"},\"colorscale\":[[0.0,\"#0d0887\"],[0.1111111111111111,\"#46039f\"],[0.2222222222222222,\"#7201a8\"],[0.3333333333333333,\"#9c179e\"],[0.4444444444444444,\"#bd3786\"],[0.5555555555555556,\"#d8576b\"],[0.6666666666666666,\"#ed7953\"],[0.7777777777777778,\"#fb9f3a\"],[0.8888888888888888,\"#fdca26\"],[1.0,\"#f0f921\"]]}],\"heatmapgl\":[{\"type\":\"heatmapgl\",\"colorbar\":{\"outlinewidth\":0,\"ticks\":\"\"},\"colorscale\":[[0.0,\"#0d0887\"],[0.1111111111111111,\"#46039f\"],[0.2222222222222222,\"#7201a8\"],[0.3333333333333333,\"#9c179e\"],[0.4444444444444444,\"#bd3786\"],[0.5555555555555556,\"#d8576b\"],[0.6666666666666666,\"#ed7953\"],[0.7777777777777778,\"#fb9f3a\"],[0.8888888888888888,\"#fdca26\"],[1.0,\"#f0f921\"]]}],\"contourcarpet\":[{\"type\":\"contourcarpet\",\"colorbar\":{\"outlinewidth\":0,\"ticks\":\"\"}}],\"contour\":[{\"type\":\"contour\",\"colorbar\":{\"outlinewidth\":0,\"ticks\":\"\"},\"colorscale\":[[0.0,\"#0d0887\"],[0.1111111111111111,\"#46039f\"],[0.2222222222222222,\"#7201a8\"],[0.3333333333333333,\"#9c179e\"],[0.4444444444444444,\"#bd3786\"],[0.5555555555555556,\"#d8576b\"],[0.6666666666666666,\"#ed7953\"],[0.7777777777777778,\"#fb9f3a\"],[0.8888888888888888,\"#fdca26\"],[1.0,\"#f0f921\"]]}],\"surface\":[{\"type\":\"surface\",\"colorbar\":{\"outlinewidth\":0,\"ticks\":\"\"},\"colorscale\":[[0.0,\"#0d0887\"],[0.1111111111111111,\"#46039f\"],[0.2222222222222222,\"#7201a8\"],[0.3333333333333333,\"#9c179e\"],[0.4444444444444444,\"#bd3786\"],[0.5555555555555556,\"#d8576b\"],[0.6666666666666666,\"#ed7953\"],[0.7777777777777778,\"#fb9f3a\"],[0.8888888888888888,\"#fdca26\"],[1.0,\"#f0f921\"]]}],\"mesh3d\":[{\"type\":\"mesh3d\",\"colorbar\":{\"outlinewidth\":0,\"ticks\":\"\"}}],\"scatter\":[{\"fillpattern\":{\"fillmode\":\"overlay\",\"size\":10,\"solidity\":0.2},\"type\":\"scatter\"}],\"parcoords\":[{\"type\":\"parcoords\",\"line\":{\"colorbar\":{\"outlinewidth\":0,\"ticks\":\"\"}}}],\"scatterpolargl\":[{\"type\":\"scatterpolargl\",\"marker\":{\"colorbar\":{\"outlinewidth\":0,\"ticks\":\"\"}}}],\"bar\":[{\"error_x\":{\"color\":\"#2a3f5f\"},\"error_y\":{\"color\":\"#2a3f5f\"},\"marker\":{\"line\":{\"color\":\"#E5ECF6\",\"width\":0.5},\"pattern\":{\"fillmode\":\"overlay\",\"size\":10,\"solidity\":0.2}},\"type\":\"bar\"}],\"scattergeo\":[{\"type\":\"scattergeo\",\"marker\":{\"colorbar\":{\"outlinewidth\":0,\"ticks\":\"\"}}}],\"scatterpolar\":[{\"type\":\"scatterpolar\",\"marker\":{\"colorbar\":{\"outlinewidth\":0,\"ticks\":\"\"}}}],\"histogram\":[{\"marker\":{\"pattern\":{\"fillmode\":\"overlay\",\"size\":10,\"solidity\":0.2}},\"type\":\"histogram\"}],\"scattergl\":[{\"type\":\"scattergl\",\"marker\":{\"colorbar\":{\"outlinewidth\":0,\"ticks\":\"\"}}}],\"scatter3d\":[{\"type\":\"scatter3d\",\"line\":{\"colorbar\":{\"outlinewidth\":0,\"ticks\":\"\"}},\"marker\":{\"colorbar\":{\"outlinewidth\":0,\"ticks\":\"\"}}}],\"scattermapbox\":[{\"type\":\"scattermapbox\",\"marker\":{\"colorbar\":{\"outlinewidth\":0,\"ticks\":\"\"}}}],\"scatterternary\":[{\"type\":\"scatterternary\",\"marker\":{\"colorbar\":{\"outlinewidth\":0,\"ticks\":\"\"}}}],\"scattercarpet\":[{\"type\":\"scattercarpet\",\"marker\":{\"colorbar\":{\"outlinewidth\":0,\"ticks\":\"\"}}}],\"carpet\":[{\"aaxis\":{\"endlinecolor\":\"#2a3f5f\",\"gridcolor\":\"white\",\"linecolor\":\"white\",\"minorgridcolor\":\"white\",\"startlinecolor\":\"#2a3f5f\"},\"baxis\":{\"endlinecolor\":\"#2a3f5f\",\"gridcolor\":\"white\",\"linecolor\":\"white\",\"minorgridcolor\":\"white\",\"startlinecolor\":\"#2a3f5f\"},\"type\":\"carpet\"}],\"table\":[{\"cells\":{\"fill\":{\"color\":\"#EBF0F8\"},\"line\":{\"color\":\"white\"}},\"header\":{\"fill\":{\"color\":\"#C8D4E3\"},\"line\":{\"color\":\"white\"}},\"type\":\"table\"}],\"barpolar\":[{\"marker\":{\"line\":{\"color\":\"#E5ECF6\",\"width\":0.5},\"pattern\":{\"fillmode\":\"overlay\",\"size\":10,\"solidity\":0.2}},\"type\":\"barpolar\"}],\"pie\":[{\"automargin\":true,\"type\":\"pie\"}]},\"layout\":{\"autotypenumbers\":\"strict\",\"colorway\":[\"#636efa\",\"#EF553B\",\"#00cc96\",\"#ab63fa\",\"#FFA15A\",\"#19d3f3\",\"#FF6692\",\"#B6E880\",\"#FF97FF\",\"#FECB52\"],\"font\":{\"color\":\"#2a3f5f\"},\"hovermode\":\"closest\",\"hoverlabel\":{\"align\":\"left\"},\"paper_bgcolor\":\"white\",\"plot_bgcolor\":\"#E5ECF6\",\"polar\":{\"bgcolor\":\"#E5ECF6\",\"angularaxis\":{\"gridcolor\":\"white\",\"linecolor\":\"white\",\"ticks\":\"\"},\"radialaxis\":{\"gridcolor\":\"white\",\"linecolor\":\"white\",\"ticks\":\"\"}},\"ternary\":{\"bgcolor\":\"#E5ECF6\",\"aaxis\":{\"gridcolor\":\"white\",\"linecolor\":\"white\",\"ticks\":\"\"},\"baxis\":{\"gridcolor\":\"white\",\"linecolor\":\"white\",\"ticks\":\"\"},\"caxis\":{\"gridcolor\":\"white\",\"linecolor\":\"white\",\"ticks\":\"\"}},\"coloraxis\":{\"colorbar\":{\"outlinewidth\":0,\"ticks\":\"\"}},\"colorscale\":{\"sequential\":[[0.0,\"#0d0887\"],[0.1111111111111111,\"#46039f\"],[0.2222222222222222,\"#7201a8\"],[0.3333333333333333,\"#9c179e\"],[0.4444444444444444,\"#bd3786\"],[0.5555555555555556,\"#d8576b\"],[0.6666666666666666,\"#ed7953\"],[0.7777777777777778,\"#fb9f3a\"],[0.8888888888888888,\"#fdca26\"],[1.0,\"#f0f921\"]],\"sequentialminus\":[[0.0,\"#0d0887\"],[0.1111111111111111,\"#46039f\"],[0.2222222222222222,\"#7201a8\"],[0.3333333333333333,\"#9c179e\"],[0.4444444444444444,\"#bd3786\"],[0.5555555555555556,\"#d8576b\"],[0.6666666666666666,\"#ed7953\"],[0.7777777777777778,\"#fb9f3a\"],[0.8888888888888888,\"#fdca26\"],[1.0,\"#f0f921\"]],\"diverging\":[[0,\"#8e0152\"],[0.1,\"#c51b7d\"],[0.2,\"#de77ae\"],[0.3,\"#f1b6da\"],[0.4,\"#fde0ef\"],[0.5,\"#f7f7f7\"],[0.6,\"#e6f5d0\"],[0.7,\"#b8e186\"],[0.8,\"#7fbc41\"],[0.9,\"#4d9221\"],[1,\"#276419\"]]},\"xaxis\":{\"gridcolor\":\"white\",\"linecolor\":\"white\",\"ticks\":\"\",\"title\":{\"standoff\":15},\"zerolinecolor\":\"white\",\"automargin\":true,\"zerolinewidth\":2},\"yaxis\":{\"gridcolor\":\"white\",\"linecolor\":\"white\",\"ticks\":\"\",\"title\":{\"standoff\":15},\"zerolinecolor\":\"white\",\"automargin\":true,\"zerolinewidth\":2},\"scene\":{\"xaxis\":{\"backgroundcolor\":\"#E5ECF6\",\"gridcolor\":\"white\",\"linecolor\":\"white\",\"showbackground\":true,\"ticks\":\"\",\"zerolinecolor\":\"white\",\"gridwidth\":2},\"yaxis\":{\"backgroundcolor\":\"#E5ECF6\",\"gridcolor\":\"white\",\"linecolor\":\"white\",\"showbackground\":true,\"ticks\":\"\",\"zerolinecolor\":\"white\",\"gridwidth\":2},\"zaxis\":{\"backgroundcolor\":\"#E5ECF6\",\"gridcolor\":\"white\",\"linecolor\":\"white\",\"showbackground\":true,\"ticks\":\"\",\"zerolinecolor\":\"white\",\"gridwidth\":2}},\"shapedefaults\":{\"line\":{\"color\":\"#2a3f5f\"}},\"annotationdefaults\":{\"arrowcolor\":\"#2a3f5f\",\"arrowhead\":0,\"arrowwidth\":1},\"geo\":{\"bgcolor\":\"white\",\"landcolor\":\"#E5ECF6\",\"subunitcolor\":\"white\",\"showland\":true,\"showlakes\":true,\"lakecolor\":\"white\"},\"title\":{\"x\":0.05},\"mapbox\":{\"style\":\"light\"}}}},                        {\"responsive\": true}                    ).then(function(){\n",
       "                            \n",
       "var gd = document.getElementById('8436f3ce-c404-4d70-9204-747a5dafd754');\n",
       "var x = new MutationObserver(function (mutations, observer) {{\n",
       "        var display = window.getComputedStyle(gd).display;\n",
       "        if (!display || display === 'none') {{\n",
       "            console.log([gd, 'removed!']);\n",
       "            Plotly.purge(gd);\n",
       "            observer.disconnect();\n",
       "        }}\n",
       "}});\n",
       "\n",
       "// Listen for the removal of the full notebook cells\n",
       "var notebookContainer = gd.closest('#notebook-container');\n",
       "if (notebookContainer) {{\n",
       "    x.observe(notebookContainer, {childList: true});\n",
       "}}\n",
       "\n",
       "// Listen for the clearing of the current output cell\n",
       "var outputEl = gd.closest('.output');\n",
       "if (outputEl) {{\n",
       "    x.observe(outputEl, {childList: true});\n",
       "}}\n",
       "\n",
       "                        })                };                });            </script>        </div>"
      ]
     },
     "metadata": {},
     "output_type": "display_data"
    }
   ],
   "source": [
    "# Connect to db\n",
    "try:\n",
    "    cnx = psycopg2.connect(\n",
    "        user=db_config['USER'],\n",
    "        password=db_config['PASSWORD'],\n",
    "        host=db_config['HOST'],\n",
    "        port=db_config['PORT'],\n",
    "        database=db_config['NAME']\n",
    "    )\n",
    "    print(\"Connected successfully!\")\n",
    "    cur = cnx.cursor()\n",
    "\n",
    "    # Execute the query\n",
    "    cur.execute(\"\"\"\n",
    "        SELECT * FROM music_charts\n",
    "        ;\n",
    "    \"\"\")\n",
    "\n",
    "    # Fetch the results\n",
    "    results = cur.fetchall()\n",
    "\n",
    "    # Close the connection\n",
    "    cnx.close()\n",
    "\n",
    "    # Create a Pandas DataFrame from the results\n",
    "    df = pd.DataFrame(results, columns=[col_name[0] for col_name in cur.description])\n",
    "    # Group the DataFrame by week\n",
    "    df = df.groupby('week')['valence'].mean()\n",
    "\n",
    "    # Create a line chart\n",
    "    fig = go.Figure()\n",
    "    fig.add_trace(go.Scatter(x=df.index, y=df.values))\n",
    "\n",
    "    # Show the chart\n",
    "    fig.show()\n",
    "\n",
    "except Exception as e:\n",
    "    print(f\"Error: {e}\")"
   ]
  },
  {
   "cell_type": "code",
   "execution_count": 37,
   "id": "80f40d06-0030-477a-ab39-c8acd0b99d96",
   "metadata": {},
   "outputs": [
    {
     "name": "stdout",
     "output_type": "stream",
     "text": [
      "Connected successfully!\n",
      "music_charts\n",
      "music_charts_productie\n",
      "incidentdata\n"
     ]
    }
   ],
   "source": [
    "import psycopg2\n",
    "\n",
    "try:\n",
    "    cnx = psycopg2.connect(\n",
    "        user=db_config['USER'],\n",
    "        password=db_config['PASSWORD'],\n",
    "        host=db_config['HOST'],\n",
    "        port=db_config['PORT'],\n",
    "        database=db_config['NAME']\n",
    "    )\n",
    "\n",
    "    print(\"Connected successfully!\")\n",
    "    cur = cnx.cursor()\n",
    "\n",
    "    # Query to fetch all table names in the current schema\n",
    "    cur.execute(\"SELECT table_name FROM information_schema.tables WHERE table_schema = 'public';\")\n",
    "\n",
    "    # Fetch all table names\n",
    "    table_names = cur.fetchall()\n",
    "\n",
    "    # Print the table names\n",
    "    for table in table_names:\n",
    "        print(table[0])\n",
    "\n",
    "    cnx.close()\n",
    "\n",
    "except Exception as e:\n",
    "    print(f\"Error: {e}\")\n"
   ]
  },
  {
   "cell_type": "code",
   "execution_count": 33,
   "id": "320d5b3a-032c-436c-82f4-fd505eb1fdda",
   "metadata": {},
   "outputs": [
    {
     "name": "stdout",
     "output_type": "stream",
     "text": [
      "Connected successfully!\n",
      "id, song, artist, week, valence, track_id, language\n",
      "None, СОЛНЦЕ МОНАКО (Tha Remix), Lusia Chebotina, blago white, MAYOT, 2021-11-26, 0.748, 56vbR6vkOTNRehnuv8gNBF, Russian\n",
      "None, Гуси, Wellboy, 2021-11-26, 0.663, 4TLYCLkGimyHZDaLFMLKOc, Ukrainian\n",
      "None, Rampampam, Minelli, 2021-11-26, 0.437, 1esZgaqm0YKN87CIP3orJ3, English\n",
      "None, Заебавшие рожи, Grigory Leps, 2021-11-26, 0.266, 7dLs0hSjodwgs1htpFFSUC, Russian\n",
      "None, Міраж, Artem Pivovarov, 2021-11-26, 0.704, 3FOBoSvg3paiwcGfOUQLqj, Ukrainian\n",
      "None, Вишні - New Year Version, Wellboy, 2021-11-26, 0.607, 0pomtUMMZwdYLog9ZdqrJ7, Ukrainian\n",
      "None, Федерико Феллини, Galibri & Mavik, 2021-11-26, 0.936, 7Eyfmn0zcgcjGUrWlFdgqa, Russian\n",
      "None, Americano, LOBODA, 2021-11-26, 0.256, 3VGOgdTqoMYOohpmD0IIHL, Russian\n",
      "None, Million, Big Baby Tape, kizaru, 2021-11-26, 0.719, 5Z8YDahqRCzMQRwKZPk5dC, Russian\n",
      "None, М'ята, KAZKA, 2021-11-26, 0.71, 3VKvIoxygdRLQ9emGVC8LQ, Ukrainian\n",
      "None, Никто, NЮ, 2021-11-26, 0.366, 0m2GGIVcV80IfKDg1oCULj, Russian\n",
      "None, Птичка, HammAli & Navai, 2021-11-26, 0.17, 6Abmb1Nh7Bc5U6o4iEgSDH, Russian\n",
      "None, Я твоя не первая, DOROFEEVA, 2021-11-26, 0.167, 0KRZA3XOyGbRDABWx0foDc, Russian\n",
      "None, Minor, Miyagi & Andy Panda, 2021-11-26, 0.49, 5m5rShfBQk4UpG7vpsEKzf, Russian\n",
      "None, Потеряли пацана, Tanir & Tyomcha, 2021-11-26, 0.65, 2SiNwSe2MLnMB8NcoxNWte, Russian\n",
      "None, Легковажна, SKAI, 2021-11-26, 0.563, 4v46N2yKTs6bAupAw9DTcm, Ukrainian\n",
      "None, Боже, как завидую, HammAli & Navai, Jah Khalib, 2021-11-26, 0.104, 3RmwexCac64fi0r4ICWQzS, Russian\n",
      "None, Снежинки, ALEKS ATAMAN, FINIK, 2021-11-26, 0.691, 7ic6T1EVcH6HwmR2k75FzP, Russian\n",
      "None, Красное Вино, NK, 2021-11-26, 0.521, 5ypGPnY9ApOtsAcnMi90f7, Russian\n",
      "None, Додому (feat. Skofka), KALUSH, SKOFKA, 2021-11-26, 0.647, 7kKTYTHULdERuHGCkVyLVD, Ukrainian\n"
     ]
    }
   ],
   "source": [
    "import psycopg2\n",
    "\n",
    "try:\n",
    "    cnx = psycopg2.connect(\n",
    "        user=db_config['USER'],\n",
    "        password=db_config['PASSWORD'],\n",
    "        host=db_config['HOST'],\n",
    "        port=db_config['PORT'],\n",
    "        database=db_config['NAME']\n",
    "    )\n",
    "\n",
    "    print(\"Connected successfully!\")\n",
    "    cur = cnx.cursor()\n",
    "\n",
    "    # Query to fetch all data from the \"music_charts_productie\" table\n",
    "    cur.execute(\"SELECT * FROM music_charts_productie LIMIT 20;\")\n",
    "\n",
    "    # Fetch all rows from the table\n",
    "    rows = cur.fetchall()\n",
    "\n",
    "    # Get column names\n",
    "    column_names = [desc[0] for desc in cur.description]\n",
    "\n",
    "    # Print column names\n",
    "    print(\", \".join(column_names))\n",
    "\n",
    "    # Print all rows\n",
    "    for row in rows:\n",
    "        print(\", \".join(map(str, row)))\n",
    "\n",
    "    cnx.close()\n",
    "\n",
    "except Exception as e:\n",
    "    print(f\"Error: {e}\")\n"
   ]
  },
  {
   "cell_type": "code",
   "execution_count": 42,
   "id": "e088b733-e696-4d2d-b5f3-5bc5f7b17270",
   "metadata": {},
   "outputs": [
    {
     "name": "stdout",
     "output_type": "stream",
     "text": [
      "Connected successfully!\n",
      "Successfully fetched data.\n",
      "         week   language  count\n",
      "0  2021-11-26    English     24\n",
      "1  2021-11-26    Russian     48\n",
      "2  2021-11-26  Ukrainian     28\n",
      "3  2021-12-03    English     27\n",
      "4  2021-12-03    Russian     48\n"
     ]
    }
   ],
   "source": [
    "import pandas as pd\n",
    "import psycopg2\n",
    "\n",
    "def connect_to_db():\n",
    "    try:\n",
    "        cnx = psycopg2.connect(\n",
    "            user=db_config['USER'],\n",
    "            password=db_config['PASSWORD'],\n",
    "            host=db_config['HOST'],\n",
    "            port=db_config['PORT'],\n",
    "            database=db_config['NAME']\n",
    "        )\n",
    "        print(\"Connected successfully!\")\n",
    "        return cnx\n",
    "    except Exception as e:\n",
    "        print(f\"Error: {e}\")\n",
    "        return None\n",
    "\n",
    "def fetch_language_distribution_data():\n",
    "    try:\n",
    "        # Establish a database connection\n",
    "        cnx = connect_to_db()\n",
    "        cur = cnx.cursor()\n",
    "\n",
    "        # Write a SQL query to retrieve language distribution data\n",
    "        query = \"\"\"\n",
    "        SELECT week AS Week, language AS Language, COUNT(*) AS Count\n",
    "        FROM music_charts_productie\n",
    "        GROUP BY week, language\n",
    "        ORDER BY week, language;\n",
    "        \"\"\"\n",
    "\n",
    "        cur.execute(query)\n",
    "        columns = [col_name[0] for col_name in cur.description]  # Exclude 'Week' from columns\n",
    "        data = cur.fetchall()\n",
    "\n",
    "        # Close the cursor and database connection\n",
    "        cur.close()\n",
    "        cnx.close()\n",
    "\n",
    "        if data:\n",
    "            print(\"Successfully fetched data.\")\n",
    "            return pd.DataFrame(data, columns=columns)\n",
    "        else:\n",
    "            print(\"No data found for the query.\")\n",
    "            return None\n",
    "\n",
    "    except Exception as e:\n",
    "        print(f\"Error: {e}\")\n",
    "        return None\n",
    "\n",
    "\n",
    "# Test the fetch_language_distribution_data function\n",
    "language_distribution_df = fetch_language_distribution_data()\n",
    "if language_distribution_df is not None:\n",
    "    print(language_distribution_df.head())\n"
   ]
  },
  {
   "cell_type": "code",
   "execution_count": 49,
   "id": "57538a2c-8704-46b1-8ba3-a4ed6705792a",
   "metadata": {},
   "outputs": [],
   "source": [
    "def create_language_distribution_plot():\n",
    "    language_distribution_data = fetch_language_distribution_data()\n",
    "    if language_distribution_data is not None:\n",
    "        # Create a Plotly line chart\n",
    "        fig = px.line(language_distribution_data, x='week', y='count', color='language', labels={'index': 'Date'})\n",
    "        fig.update_layout(\n",
    "            title='Language Distribution Over Time (2018-2023)',\n",
    "            xaxis_title='Date',\n",
    "            yaxis_title='Count',\n",
    "            legend_title='Language'\n",
    "        )\n",
    "        return fig\n",
    "    else:\n",
    "        return None"
   ]
  },
  {
   "cell_type": "code",
   "execution_count": 50,
   "id": "705a85d2-5c36-4b98-926a-1eda0d7df4c6",
   "metadata": {},
   "outputs": [
    {
     "name": "stdout",
     "output_type": "stream",
     "text": [
      "Connected successfully!\n",
      "Successfully fetched data.\n"
     ]
    },
    {
     "data": {
      "application/vnd.plotly.v1+json": {
       "config": {
        "linkText": "Export to plot.ly",
        "plotlyServerURL": "https://plot.ly",
        "showLink": false
       },
       "data": [
        {
         "hovertemplate": "language=English<br>week=%{x}<br>count=%{y}<extra></extra>",
         "legendgroup": "English",
         "line": {
          "color": "#636efa",
          "dash": "solid"
         },
         "marker": {
          "symbol": "circle"
         },
         "mode": "lines",
         "name": "English",
         "orientation": "v",
         "showlegend": true,
         "type": "scatter",
         "x": [
          "2021-11-26",
          "2021-12-03",
          "2021-12-10",
          "2021-12-17",
          "2021-12-24",
          "2021-12-31",
          "2022-01-07",
          "2022-01-14",
          "2022-01-21",
          "2022-01-28",
          "2022-02-04",
          "2022-02-11",
          "2022-02-18",
          "2022-02-25",
          "2022-03-04",
          "2022-03-11",
          "2022-03-18",
          "2022-03-25",
          "2022-04-01",
          "2022-04-08",
          "2022-04-15",
          "2022-04-22",
          "2022-04-29",
          "2022-05-06",
          "2022-05-13",
          "2022-05-20"
         ],
         "xaxis": "x",
         "y": [
          24,
          27,
          27,
          25,
          23,
          25,
          25,
          25,
          25,
          26,
          23,
          22,
          22,
          8,
          9,
          6,
          11,
          16,
          14,
          13,
          16,
          13,
          15,
          17,
          16,
          5
         ],
         "yaxis": "y"
        },
        {
         "hovertemplate": "language=Russian<br>week=%{x}<br>count=%{y}<extra></extra>",
         "legendgroup": "Russian",
         "line": {
          "color": "#EF553B",
          "dash": "solid"
         },
         "marker": {
          "symbol": "circle"
         },
         "mode": "lines",
         "name": "Russian",
         "orientation": "v",
         "showlegend": true,
         "type": "scatter",
         "x": [
          "2021-11-26",
          "2021-12-03",
          "2021-12-10",
          "2021-12-17",
          "2021-12-24",
          "2021-12-31",
          "2022-01-07",
          "2022-01-14",
          "2022-01-21",
          "2022-01-28",
          "2022-02-04",
          "2022-02-11",
          "2022-02-18",
          "2022-02-25",
          "2022-03-04",
          "2022-03-11",
          "2022-03-18",
          "2022-03-25",
          "2022-04-01",
          "2022-04-08",
          "2022-04-15",
          "2022-04-22",
          "2022-04-29",
          "2022-05-06",
          "2022-05-13",
          "2022-05-20"
         ],
         "xaxis": "x",
         "y": [
          48,
          48,
          49,
          50,
          52,
          54,
          51,
          51,
          53,
          48,
          48,
          49,
          48,
          68,
          49,
          48,
          32,
          31,
          20,
          17,
          14,
          16,
          13,
          13,
          9,
          1
         ],
         "yaxis": "y"
        },
        {
         "hovertemplate": "language=Ukrainian<br>week=%{x}<br>count=%{y}<extra></extra>",
         "legendgroup": "Ukrainian",
         "line": {
          "color": "#00cc96",
          "dash": "solid"
         },
         "marker": {
          "symbol": "circle"
         },
         "mode": "lines",
         "name": "Ukrainian",
         "orientation": "v",
         "showlegend": true,
         "type": "scatter",
         "x": [
          "2021-11-26",
          "2021-12-03",
          "2021-12-10",
          "2021-12-17",
          "2021-12-24",
          "2021-12-31",
          "2022-01-07",
          "2022-01-14",
          "2022-01-21",
          "2022-01-28",
          "2022-02-04",
          "2022-02-11",
          "2022-02-18",
          "2022-02-25",
          "2022-03-04",
          "2022-03-11",
          "2022-03-18",
          "2022-03-25",
          "2022-04-01",
          "2022-04-08",
          "2022-04-15",
          "2022-04-22",
          "2022-04-29",
          "2022-05-06",
          "2022-05-13",
          "2022-05-20"
         ],
         "xaxis": "x",
         "y": [
          28,
          24,
          24,
          24,
          24,
          20,
          23,
          22,
          20,
          24,
          27,
          27,
          28,
          19,
          33,
          36,
          48,
          46,
          62,
          65,
          66,
          67,
          66,
          66,
          70,
          25
         ],
         "yaxis": "y"
        },
        {
         "hovertemplate": "language=Armenian<br>week=%{x}<br>count=%{y}<extra></extra>",
         "legendgroup": "Armenian",
         "line": {
          "color": "#ab63fa",
          "dash": "solid"
         },
         "marker": {
          "symbol": "circle"
         },
         "mode": "lines",
         "name": "Armenian",
         "orientation": "v",
         "showlegend": true,
         "type": "scatter",
         "x": [
          "2022-02-25"
         ],
         "xaxis": "x",
         "y": [
          1
         ],
         "yaxis": "y"
        },
        {
         "hovertemplate": "language=n/a<br>week=%{x}<br>count=%{y}<extra></extra>",
         "legendgroup": "n/a",
         "line": {
          "color": "#FFA15A",
          "dash": "solid"
         },
         "marker": {
          "symbol": "circle"
         },
         "mode": "lines",
         "name": "n/a",
         "orientation": "v",
         "showlegend": true,
         "type": "scatter",
         "x": [
          "2022-02-25"
         ],
         "xaxis": "x",
         "y": [
          1
         ],
         "yaxis": "y"
        },
        {
         "hovertemplate": "language=German<br>week=%{x}<br>count=%{y}<extra></extra>",
         "legendgroup": "German",
         "line": {
          "color": "#19d3f3",
          "dash": "solid"
         },
         "marker": {
          "symbol": "circle"
         },
         "mode": "lines",
         "name": "German",
         "orientation": "v",
         "showlegend": true,
         "type": "scatter",
         "x": [
          "2022-03-11",
          "2022-03-18",
          "2022-03-25",
          "2022-04-08",
          "2022-04-29"
         ],
         "xaxis": "x",
         "y": [
          1,
          1,
          1,
          1,
          1
         ],
         "yaxis": "y"
        },
        {
         "hovertemplate": "language=Korean<br>week=%{x}<br>count=%{y}<extra></extra>",
         "legendgroup": "Korean",
         "line": {
          "color": "#FF6692",
          "dash": "solid"
         },
         "marker": {
          "symbol": "circle"
         },
         "mode": "lines",
         "name": "Korean",
         "orientation": "v",
         "showlegend": true,
         "type": "scatter",
         "x": [
          "2022-03-18",
          "2022-03-25",
          "2022-04-29"
         ],
         "xaxis": "x",
         "y": [
          1,
          1,
          1
         ],
         "yaxis": "y"
        }
       ],
       "layout": {
        "autosize": true,
        "legend": {
         "title": {
          "text": "Language"
         },
         "tracegroupgap": 0
        },
        "margin": {
         "t": 60
        },
        "template": {
         "data": {
          "bar": [
           {
            "error_x": {
             "color": "#2a3f5f"
            },
            "error_y": {
             "color": "#2a3f5f"
            },
            "marker": {
             "line": {
              "color": "#E5ECF6",
              "width": 0.5
             },
             "pattern": {
              "fillmode": "overlay",
              "size": 10,
              "solidity": 0.2
             }
            },
            "type": "bar"
           }
          ],
          "barpolar": [
           {
            "marker": {
             "line": {
              "color": "#E5ECF6",
              "width": 0.5
             },
             "pattern": {
              "fillmode": "overlay",
              "size": 10,
              "solidity": 0.2
             }
            },
            "type": "barpolar"
           }
          ],
          "carpet": [
           {
            "aaxis": {
             "endlinecolor": "#2a3f5f",
             "gridcolor": "white",
             "linecolor": "white",
             "minorgridcolor": "white",
             "startlinecolor": "#2a3f5f"
            },
            "baxis": {
             "endlinecolor": "#2a3f5f",
             "gridcolor": "white",
             "linecolor": "white",
             "minorgridcolor": "white",
             "startlinecolor": "#2a3f5f"
            },
            "type": "carpet"
           }
          ],
          "choropleth": [
           {
            "colorbar": {
             "outlinewidth": 0,
             "ticks": ""
            },
            "type": "choropleth"
           }
          ],
          "contour": [
           {
            "colorbar": {
             "outlinewidth": 0,
             "ticks": ""
            },
            "colorscale": [
             [
              0,
              "#0d0887"
             ],
             [
              0.1111111111111111,
              "#46039f"
             ],
             [
              0.2222222222222222,
              "#7201a8"
             ],
             [
              0.3333333333333333,
              "#9c179e"
             ],
             [
              0.4444444444444444,
              "#bd3786"
             ],
             [
              0.5555555555555556,
              "#d8576b"
             ],
             [
              0.6666666666666666,
              "#ed7953"
             ],
             [
              0.7777777777777778,
              "#fb9f3a"
             ],
             [
              0.8888888888888888,
              "#fdca26"
             ],
             [
              1,
              "#f0f921"
             ]
            ],
            "type": "contour"
           }
          ],
          "contourcarpet": [
           {
            "colorbar": {
             "outlinewidth": 0,
             "ticks": ""
            },
            "type": "contourcarpet"
           }
          ],
          "heatmap": [
           {
            "colorbar": {
             "outlinewidth": 0,
             "ticks": ""
            },
            "colorscale": [
             [
              0,
              "#0d0887"
             ],
             [
              0.1111111111111111,
              "#46039f"
             ],
             [
              0.2222222222222222,
              "#7201a8"
             ],
             [
              0.3333333333333333,
              "#9c179e"
             ],
             [
              0.4444444444444444,
              "#bd3786"
             ],
             [
              0.5555555555555556,
              "#d8576b"
             ],
             [
              0.6666666666666666,
              "#ed7953"
             ],
             [
              0.7777777777777778,
              "#fb9f3a"
             ],
             [
              0.8888888888888888,
              "#fdca26"
             ],
             [
              1,
              "#f0f921"
             ]
            ],
            "type": "heatmap"
           }
          ],
          "heatmapgl": [
           {
            "colorbar": {
             "outlinewidth": 0,
             "ticks": ""
            },
            "colorscale": [
             [
              0,
              "#0d0887"
             ],
             [
              0.1111111111111111,
              "#46039f"
             ],
             [
              0.2222222222222222,
              "#7201a8"
             ],
             [
              0.3333333333333333,
              "#9c179e"
             ],
             [
              0.4444444444444444,
              "#bd3786"
             ],
             [
              0.5555555555555556,
              "#d8576b"
             ],
             [
              0.6666666666666666,
              "#ed7953"
             ],
             [
              0.7777777777777778,
              "#fb9f3a"
             ],
             [
              0.8888888888888888,
              "#fdca26"
             ],
             [
              1,
              "#f0f921"
             ]
            ],
            "type": "heatmapgl"
           }
          ],
          "histogram": [
           {
            "marker": {
             "pattern": {
              "fillmode": "overlay",
              "size": 10,
              "solidity": 0.2
             }
            },
            "type": "histogram"
           }
          ],
          "histogram2d": [
           {
            "colorbar": {
             "outlinewidth": 0,
             "ticks": ""
            },
            "colorscale": [
             [
              0,
              "#0d0887"
             ],
             [
              0.1111111111111111,
              "#46039f"
             ],
             [
              0.2222222222222222,
              "#7201a8"
             ],
             [
              0.3333333333333333,
              "#9c179e"
             ],
             [
              0.4444444444444444,
              "#bd3786"
             ],
             [
              0.5555555555555556,
              "#d8576b"
             ],
             [
              0.6666666666666666,
              "#ed7953"
             ],
             [
              0.7777777777777778,
              "#fb9f3a"
             ],
             [
              0.8888888888888888,
              "#fdca26"
             ],
             [
              1,
              "#f0f921"
             ]
            ],
            "type": "histogram2d"
           }
          ],
          "histogram2dcontour": [
           {
            "colorbar": {
             "outlinewidth": 0,
             "ticks": ""
            },
            "colorscale": [
             [
              0,
              "#0d0887"
             ],
             [
              0.1111111111111111,
              "#46039f"
             ],
             [
              0.2222222222222222,
              "#7201a8"
             ],
             [
              0.3333333333333333,
              "#9c179e"
             ],
             [
              0.4444444444444444,
              "#bd3786"
             ],
             [
              0.5555555555555556,
              "#d8576b"
             ],
             [
              0.6666666666666666,
              "#ed7953"
             ],
             [
              0.7777777777777778,
              "#fb9f3a"
             ],
             [
              0.8888888888888888,
              "#fdca26"
             ],
             [
              1,
              "#f0f921"
             ]
            ],
            "type": "histogram2dcontour"
           }
          ],
          "mesh3d": [
           {
            "colorbar": {
             "outlinewidth": 0,
             "ticks": ""
            },
            "type": "mesh3d"
           }
          ],
          "parcoords": [
           {
            "line": {
             "colorbar": {
              "outlinewidth": 0,
              "ticks": ""
             }
            },
            "type": "parcoords"
           }
          ],
          "pie": [
           {
            "automargin": true,
            "type": "pie"
           }
          ],
          "scatter": [
           {
            "fillpattern": {
             "fillmode": "overlay",
             "size": 10,
             "solidity": 0.2
            },
            "type": "scatter"
           }
          ],
          "scatter3d": [
           {
            "line": {
             "colorbar": {
              "outlinewidth": 0,
              "ticks": ""
             }
            },
            "marker": {
             "colorbar": {
              "outlinewidth": 0,
              "ticks": ""
             }
            },
            "type": "scatter3d"
           }
          ],
          "scattercarpet": [
           {
            "marker": {
             "colorbar": {
              "outlinewidth": 0,
              "ticks": ""
             }
            },
            "type": "scattercarpet"
           }
          ],
          "scattergeo": [
           {
            "marker": {
             "colorbar": {
              "outlinewidth": 0,
              "ticks": ""
             }
            },
            "type": "scattergeo"
           }
          ],
          "scattergl": [
           {
            "marker": {
             "colorbar": {
              "outlinewidth": 0,
              "ticks": ""
             }
            },
            "type": "scattergl"
           }
          ],
          "scattermapbox": [
           {
            "marker": {
             "colorbar": {
              "outlinewidth": 0,
              "ticks": ""
             }
            },
            "type": "scattermapbox"
           }
          ],
          "scatterpolar": [
           {
            "marker": {
             "colorbar": {
              "outlinewidth": 0,
              "ticks": ""
             }
            },
            "type": "scatterpolar"
           }
          ],
          "scatterpolargl": [
           {
            "marker": {
             "colorbar": {
              "outlinewidth": 0,
              "ticks": ""
             }
            },
            "type": "scatterpolargl"
           }
          ],
          "scatterternary": [
           {
            "marker": {
             "colorbar": {
              "outlinewidth": 0,
              "ticks": ""
             }
            },
            "type": "scatterternary"
           }
          ],
          "surface": [
           {
            "colorbar": {
             "outlinewidth": 0,
             "ticks": ""
            },
            "colorscale": [
             [
              0,
              "#0d0887"
             ],
             [
              0.1111111111111111,
              "#46039f"
             ],
             [
              0.2222222222222222,
              "#7201a8"
             ],
             [
              0.3333333333333333,
              "#9c179e"
             ],
             [
              0.4444444444444444,
              "#bd3786"
             ],
             [
              0.5555555555555556,
              "#d8576b"
             ],
             [
              0.6666666666666666,
              "#ed7953"
             ],
             [
              0.7777777777777778,
              "#fb9f3a"
             ],
             [
              0.8888888888888888,
              "#fdca26"
             ],
             [
              1,
              "#f0f921"
             ]
            ],
            "type": "surface"
           }
          ],
          "table": [
           {
            "cells": {
             "fill": {
              "color": "#EBF0F8"
             },
             "line": {
              "color": "white"
             }
            },
            "header": {
             "fill": {
              "color": "#C8D4E3"
             },
             "line": {
              "color": "white"
             }
            },
            "type": "table"
           }
          ]
         },
         "layout": {
          "annotationdefaults": {
           "arrowcolor": "#2a3f5f",
           "arrowhead": 0,
           "arrowwidth": 1
          },
          "autotypenumbers": "strict",
          "coloraxis": {
           "colorbar": {
            "outlinewidth": 0,
            "ticks": ""
           }
          },
          "colorscale": {
           "diverging": [
            [
             0,
             "#8e0152"
            ],
            [
             0.1,
             "#c51b7d"
            ],
            [
             0.2,
             "#de77ae"
            ],
            [
             0.3,
             "#f1b6da"
            ],
            [
             0.4,
             "#fde0ef"
            ],
            [
             0.5,
             "#f7f7f7"
            ],
            [
             0.6,
             "#e6f5d0"
            ],
            [
             0.7,
             "#b8e186"
            ],
            [
             0.8,
             "#7fbc41"
            ],
            [
             0.9,
             "#4d9221"
            ],
            [
             1,
             "#276419"
            ]
           ],
           "sequential": [
            [
             0,
             "#0d0887"
            ],
            [
             0.1111111111111111,
             "#46039f"
            ],
            [
             0.2222222222222222,
             "#7201a8"
            ],
            [
             0.3333333333333333,
             "#9c179e"
            ],
            [
             0.4444444444444444,
             "#bd3786"
            ],
            [
             0.5555555555555556,
             "#d8576b"
            ],
            [
             0.6666666666666666,
             "#ed7953"
            ],
            [
             0.7777777777777778,
             "#fb9f3a"
            ],
            [
             0.8888888888888888,
             "#fdca26"
            ],
            [
             1,
             "#f0f921"
            ]
           ],
           "sequentialminus": [
            [
             0,
             "#0d0887"
            ],
            [
             0.1111111111111111,
             "#46039f"
            ],
            [
             0.2222222222222222,
             "#7201a8"
            ],
            [
             0.3333333333333333,
             "#9c179e"
            ],
            [
             0.4444444444444444,
             "#bd3786"
            ],
            [
             0.5555555555555556,
             "#d8576b"
            ],
            [
             0.6666666666666666,
             "#ed7953"
            ],
            [
             0.7777777777777778,
             "#fb9f3a"
            ],
            [
             0.8888888888888888,
             "#fdca26"
            ],
            [
             1,
             "#f0f921"
            ]
           ]
          },
          "colorway": [
           "#636efa",
           "#EF553B",
           "#00cc96",
           "#ab63fa",
           "#FFA15A",
           "#19d3f3",
           "#FF6692",
           "#B6E880",
           "#FF97FF",
           "#FECB52"
          ],
          "font": {
           "color": "#2a3f5f"
          },
          "geo": {
           "bgcolor": "white",
           "lakecolor": "white",
           "landcolor": "#E5ECF6",
           "showlakes": true,
           "showland": true,
           "subunitcolor": "white"
          },
          "hoverlabel": {
           "align": "left"
          },
          "hovermode": "closest",
          "mapbox": {
           "style": "light"
          },
          "paper_bgcolor": "white",
          "plot_bgcolor": "#E5ECF6",
          "polar": {
           "angularaxis": {
            "gridcolor": "white",
            "linecolor": "white",
            "ticks": ""
           },
           "bgcolor": "#E5ECF6",
           "radialaxis": {
            "gridcolor": "white",
            "linecolor": "white",
            "ticks": ""
           }
          },
          "scene": {
           "xaxis": {
            "backgroundcolor": "#E5ECF6",
            "gridcolor": "white",
            "gridwidth": 2,
            "linecolor": "white",
            "showbackground": true,
            "ticks": "",
            "zerolinecolor": "white"
           },
           "yaxis": {
            "backgroundcolor": "#E5ECF6",
            "gridcolor": "white",
            "gridwidth": 2,
            "linecolor": "white",
            "showbackground": true,
            "ticks": "",
            "zerolinecolor": "white"
           },
           "zaxis": {
            "backgroundcolor": "#E5ECF6",
            "gridcolor": "white",
            "gridwidth": 2,
            "linecolor": "white",
            "showbackground": true,
            "ticks": "",
            "zerolinecolor": "white"
           }
          },
          "shapedefaults": {
           "line": {
            "color": "#2a3f5f"
           }
          },
          "ternary": {
           "aaxis": {
            "gridcolor": "white",
            "linecolor": "white",
            "ticks": ""
           },
           "baxis": {
            "gridcolor": "white",
            "linecolor": "white",
            "ticks": ""
           },
           "bgcolor": "#E5ECF6",
           "caxis": {
            "gridcolor": "white",
            "linecolor": "white",
            "ticks": ""
           }
          },
          "title": {
           "x": 0.05
          },
          "xaxis": {
           "automargin": true,
           "gridcolor": "white",
           "linecolor": "white",
           "ticks": "",
           "title": {
            "standoff": 15
           },
           "zerolinecolor": "white",
           "zerolinewidth": 2
          },
          "yaxis": {
           "automargin": true,
           "gridcolor": "white",
           "linecolor": "white",
           "ticks": "",
           "title": {
            "standoff": 15
           },
           "zerolinecolor": "white",
           "zerolinewidth": 2
          }
         }
        },
        "title": {
         "text": "Language Distribution Over Time (2018-2023)"
        },
        "xaxis": {
         "anchor": "y",
         "autorange": true,
         "domain": [
          0,
          1
         ],
         "range": [
          "2021-11-26",
          "2022-05-20"
         ],
         "title": {
          "text": "Date"
         },
         "type": "date"
        },
        "yaxis": {
         "anchor": "x",
         "autorange": true,
         "domain": [
          0,
          1
         ],
         "range": [
          -2.8333333333333335,
          73.83333333333333
         ],
         "title": {
          "text": "Count"
         },
         "type": "linear"
        }
       }
      },
      "image/png": "[encoded data removed]",
      "text/html": [
       "<div>                            <div id=\"86646616-2ed1-4266-a18b-452c57c2fdb1\" class=\"plotly-graph-div\" style=\"height:525px; width:100%;\"></div>            <script type=\"text/javascript\">                require([\"plotly\"], function(Plotly) {                    window.PLOTLYENV=window.PLOTLYENV || {};                                    if (document.getElementById(\"86646616-2ed1-4266-a18b-452c57c2fdb1\")) {                    Plotly.newPlot(                        \"86646616-2ed1-4266-a18b-452c57c2fdb1\",                        [{\"hovertemplate\":\"language=English\\u003cbr\\u003eweek=%{x}\\u003cbr\\u003ecount=%{y}\\u003cextra\\u003e\\u003c\\u002fextra\\u003e\",\"legendgroup\":\"English\",\"line\":{\"color\":\"#636efa\",\"dash\":\"solid\"},\"marker\":{\"symbol\":\"circle\"},\"mode\":\"lines\",\"name\":\"English\",\"orientation\":\"v\",\"showlegend\":true,\"x\":[\"2021-11-26\",\"2021-12-03\",\"2021-12-10\",\"2021-12-17\",\"2021-12-24\",\"2021-12-31\",\"2022-01-07\",\"2022-01-14\",\"2022-01-21\",\"2022-01-28\",\"2022-02-04\",\"2022-02-11\",\"2022-02-18\",\"2022-02-25\",\"2022-03-04\",\"2022-03-11\",\"2022-03-18\",\"2022-03-25\",\"2022-04-01\",\"2022-04-08\",\"2022-04-15\",\"2022-04-22\",\"2022-04-29\",\"2022-05-06\",\"2022-05-13\",\"2022-05-20\"],\"xaxis\":\"x\",\"y\":[24,27,27,25,23,25,25,25,25,26,23,22,22,8,9,6,11,16,14,13,16,13,15,17,16,5],\"yaxis\":\"y\",\"type\":\"scatter\"},{\"hovertemplate\":\"language=Russian\\u003cbr\\u003eweek=%{x}\\u003cbr\\u003ecount=%{y}\\u003cextra\\u003e\\u003c\\u002fextra\\u003e\",\"legendgroup\":\"Russian\",\"line\":{\"color\":\"#EF553B\",\"dash\":\"solid\"},\"marker\":{\"symbol\":\"circle\"},\"mode\":\"lines\",\"name\":\"Russian\",\"orientation\":\"v\",\"showlegend\":true,\"x\":[\"2021-11-26\",\"2021-12-03\",\"2021-12-10\",\"2021-12-17\",\"2021-12-24\",\"2021-12-31\",\"2022-01-07\",\"2022-01-14\",\"2022-01-21\",\"2022-01-28\",\"2022-02-04\",\"2022-02-11\",\"2022-02-18\",\"2022-02-25\",\"2022-03-04\",\"2022-03-11\",\"2022-03-18\",\"2022-03-25\",\"2022-04-01\",\"2022-04-08\",\"2022-04-15\",\"2022-04-22\",\"2022-04-29\",\"2022-05-06\",\"2022-05-13\",\"2022-05-20\"],\"xaxis\":\"x\",\"y\":[48,48,49,50,52,54,51,51,53,48,48,49,48,68,49,48,32,31,20,17,14,16,13,13,9,1],\"yaxis\":\"y\",\"type\":\"scatter\"},{\"hovertemplate\":\"language=Ukrainian\\u003cbr\\u003eweek=%{x}\\u003cbr\\u003ecount=%{y}\\u003cextra\\u003e\\u003c\\u002fextra\\u003e\",\"legendgroup\":\"Ukrainian\",\"line\":{\"color\":\"#00cc96\",\"dash\":\"solid\"},\"marker\":{\"symbol\":\"circle\"},\"mode\":\"lines\",\"name\":\"Ukrainian\",\"orientation\":\"v\",\"showlegend\":true,\"x\":[\"2021-11-26\",\"2021-12-03\",\"2021-12-10\",\"2021-12-17\",\"2021-12-24\",\"2021-12-31\",\"2022-01-07\",\"2022-01-14\",\"2022-01-21\",\"2022-01-28\",\"2022-02-04\",\"2022-02-11\",\"2022-02-18\",\"2022-02-25\",\"2022-03-04\",\"2022-03-11\",\"2022-03-18\",\"2022-03-25\",\"2022-04-01\",\"2022-04-08\",\"2022-04-15\",\"2022-04-22\",\"2022-04-29\",\"2022-05-06\",\"2022-05-13\",\"2022-05-20\"],\"xaxis\":\"x\",\"y\":[28,24,24,24,24,20,23,22,20,24,27,27,28,19,33,36,48,46,62,65,66,67,66,66,70,25],\"yaxis\":\"y\",\"type\":\"scatter\"},{\"hovertemplate\":\"language=Armenian\\u003cbr\\u003eweek=%{x}\\u003cbr\\u003ecount=%{y}\\u003cextra\\u003e\\u003c\\u002fextra\\u003e\",\"legendgroup\":\"Armenian\",\"line\":{\"color\":\"#ab63fa\",\"dash\":\"solid\"},\"marker\":{\"symbol\":\"circle\"},\"mode\":\"lines\",\"name\":\"Armenian\",\"orientation\":\"v\",\"showlegend\":true,\"x\":[\"2022-02-25\"],\"xaxis\":\"x\",\"y\":[1],\"yaxis\":\"y\",\"type\":\"scatter\"},{\"hovertemplate\":\"language=n\\u002fa\\u003cbr\\u003eweek=%{x}\\u003cbr\\u003ecount=%{y}\\u003cextra\\u003e\\u003c\\u002fextra\\u003e\",\"legendgroup\":\"n\\u002fa\",\"line\":{\"color\":\"#FFA15A\",\"dash\":\"solid\"},\"marker\":{\"symbol\":\"circle\"},\"mode\":\"lines\",\"name\":\"n\\u002fa\",\"orientation\":\"v\",\"showlegend\":true,\"x\":[\"2022-02-25\"],\"xaxis\":\"x\",\"y\":[1],\"yaxis\":\"y\",\"type\":\"scatter\"},{\"hovertemplate\":\"language=German\\u003cbr\\u003eweek=%{x}\\u003cbr\\u003ecount=%{y}\\u003cextra\\u003e\\u003c\\u002fextra\\u003e\",\"legendgroup\":\"German\",\"line\":{\"color\":\"#19d3f3\",\"dash\":\"solid\"},\"marker\":{\"symbol\":\"circle\"},\"mode\":\"lines\",\"name\":\"German\",\"orientation\":\"v\",\"showlegend\":true,\"x\":[\"2022-03-11\",\"2022-03-18\",\"2022-03-25\",\"2022-04-08\",\"2022-04-29\"],\"xaxis\":\"x\",\"y\":[1,1,1,1,1],\"yaxis\":\"y\",\"type\":\"scatter\"},{\"hovertemplate\":\"language=Korean\\u003cbr\\u003eweek=%{x}\\u003cbr\\u003ecount=%{y}\\u003cextra\\u003e\\u003c\\u002fextra\\u003e\",\"legendgroup\":\"Korean\",\"line\":{\"color\":\"#FF6692\",\"dash\":\"solid\"},\"marker\":{\"symbol\":\"circle\"},\"mode\":\"lines\",\"name\":\"Korean\",\"orientation\":\"v\",\"showlegend\":true,\"x\":[\"2022-03-18\",\"2022-03-25\",\"2022-04-29\"],\"xaxis\":\"x\",\"y\":[1,1,1],\"yaxis\":\"y\",\"type\":\"scatter\"}],                        {\"legend\":{\"title\":{\"text\":\"Language\"},\"tracegroupgap\":0},\"margin\":{\"t\":60},\"template\":{\"data\":{\"barpolar\":[{\"marker\":{\"line\":{\"color\":\"#E5ECF6\",\"width\":0.5},\"pattern\":{\"fillmode\":\"overlay\",\"size\":10,\"solidity\":0.2}},\"type\":\"barpolar\"}],\"bar\":[{\"error_x\":{\"color\":\"#2a3f5f\"},\"error_y\":{\"color\":\"#2a3f5f\"},\"marker\":{\"line\":{\"color\":\"#E5ECF6\",\"width\":0.5},\"pattern\":{\"fillmode\":\"overlay\",\"size\":10,\"solidity\":0.2}},\"type\":\"bar\"}],\"carpet\":[{\"aaxis\":{\"endlinecolor\":\"#2a3f5f\",\"gridcolor\":\"white\",\"linecolor\":\"white\",\"minorgridcolor\":\"white\",\"startlinecolor\":\"#2a3f5f\"},\"baxis\":{\"endlinecolor\":\"#2a3f5f\",\"gridcolor\":\"white\",\"linecolor\":\"white\",\"minorgridcolor\":\"white\",\"startlinecolor\":\"#2a3f5f\"},\"type\":\"carpet\"}],\"choropleth\":[{\"colorbar\":{\"outlinewidth\":0,\"ticks\":\"\"},\"type\":\"choropleth\"}],\"contourcarpet\":[{\"colorbar\":{\"outlinewidth\":0,\"ticks\":\"\"},\"type\":\"contourcarpet\"}],\"contour\":[{\"colorbar\":{\"outlinewidth\":0,\"ticks\":\"\"},\"colorscale\":[[0.0,\"#0d0887\"],[0.1111111111111111,\"#46039f\"],[0.2222222222222222,\"#7201a8\"],[0.3333333333333333,\"#9c179e\"],[0.4444444444444444,\"#bd3786\"],[0.5555555555555556,\"#d8576b\"],[0.6666666666666666,\"#ed7953\"],[0.7777777777777778,\"#fb9f3a\"],[0.8888888888888888,\"#fdca26\"],[1.0,\"#f0f921\"]],\"type\":\"contour\"}],\"heatmapgl\":[{\"colorbar\":{\"outlinewidth\":0,\"ticks\":\"\"},\"colorscale\":[[0.0,\"#0d0887\"],[0.1111111111111111,\"#46039f\"],[0.2222222222222222,\"#7201a8\"],[0.3333333333333333,\"#9c179e\"],[0.4444444444444444,\"#bd3786\"],[0.5555555555555556,\"#d8576b\"],[0.6666666666666666,\"#ed7953\"],[0.7777777777777778,\"#fb9f3a\"],[0.8888888888888888,\"#fdca26\"],[1.0,\"#f0f921\"]],\"type\":\"heatmapgl\"}],\"heatmap\":[{\"colorbar\":{\"outlinewidth\":0,\"ticks\":\"\"},\"colorscale\":[[0.0,\"#0d0887\"],[0.1111111111111111,\"#46039f\"],[0.2222222222222222,\"#7201a8\"],[0.3333333333333333,\"#9c179e\"],[0.4444444444444444,\"#bd3786\"],[0.5555555555555556,\"#d8576b\"],[0.6666666666666666,\"#ed7953\"],[0.7777777777777778,\"#fb9f3a\"],[0.8888888888888888,\"#fdca26\"],[1.0,\"#f0f921\"]],\"type\":\"heatmap\"}],\"histogram2dcontour\":[{\"colorbar\":{\"outlinewidth\":0,\"ticks\":\"\"},\"colorscale\":[[0.0,\"#0d0887\"],[0.1111111111111111,\"#46039f\"],[0.2222222222222222,\"#7201a8\"],[0.3333333333333333,\"#9c179e\"],[0.4444444444444444,\"#bd3786\"],[0.5555555555555556,\"#d8576b\"],[0.6666666666666666,\"#ed7953\"],[0.7777777777777778,\"#fb9f3a\"],[0.8888888888888888,\"#fdca26\"],[1.0,\"#f0f921\"]],\"type\":\"histogram2dcontour\"}],\"histogram2d\":[{\"colorbar\":{\"outlinewidth\":0,\"ticks\":\"\"},\"colorscale\":[[0.0,\"#0d0887\"],[0.1111111111111111,\"#46039f\"],[0.2222222222222222,\"#7201a8\"],[0.3333333333333333,\"#9c179e\"],[0.4444444444444444,\"#bd3786\"],[0.5555555555555556,\"#d8576b\"],[0.6666666666666666,\"#ed7953\"],[0.7777777777777778,\"#fb9f3a\"],[0.8888888888888888,\"#fdca26\"],[1.0,\"#f0f921\"]],\"type\":\"histogram2d\"}],\"histogram\":[{\"marker\":{\"pattern\":{\"fillmode\":\"overlay\",\"size\":10,\"solidity\":0.2}},\"type\":\"histogram\"}],\"mesh3d\":[{\"colorbar\":{\"outlinewidth\":0,\"ticks\":\"\"},\"type\":\"mesh3d\"}],\"parcoords\":[{\"line\":{\"colorbar\":{\"outlinewidth\":0,\"ticks\":\"\"}},\"type\":\"parcoords\"}],\"pie\":[{\"automargin\":true,\"type\":\"pie\"}],\"scatter3d\":[{\"line\":{\"colorbar\":{\"outlinewidth\":0,\"ticks\":\"\"}},\"marker\":{\"colorbar\":{\"outlinewidth\":0,\"ticks\":\"\"}},\"type\":\"scatter3d\"}],\"scattercarpet\":[{\"marker\":{\"colorbar\":{\"outlinewidth\":0,\"ticks\":\"\"}},\"type\":\"scattercarpet\"}],\"scattergeo\":[{\"marker\":{\"colorbar\":{\"outlinewidth\":0,\"ticks\":\"\"}},\"type\":\"scattergeo\"}],\"scattergl\":[{\"marker\":{\"colorbar\":{\"outlinewidth\":0,\"ticks\":\"\"}},\"type\":\"scattergl\"}],\"scattermapbox\":[{\"marker\":{\"colorbar\":{\"outlinewidth\":0,\"ticks\":\"\"}},\"type\":\"scattermapbox\"}],\"scatterpolargl\":[{\"marker\":{\"colorbar\":{\"outlinewidth\":0,\"ticks\":\"\"}},\"type\":\"scatterpolargl\"}],\"scatterpolar\":[{\"marker\":{\"colorbar\":{\"outlinewidth\":0,\"ticks\":\"\"}},\"type\":\"scatterpolar\"}],\"scatter\":[{\"fillpattern\":{\"fillmode\":\"overlay\",\"size\":10,\"solidity\":0.2},\"type\":\"scatter\"}],\"scatterternary\":[{\"marker\":{\"colorbar\":{\"outlinewidth\":0,\"ticks\":\"\"}},\"type\":\"scatterternary\"}],\"surface\":[{\"colorbar\":{\"outlinewidth\":0,\"ticks\":\"\"},\"colorscale\":[[0.0,\"#0d0887\"],[0.1111111111111111,\"#46039f\"],[0.2222222222222222,\"#7201a8\"],[0.3333333333333333,\"#9c179e\"],[0.4444444444444444,\"#bd3786\"],[0.5555555555555556,\"#d8576b\"],[0.6666666666666666,\"#ed7953\"],[0.7777777777777778,\"#fb9f3a\"],[0.8888888888888888,\"#fdca26\"],[1.0,\"#f0f921\"]],\"type\":\"surface\"}],\"table\":[{\"cells\":{\"fill\":{\"color\":\"#EBF0F8\"},\"line\":{\"color\":\"white\"}},\"header\":{\"fill\":{\"color\":\"#C8D4E3\"},\"line\":{\"color\":\"white\"}},\"type\":\"table\"}]},\"layout\":{\"annotationdefaults\":{\"arrowcolor\":\"#2a3f5f\",\"arrowhead\":0,\"arrowwidth\":1},\"autotypenumbers\":\"strict\",\"coloraxis\":{\"colorbar\":{\"outlinewidth\":0,\"ticks\":\"\"}},\"colorscale\":{\"diverging\":[[0,\"#8e0152\"],[0.1,\"#c51b7d\"],[0.2,\"#de77ae\"],[0.3,\"#f1b6da\"],[0.4,\"#fde0ef\"],[0.5,\"#f7f7f7\"],[0.6,\"#e6f5d0\"],[0.7,\"#b8e186\"],[0.8,\"#7fbc41\"],[0.9,\"#4d9221\"],[1,\"#276419\"]],\"sequential\":[[0.0,\"#0d0887\"],[0.1111111111111111,\"#46039f\"],[0.2222222222222222,\"#7201a8\"],[0.3333333333333333,\"#9c179e\"],[0.4444444444444444,\"#bd3786\"],[0.5555555555555556,\"#d8576b\"],[0.6666666666666666,\"#ed7953\"],[0.7777777777777778,\"#fb9f3a\"],[0.8888888888888888,\"#fdca26\"],[1.0,\"#f0f921\"]],\"sequentialminus\":[[0.0,\"#0d0887\"],[0.1111111111111111,\"#46039f\"],[0.2222222222222222,\"#7201a8\"],[0.3333333333333333,\"#9c179e\"],[0.4444444444444444,\"#bd3786\"],[0.5555555555555556,\"#d8576b\"],[0.6666666666666666,\"#ed7953\"],[0.7777777777777778,\"#fb9f3a\"],[0.8888888888888888,\"#fdca26\"],[1.0,\"#f0f921\"]]},\"colorway\":[\"#636efa\",\"#EF553B\",\"#00cc96\",\"#ab63fa\",\"#FFA15A\",\"#19d3f3\",\"#FF6692\",\"#B6E880\",\"#FF97FF\",\"#FECB52\"],\"font\":{\"color\":\"#2a3f5f\"},\"geo\":{\"bgcolor\":\"white\",\"lakecolor\":\"white\",\"landcolor\":\"#E5ECF6\",\"showlakes\":true,\"showland\":true,\"subunitcolor\":\"white\"},\"hoverlabel\":{\"align\":\"left\"},\"hovermode\":\"closest\",\"mapbox\":{\"style\":\"light\"},\"paper_bgcolor\":\"white\",\"plot_bgcolor\":\"#E5ECF6\",\"polar\":{\"angularaxis\":{\"gridcolor\":\"white\",\"linecolor\":\"white\",\"ticks\":\"\"},\"bgcolor\":\"#E5ECF6\",\"radialaxis\":{\"gridcolor\":\"white\",\"linecolor\":\"white\",\"ticks\":\"\"}},\"scene\":{\"xaxis\":{\"backgroundcolor\":\"#E5ECF6\",\"gridcolor\":\"white\",\"gridwidth\":2,\"linecolor\":\"white\",\"showbackground\":true,\"ticks\":\"\",\"zerolinecolor\":\"white\"},\"yaxis\":{\"backgroundcolor\":\"#E5ECF6\",\"gridcolor\":\"white\",\"gridwidth\":2,\"linecolor\":\"white\",\"showbackground\":true,\"ticks\":\"\",\"zerolinecolor\":\"white\"},\"zaxis\":{\"backgroundcolor\":\"#E5ECF6\",\"gridcolor\":\"white\",\"gridwidth\":2,\"linecolor\":\"white\",\"showbackground\":true,\"ticks\":\"\",\"zerolinecolor\":\"white\"}},\"shapedefaults\":{\"line\":{\"color\":\"#2a3f5f\"}},\"ternary\":{\"aaxis\":{\"gridcolor\":\"white\",\"linecolor\":\"white\",\"ticks\":\"\"},\"baxis\":{\"gridcolor\":\"white\",\"linecolor\":\"white\",\"ticks\":\"\"},\"bgcolor\":\"#E5ECF6\",\"caxis\":{\"gridcolor\":\"white\",\"linecolor\":\"white\",\"ticks\":\"\"}},\"title\":{\"x\":0.05},\"xaxis\":{\"automargin\":true,\"gridcolor\":\"white\",\"linecolor\":\"white\",\"ticks\":\"\",\"title\":{\"standoff\":15},\"zerolinecolor\":\"white\",\"zerolinewidth\":2},\"yaxis\":{\"automargin\":true,\"gridcolor\":\"white\",\"linecolor\":\"white\",\"ticks\":\"\",\"title\":{\"standoff\":15},\"zerolinecolor\":\"white\",\"zerolinewidth\":2}}},\"title\":{\"text\":\"Language Distribution Over Time (2018-2023)\"},\"xaxis\":{\"anchor\":\"y\",\"domain\":[0.0,1.0],\"title\":{\"text\":\"Date\"}},\"yaxis\":{\"anchor\":\"x\",\"domain\":[0.0,1.0],\"title\":{\"text\":\"Count\"}}},                        {\"responsive\": true}                    ).then(function(){\n",
       "                            \n",
       "var gd = document.getElementById('86646616-2ed1-4266-a18b-452c57c2fdb1');\n",
       "var x = new MutationObserver(function (mutations, observer) {{\n",
       "        var display = window.getComputedStyle(gd).display;\n",
       "        if (!display || display === 'none') {{\n",
       "            console.log([gd, 'removed!']);\n",
       "            Plotly.purge(gd);\n",
       "            observer.disconnect();\n",
       "        }}\n",
       "}});\n",
       "\n",
       "// Listen for the removal of the full notebook cells\n",
       "var notebookContainer = gd.closest('#notebook-container');\n",
       "if (notebookContainer) {{\n",
       "    x.observe(notebookContainer, {childList: true});\n",
       "}}\n",
       "\n",
       "// Listen for the clearing of the current output cell\n",
       "var outputEl = gd.closest('.output');\n",
       "if (outputEl) {{\n",
       "    x.observe(outputEl, {childList: true});\n",
       "}}\n",
       "\n",
       "                        })                };                });            </script>        </div>"
      ]
     },
     "metadata": {},
     "output_type": "display_data"
    }
   ],
   "source": [
    "import plotly.offline as pyo\n",
    "\n",
    "# Create the plot\n",
    "fig = create_language_distribution_plot()\n",
    "\n",
    "# Display the plot in the notebook\n",
    "pyo.iplot(fig)\n"
   ]
  },
  {
   "cell_type": "code",
   "execution_count": 25,
   "id": "91b4382e-ca7c-4b84-a345-f6c45d8eae32",
   "metadata": {},
   "outputs": [
    {
     "name": "stdout",
     "output_type": "stream",
     "text": [
      "Connected successfully!\n",
      "date, incidents\n",
      "jan-19, 760.0\n",
      "feb-19, 975.0\n",
      "mrt-19, 742.0\n",
      "apr-19, 959.0\n",
      "mei-19, 823.0\n",
      "jun-19, 795.0\n",
      "jul-19, 607.0\n",
      "aug-19, 535.0\n",
      "sep-19, 729.0\n",
      "okt-19, 845.0\n",
      "nov-19, 602.0\n",
      "dec-19, 493.0\n",
      "jan-20, 542.0\n",
      "feb-20, 628.0\n",
      "mrt-20, 697.0\n",
      "apr-20, 648.0\n",
      "mei-20, 687.0\n",
      "jun-20, 613.0\n",
      "jul-20, 525.0\n",
      "aug-20, 221.0\n"
     ]
    }
   ],
   "source": [
    "try:\n",
    "    cnx = psycopg2.connect(\n",
    "        user=db_config['USER'],\n",
    "        password=db_config['PASSWORD'],\n",
    "        host=db_config['HOST'],\n",
    "        port=db_config['PORT'],\n",
    "        database=db_config['NAME']\n",
    "    )\n",
    "\n",
    "    print(\"Connected successfully!\")\n",
    "    cur = cnx.cursor()\n",
    "    \n",
    "    # Query to fetch all data from the music_charts table\n",
    "    cur.execute(\"SELECT * FROM incidentdata;\")a\n",
    "    \n",
    "    # Fetch all rows from the table\n",
    "    rows = cur.fetchall()\n",
    "    \n",
    "    # Get column names\n",
    "    column_names = [desc[0] for desc in cur.description]\n",
    "    \n",
    "    # Print column names\n",
    "    print(\", \".join(column_names))\n",
    "    \n",
    "    # Print the first 20 rows\n",
    "    for row in rows[:20]:\n",
    "        print(\", \".join(map(str, row)))  # Convert the data to strings and print\n",
    "\n",
    "    cnx.close()\n",
    "\n",
    "except Exception as e:\n",
    "    print(f\"Error: {e}\")\n"
   ]
  },
  {
   "cell_type": "code",
   "execution_count": 33,
   "id": "32812b43-5046-4b9d-b330-0be267d968c7",
   "metadata": {},
   "outputs": [
    {
     "name": "stdout",
     "output_type": "stream",
     "text": [
      "Connected successfully!\n",
      "id, song, artist, week, valence, track_id, lyrics\n",
      "46, Чути гімн, SKOFKA, 2023-01-06, 0.422, 4Yzlz45QgjUKZmN2KrK4AP, None\n",
      "47, Там у тополі, Artem Pivovarov, NK, 2023-01-06, 0.655, 4TP5hCUeQ6QwYzPkTfxG6G, None\n",
      "48, Щоб не було, DOROFEEVA, 2023-01-06, 0.381, 7krNeHssTmY3ijTox4OBbD, None\n",
      "49, ЗА ДЕНЬГИ ДА, INSTASAMKA, 2023-01-06, 0.314, 4PGzoH4hL1vORGOTxHdWjB, None\n",
      "50, Stefania (Kalush Orchestra), KALUSH, Kalush Orchestra, 2023-01-06, 0.324, 2vHzOWRKYPLu8umRPIFuOq, None\n",
      "51, Гарно так, CHEEV, 2023-01-06, 0.798, 3yRDM5tBS7H8HG64y3x9kw, None\n",
      "52, Монро, Slavik Pogosov, 2023-01-06, 0.118, 5sQpS3fyw6VBpPioNlrCn1, None\n",
      "53, Батьківщина, SKOFKA, KALUSH, 2023-01-06, 0.502, 33s2G0h9EOdyaKlKr15ngE, None\n",
      "54, Рандеву, Artem Pivovarov, 2023-01-06, 0.684, 3R02XSW0lDknR5ZVFiTVrc, None\n",
      "55, High Come Down, Chico & Coolwadda, 2023-01-06, 0.667, 4gc19xZ8SvONdW6ZVHlYSO, None\n",
      "56, Вишнi, Wellboy, 2023-01-06, 0.635, 1xHs6PLjlvqihewyitoP3A, None\n",
      "57, Біля серця, KOLA, 2023-01-06, 0.598, 20SSuP71R4A88qHQu4BKY6, None\n",
      "58, Вечорниці - Добрий день Everybody, 100лиця, SKYLERR, 2023-01-06, 0.336, 64Qnw6jO2dnkjV9una5peq, None\n",
      "59, Додому, Wellboy, 2023-01-06, 0.219, 6gtK39SLszESqJFu2SkId3, None\n",
      "60, Чекає вдома (feat. DOVI), YAKTAK, DOVI, 2023-01-06, 0.702, 5F9CLUvuRyku0ZdT4ljPQt, None\n",
      "61, Ти щаслива будеш - Гай, зелений гай, Dima PROKOPOV, 2023-01-06, 0.492, 2TTuBKeQWoukafWDPufIlq, None\n",
      "62, Bloody Mary, Lady Gaga, 2023-01-06, 0.432, 11BKm0j4eYoCPPpCONAVwA, None\n",
      "63, Voin, YARMAK, TARABAROVA, 2023-01-06, 0.358, 6mxPj26zVw51cqeRxxNOed, None\n",
      "64, Який ти козак, Анна Трінчер, POSITIFF, 2023-01-06, 0.463, 56jFeULddnrAOxtlLmTCFC, None\n",
      "65, Ой на горі, Artem Pivovarov, 2023-01-06, 0.469, 1kTtW9kzGGxbQISdhe8pzG, None\n"
     ]
    }
   ],
   "source": [
    "try:\n",
    "    cnx = psycopg2.connect(\n",
    "        user=db_config['USER'],\n",
    "        password=db_config['PASSWORD'],\n",
    "        host=db_config['HOST'],\n",
    "        port=db_config['PORT'],\n",
    "        database=db_config['NAME']\n",
    "    )\n",
    "\n",
    "    print(\"Connected successfully!\")\n",
    "    cur = cnx.cursor()\n",
    "    \n",
    "    # Query to fetch all data from the music_charts table\n",
    "    cur.execute(\"SELECT * FROM music_charts;\")\n",
    "    \n",
    "    # Fetch all rows from the table\n",
    "    rows = cur.fetchall()\n",
    "    \n",
    "    # Get column names\n",
    "    column_names = [desc[0] for desc in cur.description]\n",
    "    \n",
    "    # Print column names\n",
    "    print(\", \".join(column_names))\n",
    "    \n",
    "    # Print the first 20 rows\n",
    "    for row in rows[:20]:\n",
    "        print(\", \".join(map(str, row)))  # Convert the data to strings and print\n",
    "\n",
    "    cnx.close()\n",
    "\n",
    "except Exception as e:\n",
    "    print(f\"Error: {e}\")\n"
   ]
  },
  {
   "cell_type": "code",
   "execution_count": 34,
   "id": "9e58ff4c-0f5a-48fa-a6ad-1dbf84652fdb",
   "metadata": {},
   "outputs": [
    {
     "name": "stdout",
     "output_type": "stream",
     "text": [
      "Connected successfully!\n",
      "   id                         song                    artist        week  \\\n",
      "0  46                    Чути гімн                    SKOFKA  2023-01-06   \n",
      "1  47                 Там у тополі       Artem Pivovarov, NK  2023-01-06   \n",
      "2  48                  Щоб не було                 DOROFEEVA  2023-01-06   \n",
      "3  49                 ЗА ДЕНЬГИ ДА                INSTASAMKA  2023-01-06   \n",
      "4  50  Stefania (Kalush Orchestra)  KALUSH, Kalush Orchestra  2023-01-06   \n",
      "\n",
      "   valence                track_id lyrics  \n",
      "0    0.422  4Yzlz45QgjUKZmN2KrK4AP   None  \n",
      "1    0.655  4TP5hCUeQ6QwYzPkTfxG6G   None  \n",
      "2    0.381  7krNeHssTmY3ijTox4OBbD   None  \n",
      "3    0.314  4PGzoH4hL1vORGOTxHdWjB   None  \n",
      "4    0.324  2vHzOWRKYPLu8umRPIFuOq   None  \n"
     ]
    }
   ],
   "source": [
    "try:\n",
    "    cnx = psycopg2.connect(\n",
    "        user=db_config['USER'],\n",
    "        password=db_config['PASSWORD'],\n",
    "        host=db_config['HOST'],\n",
    "        port=db_config['PORT'],\n",
    "        database=db_config['NAME']\n",
    "    )\n",
    "\n",
    "    print(\"Connected successfully!\")\n",
    "    cur = cnx.cursor()\n",
    "\n",
    "    # Query to fetch all data from the music_charts table\n",
    "    cur.execute(\"SELECT * FROM music_charts;\")\n",
    "\n",
    "    # Fetch all rows from the table\n",
    "    rows = cur.fetchall()\n",
    "\n",
    "    # Get column names\n",
    "    column_names = [desc[0] for desc in cur.description]\n",
    "\n",
    "    # Create a Pandas DataFrame from the fetched data\n",
    "    df = pd.DataFrame(rows, columns=column_names)\n",
    "\n",
    "    # Close the database connection\n",
    "    cnx.close()\n",
    "\n",
    "    # Now, 'df' is your Pandas DataFrame with the music_charts data\n",
    "    print(df.head())  # Display the first few rows of the DataFrame\n",
    "\n",
    "except Exception as e:\n",
    "    print(f\"Error: {e}\")"
   ]
  },
  {
   "cell_type": "code",
   "execution_count": 36,
   "id": "1eb97999-42dc-46ee-88b6-743cbe3ccbbf",
   "metadata": {},
   "outputs": [
    {
     "data": {
      "application/vnd.plotly.v1+json": {
       "config": {
        "plotlyServerURL": "https://plot.ly"
       },
       "data": [
        {
         "hovertemplate": "week=%{x}<br>valence=%{y}<extra></extra>",
         "legendgroup": "",
         "marker": {
          "color": "#636efa",
          "opacity": 0.6,
          "size": 10,
          "symbol": "circle"
         },
         "mode": "markers",
         "name": "",
         "showlegend": false,
         "type": "scattergl",
         "x": [
          "2023-01-06",
          "2023-01-06",
          "2023-01-06",
          "2023-01-06",
          "2023-01-06",
          "2023-01-06",
          "2023-01-06",
          "2023-01-06",
          "2023-01-06",
          "2023-01-06",
          "2023-01-06",
          "2023-01-06",
          "2023-01-06",
          "2023-01-06",
          "2023-01-06",
          "2023-01-06",
          "2023-01-06",
          "2023-01-06",
          "2023-01-06",
          "2023-01-06",
          "2023-01-06",
          "2023-01-06",
          "2023-01-06",
          "2023-01-06",
          "2023-01-06",
          "2023-01-06",
          "2023-01-06",
          "2023-01-06",
          "2023-01-06",
          "2023-01-06",
          "2023-01-06",
          "2023-01-06",
          "2023-01-06",
          "2023-01-06",
          "2023-01-06",
          "2023-01-06",
          "2023-01-06",
          "2023-01-06",
          "2023-01-06",
          "2023-01-06",
          "2023-01-06",
          "2023-01-06",
          "2023-01-06",
          "2023-01-06",
          "2023-01-06",
          "2023-01-06",
          "2023-01-06",
          "2023-01-06",
          "2023-01-06",
          "2023-01-06",
          "2023-01-06",
          "2023-01-06",
          "2023-01-06",
          "2023-01-06",
          "2023-01-06",
          "2023-01-06",
          "2023-01-06",
          "2023-01-06",
          "2023-01-06",
          "2023-01-06",
          "2023-01-06",
          "2023-01-06",
          "2023-01-06",
          "2023-01-06",
          "2023-01-06",
          "2023-01-06",
          "2023-01-06",
          "2023-01-06",
          "2023-01-06",
          "2023-01-06",
          "2023-01-06",
          "2023-01-06",
          "2023-01-06",
          "2023-01-06",
          "2023-01-06",
          "2023-01-06",
          "2023-01-06",
          "2023-01-06",
          "2023-01-06",
          "2023-01-06",
          "2023-01-06",
          "2023-01-06",
          "2023-01-06",
          "2023-01-06",
          "2023-01-06",
          "2023-01-06",
          "2023-01-06",
          "2023-01-06",
          "2023-01-06",
          "2023-01-06",
          "2023-01-06",
          "2023-01-06",
          "2023-01-06",
          "2023-01-06",
          "2023-01-13",
          "2023-01-13",
          "2023-01-13",
          "2023-01-13",
          "2023-01-13",
          "2023-01-13",
          "2023-01-13",
          "2023-01-13",
          "2023-01-13",
          "2023-01-13",
          "2023-01-13",
          "2023-01-13",
          "2023-01-13",
          "2023-01-13",
          "2023-01-13",
          "2023-01-13",
          "2023-01-13",
          "2023-01-13",
          "2023-01-13",
          "2023-01-13",
          "2023-01-13",
          "2023-01-13",
          "2023-01-13",
          "2023-01-13",
          "2023-01-13",
          "2023-01-13",
          "2023-01-13",
          "2023-01-13",
          "2023-01-13",
          "2023-01-13",
          "2023-01-13",
          "2023-01-13",
          "2023-01-13",
          "2023-01-13",
          "2023-01-13",
          "2023-01-13",
          "2023-01-13",
          "2023-01-13",
          "2023-01-13",
          "2023-01-13",
          "2023-01-13",
          "2023-01-13",
          "2023-01-13",
          "2023-01-13",
          "2023-01-13",
          "2023-01-13",
          "2023-01-13",
          "2023-01-13",
          "2023-01-13",
          "2023-01-13",
          "2023-01-13",
          "2023-01-13",
          "2023-01-13",
          "2023-01-13",
          "2023-01-13",
          "2023-01-13",
          "2023-01-13",
          "2023-01-13",
          "2023-01-13",
          "2023-01-13",
          "2023-01-13",
          "2023-01-13",
          "2023-01-13",
          "2023-01-13",
          "2023-01-13",
          "2023-01-13",
          "2023-01-13",
          "2023-01-13",
          "2023-01-13",
          "2023-01-13",
          "2023-01-13",
          "2023-01-13",
          "2023-01-13",
          "2023-01-13",
          "2023-01-13",
          "2023-01-13",
          "2023-01-13",
          "2023-01-13",
          "2023-01-13",
          "2023-01-13",
          "2023-01-13",
          "2023-01-13",
          "2023-01-13",
          "2023-01-13",
          "2023-01-13",
          "2023-01-13",
          "2023-01-13",
          "2023-01-13",
          "2023-01-13",
          "2023-01-13",
          "2023-01-13",
          "2023-01-13",
          "2023-01-13",
          "2023-01-13",
          "2023-01-20",
          "2023-01-20",
          "2023-01-20",
          "2023-01-20",
          "2023-01-20",
          "2023-01-20",
          "2023-01-20",
          "2023-01-20",
          "2023-01-20",
          "2023-01-20",
          "2023-01-20",
          "2023-01-20",
          "2023-01-20",
          "2023-01-20",
          "2023-01-20",
          "2023-01-20",
          "2023-01-20",
          "2023-01-20",
          "2023-01-20",
          "2023-01-20",
          "2023-01-20",
          "2023-01-20",
          "2023-01-20",
          "2023-01-20",
          "2023-01-20",
          "2023-01-20",
          "2023-01-20",
          "2023-01-20",
          "2023-01-20",
          "2023-01-20",
          "2023-01-20",
          "2023-01-20",
          "2023-01-20",
          "2023-01-20",
          "2023-01-20",
          "2023-01-20",
          "2023-01-20",
          "2023-01-20",
          "2023-01-20",
          "2023-01-20",
          "2023-01-20",
          "2023-01-20",
          "2023-01-20",
          "2023-01-20",
          "2023-01-20",
          "2023-01-20",
          "2023-01-20",
          "2023-01-20",
          "2023-01-20",
          "2023-01-20",
          "2023-01-20",
          "2023-01-20",
          "2023-01-20",
          "2023-01-20",
          "2023-01-20",
          "2023-01-20",
          "2023-01-20",
          "2023-01-20",
          "2023-01-20",
          "2023-01-20",
          "2023-01-20",
          "2023-01-20",
          "2023-01-20",
          "2023-01-20",
          "2023-01-20",
          "2023-01-20",
          "2023-01-20",
          "2023-01-20",
          "2023-01-20",
          "2023-01-20",
          "2023-01-20",
          "2023-01-20",
          "2023-01-20",
          "2023-01-20",
          "2023-01-20",
          "2023-01-20",
          "2023-01-20",
          "2023-01-20",
          "2023-01-20",
          "2023-01-20",
          "2023-01-20",
          "2023-01-20",
          "2023-01-20",
          "2023-01-20",
          "2023-01-20",
          "2023-01-20",
          "2023-01-20",
          "2023-01-20",
          "2023-01-20",
          "2023-01-20",
          "2023-01-20",
          "2023-01-20",
          "2023-01-20",
          "2023-01-27",
          "2023-01-27",
          "2023-01-27",
          "2023-01-27",
          "2023-01-27",
          "2023-01-27",
          "2023-01-27",
          "2023-01-27",
          "2023-01-27",
          "2023-01-27",
          "2023-01-27",
          "2023-01-27",
          "2023-01-27",
          "2023-01-27",
          "2023-01-27",
          "2023-01-27",
          "2023-01-27",
          "2023-01-27",
          "2023-01-27",
          "2023-01-27",
          "2023-01-27",
          "2023-01-27",
          "2023-01-27",
          "2023-01-27",
          "2023-01-27",
          "2023-01-27",
          "2023-01-27",
          "2023-01-27",
          "2023-01-27",
          "2023-01-27",
          "2023-01-27",
          "2023-01-27",
          "2023-01-27",
          "2023-01-27",
          "2023-01-27",
          "2023-01-27",
          "2023-01-27",
          "2023-01-27",
          "2023-01-27",
          "2023-01-27",
          "2023-01-27",
          "2023-01-27",
          "2023-01-27",
          "2023-01-27",
          "2023-01-27",
          "2023-01-27",
          "2023-01-27",
          "2023-01-27",
          "2023-01-27",
          "2023-01-27",
          "2023-01-27",
          "2023-01-27",
          "2023-01-27",
          "2023-01-27",
          "2023-01-27",
          "2023-01-27",
          "2023-01-27",
          "2023-01-27",
          "2023-01-27",
          "2023-01-27",
          "2023-01-27",
          "2023-01-27",
          "2023-01-27",
          "2023-01-27",
          "2023-01-27",
          "2023-01-27",
          "2023-01-27",
          "2023-01-27",
          "2023-01-27",
          "2023-01-27",
          "2023-01-27",
          "2023-01-27",
          "2023-01-27",
          "2023-01-27",
          "2023-01-27",
          "2023-01-27",
          "2023-01-27",
          "2023-01-27",
          "2023-01-27",
          "2023-01-27",
          "2023-01-27",
          "2023-01-27",
          "2023-01-27",
          "2023-01-27",
          "2023-01-27",
          "2023-01-27",
          "2023-01-27",
          "2023-01-27",
          "2023-01-27",
          "2023-01-27",
          "2023-01-27",
          "2023-02-03",
          "2023-02-03",
          "2023-02-03",
          "2023-02-03",
          "2023-02-03",
          "2023-02-03",
          "2023-02-03",
          "2023-02-03",
          "2023-02-03",
          "2023-02-03",
          "2023-02-03",
          "2023-02-03",
          "2023-02-03",
          "2023-02-03",
          "2023-02-03",
          "2023-02-03",
          "2023-02-03",
          "2023-02-03",
          "2023-02-03",
          "2023-02-03",
          "2023-02-03",
          "2023-02-03",
          "2023-02-03",
          "2023-02-03",
          "2023-02-03",
          "2023-02-03",
          "2023-02-03",
          "2023-02-03",
          "2023-02-03",
          "2023-02-03",
          "2023-02-03",
          "2023-02-03",
          "2023-02-03",
          "2023-02-03",
          "2023-02-03",
          "2023-02-03",
          "2023-02-03",
          "2023-02-03",
          "2023-02-03",
          "2023-02-03",
          "2023-02-03",
          "2023-02-03",
          "2023-03-03",
          "2023-02-03",
          "2023-02-03",
          "2023-02-03",
          "2023-02-03",
          "2023-02-03",
          "2023-02-03",
          "2023-02-03",
          "2023-02-03",
          "2023-02-03",
          "2023-02-03",
          "2023-02-03",
          "2023-02-03",
          "2023-02-03",
          "2023-02-03",
          "2023-02-03",
          "2023-02-03",
          "2023-02-03",
          "2023-02-03",
          "2023-02-03",
          "2023-02-03",
          "2023-02-03",
          "2023-02-03",
          "2023-02-03",
          "2023-02-03",
          "2023-02-03",
          "2023-02-03",
          "2023-02-03",
          "2023-02-03",
          "2023-02-03",
          "2023-02-03",
          "2023-02-03",
          "2023-02-03",
          "2023-02-03",
          "2023-02-03",
          "2023-02-03",
          "2023-02-03",
          "2023-02-03",
          "2023-02-03",
          "2023-02-03",
          "2023-02-03",
          "2023-02-03",
          "2023-02-03",
          "2023-02-03",
          "2023-02-03",
          "2023-02-03",
          "2023-02-03",
          "2023-02-03",
          "2023-02-03",
          "2023-02-03",
          "2023-02-03",
          "2023-02-03",
          "2023-02-10",
          "2023-02-10",
          "2023-02-10",
          "2023-02-10",
          "2023-02-10",
          "2023-02-10",
          "2023-02-10",
          "2023-02-10",
          "2023-02-10",
          "2023-02-10",
          "2023-02-10",
          "2023-02-10",
          "2023-02-10",
          "2023-02-10",
          "2023-02-10",
          "2023-02-10",
          "2023-02-10",
          "2023-02-10",
          "2023-02-10",
          "2023-02-10",
          "2023-02-10",
          "2023-02-10",
          "2023-02-10",
          "2023-02-10",
          "2023-02-10",
          "2023-02-10",
          "2023-02-10",
          "2023-02-10",
          "2023-02-10",
          "2023-02-10",
          "2023-02-10",
          "2023-02-10",
          "2023-02-10",
          "2023-02-10",
          "2023-02-10",
          "2023-02-10",
          "2023-02-10",
          "2023-02-10",
          "2023-02-10",
          "2023-02-10",
          "2023-02-10",
          "2023-02-10",
          "2023-02-10",
          "2023-02-10",
          "2023-02-10",
          "2023-02-10",
          "2023-02-10",
          "2023-02-10",
          "2023-02-10",
          "2023-02-10",
          "2023-02-10",
          "2023-02-10",
          "2023-02-10",
          "2023-02-10",
          "2023-02-10",
          "2023-02-10",
          "2023-02-10",
          "2023-02-10",
          "2023-02-10",
          "2023-02-10",
          "2023-02-10",
          "2023-02-10",
          "2023-02-10",
          "2023-02-10",
          "2023-02-10",
          "2023-02-10",
          "2023-02-10",
          "2023-02-10",
          "2023-02-10",
          "2023-02-10",
          "2023-02-10",
          "2023-02-10",
          "2023-02-10",
          "2023-02-10",
          "2023-02-10",
          "2023-02-10",
          "2023-02-10",
          "2023-02-10",
          "2023-02-10",
          "2023-02-10",
          "2023-02-10",
          "2023-02-10",
          "2023-02-10",
          "2023-02-10",
          "2023-02-10",
          "2023-02-10",
          "2023-02-10",
          "2023-02-10",
          "2023-02-10",
          "2023-02-10",
          "2023-02-10",
          "2023-02-10",
          "2023-02-10",
          "2023-02-17",
          "2023-02-17",
          "2023-02-17",
          "2023-02-17",
          "2023-02-17",
          "2023-02-17",
          "2023-02-17",
          "2023-02-17",
          "2023-02-17",
          "2023-02-17",
          "2023-02-17",
          "2023-02-17",
          "2023-02-17",
          "2023-02-17",
          "2023-02-17",
          "2023-02-17",
          "2023-02-17",
          "2023-02-17",
          "2023-02-17",
          "2023-02-17",
          "2023-02-17",
          "2023-02-17",
          "2023-02-17",
          "2023-02-17",
          "2023-02-17",
          "2023-02-17",
          "2023-02-17",
          "2023-02-17",
          "2023-02-17",
          "2023-02-17",
          "2023-02-17",
          "2023-02-17",
          "2023-02-17",
          "2023-02-17",
          "2023-02-17",
          "2023-02-17",
          "2023-02-17",
          "2023-02-17",
          "2023-02-17",
          "2023-02-17",
          "2023-02-17",
          "2023-02-17",
          "2023-02-17",
          "2023-02-17",
          "2023-02-17",
          "2023-02-17",
          "2023-02-17",
          "2023-02-17",
          "2023-02-17",
          "2023-02-17",
          "2023-02-17",
          "2023-02-17",
          "2023-02-17",
          "2023-02-17",
          "2023-02-17",
          "2023-02-17",
          "2023-02-17",
          "2023-02-17",
          "2023-02-17",
          "2023-02-17",
          "2023-02-17",
          "2023-02-17",
          "2023-02-17",
          "2023-02-17",
          "2023-02-17",
          "2023-02-17",
          "2023-02-17",
          "2023-02-17",
          "2023-02-17",
          "2023-02-17",
          "2023-02-17",
          "2023-02-17",
          "2023-02-17",
          "2023-02-17",
          "2023-02-17",
          "2023-02-17",
          "2023-02-17",
          "2023-02-17",
          "2023-02-17",
          "2023-02-17",
          "2023-02-17",
          "2023-02-17",
          "2023-02-17",
          "2023-02-17",
          "2023-02-17",
          "2023-02-17",
          "2023-02-17",
          "2023-02-17",
          "2023-02-17",
          "2023-02-17",
          "2023-02-17",
          "2023-02-24",
          "2023-02-24",
          "2023-02-24",
          "2023-02-24",
          "2023-02-24",
          "2023-02-24",
          "2023-02-24",
          "2023-02-24",
          "2023-02-24",
          "2023-02-24",
          "2023-02-24",
          "2023-02-24",
          "2023-02-24",
          "2023-02-24",
          "2023-02-24",
          "2023-02-24",
          "2023-02-24",
          "2023-02-24",
          "2023-02-24",
          "2023-02-24",
          "2023-02-24",
          "2023-02-24",
          "2023-02-24",
          "2023-02-24",
          "2023-02-24",
          "2023-02-24",
          "2023-02-24",
          "2023-02-24",
          "2023-02-24",
          "2023-02-24",
          "2023-02-24",
          "2023-02-24",
          "2023-02-24",
          "2023-02-24",
          "2023-02-24",
          "2023-02-24",
          "2023-02-24",
          "2023-02-24",
          "2023-02-24",
          "2023-02-24",
          "2023-02-24",
          "2023-02-24",
          "2023-02-24",
          "2023-02-24",
          "2023-03-03",
          "2023-02-24",
          "2023-02-24",
          "2023-02-24",
          "2023-02-24",
          "2023-02-24",
          "2023-02-24",
          "2023-02-24",
          "2023-02-24",
          "2023-02-24",
          "2023-02-24",
          "2023-02-24",
          "2023-02-24",
          "2023-02-24",
          "2023-02-24",
          "2023-02-24",
          "2023-02-24",
          "2023-02-24",
          "2023-02-24",
          "2023-02-24",
          "2023-02-24",
          "2023-02-24",
          "2023-02-24",
          "2023-02-24",
          "2023-02-24",
          "2023-02-24",
          "2023-02-24",
          "2023-02-24",
          "2023-02-24",
          "2023-02-24",
          "2023-02-24",
          "2023-02-24",
          "2023-02-24",
          "2023-02-24",
          "2023-02-24",
          "2023-02-24",
          "2023-02-24",
          "2023-02-24",
          "2023-02-24",
          "2023-02-24",
          "2023-02-24",
          "2023-02-24",
          "2023-02-24",
          "2023-02-24",
          "2023-02-24",
          "2023-02-24",
          "2023-02-24",
          "2023-02-24",
          "2023-03-03",
          "2023-03-03",
          "2023-03-03",
          "2023-03-03",
          "2023-03-03",
          "2023-03-03",
          "2023-03-03",
          "2023-03-03",
          "2023-03-03",
          "2023-03-03",
          "2023-03-03",
          "2023-03-03",
          "2023-03-03",
          "2023-03-03",
          "2023-03-03",
          "2023-03-03",
          "2023-03-03",
          "2023-03-03",
          "2023-03-03",
          "2023-03-03",
          "2023-03-03",
          "2023-03-03",
          "2023-03-03",
          "2023-03-03",
          "2023-03-03",
          "2023-03-03",
          "2023-03-03",
          "2023-03-03",
          "2023-03-03",
          "2023-03-03",
          "2023-03-03",
          "2023-03-03",
          "2023-03-03",
          "2023-03-03",
          "2023-03-03",
          "2023-03-03",
          "2023-03-03",
          "2023-03-03",
          "2023-03-03",
          "2023-03-03",
          "2023-03-03",
          "2023-03-03",
          "2023-03-03",
          "2023-03-03",
          "2023-03-03",
          "2023-03-03",
          "2023-03-03",
          "2023-03-03",
          "2023-03-03",
          "2023-03-03",
          "2023-03-03",
          "2023-03-03",
          "2023-03-03",
          "2023-03-03",
          "2023-03-03",
          "2023-03-03",
          "2023-03-03",
          "2023-03-03",
          "2023-03-03",
          "2023-03-03",
          "2023-03-03",
          "2023-03-03",
          "2023-03-03",
          "2023-03-03",
          "2023-03-03",
          "2023-03-03",
          "2023-03-03",
          "2023-03-03",
          "2023-03-03",
          "2023-03-03",
          "2023-03-03",
          "2023-03-03",
          "2023-03-03",
          "2023-03-03",
          "2023-03-03",
          "2023-03-03",
          "2023-03-03",
          "2023-03-03",
          "2023-03-03",
          "2023-03-03",
          "2023-03-03",
          "2023-03-03",
          "2023-03-03",
          "2023-03-03",
          "2023-03-03",
          "2023-03-03",
          "2023-03-03",
          "2023-03-03",
          "2023-03-03",
          "2023-03-03",
          "2023-03-03",
          "2023-03-10",
          "2023-03-10",
          "2023-03-10",
          "2023-03-10",
          "2023-03-10",
          "2023-03-10",
          "2023-03-10",
          "2023-03-10",
          "2023-03-10",
          "2023-03-10",
          "2023-03-10",
          "2023-03-10",
          "2023-03-10",
          "2023-03-10",
          "2023-03-10",
          "2023-03-10",
          "2023-03-10",
          "2023-03-10",
          "2023-03-10",
          "2023-03-10",
          "2023-03-10",
          "2023-03-10",
          "2023-03-10",
          "2023-03-10",
          "2023-03-10",
          "2023-03-10",
          "2023-03-10",
          "2023-03-10",
          "2023-03-10",
          "2023-03-10",
          "2023-03-10",
          "2023-03-10",
          "2023-03-10",
          "2023-03-10",
          "2023-03-10",
          "2023-03-10",
          "2023-03-10",
          "2023-03-10",
          "2023-03-10",
          "2023-03-10",
          "2023-03-10",
          "2023-03-10",
          "2023-03-10",
          "2023-03-10",
          "2023-03-10",
          "2023-03-10",
          "2023-03-10",
          "2023-03-10",
          "2023-03-10",
          "2023-03-10",
          "2023-03-10",
          "2023-03-10",
          "2023-03-10",
          "2023-03-10",
          "2023-03-10",
          "2023-03-10",
          "2023-03-10",
          "2023-03-10",
          "2023-03-10",
          "2023-03-10",
          "2023-03-10",
          "2023-03-10",
          "2023-03-10",
          "2023-03-10",
          "2023-03-10",
          "2023-03-10",
          "2023-03-10",
          "2023-03-10",
          "2023-03-10",
          "2023-03-10",
          "2023-03-10",
          "2023-03-10",
          "2023-03-10",
          "2023-03-10",
          "2023-03-10",
          "2023-03-10",
          "2023-03-10",
          "2023-03-10",
          "2023-03-10",
          "2023-03-10",
          "2023-03-10",
          "2023-03-10",
          "2023-03-10",
          "2023-03-10",
          "2023-03-10",
          "2023-03-10",
          "2023-03-10",
          "2023-03-10",
          "2023-03-10",
          "2023-03-10",
          "2023-03-10",
          "2023-03-10",
          "2023-03-10",
          "2023-03-17",
          "2023-03-17",
          "2023-03-17",
          "2023-03-17",
          "2023-03-17",
          "2023-03-17",
          "2023-03-17",
          "2023-03-17",
          "2023-03-17",
          "2023-03-17",
          "2023-03-17",
          "2023-03-17",
          "2023-03-17",
          "2023-03-17",
          "2023-03-17",
          "2023-03-17",
          "2023-03-17",
          "2023-03-17",
          "2023-03-17",
          "2023-03-17",
          "2023-03-17",
          "2023-03-17",
          "2023-03-17",
          "2023-03-17",
          "2023-03-17",
          "2023-03-17",
          "2023-03-17",
          "2023-03-17",
          "2023-03-17",
          "2023-03-17",
          "2023-03-17",
          "2023-03-17",
          "2023-03-17",
          "2023-03-17",
          "2023-03-17",
          "2023-03-17",
          "2023-03-17",
          "2023-03-17",
          "2023-03-17",
          "2023-03-17",
          "2023-03-17",
          "2023-03-17",
          "2023-03-17",
          "2023-03-17",
          "2023-03-17",
          "2023-03-17",
          "2023-03-17",
          "2023-03-17",
          "2023-03-17",
          "2023-03-17",
          "2023-03-17",
          "2023-03-17",
          "2023-03-17",
          "2023-03-17",
          "2023-03-17",
          "2023-03-17",
          "2023-03-17",
          "2023-03-17",
          "2023-03-17",
          "2023-03-17",
          "2023-03-17",
          "2023-03-17",
          "2023-03-17",
          "2023-03-17",
          "2023-03-17",
          "2023-03-17",
          "2023-03-17",
          "2023-03-17",
          "2023-03-17",
          "2023-03-17",
          "2023-03-17",
          "2023-03-17",
          "2023-03-17",
          "2023-03-17",
          "2023-03-17",
          "2023-03-17",
          "2023-03-17",
          "2023-03-17",
          "2023-03-17",
          "2023-03-17",
          "2023-03-17",
          "2023-03-17",
          "2023-03-17",
          "2023-03-17",
          "2023-03-17",
          "2023-03-17",
          "2023-03-17",
          "2023-03-17",
          "2023-03-17",
          "2023-03-17",
          "2023-03-17",
          "2023-03-17",
          "2023-03-17",
          "2023-03-24",
          "2023-03-24",
          "2023-03-24",
          "2023-03-24",
          "2023-03-24",
          "2023-03-24",
          "2023-03-24",
          "2023-03-24",
          "2023-03-24",
          "2023-03-24",
          "2023-03-24",
          "2023-03-24",
          "2023-03-24",
          "2023-03-24",
          "2023-03-24",
          "2023-03-24",
          "2023-03-24",
          "2023-03-24",
          "2023-03-24",
          "2023-03-24",
          "2023-03-24",
          "2023-03-24",
          "2023-03-24",
          "2023-03-24",
          "2023-03-24",
          "2023-03-24",
          "2023-03-24",
          "2023-03-24",
          "2023-03-24",
          "2023-03-24",
          "2023-03-24",
          "2023-03-24",
          "2023-03-24",
          "2023-03-24",
          "2023-03-24",
          "2023-03-24",
          "2023-03-24",
          "2023-03-24",
          "2023-03-24",
          "2023-03-24",
          "2023-03-24",
          "2023-03-24",
          "2023-03-24",
          "2023-03-24",
          "2023-03-24",
          "2023-03-24",
          "2023-03-24"
         ],
         "xaxis": "x",
         "y": [
          0.422,
          0.655,
          0.381,
          0.314,
          0.324,
          0.798,
          0.118,
          0.502,
          0.684,
          0.667,
          0.635,
          0.598,
          0.336,
          0.219,
          0.702,
          0.492,
          0.432,
          0.358,
          0.463,
          0.469,
          0.62,
          0.555,
          0.468,
          0.0899,
          0.758,
          0.463,
          0.348,
          0.707,
          0.609,
          0.395,
          0.12,
          0.428,
          0.276,
          0.543,
          0.678,
          0.386,
          0.814,
          0.387,
          0.238,
          0.662,
          0.12,
          0.118,
          0.442,
          0.403,
          0.661,
          0.519,
          0.134,
          0.326,
          0.836,
          0.136,
          0.42,
          0.406,
          0.694,
          0.466,
          0.785,
          0.513,
          0.947,
          0.255,
          0.622,
          0.422,
          0.427,
          0.627,
          0.907,
          0.963,
          0.374,
          0.968,
          0.131,
          0.338,
          0.228,
          0.502,
          0.64,
          0.422,
          0.139,
          0.675,
          0.572,
          0.828,
          0.503,
          0.96,
          0.605,
          0.89,
          0.649,
          0.702,
          0.314,
          0.254,
          0.967,
          0.788,
          0.599,
          0.684,
          0.423,
          0.187,
          0.437,
          0.662,
          0.429,
          0.897,
          0.422,
          0.655,
          0.381,
          0.632,
          0.324,
          0.798,
          0.314,
          0.502,
          0.598,
          0.684,
          0.635,
          0.667,
          0.702,
          0.118,
          0.219,
          0.336,
          0.555,
          0.348,
          0.0899,
          0.492,
          0.463,
          0.468,
          0.463,
          0.469,
          0.118,
          0.12,
          0.358,
          0.678,
          0.758,
          0.62,
          0.707,
          0.572,
          0.422,
          0.395,
          0.543,
          0.432,
          0.423,
          0.276,
          0.12,
          0.387,
          0.238,
          0.814,
          0.661,
          0.386,
          0.662,
          0.134,
          0.428,
          0.403,
          0.513,
          0.627,
          0.785,
          0.466,
          0.136,
          0.519,
          0.326,
          0.947,
          0.422,
          0.609,
          0.828,
          0.406,
          0.836,
          0.442,
          0.675,
          0.228,
          0.942,
          0.314,
          0.503,
          0.897,
          0.968,
          0.254,
          0.694,
          0.139,
          0.255,
          0.374,
          0.599,
          0.254,
          0.427,
          0.907,
          0.605,
          0.753,
          0.484,
          0.351,
          0.429,
          0.338,
          0.579,
          0.774,
          0.502,
          0.562,
          0.415,
          0.967,
          0.482,
          0.598,
          0.438,
          0.231,
          0.632,
          0.422,
          0.655,
          0.381,
          0.798,
          0.324,
          0.598,
          0.219,
          0.502,
          0.314,
          0.667,
          0.635,
          0.684,
          0.702,
          0.336,
          0.118,
          0.463,
          0.463,
          0.348,
          0.0899,
          0.555,
          0.468,
          0.422,
          0.492,
          0.678,
          0.572,
          0.469,
          0.358,
          0.395,
          0.707,
          0.276,
          0.62,
          0.12,
          0.758,
          0.12,
          0.814,
          0.118,
          0.134,
          0.543,
          0.519,
          0.609,
          0.662,
          0.661,
          0.947,
          0.675,
          0.428,
          0.238,
          0.466,
          0.524,
          0.403,
          0.627,
          0.406,
          0.326,
          0.432,
          0.255,
          0.442,
          0.513,
          0.494,
          0.427,
          0.387,
          0.968,
          0.61,
          0.422,
          0.785,
          0.694,
          0.139,
          0.386,
          0.942,
          0.967,
          0.828,
          0.547,
          0.788,
          0.502,
          0.338,
          0.239,
          0.584,
          0.429,
          0.605,
          0.314,
          0.562,
          0.437,
          0.703,
          0.418,
          0.254,
          0.719,
          0.753,
          0.598,
          0.542,
          0.836,
          0.534,
          0.579,
          0.374,
          0.117,
          0.632,
          0.422,
          0.655,
          0.381,
          0.798,
          0.324,
          0.635,
          0.502,
          0.219,
          0.598,
          0.684,
          0.314,
          0.702,
          0.667,
          0.118,
          0.336,
          0.348,
          0.463,
          0.0899,
          0.555,
          0.463,
          0.492,
          0.468,
          0.678,
          0.469,
          0.422,
          0.358,
          0.572,
          0.276,
          0.707,
          0.62,
          0.12,
          0.494,
          0.395,
          0.758,
          0.406,
          0.12,
          0.118,
          0.543,
          0.326,
          0.466,
          0.403,
          0.814,
          0.662,
          0.134,
          0.609,
          0.238,
          0.661,
          0.428,
          0.524,
          0.519,
          0.675,
          0.627,
          0.432,
          0.338,
          0.255,
          0.947,
          0.387,
          0.513,
          0.422,
          0.785,
          0.139,
          0.427,
          0.694,
          0.386,
          0.828,
          0.942,
          0.662,
          0.605,
          0.774,
          0.562,
          0.442,
          0.547,
          0.502,
          0.584,
          0.61,
          0.598,
          0.542,
          0.228,
          0.351,
          0.418,
          0.429,
          0.603,
          0.967,
          0.374,
          0.368,
          0.703,
          0.788,
          0.314,
          0.534,
          0.599,
          0.632,
          0.422,
          0.142,
          0.655,
          0.381,
          0.798,
          0.324,
          0.219,
          0.598,
          0.502,
          0.702,
          0.635,
          0.684,
          0.667,
          0.492,
          0.314,
          0.463,
          0.555,
          0.422,
          0.336,
          0.0899,
          0.118,
          0.463,
          0.348,
          0.468,
          0.678,
          0.469,
          0.276,
          0.572,
          0.524,
          0.707,
          0.134,
          0.494,
          0.12,
          0.814,
          0.62,
          0.326,
          0.358,
          0.406,
          0.238,
          0.758,
          0.694,
          0.635,
          0.12,
          0.609,
          0.662,
          0.543,
          0.661,
          0.947,
          0.675,
          0.428,
          0.403,
          0.519,
          0.627,
          0.466,
          0.562,
          0.422,
          0.0426,
          0.228,
          0.432,
          0.387,
          0.255,
          0.118,
          0.502,
          0.513,
          0.442,
          0.365,
          0.828,
          0.967,
          0.139,
          0.395,
          0.942,
          0.386,
          0.542,
          0.595,
          0.788,
          0.785,
          0.239,
          0.968,
          0.774,
          0.605,
          0.836,
          0.61,
          0.48,
          0.719,
          0.0626,
          0.285,
          0.662,
          0.437,
          0.198,
          0.534,
          0.547,
          0.427,
          0.429,
          0.595,
          0.632,
          0.422,
          0.655,
          0.702,
          0.381,
          0.219,
          0.798,
          0.598,
          0.635,
          0.492,
          0.684,
          0.502,
          0.667,
          0.142,
          0.336,
          0.314,
          0.422,
          0.348,
          0.463,
          0.678,
          0.463,
          0.555,
          0.276,
          0.481,
          0.358,
          0.468,
          0.118,
          0.572,
          0.524,
          0.675,
          0.469,
          0.707,
          0.12,
          0.0899,
          0.326,
          0.494,
          0.62,
          0.12,
          0.814,
          0.406,
          0.543,
          0.466,
          0.238,
          0.428,
          0.324,
          0.609,
          0.758,
          0.661,
          0.627,
          0.139,
          0.662,
          0.947,
          0.562,
          0.387,
          0.403,
          0.513,
          0.432,
          0.502,
          0.422,
          0.667,
          0.519,
          0.694,
          0.968,
          0.785,
          0.386,
          0.334,
          0.702,
          0.563,
          0.31,
          0.942,
          0.553,
          0.967,
          0.418,
          0.605,
          0.489,
          0.542,
          0.788,
          0.239,
          0.255,
          0.774,
          0.442,
          0.61,
          0.136,
          0.589,
          0.306,
          0.719,
          0.285,
          0.48,
          0.547,
          0.644,
          0.662,
          0.437,
          0.595,
          0.632,
          0.422,
          0.702,
          0.655,
          0.219,
          0.381,
          0.142,
          0.598,
          0.667,
          0.502,
          0.336,
          0.492,
          0.798,
          0.422,
          0.684,
          0.635,
          0.635,
          0.0899,
          0.707,
          0.463,
          0.678,
          0.481,
          0.314,
          0.358,
          0.276,
          0.12,
          0.118,
          0.675,
          0.457,
          0.463,
          0.403,
          0.422,
          0.469,
          0.12,
          0.543,
          0.524,
          0.348,
          0.562,
          0.324,
          0.466,
          0.428,
          0.214,
          0.387,
          0.62,
          0.661,
          0.139,
          0.627,
          0.814,
          0.662,
          0.494,
          0.513,
          0.758,
          0.555,
          0.406,
          0.306,
          0.542,
          0.468,
          0.947,
          0.609,
          0.942,
          0.31,
          0.667,
          0.255,
          0.395,
          0.662,
          0.968,
          0.563,
          0.432,
          0.326,
          0.323,
          0.605,
          0.502,
          0.828,
          0.415,
          0.117,
          0.547,
          0.489,
          0.785,
          0.116,
          0.48,
          0.519,
          0.555,
          0.442,
          0.548,
          0.694,
          0.61,
          0.0348,
          0.703,
          0.599,
          0.393,
          0.595,
          0.702,
          0.422,
          0.632,
          0.655,
          0.219,
          0.142,
          0.381,
          0.667,
          0.598,
          0.502,
          0.336,
          0.635,
          0.492,
          0.684,
          0.422,
          0.798,
          0.0899,
          0.635,
          0.707,
          0.678,
          0.463,
          0.358,
          0.276,
          0.134,
          0.457,
          0.12,
          0.422,
          0.562,
          0.675,
          0.524,
          0.481,
          0.463,
          0.314,
          0.118,
          0.469,
          0.543,
          0.551,
          0.466,
          0.139,
          0.494,
          0.324,
          0.428,
          0.662,
          0.358,
          0.627,
          0.406,
          0.661,
          0.62,
          0.387,
          0.542,
          0.306,
          0.348,
          0.609,
          0.942,
          0.555,
          0.519,
          0.452,
          0.513,
          0.814,
          0.468,
          0.667,
          0.584,
          0.572,
          0.758,
          0.502,
          0.968,
          0.0348,
          0.172,
          0.967,
          0.214,
          0.326,
          0.547,
          0.442,
          0.662,
          0.12,
          0.589,
          0.323,
          0.137,
          0.828,
          0.694,
          0.418,
          0.437,
          0.116,
          0.403,
          0.255,
          0.415,
          0.599,
          0.609,
          0.489,
          0.279,
          0.548,
          0.595,
          0.702,
          0.655,
          0.422,
          0.219,
          0.632,
          0.142,
          0.25,
          0.381,
          0.502,
          0.667,
          0.598,
          0.684,
          0.134,
          0.336,
          0.492,
          0.635,
          0.798,
          0.422,
          0.463,
          0.707,
          0.678,
          0.457,
          0.276,
          0.12,
          0.0899,
          0.667,
          0.562,
          0.314,
          0.524,
          0.675,
          0.481,
          0.469,
          0.661,
          0.543,
          0.466,
          0.406,
          0.324,
          0.428,
          0.662,
          0.118,
          0.139,
          0.627,
          0.348,
          0.306,
          0.609,
          0.62,
          0.214,
          0.542,
          0.584,
          0.572,
          0.513,
          0.563,
          0.387,
          0.494,
          0.0348,
          0.468,
          0.551,
          0.12,
          0.968,
          0.942,
          0.497,
          0.172,
          0.694,
          0.35,
          0.255,
          0.547,
          0.442,
          0.675,
          0.662,
          0.326,
          0.502,
          0.422,
          0.814,
          0.555,
          0.609,
          0.273,
          0.323,
          0.828,
          0.758,
          0.705,
          0.624,
          0.799,
          0.426,
          0.197,
          0.437,
          0.519,
          0.967,
          0.403,
          0.489,
          0.548,
          0.595,
          0.702,
          0.655,
          0.422,
          0.219,
          0.632,
          0.134,
          0.142,
          0.598,
          0.667,
          0.684,
          0.492,
          0.502,
          0.381,
          0.336,
          0.422,
          0.635,
          0.798,
          0.635,
          0.707,
          0.463,
          0.381,
          0.219,
          0.358,
          0.678,
          0.276,
          0.457,
          0.481,
          0.667,
          0.12,
          0.139,
          0.524,
          0.0899,
          0.306,
          0.466,
          0.35,
          0.675,
          0.214,
          0.543,
          0.428,
          0.469,
          0.661,
          0.324,
          0.562,
          0.348,
          0.609,
          0.694,
          0.627,
          0.314,
          0.406,
          0.118,
          0.494,
          0.942,
          0.387,
          0.662,
          0.62,
          0.603,
          0.12,
          0.468,
          0.662,
          0.422,
          0.563,
          0.117,
          0.25,
          0.0396,
          0.502,
          0.542,
          0.555,
          0.675,
          0.172,
          0.609,
          0.513,
          0.551,
          0.572,
          0.442,
          0.968,
          0.589,
          0.526,
          0.519,
          0.527,
          0.785,
          0.0348,
          0.814,
          0.338,
          0.0626,
          0.828,
          0.497,
          0.415,
          0.437,
          0.468,
          0.703,
          0.624,
          0.752,
          0.595,
          0.702,
          0.632,
          0.655,
          0.422,
          0.219,
          0.134,
          0.598,
          0.492,
          0.142,
          0.667,
          0.381,
          0.502,
          0.684,
          0.336,
          0.635,
          0.219,
          0.422,
          0.798,
          0.635,
          0.463,
          0.481,
          0.381,
          0.457,
          0.358,
          0.678,
          0.276,
          0.562,
          0.524,
          0.707,
          0.667,
          0.12,
          0.139,
          0.466,
          0.306,
          0.675,
          0.609,
          0.661,
          0.543,
          0.214,
          0.428,
          0.35,
          0.324,
          0.469,
          0.348,
          0.406,
          0.694,
          0.551,
          0.627,
          0.609,
          0.422,
          0.494,
          0.12,
          0.314,
          0.118,
          0.442,
          0.285,
          0.563,
          0.387,
          0.603,
          0.62,
          0.502,
          0.338,
          0.662,
          0.497,
          0.513,
          0.942,
          0.172,
          0.828,
          0.117,
          0.542,
          0.968,
          0.814,
          0.555,
          0.572,
          0.25,
          0.0396,
          0.0348,
          0.675,
          0.547,
          0.468,
          0.967,
          0.255,
          0.705,
          0.403,
          0.0899,
          0.437,
          0.526,
          0.527,
          0.326,
          0.427,
          0.415,
          0.589,
          0.595,
          0.702,
          0.134,
          0.632,
          0.655,
          0.219,
          0.422,
          0.381,
          0.598,
          0.142,
          0.502,
          0.492,
          0.667,
          0.684,
          0.635,
          0.381,
          0.422,
          0.336,
          0.798,
          0.463,
          0.635,
          0.481,
          0.457,
          0.678,
          0.219,
          0.306,
          0.667,
          0.358,
          0.707,
          0.562,
          0.422,
          0.526,
          0.276,
          0.675,
          0.551,
          0.609,
          0.214,
          0.524,
          0.348,
          0.12,
          0.428,
          0.694,
          0.139,
          0.661,
          0.543,
          0.155,
          0.12
         ],
         "yaxis": "y"
        }
       ],
       "layout": {
        "autosize": true,
        "legend": {
         "tracegroupgap": 0
        },
        "template": {
         "data": {
          "bar": [
           {
            "error_x": {
             "color": "#2a3f5f"
            },
            "error_y": {
             "color": "#2a3f5f"
            },
            "marker": {
             "line": {
              "color": "#E5ECF6",
              "width": 0.5
             },
             "pattern": {
              "fillmode": "overlay",
              "size": 10,
              "solidity": 0.2
             }
            },
            "type": "bar"
           }
          ],
          "barpolar": [
           {
            "marker": {
             "line": {
              "color": "#E5ECF6",
              "width": 0.5
             },
             "pattern": {
              "fillmode": "overlay",
              "size": 10,
              "solidity": 0.2
             }
            },
            "type": "barpolar"
           }
          ],
          "carpet": [
           {
            "aaxis": {
             "endlinecolor": "#2a3f5f",
             "gridcolor": "white",
             "linecolor": "white",
             "minorgridcolor": "white",
             "startlinecolor": "#2a3f5f"
            },
            "baxis": {
             "endlinecolor": "#2a3f5f",
             "gridcolor": "white",
             "linecolor": "white",
             "minorgridcolor": "white",
             "startlinecolor": "#2a3f5f"
            },
            "type": "carpet"
           }
          ],
          "choropleth": [
           {
            "colorbar": {
             "outlinewidth": 0,
             "ticks": ""
            },
            "type": "choropleth"
           }
          ],
          "contour": [
           {
            "colorbar": {
             "outlinewidth": 0,
             "ticks": ""
            },
            "colorscale": [
             [
              0,
              "#0d0887"
             ],
             [
              0.1111111111111111,
              "#46039f"
             ],
             [
              0.2222222222222222,
              "#7201a8"
             ],
             [
              0.3333333333333333,
              "#9c179e"
             ],
             [
              0.4444444444444444,
              "#bd3786"
             ],
             [
              0.5555555555555556,
              "#d8576b"
             ],
             [
              0.6666666666666666,
              "#ed7953"
             ],
             [
              0.7777777777777778,
              "#fb9f3a"
             ],
             [
              0.8888888888888888,
              "#fdca26"
             ],
             [
              1,
              "#f0f921"
             ]
            ],
            "type": "contour"
           }
          ],
          "contourcarpet": [
           {
            "colorbar": {
             "outlinewidth": 0,
             "ticks": ""
            },
            "type": "contourcarpet"
           }
          ],
          "heatmap": [
           {
            "colorbar": {
             "outlinewidth": 0,
             "ticks": ""
            },
            "colorscale": [
             [
              0,
              "#0d0887"
             ],
             [
              0.1111111111111111,
              "#46039f"
             ],
             [
              0.2222222222222222,
              "#7201a8"
             ],
             [
              0.3333333333333333,
              "#9c179e"
             ],
             [
              0.4444444444444444,
              "#bd3786"
             ],
             [
              0.5555555555555556,
              "#d8576b"
             ],
             [
              0.6666666666666666,
              "#ed7953"
             ],
             [
              0.7777777777777778,
              "#fb9f3a"
             ],
             [
              0.8888888888888888,
              "#fdca26"
             ],
             [
              1,
              "#f0f921"
             ]
            ],
            "type": "heatmap"
           }
          ],
          "heatmapgl": [
           {
            "colorbar": {
             "outlinewidth": 0,
             "ticks": ""
            },
            "colorscale": [
             [
              0,
              "#0d0887"
             ],
             [
              0.1111111111111111,
              "#46039f"
             ],
             [
              0.2222222222222222,
              "#7201a8"
             ],
             [
              0.3333333333333333,
              "#9c179e"
             ],
             [
              0.4444444444444444,
              "#bd3786"
             ],
             [
              0.5555555555555556,
              "#d8576b"
             ],
             [
              0.6666666666666666,
              "#ed7953"
             ],
             [
              0.7777777777777778,
              "#fb9f3a"
             ],
             [
              0.8888888888888888,
              "#fdca26"
             ],
             [
              1,
              "#f0f921"
             ]
            ],
            "type": "heatmapgl"
           }
          ],
          "histogram": [
           {
            "marker": {
             "pattern": {
              "fillmode": "overlay",
              "size": 10,
              "solidity": 0.2
             }
            },
            "type": "histogram"
           }
          ],
          "histogram2d": [
           {
            "colorbar": {
             "outlinewidth": 0,
             "ticks": ""
            },
            "colorscale": [
             [
              0,
              "#0d0887"
             ],
             [
              0.1111111111111111,
              "#46039f"
             ],
             [
              0.2222222222222222,
              "#7201a8"
             ],
             [
              0.3333333333333333,
              "#9c179e"
             ],
             [
              0.4444444444444444,
              "#bd3786"
             ],
             [
              0.5555555555555556,
              "#d8576b"
             ],
             [
              0.6666666666666666,
              "#ed7953"
             ],
             [
              0.7777777777777778,
              "#fb9f3a"
             ],
             [
              0.8888888888888888,
              "#fdca26"
             ],
             [
              1,
              "#f0f921"
             ]
            ],
            "type": "histogram2d"
           }
          ],
          "histogram2dcontour": [
           {
            "colorbar": {
             "outlinewidth": 0,
             "ticks": ""
            },
            "colorscale": [
             [
              0,
              "#0d0887"
             ],
             [
              0.1111111111111111,
              "#46039f"
             ],
             [
              0.2222222222222222,
              "#7201a8"
             ],
             [
              0.3333333333333333,
              "#9c179e"
             ],
             [
              0.4444444444444444,
              "#bd3786"
             ],
             [
              0.5555555555555556,
              "#d8576b"
             ],
             [
              0.6666666666666666,
              "#ed7953"
             ],
             [
              0.7777777777777778,
              "#fb9f3a"
             ],
             [
              0.8888888888888888,
              "#fdca26"
             ],
             [
              1,
              "#f0f921"
             ]
            ],
            "type": "histogram2dcontour"
           }
          ],
          "mesh3d": [
           {
            "colorbar": {
             "outlinewidth": 0,
             "ticks": ""
            },
            "type": "mesh3d"
           }
          ],
          "parcoords": [
           {
            "line": {
             "colorbar": {
              "outlinewidth": 0,
              "ticks": ""
             }
            },
            "type": "parcoords"
           }
          ],
          "pie": [
           {
            "automargin": true,
            "type": "pie"
           }
          ],
          "scatter": [
           {
            "fillpattern": {
             "fillmode": "overlay",
             "size": 10,
             "solidity": 0.2
            },
            "type": "scatter"
           }
          ],
          "scatter3d": [
           {
            "line": {
             "colorbar": {
              "outlinewidth": 0,
              "ticks": ""
             }
            },
            "marker": {
             "colorbar": {
              "outlinewidth": 0,
              "ticks": ""
             }
            },
            "type": "scatter3d"
           }
          ],
          "scattercarpet": [
           {
            "marker": {
             "colorbar": {
              "outlinewidth": 0,
              "ticks": ""
             }
            },
            "type": "scattercarpet"
           }
          ],
          "scattergeo": [
           {
            "marker": {
             "colorbar": {
              "outlinewidth": 0,
              "ticks": ""
             }
            },
            "type": "scattergeo"
           }
          ],
          "scattergl": [
           {
            "marker": {
             "colorbar": {
              "outlinewidth": 0,
              "ticks": ""
             }
            },
            "type": "scattergl"
           }
          ],
          "scattermapbox": [
           {
            "marker": {
             "colorbar": {
              "outlinewidth": 0,
              "ticks": ""
             }
            },
            "type": "scattermapbox"
           }
          ],
          "scatterpolar": [
           {
            "marker": {
             "colorbar": {
              "outlinewidth": 0,
              "ticks": ""
             }
            },
            "type": "scatterpolar"
           }
          ],
          "scatterpolargl": [
           {
            "marker": {
             "colorbar": {
              "outlinewidth": 0,
              "ticks": ""
             }
            },
            "type": "scatterpolargl"
           }
          ],
          "scatterternary": [
           {
            "marker": {
             "colorbar": {
              "outlinewidth": 0,
              "ticks": ""
             }
            },
            "type": "scatterternary"
           }
          ],
          "surface": [
           {
            "colorbar": {
             "outlinewidth": 0,
             "ticks": ""
            },
            "colorscale": [
             [
              0,
              "#0d0887"
             ],
             [
              0.1111111111111111,
              "#46039f"
             ],
             [
              0.2222222222222222,
              "#7201a8"
             ],
             [
              0.3333333333333333,
              "#9c179e"
             ],
             [
              0.4444444444444444,
              "#bd3786"
             ],
             [
              0.5555555555555556,
              "#d8576b"
             ],
             [
              0.6666666666666666,
              "#ed7953"
             ],
             [
              0.7777777777777778,
              "#fb9f3a"
             ],
             [
              0.8888888888888888,
              "#fdca26"
             ],
             [
              1,
              "#f0f921"
             ]
            ],
            "type": "surface"
           }
          ],
          "table": [
           {
            "cells": {
             "fill": {
              "color": "#EBF0F8"
             },
             "line": {
              "color": "white"
             }
            },
            "header": {
             "fill": {
              "color": "#C8D4E3"
             },
             "line": {
              "color": "white"
             }
            },
            "type": "table"
           }
          ]
         },
         "layout": {
          "annotationdefaults": {
           "arrowcolor": "#2a3f5f",
           "arrowhead": 0,
           "arrowwidth": 1
          },
          "autotypenumbers": "strict",
          "coloraxis": {
           "colorbar": {
            "outlinewidth": 0,
            "ticks": ""
           }
          },
          "colorscale": {
           "diverging": [
            [
             0,
             "#8e0152"
            ],
            [
             0.1,
             "#c51b7d"
            ],
            [
             0.2,
             "#de77ae"
            ],
            [
             0.3,
             "#f1b6da"
            ],
            [
             0.4,
             "#fde0ef"
            ],
            [
             0.5,
             "#f7f7f7"
            ],
            [
             0.6,
             "#e6f5d0"
            ],
            [
             0.7,
             "#b8e186"
            ],
            [
             0.8,
             "#7fbc41"
            ],
            [
             0.9,
             "#4d9221"
            ],
            [
             1,
             "#276419"
            ]
           ],
           "sequential": [
            [
             0,
             "#0d0887"
            ],
            [
             0.1111111111111111,
             "#46039f"
            ],
            [
             0.2222222222222222,
             "#7201a8"
            ],
            [
             0.3333333333333333,
             "#9c179e"
            ],
            [
             0.4444444444444444,
             "#bd3786"
            ],
            [
             0.5555555555555556,
             "#d8576b"
            ],
            [
             0.6666666666666666,
             "#ed7953"
            ],
            [
             0.7777777777777778,
             "#fb9f3a"
            ],
            [
             0.8888888888888888,
             "#fdca26"
            ],
            [
             1,
             "#f0f921"
            ]
           ],
           "sequentialminus": [
            [
             0,
             "#0d0887"
            ],
            [
             0.1111111111111111,
             "#46039f"
            ],
            [
             0.2222222222222222,
             "#7201a8"
            ],
            [
             0.3333333333333333,
             "#9c179e"
            ],
            [
             0.4444444444444444,
             "#bd3786"
            ],
            [
             0.5555555555555556,
             "#d8576b"
            ],
            [
             0.6666666666666666,
             "#ed7953"
            ],
            [
             0.7777777777777778,
             "#fb9f3a"
            ],
            [
             0.8888888888888888,
             "#fdca26"
            ],
            [
             1,
             "#f0f921"
            ]
           ]
          },
          "colorway": [
           "#636efa",
           "#EF553B",
           "#00cc96",
           "#ab63fa",
           "#FFA15A",
           "#19d3f3",
           "#FF6692",
           "#B6E880",
           "#FF97FF",
           "#FECB52"
          ],
          "font": {
           "color": "#2a3f5f"
          },
          "geo": {
           "bgcolor": "white",
           "lakecolor": "white",
           "landcolor": "#E5ECF6",
           "showlakes": true,
           "showland": true,
           "subunitcolor": "white"
          },
          "hoverlabel": {
           "align": "left"
          },
          "hovermode": "closest",
          "mapbox": {
           "style": "light"
          },
          "paper_bgcolor": "white",
          "plot_bgcolor": "#E5ECF6",
          "polar": {
           "angularaxis": {
            "gridcolor": "white",
            "linecolor": "white",
            "ticks": ""
           },
           "bgcolor": "#E5ECF6",
           "radialaxis": {
            "gridcolor": "white",
            "linecolor": "white",
            "ticks": ""
           }
          },
          "scene": {
           "xaxis": {
            "backgroundcolor": "#E5ECF6",
            "gridcolor": "white",
            "gridwidth": 2,
            "linecolor": "white",
            "showbackground": true,
            "ticks": "",
            "zerolinecolor": "white"
           },
           "yaxis": {
            "backgroundcolor": "#E5ECF6",
            "gridcolor": "white",
            "gridwidth": 2,
            "linecolor": "white",
            "showbackground": true,
            "ticks": "",
            "zerolinecolor": "white"
           },
           "zaxis": {
            "backgroundcolor": "#E5ECF6",
            "gridcolor": "white",
            "gridwidth": 2,
            "linecolor": "white",
            "showbackground": true,
            "ticks": "",
            "zerolinecolor": "white"
           }
          },
          "shapedefaults": {
           "line": {
            "color": "#2a3f5f"
           }
          },
          "ternary": {
           "aaxis": {
            "gridcolor": "white",
            "linecolor": "white",
            "ticks": ""
           },
           "baxis": {
            "gridcolor": "white",
            "linecolor": "white",
            "ticks": ""
           },
           "bgcolor": "#E5ECF6",
           "caxis": {
            "gridcolor": "white",
            "linecolor": "white",
            "ticks": ""
           }
          },
          "title": {
           "x": 0.05
          },
          "xaxis": {
           "automargin": true,
           "gridcolor": "white",
           "linecolor": "white",
           "ticks": "",
           "title": {
            "standoff": 15
           },
           "zerolinecolor": "white",
           "zerolinewidth": 2
          },
          "yaxis": {
           "automargin": true,
           "gridcolor": "white",
           "linecolor": "white",
           "ticks": "",
           "title": {
            "standoff": 15
           },
           "zerolinecolor": "white",
           "zerolinewidth": 2
          }
         }
        },
        "title": {
         "text": "Scatter Plot of Valence vs. Week of the Year"
        },
        "xaxis": {
         "anchor": "y",
         "autorange": true,
         "domain": [
          0,
          1
         ],
         "range": [
          "2023-01-01 03:41:22.4155",
          "2023-03-28 20:18:37.5845"
         ],
         "title": {
          "text": "Week of the Year"
         },
         "type": "date"
        },
        "yaxis": {
         "anchor": "x",
         "autorange": true,
         "domain": [
          0,
          1
         ],
         "range": [
          -0.06039264214046823,
          1.0631926421404683
         ],
         "title": {
          "text": "Valence"
         },
         "type": "linear"
        }
       }
      },
      "image/png": "[encoded data removed]",
      "text/html": [
       "<div>                            <div id=\"19cab058-0cca-4e68-88b2-eba1585e9d4f\" class=\"plotly-graph-div\" style=\"height:525px; width:100%;\"></div>            <script type=\"text/javascript\">                require([\"plotly\"], function(Plotly) {                    window.PLOTLYENV=window.PLOTLYENV || {};                                    if (document.getElementById(\"19cab058-0cca-4e68-88b2-eba1585e9d4f\")) {                    Plotly.newPlot(                        \"19cab058-0cca-4e68-88b2-eba1585e9d4f\",                        [{\"hovertemplate\":\"week=%{x}\\u003cbr\\u003evalence=%{y}\\u003cextra\\u003e\\u003c\\u002fextra\\u003e\",\"legendgroup\":\"\",\"marker\":{\"color\":\"#636efa\",\"symbol\":\"circle\",\"opacity\":0.6,\"size\":10},\"mode\":\"markers\",\"name\":\"\",\"showlegend\":false,\"x\":[\"2023-01-06\",\"2023-01-06\",\"2023-01-06\",\"2023-01-06\",\"2023-01-06\",\"2023-01-06\",\"2023-01-06\",\"2023-01-06\",\"2023-01-06\",\"2023-01-06\",\"2023-01-06\",\"2023-01-06\",\"2023-01-06\",\"2023-01-06\",\"2023-01-06\",\"2023-01-06\",\"2023-01-06\",\"2023-01-06\",\"2023-01-06\",\"2023-01-06\",\"2023-01-06\",\"2023-01-06\",\"2023-01-06\",\"2023-01-06\",\"2023-01-06\",\"2023-01-06\",\"2023-01-06\",\"2023-01-06\",\"2023-01-06\",\"2023-01-06\",\"2023-01-06\",\"2023-01-06\",\"2023-01-06\",\"2023-01-06\",\"2023-01-06\",\"2023-01-06\",\"2023-01-06\",\"2023-01-06\",\"2023-01-06\",\"2023-01-06\",\"2023-01-06\",\"2023-01-06\",\"2023-01-06\",\"2023-01-06\",\"2023-01-06\",\"2023-01-06\",\"2023-01-06\",\"2023-01-06\",\"2023-01-06\",\"2023-01-06\",\"2023-01-06\",\"2023-01-06\",\"2023-01-06\",\"2023-01-06\",\"2023-01-06\",\"2023-01-06\",\"2023-01-06\",\"2023-01-06\",\"2023-01-06\",\"2023-01-06\",\"2023-01-06\",\"2023-01-06\",\"2023-01-06\",\"2023-01-06\",\"2023-01-06\",\"2023-01-06\",\"2023-01-06\",\"2023-01-06\",\"2023-01-06\",\"2023-01-06\",\"2023-01-06\",\"2023-01-06\",\"2023-01-06\",\"2023-01-06\",\"2023-01-06\",\"2023-01-06\",\"2023-01-06\",\"2023-01-06\",\"2023-01-06\",\"2023-01-06\",\"2023-01-06\",\"2023-01-06\",\"2023-01-06\",\"2023-01-06\",\"2023-01-06\",\"2023-01-06\",\"2023-01-06\",\"2023-01-06\",\"2023-01-06\",\"2023-01-06\",\"2023-01-06\",\"2023-01-06\",\"2023-01-06\",\"2023-01-06\",\"2023-01-13\",\"2023-01-13\",\"2023-01-13\",\"2023-01-13\",\"2023-01-13\",\"2023-01-13\",\"2023-01-13\",\"2023-01-13\",\"2023-01-13\",\"2023-01-13\",\"2023-01-13\",\"2023-01-13\",\"2023-01-13\",\"2023-01-13\",\"2023-01-13\",\"2023-01-13\",\"2023-01-13\",\"2023-01-13\",\"2023-01-13\",\"2023-01-13\",\"2023-01-13\",\"2023-01-13\",\"2023-01-13\",\"2023-01-13\",\"2023-01-13\",\"2023-01-13\",\"2023-01-13\",\"2023-01-13\",\"2023-01-13\",\"2023-01-13\",\"2023-01-13\",\"2023-01-13\",\"2023-01-13\",\"2023-01-13\",\"2023-01-13\",\"2023-01-13\",\"2023-01-13\",\"2023-01-13\",\"2023-01-13\",\"2023-01-13\",\"2023-01-13\",\"2023-01-13\",\"2023-01-13\",\"2023-01-13\",\"2023-01-13\",\"2023-01-13\",\"2023-01-13\",\"2023-01-13\",\"2023-01-13\",\"2023-01-13\",\"2023-01-13\",\"2023-01-13\",\"2023-01-13\",\"2023-01-13\",\"2023-01-13\",\"2023-01-13\",\"2023-01-13\",\"2023-01-13\",\"2023-01-13\",\"2023-01-13\",\"2023-01-13\",\"2023-01-13\",\"2023-01-13\",\"2023-01-13\",\"2023-01-13\",\"2023-01-13\",\"2023-01-13\",\"2023-01-13\",\"2023-01-13\",\"2023-01-13\",\"2023-01-13\",\"2023-01-13\",\"2023-01-13\",\"2023-01-13\",\"2023-01-13\",\"2023-01-13\",\"2023-01-13\",\"2023-01-13\",\"2023-01-13\",\"2023-01-13\",\"2023-01-13\",\"2023-01-13\",\"2023-01-13\",\"2023-01-13\",\"2023-01-13\",\"2023-01-13\",\"2023-01-13\",\"2023-01-13\",\"2023-01-13\",\"2023-01-13\",\"2023-01-13\",\"2023-01-13\",\"2023-01-13\",\"2023-01-13\",\"2023-01-20\",\"2023-01-20\",\"2023-01-20\",\"2023-01-20\",\"2023-01-20\",\"2023-01-20\",\"2023-01-20\",\"2023-01-20\",\"2023-01-20\",\"2023-01-20\",\"2023-01-20\",\"2023-01-20\",\"2023-01-20\",\"2023-01-20\",\"2023-01-20\",\"2023-01-20\",\"2023-01-20\",\"2023-01-20\",\"2023-01-20\",\"2023-01-20\",\"2023-01-20\",\"2023-01-20\",\"2023-01-20\",\"2023-01-20\",\"2023-01-20\",\"2023-01-20\",\"2023-01-20\",\"2023-01-20\",\"2023-01-20\",\"2023-01-20\",\"2023-01-20\",\"2023-01-20\",\"2023-01-20\",\"2023-01-20\",\"2023-01-20\",\"2023-01-20\",\"2023-01-20\",\"2023-01-20\",\"2023-01-20\",\"2023-01-20\",\"2023-01-20\",\"2023-01-20\",\"2023-01-20\",\"2023-01-20\",\"2023-01-20\",\"2023-01-20\",\"2023-01-20\",\"2023-01-20\",\"2023-01-20\",\"2023-01-20\",\"2023-01-20\",\"2023-01-20\",\"2023-01-20\",\"2023-01-20\",\"2023-01-20\",\"2023-01-20\",\"2023-01-20\",\"2023-01-20\",\"2023-01-20\",\"2023-01-20\",\"2023-01-20\",\"2023-01-20\",\"2023-01-20\",\"2023-01-20\",\"2023-01-20\",\"2023-01-20\",\"2023-01-20\",\"2023-01-20\",\"2023-01-20\",\"2023-01-20\",\"2023-01-20\",\"2023-01-20\",\"2023-01-20\",\"2023-01-20\",\"2023-01-20\",\"2023-01-20\",\"2023-01-20\",\"2023-01-20\",\"2023-01-20\",\"2023-01-20\",\"2023-01-20\",\"2023-01-20\",\"2023-01-20\",\"2023-01-20\",\"2023-01-20\",\"2023-01-20\",\"2023-01-20\",\"2023-01-20\",\"2023-01-20\",\"2023-01-20\",\"2023-01-20\",\"2023-01-20\",\"2023-01-20\",\"2023-01-27\",\"2023-01-27\",\"2023-01-27\",\"2023-01-27\",\"2023-01-27\",\"2023-01-27\",\"2023-01-27\",\"2023-01-27\",\"2023-01-27\",\"2023-01-27\",\"2023-01-27\",\"2023-01-27\",\"2023-01-27\",\"2023-01-27\",\"2023-01-27\",\"2023-01-27\",\"2023-01-27\",\"2023-01-27\",\"2023-01-27\",\"2023-01-27\",\"2023-01-27\",\"2023-01-27\",\"2023-01-27\",\"2023-01-27\",\"2023-01-27\",\"2023-01-27\",\"2023-01-27\",\"2023-01-27\",\"2023-01-27\",\"2023-01-27\",\"2023-01-27\",\"2023-01-27\",\"2023-01-27\",\"2023-01-27\",\"2023-01-27\",\"2023-01-27\",\"2023-01-27\",\"2023-01-27\",\"2023-01-27\",\"2023-01-27\",\"2023-01-27\",\"2023-01-27\",\"2023-01-27\",\"2023-01-27\",\"2023-01-27\",\"2023-01-27\",\"2023-01-27\",\"2023-01-27\",\"2023-01-27\",\"2023-01-27\",\"2023-01-27\",\"2023-01-27\",\"2023-01-27\",\"2023-01-27\",\"2023-01-27\",\"2023-01-27\",\"2023-01-27\",\"2023-01-27\",\"2023-01-27\",\"2023-01-27\",\"2023-01-27\",\"2023-01-27\",\"2023-01-27\",\"2023-01-27\",\"2023-01-27\",\"2023-01-27\",\"2023-01-27\",\"2023-01-27\",\"2023-01-27\",\"2023-01-27\",\"2023-01-27\",\"2023-01-27\",\"2023-01-27\",\"2023-01-27\",\"2023-01-27\",\"2023-01-27\",\"2023-01-27\",\"2023-01-27\",\"2023-01-27\",\"2023-01-27\",\"2023-01-27\",\"2023-01-27\",\"2023-01-27\",\"2023-01-27\",\"2023-01-27\",\"2023-01-27\",\"2023-01-27\",\"2023-01-27\",\"2023-01-27\",\"2023-01-27\",\"2023-01-27\",\"2023-02-03\",\"2023-02-03\",\"2023-02-03\",\"2023-02-03\",\"2023-02-03\",\"2023-02-03\",\"2023-02-03\",\"2023-02-03\",\"2023-02-03\",\"2023-02-03\",\"2023-02-03\",\"2023-02-03\",\"2023-02-03\",\"2023-02-03\",\"2023-02-03\",\"2023-02-03\",\"2023-02-03\",\"2023-02-03\",\"2023-02-03\",\"2023-02-03\",\"2023-02-03\",\"2023-02-03\",\"2023-02-03\",\"2023-02-03\",\"2023-02-03\",\"2023-02-03\",\"2023-02-03\",\"2023-02-03\",\"2023-02-03\",\"2023-02-03\",\"2023-02-03\",\"2023-02-03\",\"2023-02-03\",\"2023-02-03\",\"2023-02-03\",\"2023-02-03\",\"2023-02-03\",\"2023-02-03\",\"2023-02-03\",\"2023-02-03\",\"2023-02-03\",\"2023-02-03\",\"2023-03-03\",\"2023-02-03\",\"2023-02-03\",\"2023-02-03\",\"2023-02-03\",\"2023-02-03\",\"2023-02-03\",\"2023-02-03\",\"2023-02-03\",\"2023-02-03\",\"2023-02-03\",\"2023-02-03\",\"2023-02-03\",\"2023-02-03\",\"2023-02-03\",\"2023-02-03\",\"2023-02-03\",\"2023-02-03\",\"2023-02-03\",\"2023-02-03\",\"2023-02-03\",\"2023-02-03\",\"2023-02-03\",\"2023-02-03\",\"2023-02-03\",\"2023-02-03\",\"2023-02-03\",\"2023-02-03\",\"2023-02-03\",\"2023-02-03\",\"2023-02-03\",\"2023-02-03\",\"2023-02-03\",\"2023-02-03\",\"2023-02-03\",\"2023-02-03\",\"2023-02-03\",\"2023-02-03\",\"2023-02-03\",\"2023-02-03\",\"2023-02-03\",\"2023-02-03\",\"2023-02-03\",\"2023-02-03\",\"2023-02-03\",\"2023-02-03\",\"2023-02-03\",\"2023-02-03\",\"2023-02-03\",\"2023-02-03\",\"2023-02-03\",\"2023-02-03\",\"2023-02-10\",\"2023-02-10\",\"2023-02-10\",\"2023-02-10\",\"2023-02-10\",\"2023-02-10\",\"2023-02-10\",\"2023-02-10\",\"2023-02-10\",\"2023-02-10\",\"2023-02-10\",\"2023-02-10\",\"2023-02-10\",\"2023-02-10\",\"2023-02-10\",\"2023-02-10\",\"2023-02-10\",\"2023-02-10\",\"2023-02-10\",\"2023-02-10\",\"2023-02-10\",\"2023-02-10\",\"2023-02-10\",\"2023-02-10\",\"2023-02-10\",\"2023-02-10\",\"2023-02-10\",\"2023-02-10\",\"2023-02-10\",\"2023-02-10\",\"2023-02-10\",\"2023-02-10\",\"2023-02-10\",\"2023-02-10\",\"2023-02-10\",\"2023-02-10\",\"2023-02-10\",\"2023-02-10\",\"2023-02-10\",\"2023-02-10\",\"2023-02-10\",\"2023-02-10\",\"2023-02-10\",\"2023-02-10\",\"2023-02-10\",\"2023-02-10\",\"2023-02-10\",\"2023-02-10\",\"2023-02-10\",\"2023-02-10\",\"2023-02-10\",\"2023-02-10\",\"2023-02-10\",\"2023-02-10\",\"2023-02-10\",\"2023-02-10\",\"2023-02-10\",\"2023-02-10\",\"2023-02-10\",\"2023-02-10\",\"2023-02-10\",\"2023-02-10\",\"2023-02-10\",\"2023-02-10\",\"2023-02-10\",\"2023-02-10\",\"2023-02-10\",\"2023-02-10\",\"2023-02-10\",\"2023-02-10\",\"2023-02-10\",\"2023-02-10\",\"2023-02-10\",\"2023-02-10\",\"2023-02-10\",\"2023-02-10\",\"2023-02-10\",\"2023-02-10\",\"2023-02-10\",\"2023-02-10\",\"2023-02-10\",\"2023-02-10\",\"2023-02-10\",\"2023-02-10\",\"2023-02-10\",\"2023-02-10\",\"2023-02-10\",\"2023-02-10\",\"2023-02-10\",\"2023-02-10\",\"2023-02-10\",\"2023-02-10\",\"2023-02-10\",\"2023-02-17\",\"2023-02-17\",\"2023-02-17\",\"2023-02-17\",\"2023-02-17\",\"2023-02-17\",\"2023-02-17\",\"2023-02-17\",\"2023-02-17\",\"2023-02-17\",\"2023-02-17\",\"2023-02-17\",\"2023-02-17\",\"2023-02-17\",\"2023-02-17\",\"2023-02-17\",\"2023-02-17\",\"2023-02-17\",\"2023-02-17\",\"2023-02-17\",\"2023-02-17\",\"2023-02-17\",\"2023-02-17\",\"2023-02-17\",\"2023-02-17\",\"2023-02-17\",\"2023-02-17\",\"2023-02-17\",\"2023-02-17\",\"2023-02-17\",\"2023-02-17\",\"2023-02-17\",\"2023-02-17\",\"2023-02-17\",\"2023-02-17\",\"2023-02-17\",\"2023-02-17\",\"2023-02-17\",\"2023-02-17\",\"2023-02-17\",\"2023-02-17\",\"2023-02-17\",\"2023-02-17\",\"2023-02-17\",\"2023-02-17\",\"2023-02-17\",\"2023-02-17\",\"2023-02-17\",\"2023-02-17\",\"2023-02-17\",\"2023-02-17\",\"2023-02-17\",\"2023-02-17\",\"2023-02-17\",\"2023-02-17\",\"2023-02-17\",\"2023-02-17\",\"2023-02-17\",\"2023-02-17\",\"2023-02-17\",\"2023-02-17\",\"2023-02-17\",\"2023-02-17\",\"2023-02-17\",\"2023-02-17\",\"2023-02-17\",\"2023-02-17\",\"2023-02-17\",\"2023-02-17\",\"2023-02-17\",\"2023-02-17\",\"2023-02-17\",\"2023-02-17\",\"2023-02-17\",\"2023-02-17\",\"2023-02-17\",\"2023-02-17\",\"2023-02-17\",\"2023-02-17\",\"2023-02-17\",\"2023-02-17\",\"2023-02-17\",\"2023-02-17\",\"2023-02-17\",\"2023-02-17\",\"2023-02-17\",\"2023-02-17\",\"2023-02-17\",\"2023-02-17\",\"2023-02-17\",\"2023-02-17\",\"2023-02-24\",\"2023-02-24\",\"2023-02-24\",\"2023-02-24\",\"2023-02-24\",\"2023-02-24\",\"2023-02-24\",\"2023-02-24\",\"2023-02-24\",\"2023-02-24\",\"2023-02-24\",\"2023-02-24\",\"2023-02-24\",\"2023-02-24\",\"2023-02-24\",\"2023-02-24\",\"2023-02-24\",\"2023-02-24\",\"2023-02-24\",\"2023-02-24\",\"2023-02-24\",\"2023-02-24\",\"2023-02-24\",\"2023-02-24\",\"2023-02-24\",\"2023-02-24\",\"2023-02-24\",\"2023-02-24\",\"2023-02-24\",\"2023-02-24\",\"2023-02-24\",\"2023-02-24\",\"2023-02-24\",\"2023-02-24\",\"2023-02-24\",\"2023-02-24\",\"2023-02-24\",\"2023-02-24\",\"2023-02-24\",\"2023-02-24\",\"2023-02-24\",\"2023-02-24\",\"2023-02-24\",\"2023-02-24\",\"2023-03-03\",\"2023-02-24\",\"2023-02-24\",\"2023-02-24\",\"2023-02-24\",\"2023-02-24\",\"2023-02-24\",\"2023-02-24\",\"2023-02-24\",\"2023-02-24\",\"2023-02-24\",\"2023-02-24\",\"2023-02-24\",\"2023-02-24\",\"2023-02-24\",\"2023-02-24\",\"2023-02-24\",\"2023-02-24\",\"2023-02-24\",\"2023-02-24\",\"2023-02-24\",\"2023-02-24\",\"2023-02-24\",\"2023-02-24\",\"2023-02-24\",\"2023-02-24\",\"2023-02-24\",\"2023-02-24\",\"2023-02-24\",\"2023-02-24\",\"2023-02-24\",\"2023-02-24\",\"2023-02-24\",\"2023-02-24\",\"2023-02-24\",\"2023-02-24\",\"2023-02-24\",\"2023-02-24\",\"2023-02-24\",\"2023-02-24\",\"2023-02-24\",\"2023-02-24\",\"2023-02-24\",\"2023-02-24\",\"2023-02-24\",\"2023-02-24\",\"2023-02-24\",\"2023-02-24\",\"2023-03-03\",\"2023-03-03\",\"2023-03-03\",\"2023-03-03\",\"2023-03-03\",\"2023-03-03\",\"2023-03-03\",\"2023-03-03\",\"2023-03-03\",\"2023-03-03\",\"2023-03-03\",\"2023-03-03\",\"2023-03-03\",\"2023-03-03\",\"2023-03-03\",\"2023-03-03\",\"2023-03-03\",\"2023-03-03\",\"2023-03-03\",\"2023-03-03\",\"2023-03-03\",\"2023-03-03\",\"2023-03-03\",\"2023-03-03\",\"2023-03-03\",\"2023-03-03\",\"2023-03-03\",\"2023-03-03\",\"2023-03-03\",\"2023-03-03\",\"2023-03-03\",\"2023-03-03\",\"2023-03-03\",\"2023-03-03\",\"2023-03-03\",\"2023-03-03\",\"2023-03-03\",\"2023-03-03\",\"2023-03-03\",\"2023-03-03\",\"2023-03-03\",\"2023-03-03\",\"2023-03-03\",\"2023-03-03\",\"2023-03-03\",\"2023-03-03\",\"2023-03-03\",\"2023-03-03\",\"2023-03-03\",\"2023-03-03\",\"2023-03-03\",\"2023-03-03\",\"2023-03-03\",\"2023-03-03\",\"2023-03-03\",\"2023-03-03\",\"2023-03-03\",\"2023-03-03\",\"2023-03-03\",\"2023-03-03\",\"2023-03-03\",\"2023-03-03\",\"2023-03-03\",\"2023-03-03\",\"2023-03-03\",\"2023-03-03\",\"2023-03-03\",\"2023-03-03\",\"2023-03-03\",\"2023-03-03\",\"2023-03-03\",\"2023-03-03\",\"2023-03-03\",\"2023-03-03\",\"2023-03-03\",\"2023-03-03\",\"2023-03-03\",\"2023-03-03\",\"2023-03-03\",\"2023-03-03\",\"2023-03-03\",\"2023-03-03\",\"2023-03-03\",\"2023-03-03\",\"2023-03-03\",\"2023-03-03\",\"2023-03-03\",\"2023-03-03\",\"2023-03-03\",\"2023-03-03\",\"2023-03-03\",\"2023-03-10\",\"2023-03-10\",\"2023-03-10\",\"2023-03-10\",\"2023-03-10\",\"2023-03-10\",\"2023-03-10\",\"2023-03-10\",\"2023-03-10\",\"2023-03-10\",\"2023-03-10\",\"2023-03-10\",\"2023-03-10\",\"2023-03-10\",\"2023-03-10\",\"2023-03-10\",\"2023-03-10\",\"2023-03-10\",\"2023-03-10\",\"2023-03-10\",\"2023-03-10\",\"2023-03-10\",\"2023-03-10\",\"2023-03-10\",\"2023-03-10\",\"2023-03-10\",\"2023-03-10\",\"2023-03-10\",\"2023-03-10\",\"2023-03-10\",\"2023-03-10\",\"2023-03-10\",\"2023-03-10\",\"2023-03-10\",\"2023-03-10\",\"2023-03-10\",\"2023-03-10\",\"2023-03-10\",\"2023-03-10\",\"2023-03-10\",\"2023-03-10\",\"2023-03-10\",\"2023-03-10\",\"2023-03-10\",\"2023-03-10\",\"2023-03-10\",\"2023-03-10\",\"2023-03-10\",\"2023-03-10\",\"2023-03-10\",\"2023-03-10\",\"2023-03-10\",\"2023-03-10\",\"2023-03-10\",\"2023-03-10\",\"2023-03-10\",\"2023-03-10\",\"2023-03-10\",\"2023-03-10\",\"2023-03-10\",\"2023-03-10\",\"2023-03-10\",\"2023-03-10\",\"2023-03-10\",\"2023-03-10\",\"2023-03-10\",\"2023-03-10\",\"2023-03-10\",\"2023-03-10\",\"2023-03-10\",\"2023-03-10\",\"2023-03-10\",\"2023-03-10\",\"2023-03-10\",\"2023-03-10\",\"2023-03-10\",\"2023-03-10\",\"2023-03-10\",\"2023-03-10\",\"2023-03-10\",\"2023-03-10\",\"2023-03-10\",\"2023-03-10\",\"2023-03-10\",\"2023-03-10\",\"2023-03-10\",\"2023-03-10\",\"2023-03-10\",\"2023-03-10\",\"2023-03-10\",\"2023-03-10\",\"2023-03-10\",\"2023-03-10\",\"2023-03-17\",\"2023-03-17\",\"2023-03-17\",\"2023-03-17\",\"2023-03-17\",\"2023-03-17\",\"2023-03-17\",\"2023-03-17\",\"2023-03-17\",\"2023-03-17\",\"2023-03-17\",\"2023-03-17\",\"2023-03-17\",\"2023-03-17\",\"2023-03-17\",\"2023-03-17\",\"2023-03-17\",\"2023-03-17\",\"2023-03-17\",\"2023-03-17\",\"2023-03-17\",\"2023-03-17\",\"2023-03-17\",\"2023-03-17\",\"2023-03-17\",\"2023-03-17\",\"2023-03-17\",\"2023-03-17\",\"2023-03-17\",\"2023-03-17\",\"2023-03-17\",\"2023-03-17\",\"2023-03-17\",\"2023-03-17\",\"2023-03-17\",\"2023-03-17\",\"2023-03-17\",\"2023-03-17\",\"2023-03-17\",\"2023-03-17\",\"2023-03-17\",\"2023-03-17\",\"2023-03-17\",\"2023-03-17\",\"2023-03-17\",\"2023-03-17\",\"2023-03-17\",\"2023-03-17\",\"2023-03-17\",\"2023-03-17\",\"2023-03-17\",\"2023-03-17\",\"2023-03-17\",\"2023-03-17\",\"2023-03-17\",\"2023-03-17\",\"2023-03-17\",\"2023-03-17\",\"2023-03-17\",\"2023-03-17\",\"2023-03-17\",\"2023-03-17\",\"2023-03-17\",\"2023-03-17\",\"2023-03-17\",\"2023-03-17\",\"2023-03-17\",\"2023-03-17\",\"2023-03-17\",\"2023-03-17\",\"2023-03-17\",\"2023-03-17\",\"2023-03-17\",\"2023-03-17\",\"2023-03-17\",\"2023-03-17\",\"2023-03-17\",\"2023-03-17\",\"2023-03-17\",\"2023-03-17\",\"2023-03-17\",\"2023-03-17\",\"2023-03-17\",\"2023-03-17\",\"2023-03-17\",\"2023-03-17\",\"2023-03-17\",\"2023-03-17\",\"2023-03-17\",\"2023-03-17\",\"2023-03-17\",\"2023-03-17\",\"2023-03-17\",\"2023-03-24\",\"2023-03-24\",\"2023-03-24\",\"2023-03-24\",\"2023-03-24\",\"2023-03-24\",\"2023-03-24\",\"2023-03-24\",\"2023-03-24\",\"2023-03-24\",\"2023-03-24\",\"2023-03-24\",\"2023-03-24\",\"2023-03-24\",\"2023-03-24\",\"2023-03-24\",\"2023-03-24\",\"2023-03-24\",\"2023-03-24\",\"2023-03-24\",\"2023-03-24\",\"2023-03-24\",\"2023-03-24\",\"2023-03-24\",\"2023-03-24\",\"2023-03-24\",\"2023-03-24\",\"2023-03-24\",\"2023-03-24\",\"2023-03-24\",\"2023-03-24\",\"2023-03-24\",\"2023-03-24\",\"2023-03-24\",\"2023-03-24\",\"2023-03-24\",\"2023-03-24\",\"2023-03-24\",\"2023-03-24\",\"2023-03-24\",\"2023-03-24\",\"2023-03-24\",\"2023-03-24\",\"2023-03-24\",\"2023-03-24\",\"2023-03-24\",\"2023-03-24\"],\"xaxis\":\"x\",\"y\":[0.422,0.655,0.381,0.314,0.324,0.798,0.118,0.502,0.684,0.667,0.635,0.598,0.336,0.219,0.702,0.492,0.432,0.358,0.463,0.469,0.62,0.555,0.468,0.0899,0.758,0.463,0.348,0.707,0.609,0.395,0.12,0.428,0.276,0.543,0.678,0.386,0.814,0.387,0.238,0.662,0.12,0.118,0.442,0.403,0.661,0.519,0.134,0.326,0.836,0.136,0.42,0.406,0.694,0.466,0.785,0.513,0.947,0.255,0.622,0.422,0.427,0.627,0.907,0.963,0.374,0.968,0.131,0.338,0.228,0.502,0.64,0.422,0.139,0.675,0.572,0.828,0.503,0.96,0.605,0.89,0.649,0.702,0.314,0.254,0.967,0.788,0.599,0.684,0.423,0.187,0.437,0.662,0.429,0.897,0.422,0.655,0.381,0.632,0.324,0.798,0.314,0.502,0.598,0.684,0.635,0.667,0.702,0.118,0.219,0.336,0.555,0.348,0.0899,0.492,0.463,0.468,0.463,0.469,0.118,0.12,0.358,0.678,0.758,0.62,0.707,0.572,0.422,0.395,0.543,0.432,0.423,0.276,0.12,0.387,0.238,0.814,0.661,0.386,0.662,0.134,0.428,0.403,0.513,0.627,0.785,0.466,0.136,0.519,0.326,0.947,0.422,0.609,0.828,0.406,0.836,0.442,0.675,0.228,0.942,0.314,0.503,0.897,0.968,0.254,0.694,0.139,0.255,0.374,0.599,0.254,0.427,0.907,0.605,0.753,0.484,0.351,0.429,0.338,0.579,0.774,0.502,0.562,0.415,0.967,0.482,0.598,0.438,0.231,0.632,0.422,0.655,0.381,0.798,0.324,0.598,0.219,0.502,0.314,0.667,0.635,0.684,0.702,0.336,0.118,0.463,0.463,0.348,0.0899,0.555,0.468,0.422,0.492,0.678,0.572,0.469,0.358,0.395,0.707,0.276,0.62,0.12,0.758,0.12,0.814,0.118,0.134,0.543,0.519,0.609,0.662,0.661,0.947,0.675,0.428,0.238,0.466,0.524,0.403,0.627,0.406,0.326,0.432,0.255,0.442,0.513,0.494,0.427,0.387,0.968,0.61,0.422,0.785,0.694,0.139,0.386,0.942,0.967,0.828,0.547,0.788,0.502,0.338,0.239,0.584,0.429,0.605,0.314,0.562,0.437,0.703,0.418,0.254,0.719,0.753,0.598,0.542,0.836,0.534,0.579,0.374,0.117,0.632,0.422,0.655,0.381,0.798,0.324,0.635,0.502,0.219,0.598,0.684,0.314,0.702,0.667,0.118,0.336,0.348,0.463,0.0899,0.555,0.463,0.492,0.468,0.678,0.469,0.422,0.358,0.572,0.276,0.707,0.62,0.12,0.494,0.395,0.758,0.406,0.12,0.118,0.543,0.326,0.466,0.403,0.814,0.662,0.134,0.609,0.238,0.661,0.428,0.524,0.519,0.675,0.627,0.432,0.338,0.255,0.947,0.387,0.513,0.422,0.785,0.139,0.427,0.694,0.386,0.828,0.942,0.662,0.605,0.774,0.562,0.442,0.547,0.502,0.584,0.61,0.598,0.542,0.228,0.351,0.418,0.429,0.603,0.967,0.374,0.368,0.703,0.788,0.314,0.534,0.599,0.632,0.422,0.142,0.655,0.381,0.798,0.324,0.219,0.598,0.502,0.702,0.635,0.684,0.667,0.492,0.314,0.463,0.555,0.422,0.336,0.0899,0.118,0.463,0.348,0.468,0.678,0.469,0.276,0.572,0.524,0.707,0.134,0.494,0.12,0.814,0.62,0.326,0.358,0.406,0.238,0.758,0.694,0.635,0.12,0.609,0.662,0.543,0.661,0.947,0.675,0.428,0.403,0.519,0.627,0.466,0.562,0.422,0.0426,0.228,0.432,0.387,0.255,0.118,0.502,0.513,0.442,0.365,0.828,0.967,0.139,0.395,0.942,0.386,0.542,0.595,0.788,0.785,0.239,0.968,0.774,0.605,0.836,0.61,0.48,0.719,0.0626,0.285,0.662,0.437,0.198,0.534,0.547,0.427,0.429,0.595,0.632,0.422,0.655,0.702,0.381,0.219,0.798,0.598,0.635,0.492,0.684,0.502,0.667,0.142,0.336,0.314,0.422,0.348,0.463,0.678,0.463,0.555,0.276,0.481,0.358,0.468,0.118,0.572,0.524,0.675,0.469,0.707,0.12,0.0899,0.326,0.494,0.62,0.12,0.814,0.406,0.543,0.466,0.238,0.428,0.324,0.609,0.758,0.661,0.627,0.139,0.662,0.947,0.562,0.387,0.403,0.513,0.432,0.502,0.422,0.667,0.519,0.694,0.968,0.785,0.386,0.334,0.702,0.563,0.31,0.942,0.553,0.967,0.418,0.605,0.489,0.542,0.788,0.239,0.255,0.774,0.442,0.61,0.136,0.589,0.306,0.719,0.285,0.48,0.547,0.644,0.662,0.437,0.595,0.632,0.422,0.702,0.655,0.219,0.381,0.142,0.598,0.667,0.502,0.336,0.492,0.798,0.422,0.684,0.635,0.635,0.0899,0.707,0.463,0.678,0.481,0.314,0.358,0.276,0.12,0.118,0.675,0.457,0.463,0.403,0.422,0.469,0.12,0.543,0.524,0.348,0.562,0.324,0.466,0.428,0.214,0.387,0.62,0.661,0.139,0.627,0.814,0.662,0.494,0.513,0.758,0.555,0.406,0.306,0.542,0.468,0.947,0.609,0.942,0.31,0.667,0.255,0.395,0.662,0.968,0.563,0.432,0.326,0.323,0.605,0.502,0.828,0.415,0.117,0.547,0.489,0.785,0.116,0.48,0.519,0.555,0.442,0.548,0.694,0.61,0.0348,0.703,0.599,0.393,0.595,0.702,0.422,0.632,0.655,0.219,0.142,0.381,0.667,0.598,0.502,0.336,0.635,0.492,0.684,0.422,0.798,0.0899,0.635,0.707,0.678,0.463,0.358,0.276,0.134,0.457,0.12,0.422,0.562,0.675,0.524,0.481,0.463,0.314,0.118,0.469,0.543,0.551,0.466,0.139,0.494,0.324,0.428,0.662,0.358,0.627,0.406,0.661,0.62,0.387,0.542,0.306,0.348,0.609,0.942,0.555,0.519,0.452,0.513,0.814,0.468,0.667,0.584,0.572,0.758,0.502,0.968,0.0348,0.172,0.967,0.214,0.326,0.547,0.442,0.662,0.12,0.589,0.323,0.137,0.828,0.694,0.418,0.437,0.116,0.403,0.255,0.415,0.599,0.609,0.489,0.279,0.548,0.595,0.702,0.655,0.422,0.219,0.632,0.142,0.25,0.381,0.502,0.667,0.598,0.684,0.134,0.336,0.492,0.635,0.798,0.422,0.463,0.707,0.678,0.457,0.276,0.12,0.0899,0.667,0.562,0.314,0.524,0.675,0.481,0.469,0.661,0.543,0.466,0.406,0.324,0.428,0.662,0.118,0.139,0.627,0.348,0.306,0.609,0.62,0.214,0.542,0.584,0.572,0.513,0.563,0.387,0.494,0.0348,0.468,0.551,0.12,0.968,0.942,0.497,0.172,0.694,0.35,0.255,0.547,0.442,0.675,0.662,0.326,0.502,0.422,0.814,0.555,0.609,0.273,0.323,0.828,0.758,0.705,0.624,0.799,0.426,0.197,0.437,0.519,0.967,0.403,0.489,0.548,0.595,0.702,0.655,0.422,0.219,0.632,0.134,0.142,0.598,0.667,0.684,0.492,0.502,0.381,0.336,0.422,0.635,0.798,0.635,0.707,0.463,0.381,0.219,0.358,0.678,0.276,0.457,0.481,0.667,0.12,0.139,0.524,0.0899,0.306,0.466,0.35,0.675,0.214,0.543,0.428,0.469,0.661,0.324,0.562,0.348,0.609,0.694,0.627,0.314,0.406,0.118,0.494,0.942,0.387,0.662,0.62,0.603,0.12,0.468,0.662,0.422,0.563,0.117,0.25,0.0396,0.502,0.542,0.555,0.675,0.172,0.609,0.513,0.551,0.572,0.442,0.968,0.589,0.526,0.519,0.527,0.785,0.0348,0.814,0.338,0.0626,0.828,0.497,0.415,0.437,0.468,0.703,0.624,0.752,0.595,0.702,0.632,0.655,0.422,0.219,0.134,0.598,0.492,0.142,0.667,0.381,0.502,0.684,0.336,0.635,0.219,0.422,0.798,0.635,0.463,0.481,0.381,0.457,0.358,0.678,0.276,0.562,0.524,0.707,0.667,0.12,0.139,0.466,0.306,0.675,0.609,0.661,0.543,0.214,0.428,0.35,0.324,0.469,0.348,0.406,0.694,0.551,0.627,0.609,0.422,0.494,0.12,0.314,0.118,0.442,0.285,0.563,0.387,0.603,0.62,0.502,0.338,0.662,0.497,0.513,0.942,0.172,0.828,0.117,0.542,0.968,0.814,0.555,0.572,0.25,0.0396,0.0348,0.675,0.547,0.468,0.967,0.255,0.705,0.403,0.0899,0.437,0.526,0.527,0.326,0.427,0.415,0.589,0.595,0.702,0.134,0.632,0.655,0.219,0.422,0.381,0.598,0.142,0.502,0.492,0.667,0.684,0.635,0.381,0.422,0.336,0.798,0.463,0.635,0.481,0.457,0.678,0.219,0.306,0.667,0.358,0.707,0.562,0.422,0.526,0.276,0.675,0.551,0.609,0.214,0.524,0.348,0.12,0.428,0.694,0.139,0.661,0.543,0.155,0.12],\"yaxis\":\"y\",\"type\":\"scattergl\"}],                        {\"template\":{\"data\":{\"histogram2dcontour\":[{\"type\":\"histogram2dcontour\",\"colorbar\":{\"outlinewidth\":0,\"ticks\":\"\"},\"colorscale\":[[0.0,\"#0d0887\"],[0.1111111111111111,\"#46039f\"],[0.2222222222222222,\"#7201a8\"],[0.3333333333333333,\"#9c179e\"],[0.4444444444444444,\"#bd3786\"],[0.5555555555555556,\"#d8576b\"],[0.6666666666666666,\"#ed7953\"],[0.7777777777777778,\"#fb9f3a\"],[0.8888888888888888,\"#fdca26\"],[1.0,\"#f0f921\"]]}],\"choropleth\":[{\"type\":\"choropleth\",\"colorbar\":{\"outlinewidth\":0,\"ticks\":\"\"}}],\"histogram2d\":[{\"type\":\"histogram2d\",\"colorbar\":{\"outlinewidth\":0,\"ticks\":\"\"},\"colorscale\":[[0.0,\"#0d0887\"],[0.1111111111111111,\"#46039f\"],[0.2222222222222222,\"#7201a8\"],[0.3333333333333333,\"#9c179e\"],[0.4444444444444444,\"#bd3786\"],[0.5555555555555556,\"#d8576b\"],[0.6666666666666666,\"#ed7953\"],[0.7777777777777778,\"#fb9f3a\"],[0.8888888888888888,\"#fdca26\"],[1.0,\"#f0f921\"]]}],\"heatmap\":[{\"type\":\"heatmap\",\"colorbar\":{\"outlinewidth\":0,\"ticks\":\"\"},\"colorscale\":[[0.0,\"#0d0887\"],[0.1111111111111111,\"#46039f\"],[0.2222222222222222,\"#7201a8\"],[0.3333333333333333,\"#9c179e\"],[0.4444444444444444,\"#bd3786\"],[0.5555555555555556,\"#d8576b\"],[0.6666666666666666,\"#ed7953\"],[0.7777777777777778,\"#fb9f3a\"],[0.8888888888888888,\"#fdca26\"],[1.0,\"#f0f921\"]]}],\"heatmapgl\":[{\"type\":\"heatmapgl\",\"colorbar\":{\"outlinewidth\":0,\"ticks\":\"\"},\"colorscale\":[[0.0,\"#0d0887\"],[0.1111111111111111,\"#46039f\"],[0.2222222222222222,\"#7201a8\"],[0.3333333333333333,\"#9c179e\"],[0.4444444444444444,\"#bd3786\"],[0.5555555555555556,\"#d8576b\"],[0.6666666666666666,\"#ed7953\"],[0.7777777777777778,\"#fb9f3a\"],[0.8888888888888888,\"#fdca26\"],[1.0,\"#f0f921\"]]}],\"contourcarpet\":[{\"type\":\"contourcarpet\",\"colorbar\":{\"outlinewidth\":0,\"ticks\":\"\"}}],\"contour\":[{\"type\":\"contour\",\"colorbar\":{\"outlinewidth\":0,\"ticks\":\"\"},\"colorscale\":[[0.0,\"#0d0887\"],[0.1111111111111111,\"#46039f\"],[0.2222222222222222,\"#7201a8\"],[0.3333333333333333,\"#9c179e\"],[0.4444444444444444,\"#bd3786\"],[0.5555555555555556,\"#d8576b\"],[0.6666666666666666,\"#ed7953\"],[0.7777777777777778,\"#fb9f3a\"],[0.8888888888888888,\"#fdca26\"],[1.0,\"#f0f921\"]]}],\"surface\":[{\"type\":\"surface\",\"colorbar\":{\"outlinewidth\":0,\"ticks\":\"\"},\"colorscale\":[[0.0,\"#0d0887\"],[0.1111111111111111,\"#46039f\"],[0.2222222222222222,\"#7201a8\"],[0.3333333333333333,\"#9c179e\"],[0.4444444444444444,\"#bd3786\"],[0.5555555555555556,\"#d8576b\"],[0.6666666666666666,\"#ed7953\"],[0.7777777777777778,\"#fb9f3a\"],[0.8888888888888888,\"#fdca26\"],[1.0,\"#f0f921\"]]}],\"mesh3d\":[{\"type\":\"mesh3d\",\"colorbar\":{\"outlinewidth\":0,\"ticks\":\"\"}}],\"scatter\":[{\"fillpattern\":{\"fillmode\":\"overlay\",\"size\":10,\"solidity\":0.2},\"type\":\"scatter\"}],\"parcoords\":[{\"type\":\"parcoords\",\"line\":{\"colorbar\":{\"outlinewidth\":0,\"ticks\":\"\"}}}],\"scatterpolargl\":[{\"type\":\"scatterpolargl\",\"marker\":{\"colorbar\":{\"outlinewidth\":0,\"ticks\":\"\"}}}],\"bar\":[{\"error_x\":{\"color\":\"#2a3f5f\"},\"error_y\":{\"color\":\"#2a3f5f\"},\"marker\":{\"line\":{\"color\":\"#E5ECF6\",\"width\":0.5},\"pattern\":{\"fillmode\":\"overlay\",\"size\":10,\"solidity\":0.2}},\"type\":\"bar\"}],\"scattergeo\":[{\"type\":\"scattergeo\",\"marker\":{\"colorbar\":{\"outlinewidth\":0,\"ticks\":\"\"}}}],\"scatterpolar\":[{\"type\":\"scatterpolar\",\"marker\":{\"colorbar\":{\"outlinewidth\":0,\"ticks\":\"\"}}}],\"histogram\":[{\"marker\":{\"pattern\":{\"fillmode\":\"overlay\",\"size\":10,\"solidity\":0.2}},\"type\":\"histogram\"}],\"scattergl\":[{\"type\":\"scattergl\",\"marker\":{\"colorbar\":{\"outlinewidth\":0,\"ticks\":\"\"}}}],\"scatter3d\":[{\"type\":\"scatter3d\",\"line\":{\"colorbar\":{\"outlinewidth\":0,\"ticks\":\"\"}},\"marker\":{\"colorbar\":{\"outlinewidth\":0,\"ticks\":\"\"}}}],\"scattermapbox\":[{\"type\":\"scattermapbox\",\"marker\":{\"colorbar\":{\"outlinewidth\":0,\"ticks\":\"\"}}}],\"scatterternary\":[{\"type\":\"scatterternary\",\"marker\":{\"colorbar\":{\"outlinewidth\":0,\"ticks\":\"\"}}}],\"scattercarpet\":[{\"type\":\"scattercarpet\",\"marker\":{\"colorbar\":{\"outlinewidth\":0,\"ticks\":\"\"}}}],\"carpet\":[{\"aaxis\":{\"endlinecolor\":\"#2a3f5f\",\"gridcolor\":\"white\",\"linecolor\":\"white\",\"minorgridcolor\":\"white\",\"startlinecolor\":\"#2a3f5f\"},\"baxis\":{\"endlinecolor\":\"#2a3f5f\",\"gridcolor\":\"white\",\"linecolor\":\"white\",\"minorgridcolor\":\"white\",\"startlinecolor\":\"#2a3f5f\"},\"type\":\"carpet\"}],\"table\":[{\"cells\":{\"fill\":{\"color\":\"#EBF0F8\"},\"line\":{\"color\":\"white\"}},\"header\":{\"fill\":{\"color\":\"#C8D4E3\"},\"line\":{\"color\":\"white\"}},\"type\":\"table\"}],\"barpolar\":[{\"marker\":{\"line\":{\"color\":\"#E5ECF6\",\"width\":0.5},\"pattern\":{\"fillmode\":\"overlay\",\"size\":10,\"solidity\":0.2}},\"type\":\"barpolar\"}],\"pie\":[{\"automargin\":true,\"type\":\"pie\"}]},\"layout\":{\"autotypenumbers\":\"strict\",\"colorway\":[\"#636efa\",\"#EF553B\",\"#00cc96\",\"#ab63fa\",\"#FFA15A\",\"#19d3f3\",\"#FF6692\",\"#B6E880\",\"#FF97FF\",\"#FECB52\"],\"font\":{\"color\":\"#2a3f5f\"},\"hovermode\":\"closest\",\"hoverlabel\":{\"align\":\"left\"},\"paper_bgcolor\":\"white\",\"plot_bgcolor\":\"#E5ECF6\",\"polar\":{\"bgcolor\":\"#E5ECF6\",\"angularaxis\":{\"gridcolor\":\"white\",\"linecolor\":\"white\",\"ticks\":\"\"},\"radialaxis\":{\"gridcolor\":\"white\",\"linecolor\":\"white\",\"ticks\":\"\"}},\"ternary\":{\"bgcolor\":\"#E5ECF6\",\"aaxis\":{\"gridcolor\":\"white\",\"linecolor\":\"white\",\"ticks\":\"\"},\"baxis\":{\"gridcolor\":\"white\",\"linecolor\":\"white\",\"ticks\":\"\"},\"caxis\":{\"gridcolor\":\"white\",\"linecolor\":\"white\",\"ticks\":\"\"}},\"coloraxis\":{\"colorbar\":{\"outlinewidth\":0,\"ticks\":\"\"}},\"colorscale\":{\"sequential\":[[0.0,\"#0d0887\"],[0.1111111111111111,\"#46039f\"],[0.2222222222222222,\"#7201a8\"],[0.3333333333333333,\"#9c179e\"],[0.4444444444444444,\"#bd3786\"],[0.5555555555555556,\"#d8576b\"],[0.6666666666666666,\"#ed7953\"],[0.7777777777777778,\"#fb9f3a\"],[0.8888888888888888,\"#fdca26\"],[1.0,\"#f0f921\"]],\"sequentialminus\":[[0.0,\"#0d0887\"],[0.1111111111111111,\"#46039f\"],[0.2222222222222222,\"#7201a8\"],[0.3333333333333333,\"#9c179e\"],[0.4444444444444444,\"#bd3786\"],[0.5555555555555556,\"#d8576b\"],[0.6666666666666666,\"#ed7953\"],[0.7777777777777778,\"#fb9f3a\"],[0.8888888888888888,\"#fdca26\"],[1.0,\"#f0f921\"]],\"diverging\":[[0,\"#8e0152\"],[0.1,\"#c51b7d\"],[0.2,\"#de77ae\"],[0.3,\"#f1b6da\"],[0.4,\"#fde0ef\"],[0.5,\"#f7f7f7\"],[0.6,\"#e6f5d0\"],[0.7,\"#b8e186\"],[0.8,\"#7fbc41\"],[0.9,\"#4d9221\"],[1,\"#276419\"]]},\"xaxis\":{\"gridcolor\":\"white\",\"linecolor\":\"white\",\"ticks\":\"\",\"title\":{\"standoff\":15},\"zerolinecolor\":\"white\",\"automargin\":true,\"zerolinewidth\":2},\"yaxis\":{\"gridcolor\":\"white\",\"linecolor\":\"white\",\"ticks\":\"\",\"title\":{\"standoff\":15},\"zerolinecolor\":\"white\",\"automargin\":true,\"zerolinewidth\":2},\"scene\":{\"xaxis\":{\"backgroundcolor\":\"#E5ECF6\",\"gridcolor\":\"white\",\"linecolor\":\"white\",\"showbackground\":true,\"ticks\":\"\",\"zerolinecolor\":\"white\",\"gridwidth\":2},\"yaxis\":{\"backgroundcolor\":\"#E5ECF6\",\"gridcolor\":\"white\",\"linecolor\":\"white\",\"showbackground\":true,\"ticks\":\"\",\"zerolinecolor\":\"white\",\"gridwidth\":2},\"zaxis\":{\"backgroundcolor\":\"#E5ECF6\",\"gridcolor\":\"white\",\"linecolor\":\"white\",\"showbackground\":true,\"ticks\":\"\",\"zerolinecolor\":\"white\",\"gridwidth\":2}},\"shapedefaults\":{\"line\":{\"color\":\"#2a3f5f\"}},\"annotationdefaults\":{\"arrowcolor\":\"#2a3f5f\",\"arrowhead\":0,\"arrowwidth\":1},\"geo\":{\"bgcolor\":\"white\",\"landcolor\":\"#E5ECF6\",\"subunitcolor\":\"white\",\"showland\":true,\"showlakes\":true,\"lakecolor\":\"white\"},\"title\":{\"x\":0.05},\"mapbox\":{\"style\":\"light\"}}},\"xaxis\":{\"anchor\":\"y\",\"domain\":[0.0,1.0],\"title\":{\"text\":\"Week of the Year\"}},\"yaxis\":{\"anchor\":\"x\",\"domain\":[0.0,1.0],\"title\":{\"text\":\"Valence\"}},\"legend\":{\"tracegroupgap\":0},\"title\":{\"text\":\"Scatter Plot of Valence vs. Week of the Year\"}},                        {\"responsive\": true}                    ).then(function(){\n",
       "                            \n",
       "var gd = document.getElementById('19cab058-0cca-4e68-88b2-eba1585e9d4f');\n",
       "var x = new MutationObserver(function (mutations, observer) {{\n",
       "        var display = window.getComputedStyle(gd).display;\n",
       "        if (!display || display === 'none') {{\n",
       "            console.log([gd, 'removed!']);\n",
       "            Plotly.purge(gd);\n",
       "            observer.disconnect();\n",
       "        }}\n",
       "}});\n",
       "\n",
       "// Listen for the removal of the full notebook cells\n",
       "var notebookContainer = gd.closest('#notebook-container');\n",
       "if (notebookContainer) {{\n",
       "    x.observe(notebookContainer, {childList: true});\n",
       "}}\n",
       "\n",
       "// Listen for the clearing of the current output cell\n",
       "var outputEl = gd.closest('.output');\n",
       "if (outputEl) {{\n",
       "    x.observe(outputEl, {childList: true});\n",
       "}}\n",
       "\n",
       "                        })                };                });            </script>        </div>"
      ]
     },
     "metadata": {},
     "output_type": "display_data"
    }
   ],
   "source": [
    "# Create a scatter plot without text labels\n",
    "fig = px.scatter(df, x='week', y='valence',\n",
    "                 title='Scatter Plot of Valence vs. Week of the Year')\n",
    "\n",
    "# Customize the appearance\n",
    "fig.update_traces(marker=dict(size=10, opacity=0.6))\n",
    "\n",
    "# Set axis labels\n",
    "fig.update_xaxes(title_text='Week of the Year')\n",
    "fig.update_yaxes(title_text='Valence')\n",
    "\n",
    "# Show the plot\n",
    "fig.show()"
   ]
  },
  {
   "cell_type": "code",
   "execution_count": 37,
   "id": "c2ec7e36-1c18-4469-aec0-446bb0fc0b6e",
   "metadata": {},
   "outputs": [
    {
     "name": "stdout",
     "output_type": "stream",
     "text": [
      "Connected successfully!\n",
      "   id                         song                    artist        week  \\\n",
      "0  46                    Чути гімн                    SKOFKA  2023-01-06   \n",
      "1  47                 Там у тополі       Artem Pivovarov, NK  2023-01-06   \n",
      "2  48                  Щоб не було                 DOROFEEVA  2023-01-06   \n",
      "3  49                 ЗА ДЕНЬГИ ДА                INSTASAMKA  2023-01-06   \n",
      "4  50  Stefania (Kalush Orchestra)  KALUSH, Kalush Orchestra  2023-01-06   \n",
      "\n",
      "   valence                track_id lyrics  \n",
      "0    0.422  4Yzlz45QgjUKZmN2KrK4AP   None  \n",
      "1    0.655  4TP5hCUeQ6QwYzPkTfxG6G   None  \n",
      "2    0.381  7krNeHssTmY3ijTox4OBbD   None  \n",
      "3    0.314  4PGzoH4hL1vORGOTxHdWjB   None  \n",
      "4    0.324  2vHzOWRKYPLu8umRPIFuOq   None  \n"
     ]
    },
    {
     "data": {
      "application/vnd.plotly.v1+json": {
       "config": {
        "plotlyServerURL": "https://plot.ly"
       },
       "data": [
        {
         "hovertemplate": "week=%{x}<br>valence=%{y}<extra></extra>",
         "legendgroup": "",
         "marker": {
          "color": "#636efa",
          "opacity": 0.6,
          "size": 10,
          "symbol": "circle"
         },
         "mode": "markers",
         "name": "",
         "showlegend": false,
         "type": "scattergl",
         "x": [
          "2023-01-06",
          "2023-01-06",
          "2023-01-06",
          "2023-01-06",
          "2023-01-06",
          "2023-01-06",
          "2023-01-06",
          "2023-01-06",
          "2023-01-06",
          "2023-01-06",
          "2023-01-06",
          "2023-01-06",
          "2023-01-06",
          "2023-01-06",
          "2023-01-06",
          "2023-01-06",
          "2023-01-06",
          "2023-01-06",
          "2023-01-06",
          "2023-01-06",
          "2023-01-06",
          "2023-01-06",
          "2023-01-06",
          "2023-01-06",
          "2023-01-06",
          "2023-01-06",
          "2023-01-06",
          "2023-01-06",
          "2023-01-06",
          "2023-01-06",
          "2023-01-06",
          "2023-01-06",
          "2023-01-06",
          "2023-01-06",
          "2023-01-06",
          "2023-01-06",
          "2023-01-06",
          "2023-01-06",
          "2023-01-06",
          "2023-01-06",
          "2023-01-06",
          "2023-01-06",
          "2023-01-06",
          "2023-01-06",
          "2023-01-06",
          "2023-01-06",
          "2023-01-06",
          "2023-01-06",
          "2023-01-06",
          "2023-01-06",
          "2023-01-06",
          "2023-01-06",
          "2023-01-06",
          "2023-01-06",
          "2023-01-06",
          "2023-01-06",
          "2023-01-06",
          "2023-01-06",
          "2023-01-06",
          "2023-01-06",
          "2023-01-06",
          "2023-01-06",
          "2023-01-06",
          "2023-01-06",
          "2023-01-06",
          "2023-01-06",
          "2023-01-06",
          "2023-01-06",
          "2023-01-06",
          "2023-01-06",
          "2023-01-06",
          "2023-01-06",
          "2023-01-06",
          "2023-01-06",
          "2023-01-06",
          "2023-01-06",
          "2023-01-06",
          "2023-01-06",
          "2023-01-06",
          "2023-01-06",
          "2023-01-06",
          "2023-01-06",
          "2023-01-06",
          "2023-01-06",
          "2023-01-06",
          "2023-01-06",
          "2023-01-06",
          "2023-01-06",
          "2023-01-06",
          "2023-01-06",
          "2023-01-06",
          "2023-01-06",
          "2023-01-06",
          "2023-01-06",
          "2023-01-13",
          "2023-01-13",
          "2023-01-13",
          "2023-01-13",
          "2023-01-13",
          "2023-01-13",
          "2023-01-13",
          "2023-01-13",
          "2023-01-13",
          "2023-01-13",
          "2023-01-13",
          "2023-01-13",
          "2023-01-13",
          "2023-01-13",
          "2023-01-13",
          "2023-01-13",
          "2023-01-13",
          "2023-01-13",
          "2023-01-13",
          "2023-01-13",
          "2023-01-13",
          "2023-01-13",
          "2023-01-13",
          "2023-01-13",
          "2023-01-13",
          "2023-01-13",
          "2023-01-13",
          "2023-01-13",
          "2023-01-13",
          "2023-01-13",
          "2023-01-13",
          "2023-01-13",
          "2023-01-13",
          "2023-01-13",
          "2023-01-13",
          "2023-01-13",
          "2023-01-13",
          "2023-01-13",
          "2023-01-13",
          "2023-01-13",
          "2023-01-13",
          "2023-01-13",
          "2023-01-13",
          "2023-01-13",
          "2023-01-13",
          "2023-01-13",
          "2023-01-13",
          "2023-01-13",
          "2023-01-13",
          "2023-01-13",
          "2023-01-13",
          "2023-01-13",
          "2023-01-13",
          "2023-01-13",
          "2023-01-13",
          "2023-01-13",
          "2023-01-13",
          "2023-01-13",
          "2023-01-13",
          "2023-01-13",
          "2023-01-13",
          "2023-01-13",
          "2023-01-13",
          "2023-01-13",
          "2023-01-13",
          "2023-01-13",
          "2023-01-13",
          "2023-01-13",
          "2023-01-13",
          "2023-01-13",
          "2023-01-13",
          "2023-01-13",
          "2023-01-13",
          "2023-01-13",
          "2023-01-13",
          "2023-01-13",
          "2023-01-13",
          "2023-01-13",
          "2023-01-13",
          "2023-01-13",
          "2023-01-13",
          "2023-01-13",
          "2023-01-13",
          "2023-01-13",
          "2023-01-13",
          "2023-01-13",
          "2023-01-13",
          "2023-01-13",
          "2023-01-13",
          "2023-01-13",
          "2023-01-13",
          "2023-01-13",
          "2023-01-13",
          "2023-01-13",
          "2023-01-20",
          "2023-01-20",
          "2023-01-20",
          "2023-01-20",
          "2023-01-20",
          "2023-01-20",
          "2023-01-20",
          "2023-01-20",
          "2023-01-20",
          "2023-01-20",
          "2023-01-20",
          "2023-01-20",
          "2023-01-20",
          "2023-01-20",
          "2023-01-20",
          "2023-01-20",
          "2023-01-20",
          "2023-01-20",
          "2023-01-20",
          "2023-01-20",
          "2023-01-20",
          "2023-01-20",
          "2023-01-20",
          "2023-01-20",
          "2023-01-20",
          "2023-01-20",
          "2023-01-20",
          "2023-01-20",
          "2023-01-20",
          "2023-01-20",
          "2023-01-20",
          "2023-01-20",
          "2023-01-20",
          "2023-01-20",
          "2023-01-20",
          "2023-01-20",
          "2023-01-20",
          "2023-01-20",
          "2023-01-20",
          "2023-01-20",
          "2023-01-20",
          "2023-01-20",
          "2023-01-20",
          "2023-01-20",
          "2023-01-20",
          "2023-01-20",
          "2023-01-20",
          "2023-01-20",
          "2023-01-20",
          "2023-01-20",
          "2023-01-20",
          "2023-01-20",
          "2023-01-20",
          "2023-01-20",
          "2023-01-20",
          "2023-01-20",
          "2023-01-20",
          "2023-01-20",
          "2023-01-20",
          "2023-01-20",
          "2023-01-20",
          "2023-01-20",
          "2023-01-20",
          "2023-01-20",
          "2023-01-20",
          "2023-01-20",
          "2023-01-20",
          "2023-01-20",
          "2023-01-20",
          "2023-01-20",
          "2023-01-20",
          "2023-01-20",
          "2023-01-20",
          "2023-01-20",
          "2023-01-20",
          "2023-01-20",
          "2023-01-20",
          "2023-01-20",
          "2023-01-20",
          "2023-01-20",
          "2023-01-20",
          "2023-01-20",
          "2023-01-20",
          "2023-01-20",
          "2023-01-20",
          "2023-01-20",
          "2023-01-20",
          "2023-01-20",
          "2023-01-20",
          "2023-01-20",
          "2023-01-20",
          "2023-01-20",
          "2023-01-20",
          "2023-01-27",
          "2023-01-27",
          "2023-01-27",
          "2023-01-27",
          "2023-01-27",
          "2023-01-27",
          "2023-01-27",
          "2023-01-27",
          "2023-01-27",
          "2023-01-27",
          "2023-01-27",
          "2023-01-27",
          "2023-01-27",
          "2023-01-27",
          "2023-01-27",
          "2023-01-27",
          "2023-01-27",
          "2023-01-27",
          "2023-01-27",
          "2023-01-27",
          "2023-01-27",
          "2023-01-27",
          "2023-01-27",
          "2023-01-27",
          "2023-01-27",
          "2023-01-27",
          "2023-01-27",
          "2023-01-27",
          "2023-01-27",
          "2023-01-27",
          "2023-01-27",
          "2023-01-27",
          "2023-01-27",
          "2023-01-27",
          "2023-01-27",
          "2023-01-27",
          "2023-01-27",
          "2023-01-27",
          "2023-01-27",
          "2023-01-27",
          "2023-01-27",
          "2023-01-27",
          "2023-01-27",
          "2023-01-27",
          "2023-01-27",
          "2023-01-27",
          "2023-01-27",
          "2023-01-27",
          "2023-01-27",
          "2023-01-27",
          "2023-01-27",
          "2023-01-27",
          "2023-01-27",
          "2023-01-27",
          "2023-01-27",
          "2023-01-27",
          "2023-01-27",
          "2023-01-27",
          "2023-01-27",
          "2023-01-27",
          "2023-01-27",
          "2023-01-27",
          "2023-01-27",
          "2023-01-27",
          "2023-01-27",
          "2023-01-27",
          "2023-01-27",
          "2023-01-27",
          "2023-01-27",
          "2023-01-27",
          "2023-01-27",
          "2023-01-27",
          "2023-01-27",
          "2023-01-27",
          "2023-01-27",
          "2023-01-27",
          "2023-01-27",
          "2023-01-27",
          "2023-01-27",
          "2023-01-27",
          "2023-01-27",
          "2023-01-27",
          "2023-01-27",
          "2023-01-27",
          "2023-01-27",
          "2023-01-27",
          "2023-01-27",
          "2023-01-27",
          "2023-01-27",
          "2023-01-27",
          "2023-01-27",
          "2023-02-03",
          "2023-02-03",
          "2023-02-03",
          "2023-02-03",
          "2023-02-03",
          "2023-02-03",
          "2023-02-03",
          "2023-02-03",
          "2023-02-03",
          "2023-02-03",
          "2023-02-03",
          "2023-02-03",
          "2023-02-03",
          "2023-02-03",
          "2023-02-03",
          "2023-02-03",
          "2023-02-03",
          "2023-02-03",
          "2023-02-03",
          "2023-02-03",
          "2023-02-03",
          "2023-02-03",
          "2023-02-03",
          "2023-02-03",
          "2023-02-03",
          "2023-02-03",
          "2023-02-03",
          "2023-02-03",
          "2023-02-03",
          "2023-02-03",
          "2023-02-03",
          "2023-02-03",
          "2023-02-03",
          "2023-02-03",
          "2023-02-03",
          "2023-02-03",
          "2023-02-03",
          "2023-02-03",
          "2023-02-03",
          "2023-02-03",
          "2023-02-03",
          "2023-02-03",
          "2023-03-03",
          "2023-02-03",
          "2023-02-03",
          "2023-02-03",
          "2023-02-03",
          "2023-02-03",
          "2023-02-03",
          "2023-02-03",
          "2023-02-03",
          "2023-02-03",
          "2023-02-03",
          "2023-02-03",
          "2023-02-03",
          "2023-02-03",
          "2023-02-03",
          "2023-02-03",
          "2023-02-03",
          "2023-02-03",
          "2023-02-03",
          "2023-02-03",
          "2023-02-03",
          "2023-02-03",
          "2023-02-03",
          "2023-02-03",
          "2023-02-03",
          "2023-02-03",
          "2023-02-03",
          "2023-02-03",
          "2023-02-03",
          "2023-02-03",
          "2023-02-03",
          "2023-02-03",
          "2023-02-03",
          "2023-02-03",
          "2023-02-03",
          "2023-02-03",
          "2023-02-03",
          "2023-02-03",
          "2023-02-03",
          "2023-02-03",
          "2023-02-03",
          "2023-02-03",
          "2023-02-03",
          "2023-02-03",
          "2023-02-03",
          "2023-02-03",
          "2023-02-03",
          "2023-02-03",
          "2023-02-03",
          "2023-02-03",
          "2023-02-03",
          "2023-02-03",
          "2023-02-10",
          "2023-02-10",
          "2023-02-10",
          "2023-02-10",
          "2023-02-10",
          "2023-02-10",
          "2023-02-10",
          "2023-02-10",
          "2023-02-10",
          "2023-02-10",
          "2023-02-10",
          "2023-02-10",
          "2023-02-10",
          "2023-02-10",
          "2023-02-10",
          "2023-02-10",
          "2023-02-10",
          "2023-02-10",
          "2023-02-10",
          "2023-02-10",
          "2023-02-10",
          "2023-02-10",
          "2023-02-10",
          "2023-02-10",
          "2023-02-10",
          "2023-02-10",
          "2023-02-10",
          "2023-02-10",
          "2023-02-10",
          "2023-02-10",
          "2023-02-10",
          "2023-02-10",
          "2023-02-10",
          "2023-02-10",
          "2023-02-10",
          "2023-02-10",
          "2023-02-10",
          "2023-02-10",
          "2023-02-10",
          "2023-02-10",
          "2023-02-10",
          "2023-02-10",
          "2023-02-10",
          "2023-02-10",
          "2023-02-10",
          "2023-02-10",
          "2023-02-10",
          "2023-02-10",
          "2023-02-10",
          "2023-02-10",
          "2023-02-10",
          "2023-02-10",
          "2023-02-10",
          "2023-02-10",
          "2023-02-10",
          "2023-02-10",
          "2023-02-10",
          "2023-02-10",
          "2023-02-10",
          "2023-02-10",
          "2023-02-10",
          "2023-02-10",
          "2023-02-10",
          "2023-02-10",
          "2023-02-10",
          "2023-02-10",
          "2023-02-10",
          "2023-02-10",
          "2023-02-10",
          "2023-02-10",
          "2023-02-10",
          "2023-02-10",
          "2023-02-10",
          "2023-02-10",
          "2023-02-10",
          "2023-02-10",
          "2023-02-10",
          "2023-02-10",
          "2023-02-10",
          "2023-02-10",
          "2023-02-10",
          "2023-02-10",
          "2023-02-10",
          "2023-02-10",
          "2023-02-10",
          "2023-02-10",
          "2023-02-10",
          "2023-02-10",
          "2023-02-10",
          "2023-02-10",
          "2023-02-10",
          "2023-02-10",
          "2023-02-10",
          "2023-02-17",
          "2023-02-17",
          "2023-02-17",
          "2023-02-17",
          "2023-02-17",
          "2023-02-17",
          "2023-02-17",
          "2023-02-17",
          "2023-02-17",
          "2023-02-17",
          "2023-02-17",
          "2023-02-17",
          "2023-02-17",
          "2023-02-17",
          "2023-02-17",
          "2023-02-17",
          "2023-02-17",
          "2023-02-17",
          "2023-02-17",
          "2023-02-17",
          "2023-02-17",
          "2023-02-17",
          "2023-02-17",
          "2023-02-17",
          "2023-02-17",
          "2023-02-17",
          "2023-02-17",
          "2023-02-17",
          "2023-02-17",
          "2023-02-17",
          "2023-02-17",
          "2023-02-17",
          "2023-02-17",
          "2023-02-17",
          "2023-02-17",
          "2023-02-17",
          "2023-02-17",
          "2023-02-17",
          "2023-02-17",
          "2023-02-17",
          "2023-02-17",
          "2023-02-17",
          "2023-02-17",
          "2023-02-17",
          "2023-02-17",
          "2023-02-17",
          "2023-02-17",
          "2023-02-17",
          "2023-02-17",
          "2023-02-17",
          "2023-02-17",
          "2023-02-17",
          "2023-02-17",
          "2023-02-17",
          "2023-02-17",
          "2023-02-17",
          "2023-02-17",
          "2023-02-17",
          "2023-02-17",
          "2023-02-17",
          "2023-02-17",
          "2023-02-17",
          "2023-02-17",
          "2023-02-17",
          "2023-02-17",
          "2023-02-17",
          "2023-02-17",
          "2023-02-17",
          "2023-02-17",
          "2023-02-17",
          "2023-02-17",
          "2023-02-17",
          "2023-02-17",
          "2023-02-17",
          "2023-02-17",
          "2023-02-17",
          "2023-02-17",
          "2023-02-17",
          "2023-02-17",
          "2023-02-17",
          "2023-02-17",
          "2023-02-17",
          "2023-02-17",
          "2023-02-17",
          "2023-02-17",
          "2023-02-17",
          "2023-02-17",
          "2023-02-17",
          "2023-02-17",
          "2023-02-17",
          "2023-02-17",
          "2023-02-24",
          "2023-02-24",
          "2023-02-24",
          "2023-02-24",
          "2023-02-24",
          "2023-02-24",
          "2023-02-24",
          "2023-02-24",
          "2023-02-24",
          "2023-02-24",
          "2023-02-24",
          "2023-02-24",
          "2023-02-24",
          "2023-02-24",
          "2023-02-24",
          "2023-02-24",
          "2023-02-24",
          "2023-02-24",
          "2023-02-24",
          "2023-02-24",
          "2023-02-24",
          "2023-02-24",
          "2023-02-24",
          "2023-02-24",
          "2023-02-24",
          "2023-02-24",
          "2023-02-24",
          "2023-02-24",
          "2023-02-24",
          "2023-02-24",
          "2023-02-24",
          "2023-02-24",
          "2023-02-24",
          "2023-02-24",
          "2023-02-24",
          "2023-02-24",
          "2023-02-24",
          "2023-02-24",
          "2023-02-24",
          "2023-02-24",
          "2023-02-24",
          "2023-02-24",
          "2023-02-24",
          "2023-02-24",
          "2023-03-03",
          "2023-02-24",
          "2023-02-24",
          "2023-02-24",
          "2023-02-24",
          "2023-02-24",
          "2023-02-24",
          "2023-02-24",
          "2023-02-24",
          "2023-02-24",
          "2023-02-24",
          "2023-02-24",
          "2023-02-24",
          "2023-02-24",
          "2023-02-24",
          "2023-02-24",
          "2023-02-24",
          "2023-02-24",
          "2023-02-24",
          "2023-02-24",
          "2023-02-24",
          "2023-02-24",
          "2023-02-24",
          "2023-02-24",
          "2023-02-24",
          "2023-02-24",
          "2023-02-24",
          "2023-02-24",
          "2023-02-24",
          "2023-02-24",
          "2023-02-24",
          "2023-02-24",
          "2023-02-24",
          "2023-02-24",
          "2023-02-24",
          "2023-02-24",
          "2023-02-24",
          "2023-02-24",
          "2023-02-24",
          "2023-02-24",
          "2023-02-24",
          "2023-02-24",
          "2023-02-24",
          "2023-02-24",
          "2023-02-24",
          "2023-02-24",
          "2023-02-24",
          "2023-02-24",
          "2023-03-03",
          "2023-03-03",
          "2023-03-03",
          "2023-03-03",
          "2023-03-03",
          "2023-03-03",
          "2023-03-03",
          "2023-03-03",
          "2023-03-03",
          "2023-03-03",
          "2023-03-03",
          "2023-03-03",
          "2023-03-03",
          "2023-03-03",
          "2023-03-03",
          "2023-03-03",
          "2023-03-03",
          "2023-03-03",
          "2023-03-03",
          "2023-03-03",
          "2023-03-03",
          "2023-03-03",
          "2023-03-03",
          "2023-03-03",
          "2023-03-03",
          "2023-03-03",
          "2023-03-03",
          "2023-03-03",
          "2023-03-03",
          "2023-03-03",
          "2023-03-03",
          "2023-03-03",
          "2023-03-03",
          "2023-03-03",
          "2023-03-03",
          "2023-03-03",
          "2023-03-03",
          "2023-03-03",
          "2023-03-03",
          "2023-03-03",
          "2023-03-03",
          "2023-03-03",
          "2023-03-03",
          "2023-03-03",
          "2023-03-03",
          "2023-03-03",
          "2023-03-03",
          "2023-03-03",
          "2023-03-03",
          "2023-03-03",
          "2023-03-03",
          "2023-03-03",
          "2023-03-03",
          "2023-03-03",
          "2023-03-03",
          "2023-03-03",
          "2023-03-03",
          "2023-03-03",
          "2023-03-03",
          "2023-03-03",
          "2023-03-03",
          "2023-03-03",
          "2023-03-03",
          "2023-03-03",
          "2023-03-03",
          "2023-03-03",
          "2023-03-03",
          "2023-03-03",
          "2023-03-03",
          "2023-03-03",
          "2023-03-03",
          "2023-03-03",
          "2023-03-03",
          "2023-03-03",
          "2023-03-03",
          "2023-03-03",
          "2023-03-03",
          "2023-03-03",
          "2023-03-03",
          "2023-03-03",
          "2023-03-03",
          "2023-03-03",
          "2023-03-03",
          "2023-03-03",
          "2023-03-03",
          "2023-03-03",
          "2023-03-03",
          "2023-03-03",
          "2023-03-03",
          "2023-03-03",
          "2023-03-03",
          "2023-03-10",
          "2023-03-10",
          "2023-03-10",
          "2023-03-10",
          "2023-03-10",
          "2023-03-10",
          "2023-03-10",
          "2023-03-10",
          "2023-03-10",
          "2023-03-10",
          "2023-03-10",
          "2023-03-10",
          "2023-03-10",
          "2023-03-10",
          "2023-03-10",
          "2023-03-10",
          "2023-03-10",
          "2023-03-10",
          "2023-03-10",
          "2023-03-10",
          "2023-03-10",
          "2023-03-10",
          "2023-03-10",
          "2023-03-10",
          "2023-03-10",
          "2023-03-10",
          "2023-03-10",
          "2023-03-10",
          "2023-03-10",
          "2023-03-10",
          "2023-03-10",
          "2023-03-10",
          "2023-03-10",
          "2023-03-10",
          "2023-03-10",
          "2023-03-10",
          "2023-03-10",
          "2023-03-10",
          "2023-03-10",
          "2023-03-10",
          "2023-03-10",
          "2023-03-10",
          "2023-03-10",
          "2023-03-10",
          "2023-03-10",
          "2023-03-10",
          "2023-03-10",
          "2023-03-10",
          "2023-03-10",
          "2023-03-10",
          "2023-03-10",
          "2023-03-10",
          "2023-03-10",
          "2023-03-10",
          "2023-03-10",
          "2023-03-10",
          "2023-03-10",
          "2023-03-10",
          "2023-03-10",
          "2023-03-10",
          "2023-03-10",
          "2023-03-10",
          "2023-03-10",
          "2023-03-10",
          "2023-03-10",
          "2023-03-10",
          "2023-03-10",
          "2023-03-10",
          "2023-03-10",
          "2023-03-10",
          "2023-03-10",
          "2023-03-10",
          "2023-03-10",
          "2023-03-10",
          "2023-03-10",
          "2023-03-10",
          "2023-03-10",
          "2023-03-10",
          "2023-03-10",
          "2023-03-10",
          "2023-03-10",
          "2023-03-10",
          "2023-03-10",
          "2023-03-10",
          "2023-03-10",
          "2023-03-10",
          "2023-03-10",
          "2023-03-10",
          "2023-03-10",
          "2023-03-10",
          "2023-03-10",
          "2023-03-10",
          "2023-03-10",
          "2023-03-17",
          "2023-03-17",
          "2023-03-17",
          "2023-03-17",
          "2023-03-17",
          "2023-03-17",
          "2023-03-17",
          "2023-03-17",
          "2023-03-17",
          "2023-03-17",
          "2023-03-17",
          "2023-03-17",
          "2023-03-17",
          "2023-03-17",
          "2023-03-17",
          "2023-03-17",
          "2023-03-17",
          "2023-03-17",
          "2023-03-17",
          "2023-03-17",
          "2023-03-17",
          "2023-03-17",
          "2023-03-17",
          "2023-03-17",
          "2023-03-17",
          "2023-03-17",
          "2023-03-17",
          "2023-03-17",
          "2023-03-17",
          "2023-03-17",
          "2023-03-17",
          "2023-03-17",
          "2023-03-17",
          "2023-03-17",
          "2023-03-17",
          "2023-03-17",
          "2023-03-17",
          "2023-03-17",
          "2023-03-17",
          "2023-03-17",
          "2023-03-17",
          "2023-03-17",
          "2023-03-17",
          "2023-03-17",
          "2023-03-17",
          "2023-03-17",
          "2023-03-17",
          "2023-03-17",
          "2023-03-17",
          "2023-03-17",
          "2023-03-17",
          "2023-03-17",
          "2023-03-17",
          "2023-03-17",
          "2023-03-17",
          "2023-03-17",
          "2023-03-17",
          "2023-03-17",
          "2023-03-17",
          "2023-03-17",
          "2023-03-17",
          "2023-03-17",
          "2023-03-17",
          "2023-03-17",
          "2023-03-17",
          "2023-03-17",
          "2023-03-17",
          "2023-03-17",
          "2023-03-17",
          "2023-03-17",
          "2023-03-17",
          "2023-03-17",
          "2023-03-17",
          "2023-03-17",
          "2023-03-17",
          "2023-03-17",
          "2023-03-17",
          "2023-03-17",
          "2023-03-17",
          "2023-03-17",
          "2023-03-17",
          "2023-03-17",
          "2023-03-17",
          "2023-03-17",
          "2023-03-17",
          "2023-03-17",
          "2023-03-17",
          "2023-03-17",
          "2023-03-17",
          "2023-03-17",
          "2023-03-17",
          "2023-03-17",
          "2023-03-17",
          "2023-03-24",
          "2023-03-24",
          "2023-03-24",
          "2023-03-24",
          "2023-03-24",
          "2023-03-24",
          "2023-03-24",
          "2023-03-24",
          "2023-03-24",
          "2023-03-24",
          "2023-03-24",
          "2023-03-24",
          "2023-03-24",
          "2023-03-24",
          "2023-03-24",
          "2023-03-24",
          "2023-03-24",
          "2023-03-24",
          "2023-03-24",
          "2023-03-24",
          "2023-03-24",
          "2023-03-24",
          "2023-03-24",
          "2023-03-24",
          "2023-03-24",
          "2023-03-24",
          "2023-03-24",
          "2023-03-24",
          "2023-03-24",
          "2023-03-24",
          "2023-03-24",
          "2023-03-24",
          "2023-03-24",
          "2023-03-24",
          "2023-03-24",
          "2023-03-24",
          "2023-03-24",
          "2023-03-24",
          "2023-03-24",
          "2023-03-24",
          "2023-03-24",
          "2023-03-24",
          "2023-03-24",
          "2023-03-24",
          "2023-03-24",
          "2023-03-24",
          "2023-03-24"
         ],
         "xaxis": "x",
         "y": [
          0.422,
          0.655,
          0.381,
          0.314,
          0.324,
          0.798,
          0.118,
          0.502,
          0.684,
          0.667,
          0.635,
          0.598,
          0.336,
          0.219,
          0.702,
          0.492,
          0.432,
          0.358,
          0.463,
          0.469,
          0.62,
          0.555,
          0.468,
          0.0899,
          0.758,
          0.463,
          0.348,
          0.707,
          0.609,
          0.395,
          0.12,
          0.428,
          0.276,
          0.543,
          0.678,
          0.386,
          0.814,
          0.387,
          0.238,
          0.662,
          0.12,
          0.118,
          0.442,
          0.403,
          0.661,
          0.519,
          0.134,
          0.326,
          0.836,
          0.136,
          0.42,
          0.406,
          0.694,
          0.466,
          0.785,
          0.513,
          0.947,
          0.255,
          0.622,
          0.422,
          0.427,
          0.627,
          0.907,
          0.963,
          0.374,
          0.968,
          0.131,
          0.338,
          0.228,
          0.502,
          0.64,
          0.422,
          0.139,
          0.675,
          0.572,
          0.828,
          0.503,
          0.96,
          0.605,
          0.89,
          0.649,
          0.702,
          0.314,
          0.254,
          0.967,
          0.788,
          0.599,
          0.684,
          0.423,
          0.187,
          0.437,
          0.662,
          0.429,
          0.897,
          0.422,
          0.655,
          0.381,
          0.632,
          0.324,
          0.798,
          0.314,
          0.502,
          0.598,
          0.684,
          0.635,
          0.667,
          0.702,
          0.118,
          0.219,
          0.336,
          0.555,
          0.348,
          0.0899,
          0.492,
          0.463,
          0.468,
          0.463,
          0.469,
          0.118,
          0.12,
          0.358,
          0.678,
          0.758,
          0.62,
          0.707,
          0.572,
          0.422,
          0.395,
          0.543,
          0.432,
          0.423,
          0.276,
          0.12,
          0.387,
          0.238,
          0.814,
          0.661,
          0.386,
          0.662,
          0.134,
          0.428,
          0.403,
          0.513,
          0.627,
          0.785,
          0.466,
          0.136,
          0.519,
          0.326,
          0.947,
          0.422,
          0.609,
          0.828,
          0.406,
          0.836,
          0.442,
          0.675,
          0.228,
          0.942,
          0.314,
          0.503,
          0.897,
          0.968,
          0.254,
          0.694,
          0.139,
          0.255,
          0.374,
          0.599,
          0.254,
          0.427,
          0.907,
          0.605,
          0.753,
          0.484,
          0.351,
          0.429,
          0.338,
          0.579,
          0.774,
          0.502,
          0.562,
          0.415,
          0.967,
          0.482,
          0.598,
          0.438,
          0.231,
          0.632,
          0.422,
          0.655,
          0.381,
          0.798,
          0.324,
          0.598,
          0.219,
          0.502,
          0.314,
          0.667,
          0.635,
          0.684,
          0.702,
          0.336,
          0.118,
          0.463,
          0.463,
          0.348,
          0.0899,
          0.555,
          0.468,
          0.422,
          0.492,
          0.678,
          0.572,
          0.469,
          0.358,
          0.395,
          0.707,
          0.276,
          0.62,
          0.12,
          0.758,
          0.12,
          0.814,
          0.118,
          0.134,
          0.543,
          0.519,
          0.609,
          0.662,
          0.661,
          0.947,
          0.675,
          0.428,
          0.238,
          0.466,
          0.524,
          0.403,
          0.627,
          0.406,
          0.326,
          0.432,
          0.255,
          0.442,
          0.513,
          0.494,
          0.427,
          0.387,
          0.968,
          0.61,
          0.422,
          0.785,
          0.694,
          0.139,
          0.386,
          0.942,
          0.967,
          0.828,
          0.547,
          0.788,
          0.502,
          0.338,
          0.239,
          0.584,
          0.429,
          0.605,
          0.314,
          0.562,
          0.437,
          0.703,
          0.418,
          0.254,
          0.719,
          0.753,
          0.598,
          0.542,
          0.836,
          0.534,
          0.579,
          0.374,
          0.117,
          0.632,
          0.422,
          0.655,
          0.381,
          0.798,
          0.324,
          0.635,
          0.502,
          0.219,
          0.598,
          0.684,
          0.314,
          0.702,
          0.667,
          0.118,
          0.336,
          0.348,
          0.463,
          0.0899,
          0.555,
          0.463,
          0.492,
          0.468,
          0.678,
          0.469,
          0.422,
          0.358,
          0.572,
          0.276,
          0.707,
          0.62,
          0.12,
          0.494,
          0.395,
          0.758,
          0.406,
          0.12,
          0.118,
          0.543,
          0.326,
          0.466,
          0.403,
          0.814,
          0.662,
          0.134,
          0.609,
          0.238,
          0.661,
          0.428,
          0.524,
          0.519,
          0.675,
          0.627,
          0.432,
          0.338,
          0.255,
          0.947,
          0.387,
          0.513,
          0.422,
          0.785,
          0.139,
          0.427,
          0.694,
          0.386,
          0.828,
          0.942,
          0.662,
          0.605,
          0.774,
          0.562,
          0.442,
          0.547,
          0.502,
          0.584,
          0.61,
          0.598,
          0.542,
          0.228,
          0.351,
          0.418,
          0.429,
          0.603,
          0.967,
          0.374,
          0.368,
          0.703,
          0.788,
          0.314,
          0.534,
          0.599,
          0.632,
          0.422,
          0.142,
          0.655,
          0.381,
          0.798,
          0.324,
          0.219,
          0.598,
          0.502,
          0.702,
          0.635,
          0.684,
          0.667,
          0.492,
          0.314,
          0.463,
          0.555,
          0.422,
          0.336,
          0.0899,
          0.118,
          0.463,
          0.348,
          0.468,
          0.678,
          0.469,
          0.276,
          0.572,
          0.524,
          0.707,
          0.134,
          0.494,
          0.12,
          0.814,
          0.62,
          0.326,
          0.358,
          0.406,
          0.238,
          0.758,
          0.694,
          0.635,
          0.12,
          0.609,
          0.662,
          0.543,
          0.661,
          0.947,
          0.675,
          0.428,
          0.403,
          0.519,
          0.627,
          0.466,
          0.562,
          0.422,
          0.0426,
          0.228,
          0.432,
          0.387,
          0.255,
          0.118,
          0.502,
          0.513,
          0.442,
          0.365,
          0.828,
          0.967,
          0.139,
          0.395,
          0.942,
          0.386,
          0.542,
          0.595,
          0.788,
          0.785,
          0.239,
          0.968,
          0.774,
          0.605,
          0.836,
          0.61,
          0.48,
          0.719,
          0.0626,
          0.285,
          0.662,
          0.437,
          0.198,
          0.534,
          0.547,
          0.427,
          0.429,
          0.595,
          0.632,
          0.422,
          0.655,
          0.702,
          0.381,
          0.219,
          0.798,
          0.598,
          0.635,
          0.492,
          0.684,
          0.502,
          0.667,
          0.142,
          0.336,
          0.314,
          0.422,
          0.348,
          0.463,
          0.678,
          0.463,
          0.555,
          0.276,
          0.481,
          0.358,
          0.468,
          0.118,
          0.572,
          0.524,
          0.675,
          0.469,
          0.707,
          0.12,
          0.0899,
          0.326,
          0.494,
          0.62,
          0.12,
          0.814,
          0.406,
          0.543,
          0.466,
          0.238,
          0.428,
          0.324,
          0.609,
          0.758,
          0.661,
          0.627,
          0.139,
          0.662,
          0.947,
          0.562,
          0.387,
          0.403,
          0.513,
          0.432,
          0.502,
          0.422,
          0.667,
          0.519,
          0.694,
          0.968,
          0.785,
          0.386,
          0.334,
          0.702,
          0.563,
          0.31,
          0.942,
          0.553,
          0.967,
          0.418,
          0.605,
          0.489,
          0.542,
          0.788,
          0.239,
          0.255,
          0.774,
          0.442,
          0.61,
          0.136,
          0.589,
          0.306,
          0.719,
          0.285,
          0.48,
          0.547,
          0.644,
          0.662,
          0.437,
          0.595,
          0.632,
          0.422,
          0.702,
          0.655,
          0.219,
          0.381,
          0.142,
          0.598,
          0.667,
          0.502,
          0.336,
          0.492,
          0.798,
          0.422,
          0.684,
          0.635,
          0.635,
          0.0899,
          0.707,
          0.463,
          0.678,
          0.481,
          0.314,
          0.358,
          0.276,
          0.12,
          0.118,
          0.675,
          0.457,
          0.463,
          0.403,
          0.422,
          0.469,
          0.12,
          0.543,
          0.524,
          0.348,
          0.562,
          0.324,
          0.466,
          0.428,
          0.214,
          0.387,
          0.62,
          0.661,
          0.139,
          0.627,
          0.814,
          0.662,
          0.494,
          0.513,
          0.758,
          0.555,
          0.406,
          0.306,
          0.542,
          0.468,
          0.947,
          0.609,
          0.942,
          0.31,
          0.667,
          0.255,
          0.395,
          0.662,
          0.968,
          0.563,
          0.432,
          0.326,
          0.323,
          0.605,
          0.502,
          0.828,
          0.415,
          0.117,
          0.547,
          0.489,
          0.785,
          0.116,
          0.48,
          0.519,
          0.555,
          0.442,
          0.548,
          0.694,
          0.61,
          0.0348,
          0.703,
          0.599,
          0.393,
          0.595,
          0.702,
          0.422,
          0.632,
          0.655,
          0.219,
          0.142,
          0.381,
          0.667,
          0.598,
          0.502,
          0.336,
          0.635,
          0.492,
          0.684,
          0.422,
          0.798,
          0.0899,
          0.635,
          0.707,
          0.678,
          0.463,
          0.358,
          0.276,
          0.134,
          0.457,
          0.12,
          0.422,
          0.562,
          0.675,
          0.524,
          0.481,
          0.463,
          0.314,
          0.118,
          0.469,
          0.543,
          0.551,
          0.466,
          0.139,
          0.494,
          0.324,
          0.428,
          0.662,
          0.358,
          0.627,
          0.406,
          0.661,
          0.62,
          0.387,
          0.542,
          0.306,
          0.348,
          0.609,
          0.942,
          0.555,
          0.519,
          0.452,
          0.513,
          0.814,
          0.468,
          0.667,
          0.584,
          0.572,
          0.758,
          0.502,
          0.968,
          0.0348,
          0.172,
          0.967,
          0.214,
          0.326,
          0.547,
          0.442,
          0.662,
          0.12,
          0.589,
          0.323,
          0.137,
          0.828,
          0.694,
          0.418,
          0.437,
          0.116,
          0.403,
          0.255,
          0.415,
          0.599,
          0.609,
          0.489,
          0.279,
          0.548,
          0.595,
          0.702,
          0.655,
          0.422,
          0.219,
          0.632,
          0.142,
          0.25,
          0.381,
          0.502,
          0.667,
          0.598,
          0.684,
          0.134,
          0.336,
          0.492,
          0.635,
          0.798,
          0.422,
          0.463,
          0.707,
          0.678,
          0.457,
          0.276,
          0.12,
          0.0899,
          0.667,
          0.562,
          0.314,
          0.524,
          0.675,
          0.481,
          0.469,
          0.661,
          0.543,
          0.466,
          0.406,
          0.324,
          0.428,
          0.662,
          0.118,
          0.139,
          0.627,
          0.348,
          0.306,
          0.609,
          0.62,
          0.214,
          0.542,
          0.584,
          0.572,
          0.513,
          0.563,
          0.387,
          0.494,
          0.0348,
          0.468,
          0.551,
          0.12,
          0.968,
          0.942,
          0.497,
          0.172,
          0.694,
          0.35,
          0.255,
          0.547,
          0.442,
          0.675,
          0.662,
          0.326,
          0.502,
          0.422,
          0.814,
          0.555,
          0.609,
          0.273,
          0.323,
          0.828,
          0.758,
          0.705,
          0.624,
          0.799,
          0.426,
          0.197,
          0.437,
          0.519,
          0.967,
          0.403,
          0.489,
          0.548,
          0.595,
          0.702,
          0.655,
          0.422,
          0.219,
          0.632,
          0.134,
          0.142,
          0.598,
          0.667,
          0.684,
          0.492,
          0.502,
          0.381,
          0.336,
          0.422,
          0.635,
          0.798,
          0.635,
          0.707,
          0.463,
          0.381,
          0.219,
          0.358,
          0.678,
          0.276,
          0.457,
          0.481,
          0.667,
          0.12,
          0.139,
          0.524,
          0.0899,
          0.306,
          0.466,
          0.35,
          0.675,
          0.214,
          0.543,
          0.428,
          0.469,
          0.661,
          0.324,
          0.562,
          0.348,
          0.609,
          0.694,
          0.627,
          0.314,
          0.406,
          0.118,
          0.494,
          0.942,
          0.387,
          0.662,
          0.62,
          0.603,
          0.12,
          0.468,
          0.662,
          0.422,
          0.563,
          0.117,
          0.25,
          0.0396,
          0.502,
          0.542,
          0.555,
          0.675,
          0.172,
          0.609,
          0.513,
          0.551,
          0.572,
          0.442,
          0.968,
          0.589,
          0.526,
          0.519,
          0.527,
          0.785,
          0.0348,
          0.814,
          0.338,
          0.0626,
          0.828,
          0.497,
          0.415,
          0.437,
          0.468,
          0.703,
          0.624,
          0.752,
          0.595,
          0.702,
          0.632,
          0.655,
          0.422,
          0.219,
          0.134,
          0.598,
          0.492,
          0.142,
          0.667,
          0.381,
          0.502,
          0.684,
          0.336,
          0.635,
          0.219,
          0.422,
          0.798,
          0.635,
          0.463,
          0.481,
          0.381,
          0.457,
          0.358,
          0.678,
          0.276,
          0.562,
          0.524,
          0.707,
          0.667,
          0.12,
          0.139,
          0.466,
          0.306,
          0.675,
          0.609,
          0.661,
          0.543,
          0.214,
          0.428,
          0.35,
          0.324,
          0.469,
          0.348,
          0.406,
          0.694,
          0.551,
          0.627,
          0.609,
          0.422,
          0.494,
          0.12,
          0.314,
          0.118,
          0.442,
          0.285,
          0.563,
          0.387,
          0.603,
          0.62,
          0.502,
          0.338,
          0.662,
          0.497,
          0.513,
          0.942,
          0.172,
          0.828,
          0.117,
          0.542,
          0.968,
          0.814,
          0.555,
          0.572,
          0.25,
          0.0396,
          0.0348,
          0.675,
          0.547,
          0.468,
          0.967,
          0.255,
          0.705,
          0.403,
          0.0899,
          0.437,
          0.526,
          0.527,
          0.326,
          0.427,
          0.415,
          0.589,
          0.595,
          0.702,
          0.134,
          0.632,
          0.655,
          0.219,
          0.422,
          0.381,
          0.598,
          0.142,
          0.502,
          0.492,
          0.667,
          0.684,
          0.635,
          0.381,
          0.422,
          0.336,
          0.798,
          0.463,
          0.635,
          0.481,
          0.457,
          0.678,
          0.219,
          0.306,
          0.667,
          0.358,
          0.707,
          0.562,
          0.422,
          0.526,
          0.276,
          0.675,
          0.551,
          0.609,
          0.214,
          0.524,
          0.348,
          0.12,
          0.428,
          0.694,
          0.139,
          0.661,
          0.543,
          0.155,
          0.12
         ],
         "yaxis": "y"
        }
       ],
       "layout": {
        "autosize": true,
        "legend": {
         "tracegroupgap": 0
        },
        "template": {
         "data": {
          "bar": [
           {
            "error_x": {
             "color": "#2a3f5f"
            },
            "error_y": {
             "color": "#2a3f5f"
            },
            "marker": {
             "line": {
              "color": "#E5ECF6",
              "width": 0.5
             },
             "pattern": {
              "fillmode": "overlay",
              "size": 10,
              "solidity": 0.2
             }
            },
            "type": "bar"
           }
          ],
          "barpolar": [
           {
            "marker": {
             "line": {
              "color": "#E5ECF6",
              "width": 0.5
             },
             "pattern": {
              "fillmode": "overlay",
              "size": 10,
              "solidity": 0.2
             }
            },
            "type": "barpolar"
           }
          ],
          "carpet": [
           {
            "aaxis": {
             "endlinecolor": "#2a3f5f",
             "gridcolor": "white",
             "linecolor": "white",
             "minorgridcolor": "white",
             "startlinecolor": "#2a3f5f"
            },
            "baxis": {
             "endlinecolor": "#2a3f5f",
             "gridcolor": "white",
             "linecolor": "white",
             "minorgridcolor": "white",
             "startlinecolor": "#2a3f5f"
            },
            "type": "carpet"
           }
          ],
          "choropleth": [
           {
            "colorbar": {
             "outlinewidth": 0,
             "ticks": ""
            },
            "type": "choropleth"
           }
          ],
          "contour": [
           {
            "colorbar": {
             "outlinewidth": 0,
             "ticks": ""
            },
            "colorscale": [
             [
              0,
              "#0d0887"
             ],
             [
              0.1111111111111111,
              "#46039f"
             ],
             [
              0.2222222222222222,
              "#7201a8"
             ],
             [
              0.3333333333333333,
              "#9c179e"
             ],
             [
              0.4444444444444444,
              "#bd3786"
             ],
             [
              0.5555555555555556,
              "#d8576b"
             ],
             [
              0.6666666666666666,
              "#ed7953"
             ],
             [
              0.7777777777777778,
              "#fb9f3a"
             ],
             [
              0.8888888888888888,
              "#fdca26"
             ],
             [
              1,
              "#f0f921"
             ]
            ],
            "type": "contour"
           }
          ],
          "contourcarpet": [
           {
            "colorbar": {
             "outlinewidth": 0,
             "ticks": ""
            },
            "type": "contourcarpet"
           }
          ],
          "heatmap": [
           {
            "colorbar": {
             "outlinewidth": 0,
             "ticks": ""
            },
            "colorscale": [
             [
              0,
              "#0d0887"
             ],
             [
              0.1111111111111111,
              "#46039f"
             ],
             [
              0.2222222222222222,
              "#7201a8"
             ],
             [
              0.3333333333333333,
              "#9c179e"
             ],
             [
              0.4444444444444444,
              "#bd3786"
             ],
             [
              0.5555555555555556,
              "#d8576b"
             ],
             [
              0.6666666666666666,
              "#ed7953"
             ],
             [
              0.7777777777777778,
              "#fb9f3a"
             ],
             [
              0.8888888888888888,
              "#fdca26"
             ],
             [
              1,
              "#f0f921"
             ]
            ],
            "type": "heatmap"
           }
          ],
          "heatmapgl": [
           {
            "colorbar": {
             "outlinewidth": 0,
             "ticks": ""
            },
            "colorscale": [
             [
              0,
              "#0d0887"
             ],
             [
              0.1111111111111111,
              "#46039f"
             ],
             [
              0.2222222222222222,
              "#7201a8"
             ],
             [
              0.3333333333333333,
              "#9c179e"
             ],
             [
              0.4444444444444444,
              "#bd3786"
             ],
             [
              0.5555555555555556,
              "#d8576b"
             ],
             [
              0.6666666666666666,
              "#ed7953"
             ],
             [
              0.7777777777777778,
              "#fb9f3a"
             ],
             [
              0.8888888888888888,
              "#fdca26"
             ],
             [
              1,
              "#f0f921"
             ]
            ],
            "type": "heatmapgl"
           }
          ],
          "histogram": [
           {
            "marker": {
             "pattern": {
              "fillmode": "overlay",
              "size": 10,
              "solidity": 0.2
             }
            },
            "type": "histogram"
           }
          ],
          "histogram2d": [
           {
            "colorbar": {
             "outlinewidth": 0,
             "ticks": ""
            },
            "colorscale": [
             [
              0,
              "#0d0887"
             ],
             [
              0.1111111111111111,
              "#46039f"
             ],
             [
              0.2222222222222222,
              "#7201a8"
             ],
             [
              0.3333333333333333,
              "#9c179e"
             ],
             [
              0.4444444444444444,
              "#bd3786"
             ],
             [
              0.5555555555555556,
              "#d8576b"
             ],
             [
              0.6666666666666666,
              "#ed7953"
             ],
             [
              0.7777777777777778,
              "#fb9f3a"
             ],
             [
              0.8888888888888888,
              "#fdca26"
             ],
             [
              1,
              "#f0f921"
             ]
            ],
            "type": "histogram2d"
           }
          ],
          "histogram2dcontour": [
           {
            "colorbar": {
             "outlinewidth": 0,
             "ticks": ""
            },
            "colorscale": [
             [
              0,
              "#0d0887"
             ],
             [
              0.1111111111111111,
              "#46039f"
             ],
             [
              0.2222222222222222,
              "#7201a8"
             ],
             [
              0.3333333333333333,
              "#9c179e"
             ],
             [
              0.4444444444444444,
              "#bd3786"
             ],
             [
              0.5555555555555556,
              "#d8576b"
             ],
             [
              0.6666666666666666,
              "#ed7953"
             ],
             [
              0.7777777777777778,
              "#fb9f3a"
             ],
             [
              0.8888888888888888,
              "#fdca26"
             ],
             [
              1,
              "#f0f921"
             ]
            ],
            "type": "histogram2dcontour"
           }
          ],
          "mesh3d": [
           {
            "colorbar": {
             "outlinewidth": 0,
             "ticks": ""
            },
            "type": "mesh3d"
           }
          ],
          "parcoords": [
           {
            "line": {
             "colorbar": {
              "outlinewidth": 0,
              "ticks": ""
             }
            },
            "type": "parcoords"
           }
          ],
          "pie": [
           {
            "automargin": true,
            "type": "pie"
           }
          ],
          "scatter": [
           {
            "fillpattern": {
             "fillmode": "overlay",
             "size": 10,
             "solidity": 0.2
            },
            "type": "scatter"
           }
          ],
          "scatter3d": [
           {
            "line": {
             "colorbar": {
              "outlinewidth": 0,
              "ticks": ""
             }
            },
            "marker": {
             "colorbar": {
              "outlinewidth": 0,
              "ticks": ""
             }
            },
            "type": "scatter3d"
           }
          ],
          "scattercarpet": [
           {
            "marker": {
             "colorbar": {
              "outlinewidth": 0,
              "ticks": ""
             }
            },
            "type": "scattercarpet"
           }
          ],
          "scattergeo": [
           {
            "marker": {
             "colorbar": {
              "outlinewidth": 0,
              "ticks": ""
             }
            },
            "type": "scattergeo"
           }
          ],
          "scattergl": [
           {
            "marker": {
             "colorbar": {
              "outlinewidth": 0,
              "ticks": ""
             }
            },
            "type": "scattergl"
           }
          ],
          "scattermapbox": [
           {
            "marker": {
             "colorbar": {
              "outlinewidth": 0,
              "ticks": ""
             }
            },
            "type": "scattermapbox"
           }
          ],
          "scatterpolar": [
           {
            "marker": {
             "colorbar": {
              "outlinewidth": 0,
              "ticks": ""
             }
            },
            "type": "scatterpolar"
           }
          ],
          "scatterpolargl": [
           {
            "marker": {
             "colorbar": {
              "outlinewidth": 0,
              "ticks": ""
             }
            },
            "type": "scatterpolargl"
           }
          ],
          "scatterternary": [
           {
            "marker": {
             "colorbar": {
              "outlinewidth": 0,
              "ticks": ""
             }
            },
            "type": "scatterternary"
           }
          ],
          "surface": [
           {
            "colorbar": {
             "outlinewidth": 0,
             "ticks": ""
            },
            "colorscale": [
             [
              0,
              "#0d0887"
             ],
             [
              0.1111111111111111,
              "#46039f"
             ],
             [
              0.2222222222222222,
              "#7201a8"
             ],
             [
              0.3333333333333333,
              "#9c179e"
             ],
             [
              0.4444444444444444,
              "#bd3786"
             ],
             [
              0.5555555555555556,
              "#d8576b"
             ],
             [
              0.6666666666666666,
              "#ed7953"
             ],
             [
              0.7777777777777778,
              "#fb9f3a"
             ],
             [
              0.8888888888888888,
              "#fdca26"
             ],
             [
              1,
              "#f0f921"
             ]
            ],
            "type": "surface"
           }
          ],
          "table": [
           {
            "cells": {
             "fill": {
              "color": "#EBF0F8"
             },
             "line": {
              "color": "white"
             }
            },
            "header": {
             "fill": {
              "color": "#C8D4E3"
             },
             "line": {
              "color": "white"
             }
            },
            "type": "table"
           }
          ]
         },
         "layout": {
          "annotationdefaults": {
           "arrowcolor": "#2a3f5f",
           "arrowhead": 0,
           "arrowwidth": 1
          },
          "autotypenumbers": "strict",
          "coloraxis": {
           "colorbar": {
            "outlinewidth": 0,
            "ticks": ""
           }
          },
          "colorscale": {
           "diverging": [
            [
             0,
             "#8e0152"
            ],
            [
             0.1,
             "#c51b7d"
            ],
            [
             0.2,
             "#de77ae"
            ],
            [
             0.3,
             "#f1b6da"
            ],
            [
             0.4,
             "#fde0ef"
            ],
            [
             0.5,
             "#f7f7f7"
            ],
            [
             0.6,
             "#e6f5d0"
            ],
            [
             0.7,
             "#b8e186"
            ],
            [
             0.8,
             "#7fbc41"
            ],
            [
             0.9,
             "#4d9221"
            ],
            [
             1,
             "#276419"
            ]
           ],
           "sequential": [
            [
             0,
             "#0d0887"
            ],
            [
             0.1111111111111111,
             "#46039f"
            ],
            [
             0.2222222222222222,
             "#7201a8"
            ],
            [
             0.3333333333333333,
             "#9c179e"
            ],
            [
             0.4444444444444444,
             "#bd3786"
            ],
            [
             0.5555555555555556,
             "#d8576b"
            ],
            [
             0.6666666666666666,
             "#ed7953"
            ],
            [
             0.7777777777777778,
             "#fb9f3a"
            ],
            [
             0.8888888888888888,
             "#fdca26"
            ],
            [
             1,
             "#f0f921"
            ]
           ],
           "sequentialminus": [
            [
             0,
             "#0d0887"
            ],
            [
             0.1111111111111111,
             "#46039f"
            ],
            [
             0.2222222222222222,
             "#7201a8"
            ],
            [
             0.3333333333333333,
             "#9c179e"
            ],
            [
             0.4444444444444444,
             "#bd3786"
            ],
            [
             0.5555555555555556,
             "#d8576b"
            ],
            [
             0.6666666666666666,
             "#ed7953"
            ],
            [
             0.7777777777777778,
             "#fb9f3a"
            ],
            [
             0.8888888888888888,
             "#fdca26"
            ],
            [
             1,
             "#f0f921"
            ]
           ]
          },
          "colorway": [
           "#636efa",
           "#EF553B",
           "#00cc96",
           "#ab63fa",
           "#FFA15A",
           "#19d3f3",
           "#FF6692",
           "#B6E880",
           "#FF97FF",
           "#FECB52"
          ],
          "font": {
           "color": "#2a3f5f"
          },
          "geo": {
           "bgcolor": "white",
           "lakecolor": "white",
           "landcolor": "#E5ECF6",
           "showlakes": true,
           "showland": true,
           "subunitcolor": "white"
          },
          "hoverlabel": {
           "align": "left"
          },
          "hovermode": "closest",
          "mapbox": {
           "style": "light"
          },
          "paper_bgcolor": "white",
          "plot_bgcolor": "#E5ECF6",
          "polar": {
           "angularaxis": {
            "gridcolor": "white",
            "linecolor": "white",
            "ticks": ""
           },
           "bgcolor": "#E5ECF6",
           "radialaxis": {
            "gridcolor": "white",
            "linecolor": "white",
            "ticks": ""
           }
          },
          "scene": {
           "xaxis": {
            "backgroundcolor": "#E5ECF6",
            "gridcolor": "white",
            "gridwidth": 2,
            "linecolor": "white",
            "showbackground": true,
            "ticks": "",
            "zerolinecolor": "white"
           },
           "yaxis": {
            "backgroundcolor": "#E5ECF6",
            "gridcolor": "white",
            "gridwidth": 2,
            "linecolor": "white",
            "showbackground": true,
            "ticks": "",
            "zerolinecolor": "white"
           },
           "zaxis": {
            "backgroundcolor": "#E5ECF6",
            "gridcolor": "white",
            "gridwidth": 2,
            "linecolor": "white",
            "showbackground": true,
            "ticks": "",
            "zerolinecolor": "white"
           }
          },
          "shapedefaults": {
           "line": {
            "color": "#2a3f5f"
           }
          },
          "ternary": {
           "aaxis": {
            "gridcolor": "white",
            "linecolor": "white",
            "ticks": ""
           },
           "baxis": {
            "gridcolor": "white",
            "linecolor": "white",
            "ticks": ""
           },
           "bgcolor": "#E5ECF6",
           "caxis": {
            "gridcolor": "white",
            "linecolor": "white",
            "ticks": ""
           }
          },
          "title": {
           "x": 0.05
          },
          "xaxis": {
           "automargin": true,
           "gridcolor": "white",
           "linecolor": "white",
           "ticks": "",
           "title": {
            "standoff": 15
           },
           "zerolinecolor": "white",
           "zerolinewidth": 2
          },
          "yaxis": {
           "automargin": true,
           "gridcolor": "white",
           "linecolor": "white",
           "ticks": "",
           "title": {
            "standoff": 15
           },
           "zerolinecolor": "white",
           "zerolinewidth": 2
          }
         }
        },
        "title": {
         "text": "Scatter Plot of Valence vs. Week of the Year"
        },
        "xaxis": {
         "anchor": "y",
         "autorange": true,
         "domain": [
          0,
          1
         ],
         "range": [
          "2023-01-01 03:41:22.4155",
          "2023-03-28 20:18:37.5845"
         ],
         "title": {
          "text": "Week of the Year"
         },
         "type": "date"
        },
        "yaxis": {
         "anchor": "x",
         "autorange": true,
         "domain": [
          0,
          1
         ],
         "range": [
          -0.06039264214046823,
          1.0631926421404683
         ],
         "title": {
          "text": "Valence"
         },
         "type": "linear"
        }
       }
      },
      "image/png": "[encoded data removed]",
      "text/html": [
       "<div>                            <div id=\"c937d4d0-d2af-4102-a015-ec08f455c342\" class=\"plotly-graph-div\" style=\"height:525px; width:100%;\"></div>            <script type=\"text/javascript\">                require([\"plotly\"], function(Plotly) {                    window.PLOTLYENV=window.PLOTLYENV || {};                                    if (document.getElementById(\"c937d4d0-d2af-4102-a015-ec08f455c342\")) {                    Plotly.newPlot(                        \"c937d4d0-d2af-4102-a015-ec08f455c342\",                        [{\"hovertemplate\":\"week=%{x}\\u003cbr\\u003evalence=%{y}\\u003cextra\\u003e\\u003c\\u002fextra\\u003e\",\"legendgroup\":\"\",\"marker\":{\"color\":\"#636efa\",\"symbol\":\"circle\",\"opacity\":0.6,\"size\":10},\"mode\":\"markers\",\"name\":\"\",\"showlegend\":false,\"x\":[\"2023-01-06\",\"2023-01-06\",\"2023-01-06\",\"2023-01-06\",\"2023-01-06\",\"2023-01-06\",\"2023-01-06\",\"2023-01-06\",\"2023-01-06\",\"2023-01-06\",\"2023-01-06\",\"2023-01-06\",\"2023-01-06\",\"2023-01-06\",\"2023-01-06\",\"2023-01-06\",\"2023-01-06\",\"2023-01-06\",\"2023-01-06\",\"2023-01-06\",\"2023-01-06\",\"2023-01-06\",\"2023-01-06\",\"2023-01-06\",\"2023-01-06\",\"2023-01-06\",\"2023-01-06\",\"2023-01-06\",\"2023-01-06\",\"2023-01-06\",\"2023-01-06\",\"2023-01-06\",\"2023-01-06\",\"2023-01-06\",\"2023-01-06\",\"2023-01-06\",\"2023-01-06\",\"2023-01-06\",\"2023-01-06\",\"2023-01-06\",\"2023-01-06\",\"2023-01-06\",\"2023-01-06\",\"2023-01-06\",\"2023-01-06\",\"2023-01-06\",\"2023-01-06\",\"2023-01-06\",\"2023-01-06\",\"2023-01-06\",\"2023-01-06\",\"2023-01-06\",\"2023-01-06\",\"2023-01-06\",\"2023-01-06\",\"2023-01-06\",\"2023-01-06\",\"2023-01-06\",\"2023-01-06\",\"2023-01-06\",\"2023-01-06\",\"2023-01-06\",\"2023-01-06\",\"2023-01-06\",\"2023-01-06\",\"2023-01-06\",\"2023-01-06\",\"2023-01-06\",\"2023-01-06\",\"2023-01-06\",\"2023-01-06\",\"2023-01-06\",\"2023-01-06\",\"2023-01-06\",\"2023-01-06\",\"2023-01-06\",\"2023-01-06\",\"2023-01-06\",\"2023-01-06\",\"2023-01-06\",\"2023-01-06\",\"2023-01-06\",\"2023-01-06\",\"2023-01-06\",\"2023-01-06\",\"2023-01-06\",\"2023-01-06\",\"2023-01-06\",\"2023-01-06\",\"2023-01-06\",\"2023-01-06\",\"2023-01-06\",\"2023-01-06\",\"2023-01-06\",\"2023-01-13\",\"2023-01-13\",\"2023-01-13\",\"2023-01-13\",\"2023-01-13\",\"2023-01-13\",\"2023-01-13\",\"2023-01-13\",\"2023-01-13\",\"2023-01-13\",\"2023-01-13\",\"2023-01-13\",\"2023-01-13\",\"2023-01-13\",\"2023-01-13\",\"2023-01-13\",\"2023-01-13\",\"2023-01-13\",\"2023-01-13\",\"2023-01-13\",\"2023-01-13\",\"2023-01-13\",\"2023-01-13\",\"2023-01-13\",\"2023-01-13\",\"2023-01-13\",\"2023-01-13\",\"2023-01-13\",\"2023-01-13\",\"2023-01-13\",\"2023-01-13\",\"2023-01-13\",\"2023-01-13\",\"2023-01-13\",\"2023-01-13\",\"2023-01-13\",\"2023-01-13\",\"2023-01-13\",\"2023-01-13\",\"2023-01-13\",\"2023-01-13\",\"2023-01-13\",\"2023-01-13\",\"2023-01-13\",\"2023-01-13\",\"2023-01-13\",\"2023-01-13\",\"2023-01-13\",\"2023-01-13\",\"2023-01-13\",\"2023-01-13\",\"2023-01-13\",\"2023-01-13\",\"2023-01-13\",\"2023-01-13\",\"2023-01-13\",\"2023-01-13\",\"2023-01-13\",\"2023-01-13\",\"2023-01-13\",\"2023-01-13\",\"2023-01-13\",\"2023-01-13\",\"2023-01-13\",\"2023-01-13\",\"2023-01-13\",\"2023-01-13\",\"2023-01-13\",\"2023-01-13\",\"2023-01-13\",\"2023-01-13\",\"2023-01-13\",\"2023-01-13\",\"2023-01-13\",\"2023-01-13\",\"2023-01-13\",\"2023-01-13\",\"2023-01-13\",\"2023-01-13\",\"2023-01-13\",\"2023-01-13\",\"2023-01-13\",\"2023-01-13\",\"2023-01-13\",\"2023-01-13\",\"2023-01-13\",\"2023-01-13\",\"2023-01-13\",\"2023-01-13\",\"2023-01-13\",\"2023-01-13\",\"2023-01-13\",\"2023-01-13\",\"2023-01-13\",\"2023-01-20\",\"2023-01-20\",\"2023-01-20\",\"2023-01-20\",\"2023-01-20\",\"2023-01-20\",\"2023-01-20\",\"2023-01-20\",\"2023-01-20\",\"2023-01-20\",\"2023-01-20\",\"2023-01-20\",\"2023-01-20\",\"2023-01-20\",\"2023-01-20\",\"2023-01-20\",\"2023-01-20\",\"2023-01-20\",\"2023-01-20\",\"2023-01-20\",\"2023-01-20\",\"2023-01-20\",\"2023-01-20\",\"2023-01-20\",\"2023-01-20\",\"2023-01-20\",\"2023-01-20\",\"2023-01-20\",\"2023-01-20\",\"2023-01-20\",\"2023-01-20\",\"2023-01-20\",\"2023-01-20\",\"2023-01-20\",\"2023-01-20\",\"2023-01-20\",\"2023-01-20\",\"2023-01-20\",\"2023-01-20\",\"2023-01-20\",\"2023-01-20\",\"2023-01-20\",\"2023-01-20\",\"2023-01-20\",\"2023-01-20\",\"2023-01-20\",\"2023-01-20\",\"2023-01-20\",\"2023-01-20\",\"2023-01-20\",\"2023-01-20\",\"2023-01-20\",\"2023-01-20\",\"2023-01-20\",\"2023-01-20\",\"2023-01-20\",\"2023-01-20\",\"2023-01-20\",\"2023-01-20\",\"2023-01-20\",\"2023-01-20\",\"2023-01-20\",\"2023-01-20\",\"2023-01-20\",\"2023-01-20\",\"2023-01-20\",\"2023-01-20\",\"2023-01-20\",\"2023-01-20\",\"2023-01-20\",\"2023-01-20\",\"2023-01-20\",\"2023-01-20\",\"2023-01-20\",\"2023-01-20\",\"2023-01-20\",\"2023-01-20\",\"2023-01-20\",\"2023-01-20\",\"2023-01-20\",\"2023-01-20\",\"2023-01-20\",\"2023-01-20\",\"2023-01-20\",\"2023-01-20\",\"2023-01-20\",\"2023-01-20\",\"2023-01-20\",\"2023-01-20\",\"2023-01-20\",\"2023-01-20\",\"2023-01-20\",\"2023-01-20\",\"2023-01-27\",\"2023-01-27\",\"2023-01-27\",\"2023-01-27\",\"2023-01-27\",\"2023-01-27\",\"2023-01-27\",\"2023-01-27\",\"2023-01-27\",\"2023-01-27\",\"2023-01-27\",\"2023-01-27\",\"2023-01-27\",\"2023-01-27\",\"2023-01-27\",\"2023-01-27\",\"2023-01-27\",\"2023-01-27\",\"2023-01-27\",\"2023-01-27\",\"2023-01-27\",\"2023-01-27\",\"2023-01-27\",\"2023-01-27\",\"2023-01-27\",\"2023-01-27\",\"2023-01-27\",\"2023-01-27\",\"2023-01-27\",\"2023-01-27\",\"2023-01-27\",\"2023-01-27\",\"2023-01-27\",\"2023-01-27\",\"2023-01-27\",\"2023-01-27\",\"2023-01-27\",\"2023-01-27\",\"2023-01-27\",\"2023-01-27\",\"2023-01-27\",\"2023-01-27\",\"2023-01-27\",\"2023-01-27\",\"2023-01-27\",\"2023-01-27\",\"2023-01-27\",\"2023-01-27\",\"2023-01-27\",\"2023-01-27\",\"2023-01-27\",\"2023-01-27\",\"2023-01-27\",\"2023-01-27\",\"2023-01-27\",\"2023-01-27\",\"2023-01-27\",\"2023-01-27\",\"2023-01-27\",\"2023-01-27\",\"2023-01-27\",\"2023-01-27\",\"2023-01-27\",\"2023-01-27\",\"2023-01-27\",\"2023-01-27\",\"2023-01-27\",\"2023-01-27\",\"2023-01-27\",\"2023-01-27\",\"2023-01-27\",\"2023-01-27\",\"2023-01-27\",\"2023-01-27\",\"2023-01-27\",\"2023-01-27\",\"2023-01-27\",\"2023-01-27\",\"2023-01-27\",\"2023-01-27\",\"2023-01-27\",\"2023-01-27\",\"2023-01-27\",\"2023-01-27\",\"2023-01-27\",\"2023-01-27\",\"2023-01-27\",\"2023-01-27\",\"2023-01-27\",\"2023-01-27\",\"2023-01-27\",\"2023-02-03\",\"2023-02-03\",\"2023-02-03\",\"2023-02-03\",\"2023-02-03\",\"2023-02-03\",\"2023-02-03\",\"2023-02-03\",\"2023-02-03\",\"2023-02-03\",\"2023-02-03\",\"2023-02-03\",\"2023-02-03\",\"2023-02-03\",\"2023-02-03\",\"2023-02-03\",\"2023-02-03\",\"2023-02-03\",\"2023-02-03\",\"2023-02-03\",\"2023-02-03\",\"2023-02-03\",\"2023-02-03\",\"2023-02-03\",\"2023-02-03\",\"2023-02-03\",\"2023-02-03\",\"2023-02-03\",\"2023-02-03\",\"2023-02-03\",\"2023-02-03\",\"2023-02-03\",\"2023-02-03\",\"2023-02-03\",\"2023-02-03\",\"2023-02-03\",\"2023-02-03\",\"2023-02-03\",\"2023-02-03\",\"2023-02-03\",\"2023-02-03\",\"2023-02-03\",\"2023-03-03\",\"2023-02-03\",\"2023-02-03\",\"2023-02-03\",\"2023-02-03\",\"2023-02-03\",\"2023-02-03\",\"2023-02-03\",\"2023-02-03\",\"2023-02-03\",\"2023-02-03\",\"2023-02-03\",\"2023-02-03\",\"2023-02-03\",\"2023-02-03\",\"2023-02-03\",\"2023-02-03\",\"2023-02-03\",\"2023-02-03\",\"2023-02-03\",\"2023-02-03\",\"2023-02-03\",\"2023-02-03\",\"2023-02-03\",\"2023-02-03\",\"2023-02-03\",\"2023-02-03\",\"2023-02-03\",\"2023-02-03\",\"2023-02-03\",\"2023-02-03\",\"2023-02-03\",\"2023-02-03\",\"2023-02-03\",\"2023-02-03\",\"2023-02-03\",\"2023-02-03\",\"2023-02-03\",\"2023-02-03\",\"2023-02-03\",\"2023-02-03\",\"2023-02-03\",\"2023-02-03\",\"2023-02-03\",\"2023-02-03\",\"2023-02-03\",\"2023-02-03\",\"2023-02-03\",\"2023-02-03\",\"2023-02-03\",\"2023-02-03\",\"2023-02-03\",\"2023-02-10\",\"2023-02-10\",\"2023-02-10\",\"2023-02-10\",\"2023-02-10\",\"2023-02-10\",\"2023-02-10\",\"2023-02-10\",\"2023-02-10\",\"2023-02-10\",\"2023-02-10\",\"2023-02-10\",\"2023-02-10\",\"2023-02-10\",\"2023-02-10\",\"2023-02-10\",\"2023-02-10\",\"2023-02-10\",\"2023-02-10\",\"2023-02-10\",\"2023-02-10\",\"2023-02-10\",\"2023-02-10\",\"2023-02-10\",\"2023-02-10\",\"2023-02-10\",\"2023-02-10\",\"2023-02-10\",\"2023-02-10\",\"2023-02-10\",\"2023-02-10\",\"2023-02-10\",\"2023-02-10\",\"2023-02-10\",\"2023-02-10\",\"2023-02-10\",\"2023-02-10\",\"2023-02-10\",\"2023-02-10\",\"2023-02-10\",\"2023-02-10\",\"2023-02-10\",\"2023-02-10\",\"2023-02-10\",\"2023-02-10\",\"2023-02-10\",\"2023-02-10\",\"2023-02-10\",\"2023-02-10\",\"2023-02-10\",\"2023-02-10\",\"2023-02-10\",\"2023-02-10\",\"2023-02-10\",\"2023-02-10\",\"2023-02-10\",\"2023-02-10\",\"2023-02-10\",\"2023-02-10\",\"2023-02-10\",\"2023-02-10\",\"2023-02-10\",\"2023-02-10\",\"2023-02-10\",\"2023-02-10\",\"2023-02-10\",\"2023-02-10\",\"2023-02-10\",\"2023-02-10\",\"2023-02-10\",\"2023-02-10\",\"2023-02-10\",\"2023-02-10\",\"2023-02-10\",\"2023-02-10\",\"2023-02-10\",\"2023-02-10\",\"2023-02-10\",\"2023-02-10\",\"2023-02-10\",\"2023-02-10\",\"2023-02-10\",\"2023-02-10\",\"2023-02-10\",\"2023-02-10\",\"2023-02-10\",\"2023-02-10\",\"2023-02-10\",\"2023-02-10\",\"2023-02-10\",\"2023-02-10\",\"2023-02-10\",\"2023-02-10\",\"2023-02-17\",\"2023-02-17\",\"2023-02-17\",\"2023-02-17\",\"2023-02-17\",\"2023-02-17\",\"2023-02-17\",\"2023-02-17\",\"2023-02-17\",\"2023-02-17\",\"2023-02-17\",\"2023-02-17\",\"2023-02-17\",\"2023-02-17\",\"2023-02-17\",\"2023-02-17\",\"2023-02-17\",\"2023-02-17\",\"2023-02-17\",\"2023-02-17\",\"2023-02-17\",\"2023-02-17\",\"2023-02-17\",\"2023-02-17\",\"2023-02-17\",\"2023-02-17\",\"2023-02-17\",\"2023-02-17\",\"2023-02-17\",\"2023-02-17\",\"2023-02-17\",\"2023-02-17\",\"2023-02-17\",\"2023-02-17\",\"2023-02-17\",\"2023-02-17\",\"2023-02-17\",\"2023-02-17\",\"2023-02-17\",\"2023-02-17\",\"2023-02-17\",\"2023-02-17\",\"2023-02-17\",\"2023-02-17\",\"2023-02-17\",\"2023-02-17\",\"2023-02-17\",\"2023-02-17\",\"2023-02-17\",\"2023-02-17\",\"2023-02-17\",\"2023-02-17\",\"2023-02-17\",\"2023-02-17\",\"2023-02-17\",\"2023-02-17\",\"2023-02-17\",\"2023-02-17\",\"2023-02-17\",\"2023-02-17\",\"2023-02-17\",\"2023-02-17\",\"2023-02-17\",\"2023-02-17\",\"2023-02-17\",\"2023-02-17\",\"2023-02-17\",\"2023-02-17\",\"2023-02-17\",\"2023-02-17\",\"2023-02-17\",\"2023-02-17\",\"2023-02-17\",\"2023-02-17\",\"2023-02-17\",\"2023-02-17\",\"2023-02-17\",\"2023-02-17\",\"2023-02-17\",\"2023-02-17\",\"2023-02-17\",\"2023-02-17\",\"2023-02-17\",\"2023-02-17\",\"2023-02-17\",\"2023-02-17\",\"2023-02-17\",\"2023-02-17\",\"2023-02-17\",\"2023-02-17\",\"2023-02-17\",\"2023-02-24\",\"2023-02-24\",\"2023-02-24\",\"2023-02-24\",\"2023-02-24\",\"2023-02-24\",\"2023-02-24\",\"2023-02-24\",\"2023-02-24\",\"2023-02-24\",\"2023-02-24\",\"2023-02-24\",\"2023-02-24\",\"2023-02-24\",\"2023-02-24\",\"2023-02-24\",\"2023-02-24\",\"2023-02-24\",\"2023-02-24\",\"2023-02-24\",\"2023-02-24\",\"2023-02-24\",\"2023-02-24\",\"2023-02-24\",\"2023-02-24\",\"2023-02-24\",\"2023-02-24\",\"2023-02-24\",\"2023-02-24\",\"2023-02-24\",\"2023-02-24\",\"2023-02-24\",\"2023-02-24\",\"2023-02-24\",\"2023-02-24\",\"2023-02-24\",\"2023-02-24\",\"2023-02-24\",\"2023-02-24\",\"2023-02-24\",\"2023-02-24\",\"2023-02-24\",\"2023-02-24\",\"2023-02-24\",\"2023-03-03\",\"2023-02-24\",\"2023-02-24\",\"2023-02-24\",\"2023-02-24\",\"2023-02-24\",\"2023-02-24\",\"2023-02-24\",\"2023-02-24\",\"2023-02-24\",\"2023-02-24\",\"2023-02-24\",\"2023-02-24\",\"2023-02-24\",\"2023-02-24\",\"2023-02-24\",\"2023-02-24\",\"2023-02-24\",\"2023-02-24\",\"2023-02-24\",\"2023-02-24\",\"2023-02-24\",\"2023-02-24\",\"2023-02-24\",\"2023-02-24\",\"2023-02-24\",\"2023-02-24\",\"2023-02-24\",\"2023-02-24\",\"2023-02-24\",\"2023-02-24\",\"2023-02-24\",\"2023-02-24\",\"2023-02-24\",\"2023-02-24\",\"2023-02-24\",\"2023-02-24\",\"2023-02-24\",\"2023-02-24\",\"2023-02-24\",\"2023-02-24\",\"2023-02-24\",\"2023-02-24\",\"2023-02-24\",\"2023-02-24\",\"2023-02-24\",\"2023-02-24\",\"2023-02-24\",\"2023-03-03\",\"2023-03-03\",\"2023-03-03\",\"2023-03-03\",\"2023-03-03\",\"2023-03-03\",\"2023-03-03\",\"2023-03-03\",\"2023-03-03\",\"2023-03-03\",\"2023-03-03\",\"2023-03-03\",\"2023-03-03\",\"2023-03-03\",\"2023-03-03\",\"2023-03-03\",\"2023-03-03\",\"2023-03-03\",\"2023-03-03\",\"2023-03-03\",\"2023-03-03\",\"2023-03-03\",\"2023-03-03\",\"2023-03-03\",\"2023-03-03\",\"2023-03-03\",\"2023-03-03\",\"2023-03-03\",\"2023-03-03\",\"2023-03-03\",\"2023-03-03\",\"2023-03-03\",\"2023-03-03\",\"2023-03-03\",\"2023-03-03\",\"2023-03-03\",\"2023-03-03\",\"2023-03-03\",\"2023-03-03\",\"2023-03-03\",\"2023-03-03\",\"2023-03-03\",\"2023-03-03\",\"2023-03-03\",\"2023-03-03\",\"2023-03-03\",\"2023-03-03\",\"2023-03-03\",\"2023-03-03\",\"2023-03-03\",\"2023-03-03\",\"2023-03-03\",\"2023-03-03\",\"2023-03-03\",\"2023-03-03\",\"2023-03-03\",\"2023-03-03\",\"2023-03-03\",\"2023-03-03\",\"2023-03-03\",\"2023-03-03\",\"2023-03-03\",\"2023-03-03\",\"2023-03-03\",\"2023-03-03\",\"2023-03-03\",\"2023-03-03\",\"2023-03-03\",\"2023-03-03\",\"2023-03-03\",\"2023-03-03\",\"2023-03-03\",\"2023-03-03\",\"2023-03-03\",\"2023-03-03\",\"2023-03-03\",\"2023-03-03\",\"2023-03-03\",\"2023-03-03\",\"2023-03-03\",\"2023-03-03\",\"2023-03-03\",\"2023-03-03\",\"2023-03-03\",\"2023-03-03\",\"2023-03-03\",\"2023-03-03\",\"2023-03-03\",\"2023-03-03\",\"2023-03-03\",\"2023-03-03\",\"2023-03-10\",\"2023-03-10\",\"2023-03-10\",\"2023-03-10\",\"2023-03-10\",\"2023-03-10\",\"2023-03-10\",\"2023-03-10\",\"2023-03-10\",\"2023-03-10\",\"2023-03-10\",\"2023-03-10\",\"2023-03-10\",\"2023-03-10\",\"2023-03-10\",\"2023-03-10\",\"2023-03-10\",\"2023-03-10\",\"2023-03-10\",\"2023-03-10\",\"2023-03-10\",\"2023-03-10\",\"2023-03-10\",\"2023-03-10\",\"2023-03-10\",\"2023-03-10\",\"2023-03-10\",\"2023-03-10\",\"2023-03-10\",\"2023-03-10\",\"2023-03-10\",\"2023-03-10\",\"2023-03-10\",\"2023-03-10\",\"2023-03-10\",\"2023-03-10\",\"2023-03-10\",\"2023-03-10\",\"2023-03-10\",\"2023-03-10\",\"2023-03-10\",\"2023-03-10\",\"2023-03-10\",\"2023-03-10\",\"2023-03-10\",\"2023-03-10\",\"2023-03-10\",\"2023-03-10\",\"2023-03-10\",\"2023-03-10\",\"2023-03-10\",\"2023-03-10\",\"2023-03-10\",\"2023-03-10\",\"2023-03-10\",\"2023-03-10\",\"2023-03-10\",\"2023-03-10\",\"2023-03-10\",\"2023-03-10\",\"2023-03-10\",\"2023-03-10\",\"2023-03-10\",\"2023-03-10\",\"2023-03-10\",\"2023-03-10\",\"2023-03-10\",\"2023-03-10\",\"2023-03-10\",\"2023-03-10\",\"2023-03-10\",\"2023-03-10\",\"2023-03-10\",\"2023-03-10\",\"2023-03-10\",\"2023-03-10\",\"2023-03-10\",\"2023-03-10\",\"2023-03-10\",\"2023-03-10\",\"2023-03-10\",\"2023-03-10\",\"2023-03-10\",\"2023-03-10\",\"2023-03-10\",\"2023-03-10\",\"2023-03-10\",\"2023-03-10\",\"2023-03-10\",\"2023-03-10\",\"2023-03-10\",\"2023-03-10\",\"2023-03-10\",\"2023-03-17\",\"2023-03-17\",\"2023-03-17\",\"2023-03-17\",\"2023-03-17\",\"2023-03-17\",\"2023-03-17\",\"2023-03-17\",\"2023-03-17\",\"2023-03-17\",\"2023-03-17\",\"2023-03-17\",\"2023-03-17\",\"2023-03-17\",\"2023-03-17\",\"2023-03-17\",\"2023-03-17\",\"2023-03-17\",\"2023-03-17\",\"2023-03-17\",\"2023-03-17\",\"2023-03-17\",\"2023-03-17\",\"2023-03-17\",\"2023-03-17\",\"2023-03-17\",\"2023-03-17\",\"2023-03-17\",\"2023-03-17\",\"2023-03-17\",\"2023-03-17\",\"2023-03-17\",\"2023-03-17\",\"2023-03-17\",\"2023-03-17\",\"2023-03-17\",\"2023-03-17\",\"2023-03-17\",\"2023-03-17\",\"2023-03-17\",\"2023-03-17\",\"2023-03-17\",\"2023-03-17\",\"2023-03-17\",\"2023-03-17\",\"2023-03-17\",\"2023-03-17\",\"2023-03-17\",\"2023-03-17\",\"2023-03-17\",\"2023-03-17\",\"2023-03-17\",\"2023-03-17\",\"2023-03-17\",\"2023-03-17\",\"2023-03-17\",\"2023-03-17\",\"2023-03-17\",\"2023-03-17\",\"2023-03-17\",\"2023-03-17\",\"2023-03-17\",\"2023-03-17\",\"2023-03-17\",\"2023-03-17\",\"2023-03-17\",\"2023-03-17\",\"2023-03-17\",\"2023-03-17\",\"2023-03-17\",\"2023-03-17\",\"2023-03-17\",\"2023-03-17\",\"2023-03-17\",\"2023-03-17\",\"2023-03-17\",\"2023-03-17\",\"2023-03-17\",\"2023-03-17\",\"2023-03-17\",\"2023-03-17\",\"2023-03-17\",\"2023-03-17\",\"2023-03-17\",\"2023-03-17\",\"2023-03-17\",\"2023-03-17\",\"2023-03-17\",\"2023-03-17\",\"2023-03-17\",\"2023-03-17\",\"2023-03-17\",\"2023-03-17\",\"2023-03-24\",\"2023-03-24\",\"2023-03-24\",\"2023-03-24\",\"2023-03-24\",\"2023-03-24\",\"2023-03-24\",\"2023-03-24\",\"2023-03-24\",\"2023-03-24\",\"2023-03-24\",\"2023-03-24\",\"2023-03-24\",\"2023-03-24\",\"2023-03-24\",\"2023-03-24\",\"2023-03-24\",\"2023-03-24\",\"2023-03-24\",\"2023-03-24\",\"2023-03-24\",\"2023-03-24\",\"2023-03-24\",\"2023-03-24\",\"2023-03-24\",\"2023-03-24\",\"2023-03-24\",\"2023-03-24\",\"2023-03-24\",\"2023-03-24\",\"2023-03-24\",\"2023-03-24\",\"2023-03-24\",\"2023-03-24\",\"2023-03-24\",\"2023-03-24\",\"2023-03-24\",\"2023-03-24\",\"2023-03-24\",\"2023-03-24\",\"2023-03-24\",\"2023-03-24\",\"2023-03-24\",\"2023-03-24\",\"2023-03-24\",\"2023-03-24\",\"2023-03-24\"],\"xaxis\":\"x\",\"y\":[0.422,0.655,0.381,0.314,0.324,0.798,0.118,0.502,0.684,0.667,0.635,0.598,0.336,0.219,0.702,0.492,0.432,0.358,0.463,0.469,0.62,0.555,0.468,0.0899,0.758,0.463,0.348,0.707,0.609,0.395,0.12,0.428,0.276,0.543,0.678,0.386,0.814,0.387,0.238,0.662,0.12,0.118,0.442,0.403,0.661,0.519,0.134,0.326,0.836,0.136,0.42,0.406,0.694,0.466,0.785,0.513,0.947,0.255,0.622,0.422,0.427,0.627,0.907,0.963,0.374,0.968,0.131,0.338,0.228,0.502,0.64,0.422,0.139,0.675,0.572,0.828,0.503,0.96,0.605,0.89,0.649,0.702,0.314,0.254,0.967,0.788,0.599,0.684,0.423,0.187,0.437,0.662,0.429,0.897,0.422,0.655,0.381,0.632,0.324,0.798,0.314,0.502,0.598,0.684,0.635,0.667,0.702,0.118,0.219,0.336,0.555,0.348,0.0899,0.492,0.463,0.468,0.463,0.469,0.118,0.12,0.358,0.678,0.758,0.62,0.707,0.572,0.422,0.395,0.543,0.432,0.423,0.276,0.12,0.387,0.238,0.814,0.661,0.386,0.662,0.134,0.428,0.403,0.513,0.627,0.785,0.466,0.136,0.519,0.326,0.947,0.422,0.609,0.828,0.406,0.836,0.442,0.675,0.228,0.942,0.314,0.503,0.897,0.968,0.254,0.694,0.139,0.255,0.374,0.599,0.254,0.427,0.907,0.605,0.753,0.484,0.351,0.429,0.338,0.579,0.774,0.502,0.562,0.415,0.967,0.482,0.598,0.438,0.231,0.632,0.422,0.655,0.381,0.798,0.324,0.598,0.219,0.502,0.314,0.667,0.635,0.684,0.702,0.336,0.118,0.463,0.463,0.348,0.0899,0.555,0.468,0.422,0.492,0.678,0.572,0.469,0.358,0.395,0.707,0.276,0.62,0.12,0.758,0.12,0.814,0.118,0.134,0.543,0.519,0.609,0.662,0.661,0.947,0.675,0.428,0.238,0.466,0.524,0.403,0.627,0.406,0.326,0.432,0.255,0.442,0.513,0.494,0.427,0.387,0.968,0.61,0.422,0.785,0.694,0.139,0.386,0.942,0.967,0.828,0.547,0.788,0.502,0.338,0.239,0.584,0.429,0.605,0.314,0.562,0.437,0.703,0.418,0.254,0.719,0.753,0.598,0.542,0.836,0.534,0.579,0.374,0.117,0.632,0.422,0.655,0.381,0.798,0.324,0.635,0.502,0.219,0.598,0.684,0.314,0.702,0.667,0.118,0.336,0.348,0.463,0.0899,0.555,0.463,0.492,0.468,0.678,0.469,0.422,0.358,0.572,0.276,0.707,0.62,0.12,0.494,0.395,0.758,0.406,0.12,0.118,0.543,0.326,0.466,0.403,0.814,0.662,0.134,0.609,0.238,0.661,0.428,0.524,0.519,0.675,0.627,0.432,0.338,0.255,0.947,0.387,0.513,0.422,0.785,0.139,0.427,0.694,0.386,0.828,0.942,0.662,0.605,0.774,0.562,0.442,0.547,0.502,0.584,0.61,0.598,0.542,0.228,0.351,0.418,0.429,0.603,0.967,0.374,0.368,0.703,0.788,0.314,0.534,0.599,0.632,0.422,0.142,0.655,0.381,0.798,0.324,0.219,0.598,0.502,0.702,0.635,0.684,0.667,0.492,0.314,0.463,0.555,0.422,0.336,0.0899,0.118,0.463,0.348,0.468,0.678,0.469,0.276,0.572,0.524,0.707,0.134,0.494,0.12,0.814,0.62,0.326,0.358,0.406,0.238,0.758,0.694,0.635,0.12,0.609,0.662,0.543,0.661,0.947,0.675,0.428,0.403,0.519,0.627,0.466,0.562,0.422,0.0426,0.228,0.432,0.387,0.255,0.118,0.502,0.513,0.442,0.365,0.828,0.967,0.139,0.395,0.942,0.386,0.542,0.595,0.788,0.785,0.239,0.968,0.774,0.605,0.836,0.61,0.48,0.719,0.0626,0.285,0.662,0.437,0.198,0.534,0.547,0.427,0.429,0.595,0.632,0.422,0.655,0.702,0.381,0.219,0.798,0.598,0.635,0.492,0.684,0.502,0.667,0.142,0.336,0.314,0.422,0.348,0.463,0.678,0.463,0.555,0.276,0.481,0.358,0.468,0.118,0.572,0.524,0.675,0.469,0.707,0.12,0.0899,0.326,0.494,0.62,0.12,0.814,0.406,0.543,0.466,0.238,0.428,0.324,0.609,0.758,0.661,0.627,0.139,0.662,0.947,0.562,0.387,0.403,0.513,0.432,0.502,0.422,0.667,0.519,0.694,0.968,0.785,0.386,0.334,0.702,0.563,0.31,0.942,0.553,0.967,0.418,0.605,0.489,0.542,0.788,0.239,0.255,0.774,0.442,0.61,0.136,0.589,0.306,0.719,0.285,0.48,0.547,0.644,0.662,0.437,0.595,0.632,0.422,0.702,0.655,0.219,0.381,0.142,0.598,0.667,0.502,0.336,0.492,0.798,0.422,0.684,0.635,0.635,0.0899,0.707,0.463,0.678,0.481,0.314,0.358,0.276,0.12,0.118,0.675,0.457,0.463,0.403,0.422,0.469,0.12,0.543,0.524,0.348,0.562,0.324,0.466,0.428,0.214,0.387,0.62,0.661,0.139,0.627,0.814,0.662,0.494,0.513,0.758,0.555,0.406,0.306,0.542,0.468,0.947,0.609,0.942,0.31,0.667,0.255,0.395,0.662,0.968,0.563,0.432,0.326,0.323,0.605,0.502,0.828,0.415,0.117,0.547,0.489,0.785,0.116,0.48,0.519,0.555,0.442,0.548,0.694,0.61,0.0348,0.703,0.599,0.393,0.595,0.702,0.422,0.632,0.655,0.219,0.142,0.381,0.667,0.598,0.502,0.336,0.635,0.492,0.684,0.422,0.798,0.0899,0.635,0.707,0.678,0.463,0.358,0.276,0.134,0.457,0.12,0.422,0.562,0.675,0.524,0.481,0.463,0.314,0.118,0.469,0.543,0.551,0.466,0.139,0.494,0.324,0.428,0.662,0.358,0.627,0.406,0.661,0.62,0.387,0.542,0.306,0.348,0.609,0.942,0.555,0.519,0.452,0.513,0.814,0.468,0.667,0.584,0.572,0.758,0.502,0.968,0.0348,0.172,0.967,0.214,0.326,0.547,0.442,0.662,0.12,0.589,0.323,0.137,0.828,0.694,0.418,0.437,0.116,0.403,0.255,0.415,0.599,0.609,0.489,0.279,0.548,0.595,0.702,0.655,0.422,0.219,0.632,0.142,0.25,0.381,0.502,0.667,0.598,0.684,0.134,0.336,0.492,0.635,0.798,0.422,0.463,0.707,0.678,0.457,0.276,0.12,0.0899,0.667,0.562,0.314,0.524,0.675,0.481,0.469,0.661,0.543,0.466,0.406,0.324,0.428,0.662,0.118,0.139,0.627,0.348,0.306,0.609,0.62,0.214,0.542,0.584,0.572,0.513,0.563,0.387,0.494,0.0348,0.468,0.551,0.12,0.968,0.942,0.497,0.172,0.694,0.35,0.255,0.547,0.442,0.675,0.662,0.326,0.502,0.422,0.814,0.555,0.609,0.273,0.323,0.828,0.758,0.705,0.624,0.799,0.426,0.197,0.437,0.519,0.967,0.403,0.489,0.548,0.595,0.702,0.655,0.422,0.219,0.632,0.134,0.142,0.598,0.667,0.684,0.492,0.502,0.381,0.336,0.422,0.635,0.798,0.635,0.707,0.463,0.381,0.219,0.358,0.678,0.276,0.457,0.481,0.667,0.12,0.139,0.524,0.0899,0.306,0.466,0.35,0.675,0.214,0.543,0.428,0.469,0.661,0.324,0.562,0.348,0.609,0.694,0.627,0.314,0.406,0.118,0.494,0.942,0.387,0.662,0.62,0.603,0.12,0.468,0.662,0.422,0.563,0.117,0.25,0.0396,0.502,0.542,0.555,0.675,0.172,0.609,0.513,0.551,0.572,0.442,0.968,0.589,0.526,0.519,0.527,0.785,0.0348,0.814,0.338,0.0626,0.828,0.497,0.415,0.437,0.468,0.703,0.624,0.752,0.595,0.702,0.632,0.655,0.422,0.219,0.134,0.598,0.492,0.142,0.667,0.381,0.502,0.684,0.336,0.635,0.219,0.422,0.798,0.635,0.463,0.481,0.381,0.457,0.358,0.678,0.276,0.562,0.524,0.707,0.667,0.12,0.139,0.466,0.306,0.675,0.609,0.661,0.543,0.214,0.428,0.35,0.324,0.469,0.348,0.406,0.694,0.551,0.627,0.609,0.422,0.494,0.12,0.314,0.118,0.442,0.285,0.563,0.387,0.603,0.62,0.502,0.338,0.662,0.497,0.513,0.942,0.172,0.828,0.117,0.542,0.968,0.814,0.555,0.572,0.25,0.0396,0.0348,0.675,0.547,0.468,0.967,0.255,0.705,0.403,0.0899,0.437,0.526,0.527,0.326,0.427,0.415,0.589,0.595,0.702,0.134,0.632,0.655,0.219,0.422,0.381,0.598,0.142,0.502,0.492,0.667,0.684,0.635,0.381,0.422,0.336,0.798,0.463,0.635,0.481,0.457,0.678,0.219,0.306,0.667,0.358,0.707,0.562,0.422,0.526,0.276,0.675,0.551,0.609,0.214,0.524,0.348,0.12,0.428,0.694,0.139,0.661,0.543,0.155,0.12],\"yaxis\":\"y\",\"type\":\"scattergl\"}],                        {\"template\":{\"data\":{\"histogram2dcontour\":[{\"type\":\"histogram2dcontour\",\"colorbar\":{\"outlinewidth\":0,\"ticks\":\"\"},\"colorscale\":[[0.0,\"#0d0887\"],[0.1111111111111111,\"#46039f\"],[0.2222222222222222,\"#7201a8\"],[0.3333333333333333,\"#9c179e\"],[0.4444444444444444,\"#bd3786\"],[0.5555555555555556,\"#d8576b\"],[0.6666666666666666,\"#ed7953\"],[0.7777777777777778,\"#fb9f3a\"],[0.8888888888888888,\"#fdca26\"],[1.0,\"#f0f921\"]]}],\"choropleth\":[{\"type\":\"choropleth\",\"colorbar\":{\"outlinewidth\":0,\"ticks\":\"\"}}],\"histogram2d\":[{\"type\":\"histogram2d\",\"colorbar\":{\"outlinewidth\":0,\"ticks\":\"\"},\"colorscale\":[[0.0,\"#0d0887\"],[0.1111111111111111,\"#46039f\"],[0.2222222222222222,\"#7201a8\"],[0.3333333333333333,\"#9c179e\"],[0.4444444444444444,\"#bd3786\"],[0.5555555555555556,\"#d8576b\"],[0.6666666666666666,\"#ed7953\"],[0.7777777777777778,\"#fb9f3a\"],[0.8888888888888888,\"#fdca26\"],[1.0,\"#f0f921\"]]}],\"heatmap\":[{\"type\":\"heatmap\",\"colorbar\":{\"outlinewidth\":0,\"ticks\":\"\"},\"colorscale\":[[0.0,\"#0d0887\"],[0.1111111111111111,\"#46039f\"],[0.2222222222222222,\"#7201a8\"],[0.3333333333333333,\"#9c179e\"],[0.4444444444444444,\"#bd3786\"],[0.5555555555555556,\"#d8576b\"],[0.6666666666666666,\"#ed7953\"],[0.7777777777777778,\"#fb9f3a\"],[0.8888888888888888,\"#fdca26\"],[1.0,\"#f0f921\"]]}],\"heatmapgl\":[{\"type\":\"heatmapgl\",\"colorbar\":{\"outlinewidth\":0,\"ticks\":\"\"},\"colorscale\":[[0.0,\"#0d0887\"],[0.1111111111111111,\"#46039f\"],[0.2222222222222222,\"#7201a8\"],[0.3333333333333333,\"#9c179e\"],[0.4444444444444444,\"#bd3786\"],[0.5555555555555556,\"#d8576b\"],[0.6666666666666666,\"#ed7953\"],[0.7777777777777778,\"#fb9f3a\"],[0.8888888888888888,\"#fdca26\"],[1.0,\"#f0f921\"]]}],\"contourcarpet\":[{\"type\":\"contourcarpet\",\"colorbar\":{\"outlinewidth\":0,\"ticks\":\"\"}}],\"contour\":[{\"type\":\"contour\",\"colorbar\":{\"outlinewidth\":0,\"ticks\":\"\"},\"colorscale\":[[0.0,\"#0d0887\"],[0.1111111111111111,\"#46039f\"],[0.2222222222222222,\"#7201a8\"],[0.3333333333333333,\"#9c179e\"],[0.4444444444444444,\"#bd3786\"],[0.5555555555555556,\"#d8576b\"],[0.6666666666666666,\"#ed7953\"],[0.7777777777777778,\"#fb9f3a\"],[0.8888888888888888,\"#fdca26\"],[1.0,\"#f0f921\"]]}],\"surface\":[{\"type\":\"surface\",\"colorbar\":{\"outlinewidth\":0,\"ticks\":\"\"},\"colorscale\":[[0.0,\"#0d0887\"],[0.1111111111111111,\"#46039f\"],[0.2222222222222222,\"#7201a8\"],[0.3333333333333333,\"#9c179e\"],[0.4444444444444444,\"#bd3786\"],[0.5555555555555556,\"#d8576b\"],[0.6666666666666666,\"#ed7953\"],[0.7777777777777778,\"#fb9f3a\"],[0.8888888888888888,\"#fdca26\"],[1.0,\"#f0f921\"]]}],\"mesh3d\":[{\"type\":\"mesh3d\",\"colorbar\":{\"outlinewidth\":0,\"ticks\":\"\"}}],\"scatter\":[{\"fillpattern\":{\"fillmode\":\"overlay\",\"size\":10,\"solidity\":0.2},\"type\":\"scatter\"}],\"parcoords\":[{\"type\":\"parcoords\",\"line\":{\"colorbar\":{\"outlinewidth\":0,\"ticks\":\"\"}}}],\"scatterpolargl\":[{\"type\":\"scatterpolargl\",\"marker\":{\"colorbar\":{\"outlinewidth\":0,\"ticks\":\"\"}}}],\"bar\":[{\"error_x\":{\"color\":\"#2a3f5f\"},\"error_y\":{\"color\":\"#2a3f5f\"},\"marker\":{\"line\":{\"color\":\"#E5ECF6\",\"width\":0.5},\"pattern\":{\"fillmode\":\"overlay\",\"size\":10,\"solidity\":0.2}},\"type\":\"bar\"}],\"scattergeo\":[{\"type\":\"scattergeo\",\"marker\":{\"colorbar\":{\"outlinewidth\":0,\"ticks\":\"\"}}}],\"scatterpolar\":[{\"type\":\"scatterpolar\",\"marker\":{\"colorbar\":{\"outlinewidth\":0,\"ticks\":\"\"}}}],\"histogram\":[{\"marker\":{\"pattern\":{\"fillmode\":\"overlay\",\"size\":10,\"solidity\":0.2}},\"type\":\"histogram\"}],\"scattergl\":[{\"type\":\"scattergl\",\"marker\":{\"colorbar\":{\"outlinewidth\":0,\"ticks\":\"\"}}}],\"scatter3d\":[{\"type\":\"scatter3d\",\"line\":{\"colorbar\":{\"outlinewidth\":0,\"ticks\":\"\"}},\"marker\":{\"colorbar\":{\"outlinewidth\":0,\"ticks\":\"\"}}}],\"scattermapbox\":[{\"type\":\"scattermapbox\",\"marker\":{\"colorbar\":{\"outlinewidth\":0,\"ticks\":\"\"}}}],\"scatterternary\":[{\"type\":\"scatterternary\",\"marker\":{\"colorbar\":{\"outlinewidth\":0,\"ticks\":\"\"}}}],\"scattercarpet\":[{\"type\":\"scattercarpet\",\"marker\":{\"colorbar\":{\"outlinewidth\":0,\"ticks\":\"\"}}}],\"carpet\":[{\"aaxis\":{\"endlinecolor\":\"#2a3f5f\",\"gridcolor\":\"white\",\"linecolor\":\"white\",\"minorgridcolor\":\"white\",\"startlinecolor\":\"#2a3f5f\"},\"baxis\":{\"endlinecolor\":\"#2a3f5f\",\"gridcolor\":\"white\",\"linecolor\":\"white\",\"minorgridcolor\":\"white\",\"startlinecolor\":\"#2a3f5f\"},\"type\":\"carpet\"}],\"table\":[{\"cells\":{\"fill\":{\"color\":\"#EBF0F8\"},\"line\":{\"color\":\"white\"}},\"header\":{\"fill\":{\"color\":\"#C8D4E3\"},\"line\":{\"color\":\"white\"}},\"type\":\"table\"}],\"barpolar\":[{\"marker\":{\"line\":{\"color\":\"#E5ECF6\",\"width\":0.5},\"pattern\":{\"fillmode\":\"overlay\",\"size\":10,\"solidity\":0.2}},\"type\":\"barpolar\"}],\"pie\":[{\"automargin\":true,\"type\":\"pie\"}]},\"layout\":{\"autotypenumbers\":\"strict\",\"colorway\":[\"#636efa\",\"#EF553B\",\"#00cc96\",\"#ab63fa\",\"#FFA15A\",\"#19d3f3\",\"#FF6692\",\"#B6E880\",\"#FF97FF\",\"#FECB52\"],\"font\":{\"color\":\"#2a3f5f\"},\"hovermode\":\"closest\",\"hoverlabel\":{\"align\":\"left\"},\"paper_bgcolor\":\"white\",\"plot_bgcolor\":\"#E5ECF6\",\"polar\":{\"bgcolor\":\"#E5ECF6\",\"angularaxis\":{\"gridcolor\":\"white\",\"linecolor\":\"white\",\"ticks\":\"\"},\"radialaxis\":{\"gridcolor\":\"white\",\"linecolor\":\"white\",\"ticks\":\"\"}},\"ternary\":{\"bgcolor\":\"#E5ECF6\",\"aaxis\":{\"gridcolor\":\"white\",\"linecolor\":\"white\",\"ticks\":\"\"},\"baxis\":{\"gridcolor\":\"white\",\"linecolor\":\"white\",\"ticks\":\"\"},\"caxis\":{\"gridcolor\":\"white\",\"linecolor\":\"white\",\"ticks\":\"\"}},\"coloraxis\":{\"colorbar\":{\"outlinewidth\":0,\"ticks\":\"\"}},\"colorscale\":{\"sequential\":[[0.0,\"#0d0887\"],[0.1111111111111111,\"#46039f\"],[0.2222222222222222,\"#7201a8\"],[0.3333333333333333,\"#9c179e\"],[0.4444444444444444,\"#bd3786\"],[0.5555555555555556,\"#d8576b\"],[0.6666666666666666,\"#ed7953\"],[0.7777777777777778,\"#fb9f3a\"],[0.8888888888888888,\"#fdca26\"],[1.0,\"#f0f921\"]],\"sequentialminus\":[[0.0,\"#0d0887\"],[0.1111111111111111,\"#46039f\"],[0.2222222222222222,\"#7201a8\"],[0.3333333333333333,\"#9c179e\"],[0.4444444444444444,\"#bd3786\"],[0.5555555555555556,\"#d8576b\"],[0.6666666666666666,\"#ed7953\"],[0.7777777777777778,\"#fb9f3a\"],[0.8888888888888888,\"#fdca26\"],[1.0,\"#f0f921\"]],\"diverging\":[[0,\"#8e0152\"],[0.1,\"#c51b7d\"],[0.2,\"#de77ae\"],[0.3,\"#f1b6da\"],[0.4,\"#fde0ef\"],[0.5,\"#f7f7f7\"],[0.6,\"#e6f5d0\"],[0.7,\"#b8e186\"],[0.8,\"#7fbc41\"],[0.9,\"#4d9221\"],[1,\"#276419\"]]},\"xaxis\":{\"gridcolor\":\"white\",\"linecolor\":\"white\",\"ticks\":\"\",\"title\":{\"standoff\":15},\"zerolinecolor\":\"white\",\"automargin\":true,\"zerolinewidth\":2},\"yaxis\":{\"gridcolor\":\"white\",\"linecolor\":\"white\",\"ticks\":\"\",\"title\":{\"standoff\":15},\"zerolinecolor\":\"white\",\"automargin\":true,\"zerolinewidth\":2},\"scene\":{\"xaxis\":{\"backgroundcolor\":\"#E5ECF6\",\"gridcolor\":\"white\",\"linecolor\":\"white\",\"showbackground\":true,\"ticks\":\"\",\"zerolinecolor\":\"white\",\"gridwidth\":2},\"yaxis\":{\"backgroundcolor\":\"#E5ECF6\",\"gridcolor\":\"white\",\"linecolor\":\"white\",\"showbackground\":true,\"ticks\":\"\",\"zerolinecolor\":\"white\",\"gridwidth\":2},\"zaxis\":{\"backgroundcolor\":\"#E5ECF6\",\"gridcolor\":\"white\",\"linecolor\":\"white\",\"showbackground\":true,\"ticks\":\"\",\"zerolinecolor\":\"white\",\"gridwidth\":2}},\"shapedefaults\":{\"line\":{\"color\":\"#2a3f5f\"}},\"annotationdefaults\":{\"arrowcolor\":\"#2a3f5f\",\"arrowhead\":0,\"arrowwidth\":1},\"geo\":{\"bgcolor\":\"white\",\"landcolor\":\"#E5ECF6\",\"subunitcolor\":\"white\",\"showland\":true,\"showlakes\":true,\"lakecolor\":\"white\"},\"title\":{\"x\":0.05},\"mapbox\":{\"style\":\"light\"}}},\"xaxis\":{\"anchor\":\"y\",\"domain\":[0.0,1.0],\"title\":{\"text\":\"Week of the Year\"}},\"yaxis\":{\"anchor\":\"x\",\"domain\":[0.0,1.0],\"title\":{\"text\":\"Valence\"}},\"legend\":{\"tracegroupgap\":0},\"title\":{\"text\":\"Scatter Plot of Valence vs. Week of the Year\"}},                        {\"responsive\": true}                    ).then(function(){\n",
       "                            \n",
       "var gd = document.getElementById('c937d4d0-d2af-4102-a015-ec08f455c342');\n",
       "var x = new MutationObserver(function (mutations, observer) {{\n",
       "        var display = window.getComputedStyle(gd).display;\n",
       "        if (!display || display === 'none') {{\n",
       "            console.log([gd, 'removed!']);\n",
       "            Plotly.purge(gd);\n",
       "            observer.disconnect();\n",
       "        }}\n",
       "}});\n",
       "\n",
       "// Listen for the removal of the full notebook cells\n",
       "var notebookContainer = gd.closest('#notebook-container');\n",
       "if (notebookContainer) {{\n",
       "    x.observe(notebookContainer, {childList: true});\n",
       "}}\n",
       "\n",
       "// Listen for the clearing of the current output cell\n",
       "var outputEl = gd.closest('.output');\n",
       "if (outputEl) {{\n",
       "    x.observe(outputEl, {childList: true});\n",
       "}}\n",
       "\n",
       "                        })                };                });            </script>        </div>"
      ]
     },
     "metadata": {},
     "output_type": "display_data"
    }
   ],
   "source": [
    "try:\n",
    "    cnx = psycopg2.connect(\n",
    "        user=db_config['USER'],\n",
    "        password=db_config['PASSWORD'],\n",
    "        host=db_config['HOST'],\n",
    "        port=db_config['PORT'],\n",
    "        database=db_config['NAME']\n",
    "    )\n",
    "\n",
    "    print(\"Connected successfully!\")\n",
    "    cur = cnx.cursor()\n",
    "\n",
    "    # Query to fetch all data from the music_charts table\n",
    "    cur.execute(\"SELECT * FROM music_charts;\")\n",
    "\n",
    "    # Fetch all rows from the table\n",
    "    rows = cur.fetchall()\n",
    "\n",
    "    # Get column names\n",
    "    column_names = [desc[0] for desc in cur.description]\n",
    "\n",
    "    # Create a Pandas DataFrame from the fetched data\n",
    "    df = pd.DataFrame(rows, columns=column_names)\n",
    "\n",
    "    # Close the database connection\n",
    "    cnx.close()\n",
    "\n",
    "    # Now, 'df' is your Pandas DataFrame with the music_charts data\n",
    "    print(df.head())  # Display the first few rows of the DataFrame\n",
    "\n",
    "except Exception as e:\n",
    "    print(f\"Error: {e}\")\n",
    "\n",
    "# Create a scatter plot without text labels\n",
    "fig = px.scatter(df, x='week', y='valence',\n",
    "                 title='Scatter Plot of Valence vs. Week of the Year')\n",
    "\n",
    "# Customize the appearance\n",
    "fig.update_traces(marker=dict(size=10, opacity=0.6))\n",
    "\n",
    "# Set axis labels\n",
    "fig.update_xaxes(title_text='Week of the Year')\n",
    "fig.update_yaxes(title_text='Valence')\n",
    "\n",
    "# Show the plot\n",
    "fig.show()"
   ]
  },
  {
   "cell_type": "code",
   "execution_count": 30,
   "id": "13644617-8539-4112-8d17-343c08343121",
   "metadata": {},
   "outputs": [
    {
     "name": "stderr",
     "output_type": "stream",
     "text": [
      "/opt/conda/lib/python3.11/site-packages/_plotly_utils/basevalidators.py:105: FutureWarning:\n",
      "\n",
      "The behavior of DatetimeProperties.to_pydatetime is deprecated, in a future version this will return a Series containing python datetime objects instead of an ndarray. To retain the old behavior, call `np.array` on the result\n",
      "\n"
     ]
    },
    {
     "data": {
      "application/vnd.plotly.v1+json": {
       "config": {
        "plotlyServerURL": "https://plot.ly"
       },
       "data": [
        {
         "hovertemplate": "date=%{x}<br>incidents=%{y}<extra></extra>",
         "legendgroup": "",
         "line": {
          "color": "#636efa",
          "dash": "solid"
         },
         "marker": {
          "symbol": "circle"
         },
         "mode": "lines",
         "name": "",
         "orientation": "v",
         "showlegend": false,
         "type": "scatter",
         "x": [
          "2019-01-01T00:00:00",
          "2019-02-01T00:00:00",
          "2019-03-01T00:00:00",
          "2019-04-01T00:00:00",
          "2019-05-01T00:00:00",
          "2019-06-01T00:00:00",
          "2019-07-01T00:00:00",
          "2019-08-01T00:00:00",
          "2019-09-01T00:00:00",
          "2019-10-01T00:00:00",
          "2019-11-01T00:00:00",
          "2019-12-01T00:00:00",
          "2020-01-01T00:00:00",
          "2020-02-01T00:00:00",
          "2020-03-01T00:00:00",
          "2020-04-01T00:00:00",
          "2020-05-01T00:00:00",
          "2020-06-01T00:00:00",
          "2020-07-01T00:00:00",
          "2020-08-01T00:00:00"
         ],
         "xaxis": "x",
         "y": [
          760,
          975,
          742,
          959,
          823,
          795,
          607,
          535,
          729,
          845,
          602,
          493,
          542,
          628,
          697,
          648,
          687,
          613,
          525,
          221
         ],
         "yaxis": "y"
        }
       ],
       "layout": {
        "autosize": true,
        "legend": {
         "tracegroupgap": 0
        },
        "template": {
         "data": {
          "bar": [
           {
            "error_x": {
             "color": "#2a3f5f"
            },
            "error_y": {
             "color": "#2a3f5f"
            },
            "marker": {
             "line": {
              "color": "#E5ECF6",
              "width": 0.5
             },
             "pattern": {
              "fillmode": "overlay",
              "size": 10,
              "solidity": 0.2
             }
            },
            "type": "bar"
           }
          ],
          "barpolar": [
           {
            "marker": {
             "line": {
              "color": "#E5ECF6",
              "width": 0.5
             },
             "pattern": {
              "fillmode": "overlay",
              "size": 10,
              "solidity": 0.2
             }
            },
            "type": "barpolar"
           }
          ],
          "carpet": [
           {
            "aaxis": {
             "endlinecolor": "#2a3f5f",
             "gridcolor": "white",
             "linecolor": "white",
             "minorgridcolor": "white",
             "startlinecolor": "#2a3f5f"
            },
            "baxis": {
             "endlinecolor": "#2a3f5f",
             "gridcolor": "white",
             "linecolor": "white",
             "minorgridcolor": "white",
             "startlinecolor": "#2a3f5f"
            },
            "type": "carpet"
           }
          ],
          "choropleth": [
           {
            "colorbar": {
             "outlinewidth": 0,
             "ticks": ""
            },
            "type": "choropleth"
           }
          ],
          "contour": [
           {
            "colorbar": {
             "outlinewidth": 0,
             "ticks": ""
            },
            "colorscale": [
             [
              0,
              "#0d0887"
             ],
             [
              0.1111111111111111,
              "#46039f"
             ],
             [
              0.2222222222222222,
              "#7201a8"
             ],
             [
              0.3333333333333333,
              "#9c179e"
             ],
             [
              0.4444444444444444,
              "#bd3786"
             ],
             [
              0.5555555555555556,
              "#d8576b"
             ],
             [
              0.6666666666666666,
              "#ed7953"
             ],
             [
              0.7777777777777778,
              "#fb9f3a"
             ],
             [
              0.8888888888888888,
              "#fdca26"
             ],
             [
              1,
              "#f0f921"
             ]
            ],
            "type": "contour"
           }
          ],
          "contourcarpet": [
           {
            "colorbar": {
             "outlinewidth": 0,
             "ticks": ""
            },
            "type": "contourcarpet"
           }
          ],
          "heatmap": [
           {
            "colorbar": {
             "outlinewidth": 0,
             "ticks": ""
            },
            "colorscale": [
             [
              0,
              "#0d0887"
             ],
             [
              0.1111111111111111,
              "#46039f"
             ],
             [
              0.2222222222222222,
              "#7201a8"
             ],
             [
              0.3333333333333333,
              "#9c179e"
             ],
             [
              0.4444444444444444,
              "#bd3786"
             ],
             [
              0.5555555555555556,
              "#d8576b"
             ],
             [
              0.6666666666666666,
              "#ed7953"
             ],
             [
              0.7777777777777778,
              "#fb9f3a"
             ],
             [
              0.8888888888888888,
              "#fdca26"
             ],
             [
              1,
              "#f0f921"
             ]
            ],
            "type": "heatmap"
           }
          ],
          "heatmapgl": [
           {
            "colorbar": {
             "outlinewidth": 0,
             "ticks": ""
            },
            "colorscale": [
             [
              0,
              "#0d0887"
             ],
             [
              0.1111111111111111,
              "#46039f"
             ],
             [
              0.2222222222222222,
              "#7201a8"
             ],
             [
              0.3333333333333333,
              "#9c179e"
             ],
             [
              0.4444444444444444,
              "#bd3786"
             ],
             [
              0.5555555555555556,
              "#d8576b"
             ],
             [
              0.6666666666666666,
              "#ed7953"
             ],
             [
              0.7777777777777778,
              "#fb9f3a"
             ],
             [
              0.8888888888888888,
              "#fdca26"
             ],
             [
              1,
              "#f0f921"
             ]
            ],
            "type": "heatmapgl"
           }
          ],
          "histogram": [
           {
            "marker": {
             "pattern": {
              "fillmode": "overlay",
              "size": 10,
              "solidity": 0.2
             }
            },
            "type": "histogram"
           }
          ],
          "histogram2d": [
           {
            "colorbar": {
             "outlinewidth": 0,
             "ticks": ""
            },
            "colorscale": [
             [
              0,
              "#0d0887"
             ],
             [
              0.1111111111111111,
              "#46039f"
             ],
             [
              0.2222222222222222,
              "#7201a8"
             ],
             [
              0.3333333333333333,
              "#9c179e"
             ],
             [
              0.4444444444444444,
              "#bd3786"
             ],
             [
              0.5555555555555556,
              "#d8576b"
             ],
             [
              0.6666666666666666,
              "#ed7953"
             ],
             [
              0.7777777777777778,
              "#fb9f3a"
             ],
             [
              0.8888888888888888,
              "#fdca26"
             ],
             [
              1,
              "#f0f921"
             ]
            ],
            "type": "histogram2d"
           }
          ],
          "histogram2dcontour": [
           {
            "colorbar": {
             "outlinewidth": 0,
             "ticks": ""
            },
            "colorscale": [
             [
              0,
              "#0d0887"
             ],
             [
              0.1111111111111111,
              "#46039f"
             ],
             [
              0.2222222222222222,
              "#7201a8"
             ],
             [
              0.3333333333333333,
              "#9c179e"
             ],
             [
              0.4444444444444444,
              "#bd3786"
             ],
             [
              0.5555555555555556,
              "#d8576b"
             ],
             [
              0.6666666666666666,
              "#ed7953"
             ],
             [
              0.7777777777777778,
              "#fb9f3a"
             ],
             [
              0.8888888888888888,
              "#fdca26"
             ],
             [
              1,
              "#f0f921"
             ]
            ],
            "type": "histogram2dcontour"
           }
          ],
          "mesh3d": [
           {
            "colorbar": {
             "outlinewidth": 0,
             "ticks": ""
            },
            "type": "mesh3d"
           }
          ],
          "parcoords": [
           {
            "line": {
             "colorbar": {
              "outlinewidth": 0,
              "ticks": ""
             }
            },
            "type": "parcoords"
           }
          ],
          "pie": [
           {
            "automargin": true,
            "type": "pie"
           }
          ],
          "scatter": [
           {
            "fillpattern": {
             "fillmode": "overlay",
             "size": 10,
             "solidity": 0.2
            },
            "type": "scatter"
           }
          ],
          "scatter3d": [
           {
            "line": {
             "colorbar": {
              "outlinewidth": 0,
              "ticks": ""
             }
            },
            "marker": {
             "colorbar": {
              "outlinewidth": 0,
              "ticks": ""
             }
            },
            "type": "scatter3d"
           }
          ],
          "scattercarpet": [
           {
            "marker": {
             "colorbar": {
              "outlinewidth": 0,
              "ticks": ""
             }
            },
            "type": "scattercarpet"
           }
          ],
          "scattergeo": [
           {
            "marker": {
             "colorbar": {
              "outlinewidth": 0,
              "ticks": ""
             }
            },
            "type": "scattergeo"
           }
          ],
          "scattergl": [
           {
            "marker": {
             "colorbar": {
              "outlinewidth": 0,
              "ticks": ""
             }
            },
            "type": "scattergl"
           }
          ],
          "scattermapbox": [
           {
            "marker": {
             "colorbar": {
              "outlinewidth": 0,
              "ticks": ""
             }
            },
            "type": "scattermapbox"
           }
          ],
          "scatterpolar": [
           {
            "marker": {
             "colorbar": {
              "outlinewidth": 0,
              "ticks": ""
             }
            },
            "type": "scatterpolar"
           }
          ],
          "scatterpolargl": [
           {
            "marker": {
             "colorbar": {
              "outlinewidth": 0,
              "ticks": ""
             }
            },
            "type": "scatterpolargl"
           }
          ],
          "scatterternary": [
           {
            "marker": {
             "colorbar": {
              "outlinewidth": 0,
              "ticks": ""
             }
            },
            "type": "scatterternary"
           }
          ],
          "surface": [
           {
            "colorbar": {
             "outlinewidth": 0,
             "ticks": ""
            },
            "colorscale": [
             [
              0,
              "#0d0887"
             ],
             [
              0.1111111111111111,
              "#46039f"
             ],
             [
              0.2222222222222222,
              "#7201a8"
             ],
             [
              0.3333333333333333,
              "#9c179e"
             ],
             [
              0.4444444444444444,
              "#bd3786"
             ],
             [
              0.5555555555555556,
              "#d8576b"
             ],
             [
              0.6666666666666666,
              "#ed7953"
             ],
             [
              0.7777777777777778,
              "#fb9f3a"
             ],
             [
              0.8888888888888888,
              "#fdca26"
             ],
             [
              1,
              "#f0f921"
             ]
            ],
            "type": "surface"
           }
          ],
          "table": [
           {
            "cells": {
             "fill": {
              "color": "#EBF0F8"
             },
             "line": {
              "color": "white"
             }
            },
            "header": {
             "fill": {
              "color": "#C8D4E3"
             },
             "line": {
              "color": "white"
             }
            },
            "type": "table"
           }
          ]
         },
         "layout": {
          "annotationdefaults": {
           "arrowcolor": "#2a3f5f",
           "arrowhead": 0,
           "arrowwidth": 1
          },
          "autotypenumbers": "strict",
          "coloraxis": {
           "colorbar": {
            "outlinewidth": 0,
            "ticks": ""
           }
          },
          "colorscale": {
           "diverging": [
            [
             0,
             "#8e0152"
            ],
            [
             0.1,
             "#c51b7d"
            ],
            [
             0.2,
             "#de77ae"
            ],
            [
             0.3,
             "#f1b6da"
            ],
            [
             0.4,
             "#fde0ef"
            ],
            [
             0.5,
             "#f7f7f7"
            ],
            [
             0.6,
             "#e6f5d0"
            ],
            [
             0.7,
             "#b8e186"
            ],
            [
             0.8,
             "#7fbc41"
            ],
            [
             0.9,
             "#4d9221"
            ],
            [
             1,
             "#276419"
            ]
           ],
           "sequential": [
            [
             0,
             "#0d0887"
            ],
            [
             0.1111111111111111,
             "#46039f"
            ],
            [
             0.2222222222222222,
             "#7201a8"
            ],
            [
             0.3333333333333333,
             "#9c179e"
            ],
            [
             0.4444444444444444,
             "#bd3786"
            ],
            [
             0.5555555555555556,
             "#d8576b"
            ],
            [
             0.6666666666666666,
             "#ed7953"
            ],
            [
             0.7777777777777778,
             "#fb9f3a"
            ],
            [
             0.8888888888888888,
             "#fdca26"
            ],
            [
             1,
             "#f0f921"
            ]
           ],
           "sequentialminus": [
            [
             0,
             "#0d0887"
            ],
            [
             0.1111111111111111,
             "#46039f"
            ],
            [
             0.2222222222222222,
             "#7201a8"
            ],
            [
             0.3333333333333333,
             "#9c179e"
            ],
            [
             0.4444444444444444,
             "#bd3786"
            ],
            [
             0.5555555555555556,
             "#d8576b"
            ],
            [
             0.6666666666666666,
             "#ed7953"
            ],
            [
             0.7777777777777778,
             "#fb9f3a"
            ],
            [
             0.8888888888888888,
             "#fdca26"
            ],
            [
             1,
             "#f0f921"
            ]
           ]
          },
          "colorway": [
           "#636efa",
           "#EF553B",
           "#00cc96",
           "#ab63fa",
           "#FFA15A",
           "#19d3f3",
           "#FF6692",
           "#B6E880",
           "#FF97FF",
           "#FECB52"
          ],
          "font": {
           "color": "#2a3f5f"
          },
          "geo": {
           "bgcolor": "white",
           "lakecolor": "white",
           "landcolor": "#E5ECF6",
           "showlakes": true,
           "showland": true,
           "subunitcolor": "white"
          },
          "hoverlabel": {
           "align": "left"
          },
          "hovermode": "closest",
          "mapbox": {
           "style": "light"
          },
          "paper_bgcolor": "white",
          "plot_bgcolor": "#E5ECF6",
          "polar": {
           "angularaxis": {
            "gridcolor": "white",
            "linecolor": "white",
            "ticks": ""
           },
           "bgcolor": "#E5ECF6",
           "radialaxis": {
            "gridcolor": "white",
            "linecolor": "white",
            "ticks": ""
           }
          },
          "scene": {
           "xaxis": {
            "backgroundcolor": "#E5ECF6",
            "gridcolor": "white",
            "gridwidth": 2,
            "linecolor": "white",
            "showbackground": true,
            "ticks": "",
            "zerolinecolor": "white"
           },
           "yaxis": {
            "backgroundcolor": "#E5ECF6",
            "gridcolor": "white",
            "gridwidth": 2,
            "linecolor": "white",
            "showbackground": true,
            "ticks": "",
            "zerolinecolor": "white"
           },
           "zaxis": {
            "backgroundcolor": "#E5ECF6",
            "gridcolor": "white",
            "gridwidth": 2,
            "linecolor": "white",
            "showbackground": true,
            "ticks": "",
            "zerolinecolor": "white"
           }
          },
          "shapedefaults": {
           "line": {
            "color": "#2a3f5f"
           }
          },
          "ternary": {
           "aaxis": {
            "gridcolor": "white",
            "linecolor": "white",
            "ticks": ""
           },
           "baxis": {
            "gridcolor": "white",
            "linecolor": "white",
            "ticks": ""
           },
           "bgcolor": "#E5ECF6",
           "caxis": {
            "gridcolor": "white",
            "linecolor": "white",
            "ticks": ""
           }
          },
          "title": {
           "x": 0.05
          },
          "xaxis": {
           "automargin": true,
           "gridcolor": "white",
           "linecolor": "white",
           "ticks": "",
           "title": {
            "standoff": 15
           },
           "zerolinecolor": "white",
           "zerolinewidth": 2
          },
          "yaxis": {
           "automargin": true,
           "gridcolor": "white",
           "linecolor": "white",
           "ticks": "",
           "title": {
            "standoff": 15
           },
           "zerolinecolor": "white",
           "zerolinewidth": 2
          }
         }
        },
        "title": {
         "text": "Incidents Per Month"
        },
        "xaxis": {
         "anchor": "y",
         "autorange": true,
         "domain": [
          0,
          1
         ],
         "dtick": "M1",
         "range": [
          "2019-01-01",
          "2020-08-01"
         ],
         "tickformat": "%b '%y",
         "title": {
          "text": "Date"
         },
         "type": "date"
        },
        "yaxis": {
         "anchor": "x",
         "autorange": true,
         "domain": [
          0,
          1
         ],
         "range": [
          179.11111111111111,
          1016.8888888888889
         ],
         "title": {
          "text": "Incidents"
         },
         "type": "linear"
        }
       }
      },
      "image/png": "[encoded data removed]",
      "text/html": [
       "<div>                            <div id=\"527896de-70ad-4be0-947d-c91cf651fa2a\" class=\"plotly-graph-div\" style=\"height:525px; width:100%;\"></div>            <script type=\"text/javascript\">                require([\"plotly\"], function(Plotly) {                    window.PLOTLYENV=window.PLOTLYENV || {};                                    if (document.getElementById(\"527896de-70ad-4be0-947d-c91cf651fa2a\")) {                    Plotly.newPlot(                        \"527896de-70ad-4be0-947d-c91cf651fa2a\",                        [{\"hovertemplate\":\"date=%{x}\\u003cbr\\u003eincidents=%{y}\\u003cextra\\u003e\\u003c\\u002fextra\\u003e\",\"legendgroup\":\"\",\"line\":{\"color\":\"#636efa\",\"dash\":\"solid\"},\"marker\":{\"symbol\":\"circle\"},\"mode\":\"lines\",\"name\":\"\",\"orientation\":\"v\",\"showlegend\":false,\"x\":[\"2019-01-01T00:00:00\",\"2019-02-01T00:00:00\",\"2019-03-01T00:00:00\",\"2019-04-01T00:00:00\",\"2019-05-01T00:00:00\",\"2019-06-01T00:00:00\",\"2019-07-01T00:00:00\",\"2019-08-01T00:00:00\",\"2019-09-01T00:00:00\",\"2019-10-01T00:00:00\",\"2019-11-01T00:00:00\",\"2019-12-01T00:00:00\",\"2020-01-01T00:00:00\",\"2020-02-01T00:00:00\",\"2020-03-01T00:00:00\",\"2020-04-01T00:00:00\",\"2020-05-01T00:00:00\",\"2020-06-01T00:00:00\",\"2020-07-01T00:00:00\",\"2020-08-01T00:00:00\"],\"xaxis\":\"x\",\"y\":[760.0,975.0,742.0,959.0,823.0,795.0,607.0,535.0,729.0,845.0,602.0,493.0,542.0,628.0,697.0,648.0,687.0,613.0,525.0,221.0],\"yaxis\":\"y\",\"type\":\"scatter\"}],                        {\"template\":{\"data\":{\"histogram2dcontour\":[{\"type\":\"histogram2dcontour\",\"colorbar\":{\"outlinewidth\":0,\"ticks\":\"\"},\"colorscale\":[[0.0,\"#0d0887\"],[0.1111111111111111,\"#46039f\"],[0.2222222222222222,\"#7201a8\"],[0.3333333333333333,\"#9c179e\"],[0.4444444444444444,\"#bd3786\"],[0.5555555555555556,\"#d8576b\"],[0.6666666666666666,\"#ed7953\"],[0.7777777777777778,\"#fb9f3a\"],[0.8888888888888888,\"#fdca26\"],[1.0,\"#f0f921\"]]}],\"choropleth\":[{\"type\":\"choropleth\",\"colorbar\":{\"outlinewidth\":0,\"ticks\":\"\"}}],\"histogram2d\":[{\"type\":\"histogram2d\",\"colorbar\":{\"outlinewidth\":0,\"ticks\":\"\"},\"colorscale\":[[0.0,\"#0d0887\"],[0.1111111111111111,\"#46039f\"],[0.2222222222222222,\"#7201a8\"],[0.3333333333333333,\"#9c179e\"],[0.4444444444444444,\"#bd3786\"],[0.5555555555555556,\"#d8576b\"],[0.6666666666666666,\"#ed7953\"],[0.7777777777777778,\"#fb9f3a\"],[0.8888888888888888,\"#fdca26\"],[1.0,\"#f0f921\"]]}],\"heatmap\":[{\"type\":\"heatmap\",\"colorbar\":{\"outlinewidth\":0,\"ticks\":\"\"},\"colorscale\":[[0.0,\"#0d0887\"],[0.1111111111111111,\"#46039f\"],[0.2222222222222222,\"#7201a8\"],[0.3333333333333333,\"#9c179e\"],[0.4444444444444444,\"#bd3786\"],[0.5555555555555556,\"#d8576b\"],[0.6666666666666666,\"#ed7953\"],[0.7777777777777778,\"#fb9f3a\"],[0.8888888888888888,\"#fdca26\"],[1.0,\"#f0f921\"]]}],\"heatmapgl\":[{\"type\":\"heatmapgl\",\"colorbar\":{\"outlinewidth\":0,\"ticks\":\"\"},\"colorscale\":[[0.0,\"#0d0887\"],[0.1111111111111111,\"#46039f\"],[0.2222222222222222,\"#7201a8\"],[0.3333333333333333,\"#9c179e\"],[0.4444444444444444,\"#bd3786\"],[0.5555555555555556,\"#d8576b\"],[0.6666666666666666,\"#ed7953\"],[0.7777777777777778,\"#fb9f3a\"],[0.8888888888888888,\"#fdca26\"],[1.0,\"#f0f921\"]]}],\"contourcarpet\":[{\"type\":\"contourcarpet\",\"colorbar\":{\"outlinewidth\":0,\"ticks\":\"\"}}],\"contour\":[{\"type\":\"contour\",\"colorbar\":{\"outlinewidth\":0,\"ticks\":\"\"},\"colorscale\":[[0.0,\"#0d0887\"],[0.1111111111111111,\"#46039f\"],[0.2222222222222222,\"#7201a8\"],[0.3333333333333333,\"#9c179e\"],[0.4444444444444444,\"#bd3786\"],[0.5555555555555556,\"#d8576b\"],[0.6666666666666666,\"#ed7953\"],[0.7777777777777778,\"#fb9f3a\"],[0.8888888888888888,\"#fdca26\"],[1.0,\"#f0f921\"]]}],\"surface\":[{\"type\":\"surface\",\"colorbar\":{\"outlinewidth\":0,\"ticks\":\"\"},\"colorscale\":[[0.0,\"#0d0887\"],[0.1111111111111111,\"#46039f\"],[0.2222222222222222,\"#7201a8\"],[0.3333333333333333,\"#9c179e\"],[0.4444444444444444,\"#bd3786\"],[0.5555555555555556,\"#d8576b\"],[0.6666666666666666,\"#ed7953\"],[0.7777777777777778,\"#fb9f3a\"],[0.8888888888888888,\"#fdca26\"],[1.0,\"#f0f921\"]]}],\"mesh3d\":[{\"type\":\"mesh3d\",\"colorbar\":{\"outlinewidth\":0,\"ticks\":\"\"}}],\"scatter\":[{\"fillpattern\":{\"fillmode\":\"overlay\",\"size\":10,\"solidity\":0.2},\"type\":\"scatter\"}],\"parcoords\":[{\"type\":\"parcoords\",\"line\":{\"colorbar\":{\"outlinewidth\":0,\"ticks\":\"\"}}}],\"scatterpolargl\":[{\"type\":\"scatterpolargl\",\"marker\":{\"colorbar\":{\"outlinewidth\":0,\"ticks\":\"\"}}}],\"bar\":[{\"error_x\":{\"color\":\"#2a3f5f\"},\"error_y\":{\"color\":\"#2a3f5f\"},\"marker\":{\"line\":{\"color\":\"#E5ECF6\",\"width\":0.5},\"pattern\":{\"fillmode\":\"overlay\",\"size\":10,\"solidity\":0.2}},\"type\":\"bar\"}],\"scattergeo\":[{\"type\":\"scattergeo\",\"marker\":{\"colorbar\":{\"outlinewidth\":0,\"ticks\":\"\"}}}],\"scatterpolar\":[{\"type\":\"scatterpolar\",\"marker\":{\"colorbar\":{\"outlinewidth\":0,\"ticks\":\"\"}}}],\"histogram\":[{\"marker\":{\"pattern\":{\"fillmode\":\"overlay\",\"size\":10,\"solidity\":0.2}},\"type\":\"histogram\"}],\"scattergl\":[{\"type\":\"scattergl\",\"marker\":{\"colorbar\":{\"outlinewidth\":0,\"ticks\":\"\"}}}],\"scatter3d\":[{\"type\":\"scatter3d\",\"line\":{\"colorbar\":{\"outlinewidth\":0,\"ticks\":\"\"}},\"marker\":{\"colorbar\":{\"outlinewidth\":0,\"ticks\":\"\"}}}],\"scattermapbox\":[{\"type\":\"scattermapbox\",\"marker\":{\"colorbar\":{\"outlinewidth\":0,\"ticks\":\"\"}}}],\"scatterternary\":[{\"type\":\"scatterternary\",\"marker\":{\"colorbar\":{\"outlinewidth\":0,\"ticks\":\"\"}}}],\"scattercarpet\":[{\"type\":\"scattercarpet\",\"marker\":{\"colorbar\":{\"outlinewidth\":0,\"ticks\":\"\"}}}],\"carpet\":[{\"aaxis\":{\"endlinecolor\":\"#2a3f5f\",\"gridcolor\":\"white\",\"linecolor\":\"white\",\"minorgridcolor\":\"white\",\"startlinecolor\":\"#2a3f5f\"},\"baxis\":{\"endlinecolor\":\"#2a3f5f\",\"gridcolor\":\"white\",\"linecolor\":\"white\",\"minorgridcolor\":\"white\",\"startlinecolor\":\"#2a3f5f\"},\"type\":\"carpet\"}],\"table\":[{\"cells\":{\"fill\":{\"color\":\"#EBF0F8\"},\"line\":{\"color\":\"white\"}},\"header\":{\"fill\":{\"color\":\"#C8D4E3\"},\"line\":{\"color\":\"white\"}},\"type\":\"table\"}],\"barpolar\":[{\"marker\":{\"line\":{\"color\":\"#E5ECF6\",\"width\":0.5},\"pattern\":{\"fillmode\":\"overlay\",\"size\":10,\"solidity\":0.2}},\"type\":\"barpolar\"}],\"pie\":[{\"automargin\":true,\"type\":\"pie\"}]},\"layout\":{\"autotypenumbers\":\"strict\",\"colorway\":[\"#636efa\",\"#EF553B\",\"#00cc96\",\"#ab63fa\",\"#FFA15A\",\"#19d3f3\",\"#FF6692\",\"#B6E880\",\"#FF97FF\",\"#FECB52\"],\"font\":{\"color\":\"#2a3f5f\"},\"hovermode\":\"closest\",\"hoverlabel\":{\"align\":\"left\"},\"paper_bgcolor\":\"white\",\"plot_bgcolor\":\"#E5ECF6\",\"polar\":{\"bgcolor\":\"#E5ECF6\",\"angularaxis\":{\"gridcolor\":\"white\",\"linecolor\":\"white\",\"ticks\":\"\"},\"radialaxis\":{\"gridcolor\":\"white\",\"linecolor\":\"white\",\"ticks\":\"\"}},\"ternary\":{\"bgcolor\":\"#E5ECF6\",\"aaxis\":{\"gridcolor\":\"white\",\"linecolor\":\"white\",\"ticks\":\"\"},\"baxis\":{\"gridcolor\":\"white\",\"linecolor\":\"white\",\"ticks\":\"\"},\"caxis\":{\"gridcolor\":\"white\",\"linecolor\":\"white\",\"ticks\":\"\"}},\"coloraxis\":{\"colorbar\":{\"outlinewidth\":0,\"ticks\":\"\"}},\"colorscale\":{\"sequential\":[[0.0,\"#0d0887\"],[0.1111111111111111,\"#46039f\"],[0.2222222222222222,\"#7201a8\"],[0.3333333333333333,\"#9c179e\"],[0.4444444444444444,\"#bd3786\"],[0.5555555555555556,\"#d8576b\"],[0.6666666666666666,\"#ed7953\"],[0.7777777777777778,\"#fb9f3a\"],[0.8888888888888888,\"#fdca26\"],[1.0,\"#f0f921\"]],\"sequentialminus\":[[0.0,\"#0d0887\"],[0.1111111111111111,\"#46039f\"],[0.2222222222222222,\"#7201a8\"],[0.3333333333333333,\"#9c179e\"],[0.4444444444444444,\"#bd3786\"],[0.5555555555555556,\"#d8576b\"],[0.6666666666666666,\"#ed7953\"],[0.7777777777777778,\"#fb9f3a\"],[0.8888888888888888,\"#fdca26\"],[1.0,\"#f0f921\"]],\"diverging\":[[0,\"#8e0152\"],[0.1,\"#c51b7d\"],[0.2,\"#de77ae\"],[0.3,\"#f1b6da\"],[0.4,\"#fde0ef\"],[0.5,\"#f7f7f7\"],[0.6,\"#e6f5d0\"],[0.7,\"#b8e186\"],[0.8,\"#7fbc41\"],[0.9,\"#4d9221\"],[1,\"#276419\"]]},\"xaxis\":{\"gridcolor\":\"white\",\"linecolor\":\"white\",\"ticks\":\"\",\"title\":{\"standoff\":15},\"zerolinecolor\":\"white\",\"automargin\":true,\"zerolinewidth\":2},\"yaxis\":{\"gridcolor\":\"white\",\"linecolor\":\"white\",\"ticks\":\"\",\"title\":{\"standoff\":15},\"zerolinecolor\":\"white\",\"automargin\":true,\"zerolinewidth\":2},\"scene\":{\"xaxis\":{\"backgroundcolor\":\"#E5ECF6\",\"gridcolor\":\"white\",\"linecolor\":\"white\",\"showbackground\":true,\"ticks\":\"\",\"zerolinecolor\":\"white\",\"gridwidth\":2},\"yaxis\":{\"backgroundcolor\":\"#E5ECF6\",\"gridcolor\":\"white\",\"linecolor\":\"white\",\"showbackground\":true,\"ticks\":\"\",\"zerolinecolor\":\"white\",\"gridwidth\":2},\"zaxis\":{\"backgroundcolor\":\"#E5ECF6\",\"gridcolor\":\"white\",\"linecolor\":\"white\",\"showbackground\":true,\"ticks\":\"\",\"zerolinecolor\":\"white\",\"gridwidth\":2}},\"shapedefaults\":{\"line\":{\"color\":\"#2a3f5f\"}},\"annotationdefaults\":{\"arrowcolor\":\"#2a3f5f\",\"arrowhead\":0,\"arrowwidth\":1},\"geo\":{\"bgcolor\":\"white\",\"landcolor\":\"#E5ECF6\",\"subunitcolor\":\"white\",\"showland\":true,\"showlakes\":true,\"lakecolor\":\"white\"},\"title\":{\"x\":0.05},\"mapbox\":{\"style\":\"light\"}}},\"xaxis\":{\"anchor\":\"y\",\"domain\":[0.0,1.0],\"title\":{\"text\":\"Date\"},\"dtick\":\"M1\",\"tickformat\":\"%b '%y\"},\"yaxis\":{\"anchor\":\"x\",\"domain\":[0.0,1.0],\"title\":{\"text\":\"Incidents\"}},\"legend\":{\"tracegroupgap\":0},\"title\":{\"text\":\"Incidents Per Month\"}},                        {\"responsive\": true}                    ).then(function(){\n",
       "                            \n",
       "var gd = document.getElementById('527896de-70ad-4be0-947d-c91cf651fa2a');\n",
       "var x = new MutationObserver(function (mutations, observer) {{\n",
       "        var display = window.getComputedStyle(gd).display;\n",
       "        if (!display || display === 'none') {{\n",
       "            console.log([gd, 'removed!']);\n",
       "            Plotly.purge(gd);\n",
       "            observer.disconnect();\n",
       "        }}\n",
       "}});\n",
       "\n",
       "// Listen for the removal of the full notebook cells\n",
       "var notebookContainer = gd.closest('#notebook-container');\n",
       "if (notebookContainer) {{\n",
       "    x.observe(notebookContainer, {childList: true});\n",
       "}}\n",
       "\n",
       "// Listen for the clearing of the current output cell\n",
       "var outputEl = gd.closest('.output');\n",
       "if (outputEl) {{\n",
       "    x.observe(outputEl, {childList: true});\n",
       "}}\n",
       "\n",
       "                        })                };                });            </script>        </div>"
      ]
     },
     "metadata": {},
     "output_type": "display_data"
    }
   ],
   "source": [
    "import pandas as pd\n",
    "import plotly.express as px\n",
    "import locale\n",
    "\n",
    "# Set the locale to English (United States)\n",
    "locale.setlocale(locale.LC_TIME, 'en_US.UTF-8')\n",
    "\n",
    "# Sample data (you should load your data from your database)\n",
    "data = {\n",
    "    'date': [\"jan-19\", \"feb-19\", \"mrt-19\", \"apr-19\", \"mei-19\", \"jun-19\", \"jul-19\", \"aug-19\", \"sep-19\", \"okt-19\", \"nov-19\", \"dec-19\", \"jan-20\", \"feb-20\", \"mrt-20\", \"apr-20\", \"mei-20\", \"jun-20\", \"jul-20\", \"aug-20\"],\n",
    "    'incidents': [760.0, 975.0, 742.0, 959.0, 823.0, 795.0, 607.0, 535.0, 729.0, 845.0, 602.0, 493.0, 542.0, 628.0, 697.0, 648.0, 687.0, 613.0, 525.0, 221.0]\n",
    "}\n",
    "\n",
    "df = pd.DataFrame(data)\n",
    "\n",
    "# Define a mapping dictionary for non-standard month abbreviations\n",
    "month_mapping = {\n",
    "    'jan': 'Jan',\n",
    "    'feb': 'Feb',\n",
    "    'mrt': 'Mar',\n",
    "    'apr': 'Apr',\n",
    "    'mei': 'May',\n",
    "    'jun': 'Jun',\n",
    "    'jul': 'Jul',\n",
    "    'aug': 'Aug',\n",
    "    'sep': 'Sep',\n",
    "    'okt': 'Oct',\n",
    "    'nov': 'Nov',\n",
    "    'dec': 'Dec',\n",
    "}\n",
    "\n",
    "# Replace non-standard month abbreviations with standard abbreviations\n",
    "df['date'] = df['date'].str[:3].map(month_mapping) + df['date'].str[3:]\n",
    "\n",
    "# Parse the \"date\" column to datetime\n",
    "df['date'] = pd.to_datetime(df['date'], format='%b-%y')\n",
    "\n",
    "# Create a Plotly line chart\n",
    "fig = px.line(df, x='date', y='incidents', title='Incidents Per Month')\n",
    "fig.update_xaxes(\n",
    "    dtick=\"M1\",\n",
    "    tickformat=\"%b '%y\"\n",
    ")\n",
    "fig.update_layout(xaxis_title=\"Date\", yaxis_title=\"Incidents\")\n",
    "\n",
    "# Show the plot (you can also save it to an HTML file or display it in a Jupyter Notebook)\n",
    "fig.show()\n"
   ]
  },
  {
   "cell_type": "code",
   "execution_count": 31,
   "id": "7f69f46b-9830-453c-9593-8f2e45936cb1",
   "metadata": {},
   "outputs": [
    {
     "name": "stdout",
     "output_type": "stream",
     "text": [
      "Connected successfully!\n"
     ]
    },
    {
     "name": "stderr",
     "output_type": "stream",
     "text": [
      "/tmp/ipykernel_5796/473656700.py:23: UserWarning:\n",
      "\n",
      "pandas only supports SQLAlchemy connectable (engine/connection) or database string URI or sqlite3 DBAPI2 connection. Other DBAPI2 objects are not tested. Please consider using SQLAlchemy.\n",
      "\n"
     ]
    },
    {
     "name": "stdout",
     "output_type": "stream",
     "text": [
      "Error: time data \"mrt-19\" doesn't match format \"%b-%y\", at position 2. You might want to try:\n",
      "    - passing `format` if your strings have a consistent format;\n",
      "    - passing `format='ISO8601'` if your strings are all ISO8601 but not necessarily in exactly the same format;\n",
      "    - passing `format='mixed'`, and the format will be inferred for each element individually. You might want to use `dayfirst` alongside this.\n"
     ]
    }
   ],
   "source": [
    "import psycopg2\n",
    "import pandas as pd\n",
    "import plotly.express as px\n",
    "\n",
    "# Connect to the PostgreSQL database\n",
    "try:\n",
    "    cnx = psycopg2.connect(\n",
    "        user=db_config['USER'],\n",
    "        password=db_config['PASSWORD'],\n",
    "        host=db_config['HOST'],\n",
    "        port=db_config['PORT'],\n",
    "        database=db_config['NAME']\n",
    "    )\n",
    "    print(\"Connected successfully!\")\n",
    "\n",
    "    # Define your SQL query to fetch the data\n",
    "    query = \"\"\"\n",
    "        SELECT date, incidents\n",
    "        FROM incidentdata;\n",
    "    \"\"\"\n",
    "\n",
    "    # Execute the query and load data into a Pandas DataFrame\n",
    "    df = pd.read_sql_query(query, cnx)\n",
    "\n",
    "    # Parse the \"date\" column to datetime\n",
    "    df['date'] = pd.to_datetime(df['date'], format='%b-%y')\n",
    "\n",
    "    # Create a Plotly line chart\n",
    "    fig = px.line(df, x='date', y='incidents', title='Incidents Per Month')\n",
    "    fig.update_xaxes(\n",
    "        dtick=\"M1\",\n",
    "        tickformat=\"%b '%y\"\n",
    "    )\n",
    "    fig.update_layout(xaxis_title=\"Date\", yaxis_title=\"Incidents\")\n",
    "\n",
    "    # Show the plot (you can also save it to an HTML file or display it in a Jupyter Notebook)\n",
    "    fig.show()\n",
    "\n",
    "    # Close the database connection\n",
    "    cnx.close()\n",
    "\n",
    "except Exception as e:\n",
    "    print(f\"Error: {e}\")\n"
   ]
  },
  {
   "cell_type": "code",
   "execution_count": 32,
   "id": "09e96902-008c-45d3-92c1-901e9d1e718b",
   "metadata": {},
   "outputs": [
    {
     "name": "stdout",
     "output_type": "stream",
     "text": [
      "Connected successfully!\n"
     ]
    },
    {
     "name": "stderr",
     "output_type": "stream",
     "text": [
      "/tmp/ipykernel_5796/3017867064.py:23: UserWarning:\n",
      "\n",
      "pandas only supports SQLAlchemy connectable (engine/connection) or database string URI or sqlite3 DBAPI2 connection. Other DBAPI2 objects are not tested. Please consider using SQLAlchemy.\n",
      "\n",
      "/opt/conda/lib/python3.11/site-packages/_plotly_utils/basevalidators.py:105: FutureWarning:\n",
      "\n",
      "The behavior of DatetimeProperties.to_pydatetime is deprecated, in a future version this will return a Series containing python datetime objects instead of an ndarray. To retain the old behavior, call `np.array` on the result\n",
      "\n"
     ]
    },
    {
     "data": {
      "application/vnd.plotly.v1+json": {
       "config": {
        "plotlyServerURL": "https://plot.ly"
       },
       "data": [
        {
         "hovertemplate": "date=%{x}<br>incidents=%{y}<extra></extra>",
         "legendgroup": "",
         "line": {
          "color": "#636efa",
          "dash": "solid"
         },
         "marker": {
          "symbol": "circle"
         },
         "mode": "lines",
         "name": "",
         "orientation": "v",
         "showlegend": false,
         "type": "scatter",
         "x": [
          "2019-01-01T00:00:00",
          "2019-02-01T00:00:00",
          "2019-03-01T00:00:00",
          "2019-04-01T00:00:00",
          "2019-05-01T00:00:00",
          "2019-06-01T00:00:00",
          "2019-07-01T00:00:00",
          "2019-08-01T00:00:00",
          "2019-09-01T00:00:00",
          "2019-10-01T00:00:00",
          "2019-11-01T00:00:00",
          "2019-12-01T00:00:00",
          "2020-01-01T00:00:00",
          "2020-02-01T00:00:00",
          "2020-03-01T00:00:00",
          "2020-04-01T00:00:00",
          "2020-05-01T00:00:00",
          "2020-06-01T00:00:00",
          "2020-07-01T00:00:00",
          "2020-08-01T00:00:00",
          "2020-09-01T00:00:00",
          "2020-10-01T00:00:00",
          "2020-11-01T00:00:00",
          "2020-12-01T00:00:00",
          "2021-01-01T00:00:00",
          "2021-02-01T00:00:00",
          "2021-03-01T00:00:00",
          "2021-04-01T00:00:00",
          "2021-05-01T00:00:00",
          "2021-06-01T00:00:00",
          "2021-07-01T00:00:00",
          "2021-08-01T00:00:00",
          "2021-09-01T00:00:00",
          "2021-10-01T00:00:00",
          "2021-11-01T00:00:00",
          "2021-12-01T00:00:00",
          "2022-01-01T00:00:00",
          "2022-02-01T00:00:00",
          "2022-03-01T00:00:00",
          "2022-04-01T00:00:00",
          "2022-05-01T00:00:00",
          "2022-06-01T00:00:00",
          "2022-07-01T00:00:00",
          "2022-08-01T00:00:00",
          "2022-09-01T00:00:00",
          "2022-10-01T00:00:00",
          "2022-11-01T00:00:00",
          "2022-12-01T00:00:00",
          "2023-01-01T00:00:00",
          "2023-02-01T00:00:00",
          "2023-03-01T00:00:00",
          "2023-04-01T00:00:00",
          "2023-05-01T00:00:00",
          "2023-06-01T00:00:00",
          "2023-07-01T00:00:00",
          "2023-08-01T00:00:00",
          "2023-09-01T00:00:00"
         ],
         "xaxis": "x",
         "y": [
          760,
          975,
          742,
          959,
          823,
          795,
          607,
          535,
          729,
          845,
          602,
          493,
          542,
          628,
          697,
          648,
          687,
          613,
          525,
          221,
          280,
          325,
          396,
          509,
          455,
          465,
          482,
          508,
          510,
          395,
          494,
          416,
          431,
          487,
          507,
          334,
          519.5,
          705,
          534,
          962,
          1819,
          1832,
          2387,
          2350,
          2630,
          2422,
          2610,
          3097,
          3302,
          3231,
          3928,
          4329,
          4926,
          4740,
          4254,
          4980,
          4951
         ],
         "yaxis": "y"
        }
       ],
       "layout": {
        "autosize": true,
        "legend": {
         "tracegroupgap": 0
        },
        "template": {
         "data": {
          "bar": [
           {
            "error_x": {
             "color": "#2a3f5f"
            },
            "error_y": {
             "color": "#2a3f5f"
            },
            "marker": {
             "line": {
              "color": "#E5ECF6",
              "width": 0.5
             },
             "pattern": {
              "fillmode": "overlay",
              "size": 10,
              "solidity": 0.2
             }
            },
            "type": "bar"
           }
          ],
          "barpolar": [
           {
            "marker": {
             "line": {
              "color": "#E5ECF6",
              "width": 0.5
             },
             "pattern": {
              "fillmode": "overlay",
              "size": 10,
              "solidity": 0.2
             }
            },
            "type": "barpolar"
           }
          ],
          "carpet": [
           {
            "aaxis": {
             "endlinecolor": "#2a3f5f",
             "gridcolor": "white",
             "linecolor": "white",
             "minorgridcolor": "white",
             "startlinecolor": "#2a3f5f"
            },
            "baxis": {
             "endlinecolor": "#2a3f5f",
             "gridcolor": "white",
             "linecolor": "white",
             "minorgridcolor": "white",
             "startlinecolor": "#2a3f5f"
            },
            "type": "carpet"
           }
          ],
          "choropleth": [
           {
            "colorbar": {
             "outlinewidth": 0,
             "ticks": ""
            },
            "type": "choropleth"
           }
          ],
          "contour": [
           {
            "colorbar": {
             "outlinewidth": 0,
             "ticks": ""
            },
            "colorscale": [
             [
              0,
              "#0d0887"
             ],
             [
              0.1111111111111111,
              "#46039f"
             ],
             [
              0.2222222222222222,
              "#7201a8"
             ],
             [
              0.3333333333333333,
              "#9c179e"
             ],
             [
              0.4444444444444444,
              "#bd3786"
             ],
             [
              0.5555555555555556,
              "#d8576b"
             ],
             [
              0.6666666666666666,
              "#ed7953"
             ],
             [
              0.7777777777777778,
              "#fb9f3a"
             ],
             [
              0.8888888888888888,
              "#fdca26"
             ],
             [
              1,
              "#f0f921"
             ]
            ],
            "type": "contour"
           }
          ],
          "contourcarpet": [
           {
            "colorbar": {
             "outlinewidth": 0,
             "ticks": ""
            },
            "type": "contourcarpet"
           }
          ],
          "heatmap": [
           {
            "colorbar": {
             "outlinewidth": 0,
             "ticks": ""
            },
            "colorscale": [
             [
              0,
              "#0d0887"
             ],
             [
              0.1111111111111111,
              "#46039f"
             ],
             [
              0.2222222222222222,
              "#7201a8"
             ],
             [
              0.3333333333333333,
              "#9c179e"
             ],
             [
              0.4444444444444444,
              "#bd3786"
             ],
             [
              0.5555555555555556,
              "#d8576b"
             ],
             [
              0.6666666666666666,
              "#ed7953"
             ],
             [
              0.7777777777777778,
              "#fb9f3a"
             ],
             [
              0.8888888888888888,
              "#fdca26"
             ],
             [
              1,
              "#f0f921"
             ]
            ],
            "type": "heatmap"
           }
          ],
          "heatmapgl": [
           {
            "colorbar": {
             "outlinewidth": 0,
             "ticks": ""
            },
            "colorscale": [
             [
              0,
              "#0d0887"
             ],
             [
              0.1111111111111111,
              "#46039f"
             ],
             [
              0.2222222222222222,
              "#7201a8"
             ],
             [
              0.3333333333333333,
              "#9c179e"
             ],
             [
              0.4444444444444444,
              "#bd3786"
             ],
             [
              0.5555555555555556,
              "#d8576b"
             ],
             [
              0.6666666666666666,
              "#ed7953"
             ],
             [
              0.7777777777777778,
              "#fb9f3a"
             ],
             [
              0.8888888888888888,
              "#fdca26"
             ],
             [
              1,
              "#f0f921"
             ]
            ],
            "type": "heatmapgl"
           }
          ],
          "histogram": [
           {
            "marker": {
             "pattern": {
              "fillmode": "overlay",
              "size": 10,
              "solidity": 0.2
             }
            },
            "type": "histogram"
           }
          ],
          "histogram2d": [
           {
            "colorbar": {
             "outlinewidth": 0,
             "ticks": ""
            },
            "colorscale": [
             [
              0,
              "#0d0887"
             ],
             [
              0.1111111111111111,
              "#46039f"
             ],
             [
              0.2222222222222222,
              "#7201a8"
             ],
             [
              0.3333333333333333,
              "#9c179e"
             ],
             [
              0.4444444444444444,
              "#bd3786"
             ],
             [
              0.5555555555555556,
              "#d8576b"
             ],
             [
              0.6666666666666666,
              "#ed7953"
             ],
             [
              0.7777777777777778,
              "#fb9f3a"
             ],
             [
              0.8888888888888888,
              "#fdca26"
             ],
             [
              1,
              "#f0f921"
             ]
            ],
            "type": "histogram2d"
           }
          ],
          "histogram2dcontour": [
           {
            "colorbar": {
             "outlinewidth": 0,
             "ticks": ""
            },
            "colorscale": [
             [
              0,
              "#0d0887"
             ],
             [
              0.1111111111111111,
              "#46039f"
             ],
             [
              0.2222222222222222,
              "#7201a8"
             ],
             [
              0.3333333333333333,
              "#9c179e"
             ],
             [
              0.4444444444444444,
              "#bd3786"
             ],
             [
              0.5555555555555556,
              "#d8576b"
             ],
             [
              0.6666666666666666,
              "#ed7953"
             ],
             [
              0.7777777777777778,
              "#fb9f3a"
             ],
             [
              0.8888888888888888,
              "#fdca26"
             ],
             [
              1,
              "#f0f921"
             ]
            ],
            "type": "histogram2dcontour"
           }
          ],
          "mesh3d": [
           {
            "colorbar": {
             "outlinewidth": 0,
             "ticks": ""
            },
            "type": "mesh3d"
           }
          ],
          "parcoords": [
           {
            "line": {
             "colorbar": {
              "outlinewidth": 0,
              "ticks": ""
             }
            },
            "type": "parcoords"
           }
          ],
          "pie": [
           {
            "automargin": true,
            "type": "pie"
           }
          ],
          "scatter": [
           {
            "fillpattern": {
             "fillmode": "overlay",
             "size": 10,
             "solidity": 0.2
            },
            "type": "scatter"
           }
          ],
          "scatter3d": [
           {
            "line": {
             "colorbar": {
              "outlinewidth": 0,
              "ticks": ""
             }
            },
            "marker": {
             "colorbar": {
              "outlinewidth": 0,
              "ticks": ""
             }
            },
            "type": "scatter3d"
           }
          ],
          "scattercarpet": [
           {
            "marker": {
             "colorbar": {
              "outlinewidth": 0,
              "ticks": ""
             }
            },
            "type": "scattercarpet"
           }
          ],
          "scattergeo": [
           {
            "marker": {
             "colorbar": {
              "outlinewidth": 0,
              "ticks": ""
             }
            },
            "type": "scattergeo"
           }
          ],
          "scattergl": [
           {
            "marker": {
             "colorbar": {
              "outlinewidth": 0,
              "ticks": ""
             }
            },
            "type": "scattergl"
           }
          ],
          "scattermapbox": [
           {
            "marker": {
             "colorbar": {
              "outlinewidth": 0,
              "ticks": ""
             }
            },
            "type": "scattermapbox"
           }
          ],
          "scatterpolar": [
           {
            "marker": {
             "colorbar": {
              "outlinewidth": 0,
              "ticks": ""
             }
            },
            "type": "scatterpolar"
           }
          ],
          "scatterpolargl": [
           {
            "marker": {
             "colorbar": {
              "outlinewidth": 0,
              "ticks": ""
             }
            },
            "type": "scatterpolargl"
           }
          ],
          "scatterternary": [
           {
            "marker": {
             "colorbar": {
              "outlinewidth": 0,
              "ticks": ""
             }
            },
            "type": "scatterternary"
           }
          ],
          "surface": [
           {
            "colorbar": {
             "outlinewidth": 0,
             "ticks": ""
            },
            "colorscale": [
             [
              0,
              "#0d0887"
             ],
             [
              0.1111111111111111,
              "#46039f"
             ],
             [
              0.2222222222222222,
              "#7201a8"
             ],
             [
              0.3333333333333333,
              "#9c179e"
             ],
             [
              0.4444444444444444,
              "#bd3786"
             ],
             [
              0.5555555555555556,
              "#d8576b"
             ],
             [
              0.6666666666666666,
              "#ed7953"
             ],
             [
              0.7777777777777778,
              "#fb9f3a"
             ],
             [
              0.8888888888888888,
              "#fdca26"
             ],
             [
              1,
              "#f0f921"
             ]
            ],
            "type": "surface"
           }
          ],
          "table": [
           {
            "cells": {
             "fill": {
              "color": "#EBF0F8"
             },
             "line": {
              "color": "white"
             }
            },
            "header": {
             "fill": {
              "color": "#C8D4E3"
             },
             "line": {
              "color": "white"
             }
            },
            "type": "table"
           }
          ]
         },
         "layout": {
          "annotationdefaults": {
           "arrowcolor": "#2a3f5f",
           "arrowhead": 0,
           "arrowwidth": 1
          },
          "autotypenumbers": "strict",
          "coloraxis": {
           "colorbar": {
            "outlinewidth": 0,
            "ticks": ""
           }
          },
          "colorscale": {
           "diverging": [
            [
             0,
             "#8e0152"
            ],
            [
             0.1,
             "#c51b7d"
            ],
            [
             0.2,
             "#de77ae"
            ],
            [
             0.3,
             "#f1b6da"
            ],
            [
             0.4,
             "#fde0ef"
            ],
            [
             0.5,
             "#f7f7f7"
            ],
            [
             0.6,
             "#e6f5d0"
            ],
            [
             0.7,
             "#b8e186"
            ],
            [
             0.8,
             "#7fbc41"
            ],
            [
             0.9,
             "#4d9221"
            ],
            [
             1,
             "#276419"
            ]
           ],
           "sequential": [
            [
             0,
             "#0d0887"
            ],
            [
             0.1111111111111111,
             "#46039f"
            ],
            [
             0.2222222222222222,
             "#7201a8"
            ],
            [
             0.3333333333333333,
             "#9c179e"
            ],
            [
             0.4444444444444444,
             "#bd3786"
            ],
            [
             0.5555555555555556,
             "#d8576b"
            ],
            [
             0.6666666666666666,
             "#ed7953"
            ],
            [
             0.7777777777777778,
             "#fb9f3a"
            ],
            [
             0.8888888888888888,
             "#fdca26"
            ],
            [
             1,
             "#f0f921"
            ]
           ],
           "sequentialminus": [
            [
             0,
             "#0d0887"
            ],
            [
             0.1111111111111111,
             "#46039f"
            ],
            [
             0.2222222222222222,
             "#7201a8"
            ],
            [
             0.3333333333333333,
             "#9c179e"
            ],
            [
             0.4444444444444444,
             "#bd3786"
            ],
            [
             0.5555555555555556,
             "#d8576b"
            ],
            [
             0.6666666666666666,
             "#ed7953"
            ],
            [
             0.7777777777777778,
             "#fb9f3a"
            ],
            [
             0.8888888888888888,
             "#fdca26"
            ],
            [
             1,
             "#f0f921"
            ]
           ]
          },
          "colorway": [
           "#636efa",
           "#EF553B",
           "#00cc96",
           "#ab63fa",
           "#FFA15A",
           "#19d3f3",
           "#FF6692",
           "#B6E880",
           "#FF97FF",
           "#FECB52"
          ],
          "font": {
           "color": "#2a3f5f"
          },
          "geo": {
           "bgcolor": "white",
           "lakecolor": "white",
           "landcolor": "#E5ECF6",
           "showlakes": true,
           "showland": true,
           "subunitcolor": "white"
          },
          "hoverlabel": {
           "align": "left"
          },
          "hovermode": "closest",
          "mapbox": {
           "style": "light"
          },
          "paper_bgcolor": "white",
          "plot_bgcolor": "#E5ECF6",
          "polar": {
           "angularaxis": {
            "gridcolor": "white",
            "linecolor": "white",
            "ticks": ""
           },
           "bgcolor": "#E5ECF6",
           "radialaxis": {
            "gridcolor": "white",
            "linecolor": "white",
            "ticks": ""
           }
          },
          "scene": {
           "xaxis": {
            "backgroundcolor": "#E5ECF6",
            "gridcolor": "white",
            "gridwidth": 2,
            "linecolor": "white",
            "showbackground": true,
            "ticks": "",
            "zerolinecolor": "white"
           },
           "yaxis": {
            "backgroundcolor": "#E5ECF6",
            "gridcolor": "white",
            "gridwidth": 2,
            "linecolor": "white",
            "showbackground": true,
            "ticks": "",
            "zerolinecolor": "white"
           },
           "zaxis": {
            "backgroundcolor": "#E5ECF6",
            "gridcolor": "white",
            "gridwidth": 2,
            "linecolor": "white",
            "showbackground": true,
            "ticks": "",
            "zerolinecolor": "white"
           }
          },
          "shapedefaults": {
           "line": {
            "color": "#2a3f5f"
           }
          },
          "ternary": {
           "aaxis": {
            "gridcolor": "white",
            "linecolor": "white",
            "ticks": ""
           },
           "baxis": {
            "gridcolor": "white",
            "linecolor": "white",
            "ticks": ""
           },
           "bgcolor": "#E5ECF6",
           "caxis": {
            "gridcolor": "white",
            "linecolor": "white",
            "ticks": ""
           }
          },
          "title": {
           "x": 0.05
          },
          "xaxis": {
           "automargin": true,
           "gridcolor": "white",
           "linecolor": "white",
           "ticks": "",
           "title": {
            "standoff": 15
           },
           "zerolinecolor": "white",
           "zerolinewidth": 2
          },
          "yaxis": {
           "automargin": true,
           "gridcolor": "white",
           "linecolor": "white",
           "ticks": "",
           "title": {
            "standoff": 15
           },
           "zerolinecolor": "white",
           "zerolinewidth": 2
          }
         }
        },
        "title": {
         "text": "Incidents Per Month"
        },
        "xaxis": {
         "anchor": "y",
         "autorange": true,
         "domain": [
          0,
          1
         ],
         "dtick": "M1",
         "range": [
          "2019-01-01",
          "2023-09-01"
         ],
         "tickformat": "%b '%y",
         "title": {
          "text": "Date"
         },
         "type": "date"
        },
        "yaxis": {
         "anchor": "x",
         "autorange": true,
         "domain": [
          0,
          1
         ],
         "range": [
          -43.38888888888886,
          5244.388888888889
         ],
         "title": {
          "text": "Incidents"
         },
         "type": "linear"
        }
       }
      },
      "image/png": "[encoded data removed]",
      "text/html": [
       "<div>                            <div id=\"e098e8b3-d620-47f4-99cf-f6ef54b1ca71\" class=\"plotly-graph-div\" style=\"height:525px; width:100%;\"></div>            <script type=\"text/javascript\">                require([\"plotly\"], function(Plotly) {                    window.PLOTLYENV=window.PLOTLYENV || {};                                    if (document.getElementById(\"e098e8b3-d620-47f4-99cf-f6ef54b1ca71\")) {                    Plotly.newPlot(                        \"e098e8b3-d620-47f4-99cf-f6ef54b1ca71\",                        [{\"hovertemplate\":\"date=%{x}\\u003cbr\\u003eincidents=%{y}\\u003cextra\\u003e\\u003c\\u002fextra\\u003e\",\"legendgroup\":\"\",\"line\":{\"color\":\"#636efa\",\"dash\":\"solid\"},\"marker\":{\"symbol\":\"circle\"},\"mode\":\"lines\",\"name\":\"\",\"orientation\":\"v\",\"showlegend\":false,\"x\":[\"2019-01-01T00:00:00\",\"2019-02-01T00:00:00\",\"2019-03-01T00:00:00\",\"2019-04-01T00:00:00\",\"2019-05-01T00:00:00\",\"2019-06-01T00:00:00\",\"2019-07-01T00:00:00\",\"2019-08-01T00:00:00\",\"2019-09-01T00:00:00\",\"2019-10-01T00:00:00\",\"2019-11-01T00:00:00\",\"2019-12-01T00:00:00\",\"2020-01-01T00:00:00\",\"2020-02-01T00:00:00\",\"2020-03-01T00:00:00\",\"2020-04-01T00:00:00\",\"2020-05-01T00:00:00\",\"2020-06-01T00:00:00\",\"2020-07-01T00:00:00\",\"2020-08-01T00:00:00\",\"2020-09-01T00:00:00\",\"2020-10-01T00:00:00\",\"2020-11-01T00:00:00\",\"2020-12-01T00:00:00\",\"2021-01-01T00:00:00\",\"2021-02-01T00:00:00\",\"2021-03-01T00:00:00\",\"2021-04-01T00:00:00\",\"2021-05-01T00:00:00\",\"2021-06-01T00:00:00\",\"2021-07-01T00:00:00\",\"2021-08-01T00:00:00\",\"2021-09-01T00:00:00\",\"2021-10-01T00:00:00\",\"2021-11-01T00:00:00\",\"2021-12-01T00:00:00\",\"2022-01-01T00:00:00\",\"2022-02-01T00:00:00\",\"2022-03-01T00:00:00\",\"2022-04-01T00:00:00\",\"2022-05-01T00:00:00\",\"2022-06-01T00:00:00\",\"2022-07-01T00:00:00\",\"2022-08-01T00:00:00\",\"2022-09-01T00:00:00\",\"2022-10-01T00:00:00\",\"2022-11-01T00:00:00\",\"2022-12-01T00:00:00\",\"2023-01-01T00:00:00\",\"2023-02-01T00:00:00\",\"2023-03-01T00:00:00\",\"2023-04-01T00:00:00\",\"2023-05-01T00:00:00\",\"2023-06-01T00:00:00\",\"2023-07-01T00:00:00\",\"2023-08-01T00:00:00\",\"2023-09-01T00:00:00\"],\"xaxis\":\"x\",\"y\":[760.0,975.0,742.0,959.0,823.0,795.0,607.0,535.0,729.0,845.0,602.0,493.0,542.0,628.0,697.0,648.0,687.0,613.0,525.0,221.0,280.0,325.0,396.0,509.0,455.0,465.0,482.0,508.0,510.0,395.0,494.0,416.0,431.0,487.0,507.0,334.0,519.5,705.0,534.0,962.0,1819.0,1832.0,2387.0,2350.0,2630.0,2422.0,2610.0,3097.0,3302.0,3231.0,3928.0,4329.0,4926.0,4740.0,4254.0,4980.0,4951.0],\"yaxis\":\"y\",\"type\":\"scatter\"}],                        {\"template\":{\"data\":{\"histogram2dcontour\":[{\"type\":\"histogram2dcontour\",\"colorbar\":{\"outlinewidth\":0,\"ticks\":\"\"},\"colorscale\":[[0.0,\"#0d0887\"],[0.1111111111111111,\"#46039f\"],[0.2222222222222222,\"#7201a8\"],[0.3333333333333333,\"#9c179e\"],[0.4444444444444444,\"#bd3786\"],[0.5555555555555556,\"#d8576b\"],[0.6666666666666666,\"#ed7953\"],[0.7777777777777778,\"#fb9f3a\"],[0.8888888888888888,\"#fdca26\"],[1.0,\"#f0f921\"]]}],\"choropleth\":[{\"type\":\"choropleth\",\"colorbar\":{\"outlinewidth\":0,\"ticks\":\"\"}}],\"histogram2d\":[{\"type\":\"histogram2d\",\"colorbar\":{\"outlinewidth\":0,\"ticks\":\"\"},\"colorscale\":[[0.0,\"#0d0887\"],[0.1111111111111111,\"#46039f\"],[0.2222222222222222,\"#7201a8\"],[0.3333333333333333,\"#9c179e\"],[0.4444444444444444,\"#bd3786\"],[0.5555555555555556,\"#d8576b\"],[0.6666666666666666,\"#ed7953\"],[0.7777777777777778,\"#fb9f3a\"],[0.8888888888888888,\"#fdca26\"],[1.0,\"#f0f921\"]]}],\"heatmap\":[{\"type\":\"heatmap\",\"colorbar\":{\"outlinewidth\":0,\"ticks\":\"\"},\"colorscale\":[[0.0,\"#0d0887\"],[0.1111111111111111,\"#46039f\"],[0.2222222222222222,\"#7201a8\"],[0.3333333333333333,\"#9c179e\"],[0.4444444444444444,\"#bd3786\"],[0.5555555555555556,\"#d8576b\"],[0.6666666666666666,\"#ed7953\"],[0.7777777777777778,\"#fb9f3a\"],[0.8888888888888888,\"#fdca26\"],[1.0,\"#f0f921\"]]}],\"heatmapgl\":[{\"type\":\"heatmapgl\",\"colorbar\":{\"outlinewidth\":0,\"ticks\":\"\"},\"colorscale\":[[0.0,\"#0d0887\"],[0.1111111111111111,\"#46039f\"],[0.2222222222222222,\"#7201a8\"],[0.3333333333333333,\"#9c179e\"],[0.4444444444444444,\"#bd3786\"],[0.5555555555555556,\"#d8576b\"],[0.6666666666666666,\"#ed7953\"],[0.7777777777777778,\"#fb9f3a\"],[0.8888888888888888,\"#fdca26\"],[1.0,\"#f0f921\"]]}],\"contourcarpet\":[{\"type\":\"contourcarpet\",\"colorbar\":{\"outlinewidth\":0,\"ticks\":\"\"}}],\"contour\":[{\"type\":\"contour\",\"colorbar\":{\"outlinewidth\":0,\"ticks\":\"\"},\"colorscale\":[[0.0,\"#0d0887\"],[0.1111111111111111,\"#46039f\"],[0.2222222222222222,\"#7201a8\"],[0.3333333333333333,\"#9c179e\"],[0.4444444444444444,\"#bd3786\"],[0.5555555555555556,\"#d8576b\"],[0.6666666666666666,\"#ed7953\"],[0.7777777777777778,\"#fb9f3a\"],[0.8888888888888888,\"#fdca26\"],[1.0,\"#f0f921\"]]}],\"surface\":[{\"type\":\"surface\",\"colorbar\":{\"outlinewidth\":0,\"ticks\":\"\"},\"colorscale\":[[0.0,\"#0d0887\"],[0.1111111111111111,\"#46039f\"],[0.2222222222222222,\"#7201a8\"],[0.3333333333333333,\"#9c179e\"],[0.4444444444444444,\"#bd3786\"],[0.5555555555555556,\"#d8576b\"],[0.6666666666666666,\"#ed7953\"],[0.7777777777777778,\"#fb9f3a\"],[0.8888888888888888,\"#fdca26\"],[1.0,\"#f0f921\"]]}],\"mesh3d\":[{\"type\":\"mesh3d\",\"colorbar\":{\"outlinewidth\":0,\"ticks\":\"\"}}],\"scatter\":[{\"fillpattern\":{\"fillmode\":\"overlay\",\"size\":10,\"solidity\":0.2},\"type\":\"scatter\"}],\"parcoords\":[{\"type\":\"parcoords\",\"line\":{\"colorbar\":{\"outlinewidth\":0,\"ticks\":\"\"}}}],\"scatterpolargl\":[{\"type\":\"scatterpolargl\",\"marker\":{\"colorbar\":{\"outlinewidth\":0,\"ticks\":\"\"}}}],\"bar\":[{\"error_x\":{\"color\":\"#2a3f5f\"},\"error_y\":{\"color\":\"#2a3f5f\"},\"marker\":{\"line\":{\"color\":\"#E5ECF6\",\"width\":0.5},\"pattern\":{\"fillmode\":\"overlay\",\"size\":10,\"solidity\":0.2}},\"type\":\"bar\"}],\"scattergeo\":[{\"type\":\"scattergeo\",\"marker\":{\"colorbar\":{\"outlinewidth\":0,\"ticks\":\"\"}}}],\"scatterpolar\":[{\"type\":\"scatterpolar\",\"marker\":{\"colorbar\":{\"outlinewidth\":0,\"ticks\":\"\"}}}],\"histogram\":[{\"marker\":{\"pattern\":{\"fillmode\":\"overlay\",\"size\":10,\"solidity\":0.2}},\"type\":\"histogram\"}],\"scattergl\":[{\"type\":\"scattergl\",\"marker\":{\"colorbar\":{\"outlinewidth\":0,\"ticks\":\"\"}}}],\"scatter3d\":[{\"type\":\"scatter3d\",\"line\":{\"colorbar\":{\"outlinewidth\":0,\"ticks\":\"\"}},\"marker\":{\"colorbar\":{\"outlinewidth\":0,\"ticks\":\"\"}}}],\"scattermapbox\":[{\"type\":\"scattermapbox\",\"marker\":{\"colorbar\":{\"outlinewidth\":0,\"ticks\":\"\"}}}],\"scatterternary\":[{\"type\":\"scatterternary\",\"marker\":{\"colorbar\":{\"outlinewidth\":0,\"ticks\":\"\"}}}],\"scattercarpet\":[{\"type\":\"scattercarpet\",\"marker\":{\"colorbar\":{\"outlinewidth\":0,\"ticks\":\"\"}}}],\"carpet\":[{\"aaxis\":{\"endlinecolor\":\"#2a3f5f\",\"gridcolor\":\"white\",\"linecolor\":\"white\",\"minorgridcolor\":\"white\",\"startlinecolor\":\"#2a3f5f\"},\"baxis\":{\"endlinecolor\":\"#2a3f5f\",\"gridcolor\":\"white\",\"linecolor\":\"white\",\"minorgridcolor\":\"white\",\"startlinecolor\":\"#2a3f5f\"},\"type\":\"carpet\"}],\"table\":[{\"cells\":{\"fill\":{\"color\":\"#EBF0F8\"},\"line\":{\"color\":\"white\"}},\"header\":{\"fill\":{\"color\":\"#C8D4E3\"},\"line\":{\"color\":\"white\"}},\"type\":\"table\"}],\"barpolar\":[{\"marker\":{\"line\":{\"color\":\"#E5ECF6\",\"width\":0.5},\"pattern\":{\"fillmode\":\"overlay\",\"size\":10,\"solidity\":0.2}},\"type\":\"barpolar\"}],\"pie\":[{\"automargin\":true,\"type\":\"pie\"}]},\"layout\":{\"autotypenumbers\":\"strict\",\"colorway\":[\"#636efa\",\"#EF553B\",\"#00cc96\",\"#ab63fa\",\"#FFA15A\",\"#19d3f3\",\"#FF6692\",\"#B6E880\",\"#FF97FF\",\"#FECB52\"],\"font\":{\"color\":\"#2a3f5f\"},\"hovermode\":\"closest\",\"hoverlabel\":{\"align\":\"left\"},\"paper_bgcolor\":\"white\",\"plot_bgcolor\":\"#E5ECF6\",\"polar\":{\"bgcolor\":\"#E5ECF6\",\"angularaxis\":{\"gridcolor\":\"white\",\"linecolor\":\"white\",\"ticks\":\"\"},\"radialaxis\":{\"gridcolor\":\"white\",\"linecolor\":\"white\",\"ticks\":\"\"}},\"ternary\":{\"bgcolor\":\"#E5ECF6\",\"aaxis\":{\"gridcolor\":\"white\",\"linecolor\":\"white\",\"ticks\":\"\"},\"baxis\":{\"gridcolor\":\"white\",\"linecolor\":\"white\",\"ticks\":\"\"},\"caxis\":{\"gridcolor\":\"white\",\"linecolor\":\"white\",\"ticks\":\"\"}},\"coloraxis\":{\"colorbar\":{\"outlinewidth\":0,\"ticks\":\"\"}},\"colorscale\":{\"sequential\":[[0.0,\"#0d0887\"],[0.1111111111111111,\"#46039f\"],[0.2222222222222222,\"#7201a8\"],[0.3333333333333333,\"#9c179e\"],[0.4444444444444444,\"#bd3786\"],[0.5555555555555556,\"#d8576b\"],[0.6666666666666666,\"#ed7953\"],[0.7777777777777778,\"#fb9f3a\"],[0.8888888888888888,\"#fdca26\"],[1.0,\"#f0f921\"]],\"sequentialminus\":[[0.0,\"#0d0887\"],[0.1111111111111111,\"#46039f\"],[0.2222222222222222,\"#7201a8\"],[0.3333333333333333,\"#9c179e\"],[0.4444444444444444,\"#bd3786\"],[0.5555555555555556,\"#d8576b\"],[0.6666666666666666,\"#ed7953\"],[0.7777777777777778,\"#fb9f3a\"],[0.8888888888888888,\"#fdca26\"],[1.0,\"#f0f921\"]],\"diverging\":[[0,\"#8e0152\"],[0.1,\"#c51b7d\"],[0.2,\"#de77ae\"],[0.3,\"#f1b6da\"],[0.4,\"#fde0ef\"],[0.5,\"#f7f7f7\"],[0.6,\"#e6f5d0\"],[0.7,\"#b8e186\"],[0.8,\"#7fbc41\"],[0.9,\"#4d9221\"],[1,\"#276419\"]]},\"xaxis\":{\"gridcolor\":\"white\",\"linecolor\":\"white\",\"ticks\":\"\",\"title\":{\"standoff\":15},\"zerolinecolor\":\"white\",\"automargin\":true,\"zerolinewidth\":2},\"yaxis\":{\"gridcolor\":\"white\",\"linecolor\":\"white\",\"ticks\":\"\",\"title\":{\"standoff\":15},\"zerolinecolor\":\"white\",\"automargin\":true,\"zerolinewidth\":2},\"scene\":{\"xaxis\":{\"backgroundcolor\":\"#E5ECF6\",\"gridcolor\":\"white\",\"linecolor\":\"white\",\"showbackground\":true,\"ticks\":\"\",\"zerolinecolor\":\"white\",\"gridwidth\":2},\"yaxis\":{\"backgroundcolor\":\"#E5ECF6\",\"gridcolor\":\"white\",\"linecolor\":\"white\",\"showbackground\":true,\"ticks\":\"\",\"zerolinecolor\":\"white\",\"gridwidth\":2},\"zaxis\":{\"backgroundcolor\":\"#E5ECF6\",\"gridcolor\":\"white\",\"linecolor\":\"white\",\"showbackground\":true,\"ticks\":\"\",\"zerolinecolor\":\"white\",\"gridwidth\":2}},\"shapedefaults\":{\"line\":{\"color\":\"#2a3f5f\"}},\"annotationdefaults\":{\"arrowcolor\":\"#2a3f5f\",\"arrowhead\":0,\"arrowwidth\":1},\"geo\":{\"bgcolor\":\"white\",\"landcolor\":\"#E5ECF6\",\"subunitcolor\":\"white\",\"showland\":true,\"showlakes\":true,\"lakecolor\":\"white\"},\"title\":{\"x\":0.05},\"mapbox\":{\"style\":\"light\"}}},\"xaxis\":{\"anchor\":\"y\",\"domain\":[0.0,1.0],\"title\":{\"text\":\"Date\"},\"dtick\":\"M1\",\"tickformat\":\"%b '%y\"},\"yaxis\":{\"anchor\":\"x\",\"domain\":[0.0,1.0],\"title\":{\"text\":\"Incidents\"}},\"legend\":{\"tracegroupgap\":0},\"title\":{\"text\":\"Incidents Per Month\"}},                        {\"responsive\": true}                    ).then(function(){\n",
       "                            \n",
       "var gd = document.getElementById('e098e8b3-d620-47f4-99cf-f6ef54b1ca71');\n",
       "var x = new MutationObserver(function (mutations, observer) {{\n",
       "        var display = window.getComputedStyle(gd).display;\n",
       "        if (!display || display === 'none') {{\n",
       "            console.log([gd, 'removed!']);\n",
       "            Plotly.purge(gd);\n",
       "            observer.disconnect();\n",
       "        }}\n",
       "}});\n",
       "\n",
       "// Listen for the removal of the full notebook cells\n",
       "var notebookContainer = gd.closest('#notebook-container');\n",
       "if (notebookContainer) {{\n",
       "    x.observe(notebookContainer, {childList: true});\n",
       "}}\n",
       "\n",
       "// Listen for the clearing of the current output cell\n",
       "var outputEl = gd.closest('.output');\n",
       "if (outputEl) {{\n",
       "    x.observe(outputEl, {childList: true});\n",
       "}}\n",
       "\n",
       "                        })                };                });            </script>        </div>"
      ]
     },
     "metadata": {},
     "output_type": "display_data"
    }
   ],
   "source": [
    "import psycopg2\n",
    "import pandas as pd\n",
    "import plotly.express as px\n",
    "\n",
    "# Connect to the PostgreSQL database\n",
    "try:\n",
    "    cnx = psycopg2.connect(\n",
    "        user=db_config['USER'],\n",
    "        password=db_config['PASSWORD'],\n",
    "        host=db_config['HOST'],\n",
    "        port=db_config['PORT'],\n",
    "        database=db_config['NAME']\n",
    "    )\n",
    "    print(\"Connected successfully!\")\n",
    "\n",
    "    # Define your SQL query to fetch the data\n",
    "    query = \"\"\"\n",
    "        SELECT date, incidents\n",
    "        FROM incidentdata;\n",
    "    \"\"\"\n",
    "\n",
    "    # Execute the query and load data into a Pandas DataFrame\n",
    "    df = pd.read_sql_query(query, cnx)\n",
    "\n",
    "    # Define a mapping dictionary for non-standard month abbreviations\n",
    "    month_mapping = {\n",
    "        'jan': 'Jan',\n",
    "        'feb': 'Feb',\n",
    "        'mrt': 'Mar',\n",
    "        'apr': 'Apr',\n",
    "        'mei': 'May',\n",
    "        'jun': 'Jun',\n",
    "        'jul': 'Jul',\n",
    "        'aug': 'Aug',\n",
    "        'sep': 'Sep',\n",
    "        'okt': 'Oct',\n",
    "        'nov': 'Nov',\n",
    "        'dec': 'Dec',\n",
    "    }\n",
    "\n",
    "    # Replace non-standard month abbreviations with standard abbreviations\n",
    "    df['date'] = df['date'].str[:3].map(month_mapping) + df['date'].str[3:]\n",
    "\n",
    "    # Parse the \"date\" column to datetime\n",
    "    df['date'] = pd.to_datetime(df['date'], format='%b-%y')\n",
    "\n",
    "    # Create a Plotly line chart\n",
    "    fig = px.line(df, x='date', y='incidents', title='Incidents Per Month')\n",
    "    fig.update_xaxes(\n",
    "        dtick=\"M1\",\n",
    "        tickformat=\"%b '%y\"\n",
    "    )\n",
    "    fig.update_layout(xaxis_title=\"Date\", yaxis_title=\"Incidents\")\n",
    "\n",
    "    # Show the plot (you can also save it to an HTML file or display it in a Jupyter Notebook)\n",
    "    fig.show()\n",
    "\n",
    "    # Close the database connection\n",
    "    cnx.close()\n",
    "\n",
    "except Exception as e:\n",
    "    print(f\"Error: {e}\")\n"
   ]
  },
  {
   "cell_type": "code",
   "execution_count": 1,
   "id": "1c4ef7ac-1893-4742-8502-199956ffdf42",
   "metadata": {},
   "outputs": [],
   "source": [
    "def align_incident_data(incident_data, time_interval='M'):\n",
    "    # Convert the 'date' column to a standard date format\n",
    "    month_mapping = {\n",
    "        'jan': 'Jan',\n",
    "        'feb': 'Feb',\n",
    "        'mrt': 'Mar',\n",
    "        'apr': 'Apr',\n",
    "        'mei': 'May',\n",
    "        'jun': 'Jun',\n",
    "        'jul': 'Jul',\n",
    "        'aug': 'Aug',\n",
    "        'sep': 'Sep',\n",
    "        'okt': 'Oct',\n",
    "        'nov': 'Nov',\n",
    "        'dec': 'Dec',\n",
    "    }\n",
    "\n",
    "    incident_data['date'] = incident_data['date'].str[:3].map(month_mapping) + incident_data['date'].str[3:]\n",
    "    incident_data['date'] = pd.to_datetime(incident_data['date'], format='%b-%y')\n",
    "\n",
    "    # Set 'date' column as the index\n",
    "    incident_data.set_index('date', inplace=True)\n",
    "\n",
    "    # Resample the data to the specified time interval (e.g., monthly)\n",
    "    aligned_incident_data = incident_data.resample(time_interval).sum()\n",
    "\n",
    "    return aligned_incident_data\n",
    "\n",
    "def align_music_valence_data(music_data, aligned_incident_data):\n",
    "    # Convert the 'week' column to datetime\n",
    "    music_data['week'] = pd.to_datetime(music_data['week'])\n",
    "\n",
    "    # Set 'week' column as the index\n",
    "    music_data.set_index('week', inplace=True)\n",
    "\n",
    "    # Resample the data to the same time interval as incident data\n",
    "    aligned_music_data = music_data.resample(aligned_incident_data.index.freq).mean()\n",
    "\n",
    "    return aligned_music_data"
   ]
  },
  {
   "cell_type": "code",
   "execution_count": null,
   "id": "0e7321b4-4ea7-4938-94f7-823f4d3c753a",
   "metadata": {},
   "outputs": [],
   "source": []
  }
 ],
 "metadata": {
  "kernelspec": {
   "display_name": "Python 3 (ipykernel)",
   "language": "python",
   "name": "python3"
  },
  "language_info": {
   "codemirror_mode": {
    "name": "ipython",
    "version": 3
   },
   "file_extension": ".py",
   "mimetype": "text/x-python",
   "name": "python",
   "nbconvert_exporter": "python",
   "pygments_lexer": "ipython3",
   "version": "3.11.6"
  }
 },
 "nbformat": 4,
 "nbformat_minor": 5
}
