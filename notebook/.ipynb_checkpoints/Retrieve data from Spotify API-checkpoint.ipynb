{
 "cells": [
  {
   "cell_type": "code",
   "execution_count": 1,
   "id": "d7ee9a6b-2e2f-48ff-812a-1e6d70aab53e",
   "metadata": {},
   "outputs": [
    {
     "name": "stdout",
     "output_type": "stream",
     "text": [
      "Collecting spotipy\n",
      "  Downloading spotipy-2.23.0-py3-none-any.whl (29 kB)\n",
      "Collecting redis>=3.5.3 (from spotipy)\n",
      "  Obtaining dependency information for redis>=3.5.3 from https://files.pythonhosted.org/packages/0b/34/a01250ac1fc9bf9161e07956d2d580413106ce02d5591470130a25c599e3/redis-5.0.1-py3-none-any.whl.metadata\n",
      "  Downloading redis-5.0.1-py3-none-any.whl.metadata (8.9 kB)\n",
      "Requirement already satisfied: requests>=2.25.0 in /opt/conda/lib/python3.11/site-packages (from spotipy) (2.31.0)\n",
      "Requirement already satisfied: six>=1.15.0 in /opt/conda/lib/python3.11/site-packages (from spotipy) (1.16.0)\n",
      "Requirement already satisfied: urllib3>=1.26.0 in /opt/conda/lib/python3.11/site-packages (from spotipy) (2.0.5)\n",
      "Requirement already satisfied: charset-normalizer<4,>=2 in /opt/conda/lib/python3.11/site-packages (from requests>=2.25.0->spotipy) (3.2.0)\n",
      "Requirement already satisfied: idna<4,>=2.5 in /opt/conda/lib/python3.11/site-packages (from requests>=2.25.0->spotipy) (3.4)\n",
      "Requirement already satisfied: certifi>=2017.4.17 in /opt/conda/lib/python3.11/site-packages (from requests>=2.25.0->spotipy) (2023.7.22)\n",
      "Downloading redis-5.0.1-py3-none-any.whl (250 kB)\n",
      "\u001b[2K   \u001b[90m━━━━━━━━━━━━━━━━━━━━━━━━━━━━━━━━━━━━━━━━\u001b[0m \u001b[32m250.3/250.3 kB\u001b[0m \u001b[31m6.3 MB/s\u001b[0m eta \u001b[36m0:00:00\u001b[0m00:01\u001b[0m\n",
      "\u001b[?25hInstalling collected packages: redis, spotipy\n",
      "Successfully installed redis-5.0.1 spotipy-2.23.0\n"
     ]
    }
   ],
   "source": [
    "!pip install spotipy"
   ]
  },
  {
   "cell_type": "code",
   "execution_count": 2,
   "id": "210b8cb0-7e37-4715-a746-221378f72498",
   "metadata": {},
   "outputs": [],
   "source": [
    "import spotipy\n",
    "from spotipy.oauth2 import SpotifyClientCredentials\n",
    "\n",
    "# Replace with your Spotify Developer App credentials\n",
    "client_id = '0b97ee59b7114c80b1d8ea5616ca91a8'\n",
    "client_secret = '868d26e716544c54b5092b8ef5c91254'\n",
    "\n",
    "# Create a Spotify client with client credentials authentication\n",
    "auth_manager = SpotifyClientCredentials(client_id=client_id, client_secret=client_secret)\n",
    "sp = spotipy.Spotify(auth_manager=auth_manager)\n"
   ]
  },
  {
   "cell_type": "code",
   "execution_count": 3,
   "id": "2e7af212-2c45-4dfb-ac30-f15f8e2ad2b6",
   "metadata": {},
   "outputs": [],
   "source": [
    "# Replace with the URI or URL of the Spotify playlist you want to analyze\n",
    "playlist_uri = 'https://open.spotify.com/playlist/37i9dQZEVXbNcoJZ65xktI?si=3b46307eb84e4010'\n",
    "\n",
    "# Get the playlist tracks\n",
    "results = sp.playlist_tracks(playlist_uri)\n",
    "tracks = results['items']"
   ]
  },
  {
   "cell_type": "code",
   "execution_count": 4,
   "id": "d7f1f900-45b1-4f9b-9fb2-fe7e8e8828ad",
   "metadata": {},
   "outputs": [
    {
     "name": "stdout",
     "output_type": "stream",
     "text": [
      "Moods in the playlist:\n",
      "0.732\n",
      "0.107\n",
      "0.416\n",
      "0.387\n",
      "0.452\n",
      "0.542\n",
      "0.725\n",
      "0.89\n",
      "0.766\n",
      "0.219\n",
      "0.548\n",
      "0.546\n",
      "0.531\n",
      "0.324\n",
      "0.147\n",
      "0.795\n",
      "0.324\n",
      "0.81\n",
      "0.632\n",
      "0.819\n",
      "0.649\n",
      "0.278\n",
      "0.201\n",
      "0.686\n",
      "0.546\n",
      "0.381\n",
      "0.4\n",
      "0.502\n",
      "0.634\n",
      "0.71\n",
      "0.263\n",
      "0.422\n",
      "0.561\n",
      "0.479\n",
      "0.898\n",
      "0.964\n",
      "0.398\n",
      "0.241\n",
      "0.568\n",
      "0.22\n",
      "0.732\n",
      "0.662\n",
      "0.437\n",
      "0.8\n",
      "0.137\n",
      "0.476\n",
      "0.38\n",
      "0.766\n",
      "0.199\n",
      "0.562\n"
     ]
    }
   ],
   "source": [
    "moods = []\n",
    "\n",
    "for track in tracks:\n",
    "    # Extract the track ID\n",
    "    track_id = track['track']['id']\n",
    "\n",
    "    # Get audio features for the track\n",
    "    audio_features = sp.audio_features(track_id)[0]\n",
    "\n",
    "    # Extract relevant mood-related features (e.g., valence, energy)\n",
    "    valence = audio_features['valence']  # A measure of positivity/happiness\n",
    "    energy = audio_features['energy']    # A measure of intensity/energy\n",
    "\n",
    "    moods.append(valence)\n",
    "    # # You can define your own criteria for moods based on these features\n",
    "    # if valence > 0.6 and energy > 0.7:\n",
    "    #     moods.append(\"Happy and Energetic\")\n",
    "    # elif valence > 0.6 and energy < 0.4:\n",
    "    #     moods.append(\"Happy but Calm\")\n",
    "    # # Add more conditions for other moods\n",
    "\n",
    "print(\"Moods in the playlist:\")\n",
    "for mood in moods:\n",
    "    print(mood)\n"
   ]
  },
  {
   "cell_type": "code",
   "execution_count": null,
   "id": "c175c548-4eb2-4c54-92c9-517741a58bb1",
   "metadata": {},
   "outputs": [],
   "source": []
  }
 ],
 "metadata": {
  "kernelspec": {
   "display_name": "Python 3 (ipykernel)",
   "language": "python",
   "name": "python3"
  },
  "language_info": {
   "codemirror_mode": {
    "name": "ipython",
    "version": 3
   },
   "file_extension": ".py",
   "mimetype": "text/x-python",
   "name": "python",
   "nbconvert_exporter": "python",
   "pygments_lexer": "ipython3",
   "version": "3.11.5"
  }
 },
 "nbformat": 4,
 "nbformat_minor": 5
}
