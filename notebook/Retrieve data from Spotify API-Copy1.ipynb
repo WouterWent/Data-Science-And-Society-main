{
 "cells": [
  {
   "cell_type": "code",
   "execution_count": 36,
   "id": "bf467eea-a9a1-4d23-bde9-4e34ee8dffa4",
   "metadata": {},
   "outputs": [
    {
     "name": "stdout",
     "output_type": "stream",
     "text": [
      "Requirement already satisfied: pandas in /opt/conda/lib/python3.11/site-packages (2.1.1)\n",
      "Requirement already satisfied: numpy>=1.23.2 in /opt/conda/lib/python3.11/site-packages (from pandas) (1.24.4)\n",
      "Requirement already satisfied: python-dateutil>=2.8.2 in /opt/conda/lib/python3.11/site-packages (from pandas) (2.8.2)\n",
      "Requirement already satisfied: pytz>=2020.1 in /opt/conda/lib/python3.11/site-packages (from pandas) (2023.3.post1)\n",
      "Requirement already satisfied: tzdata>=2022.1 in /opt/conda/lib/python3.11/site-packages (from pandas) (2023.3)\n",
      "Requirement already satisfied: six>=1.5 in /opt/conda/lib/python3.11/site-packages (from python-dateutil>=2.8.2->pandas) (1.16.0)\n",
      "Collecting psycopg2\n",
      "  Using cached psycopg2-2.9.7.tar.gz (383 kB)\n",
      "  Preparing metadata (setup.py) ... \u001b[?25lerror\n",
      "  \u001b[1;31merror\u001b[0m: \u001b[1msubprocess-exited-with-error\u001b[0m\n",
      "  \n",
      "  \u001b[31m×\u001b[0m \u001b[32mpython setup.py egg_info\u001b[0m did not run successfully.\n",
      "  \u001b[31m│\u001b[0m exit code: \u001b[1;36m1\u001b[0m\n",
      "  \u001b[31m╰─>\u001b[0m \u001b[31m[23 lines of output]\u001b[0m\n",
      "  \u001b[31m   \u001b[0m running egg_info\n",
      "  \u001b[31m   \u001b[0m creating /tmp/pip-pip-egg-info-cl4fen0x/psycopg2.egg-info\n",
      "  \u001b[31m   \u001b[0m writing /tmp/pip-pip-egg-info-cl4fen0x/psycopg2.egg-info/PKG-INFO\n",
      "  \u001b[31m   \u001b[0m writing dependency_links to /tmp/pip-pip-egg-info-cl4fen0x/psycopg2.egg-info/dependency_links.txt\n",
      "  \u001b[31m   \u001b[0m writing top-level names to /tmp/pip-pip-egg-info-cl4fen0x/psycopg2.egg-info/top_level.txt\n",
      "  \u001b[31m   \u001b[0m writing manifest file '/tmp/pip-pip-egg-info-cl4fen0x/psycopg2.egg-info/SOURCES.txt'\n",
      "  \u001b[31m   \u001b[0m \n",
      "  \u001b[31m   \u001b[0m Error: pg_config executable not found.\n",
      "  \u001b[31m   \u001b[0m \n",
      "  \u001b[31m   \u001b[0m pg_config is required to build psycopg2 from source.  Please add the directory\n",
      "  \u001b[31m   \u001b[0m containing pg_config to the $PATH or specify the full executable path with the\n",
      "  \u001b[31m   \u001b[0m option:\n",
      "  \u001b[31m   \u001b[0m \n",
      "  \u001b[31m   \u001b[0m     python setup.py build_ext --pg-config /path/to/pg_config build ...\n",
      "  \u001b[31m   \u001b[0m \n",
      "  \u001b[31m   \u001b[0m or with the pg_config option in 'setup.cfg'.\n",
      "  \u001b[31m   \u001b[0m \n",
      "  \u001b[31m   \u001b[0m If you prefer to avoid building psycopg2 from source, please install the PyPI\n",
      "  \u001b[31m   \u001b[0m 'psycopg2-binary' package instead.\n",
      "  \u001b[31m   \u001b[0m \n",
      "  \u001b[31m   \u001b[0m For further information please check the 'doc/src/install.rst' file (also at\n",
      "  \u001b[31m   \u001b[0m <https://www.psycopg.org/docs/install.html>).\n",
      "  \u001b[31m   \u001b[0m \n",
      "  \u001b[31m   \u001b[0m \u001b[31m[end of output]\u001b[0m\n",
      "  \n",
      "  \u001b[1;35mnote\u001b[0m: This error originates from a subprocess, and is likely not a problem with pip.\n",
      "\u001b[1;31merror\u001b[0m: \u001b[1mmetadata-generation-failed\u001b[0m\n",
      "\n",
      "\u001b[31m×\u001b[0m Encountered error while generating package metadata.\n",
      "\u001b[31m╰─>\u001b[0m See above for output.\n",
      "\n",
      "\u001b[1;35mnote\u001b[0m: This is an issue with the package mentioned above, not pip.\n",
      "\u001b[1;36mhint\u001b[0m: See above for details.\n",
      "\u001b[?25hRequirement already satisfied: configparser in /opt/conda/lib/python3.11/site-packages (6.0.0)\n"
     ]
    }
   ],
   "source": [
    "!pip install pandas\n",
    "!pip install psycopg2\n",
    "!pip install configparser"
   ]
  },
  {
   "cell_type": "code",
   "execution_count": 37,
   "id": "d7ee9a6b-2e2f-48ff-812a-1e6d70aab53e",
   "metadata": {},
   "outputs": [
    {
     "name": "stdout",
     "output_type": "stream",
     "text": [
      "                                          Title Artist\n",
      "0                          Stefania – Kalush Orchestra\n",
      "1                             Hear The Anthem – Skofka\n",
      "2                           Swallows – Chico & Qatoshi\n",
      "3               Thoughts – Artem Pivovarov & Dorofeeva\n",
      "4    Good Evening (Where Are You From?) – Probass ∆...\n",
      "..                                                 ...\n",
      "195  Lips Don't Lie – Ally Brooke & A Boogie Wit da...\n",
      "196   Some Say (Felix Jaehn Remix) – Nea & Felix Jaehn\n",
      "197                 Pʹyu Z Tvoyikh Dolonʹ – Druha Rika\n",
      "198                              Own House – Maks Korj\n",
      "199                                  People – Boomboks\n",
      "\n",
      "[200 rows x 1 columns]\n"
     ]
    }
   ],
   "source": [
    "import pandas as pd\n",
    "\n",
    "df = pd.read_csv (r\"../data/Hits-2022.csv\")\n",
    "df = df[[\"Title Artist\"]]\n",
    "print(df)\n",
    "# df.to_json (r\"../data/Hits-2022.json\")"
   ]
  },
  {
   "cell_type": "code",
   "execution_count": 78,
   "id": "7acdc1c0-59b0-4de7-abd7-b3051c0ee79b",
   "metadata": {},
   "outputs": [
    {
     "name": "stdout",
     "output_type": "stream",
     "text": [
      "Connected successfully!\n"
     ]
    }
   ],
   "source": [
    "import psycopg2\n",
    "import configparser\n",
    "\n",
    "# Load config\n",
    "config = configparser.ConfigParser()\n",
    "config.read('Config.txt')\n",
    "\n",
    "# Get database configurations\n",
    "db_config = config['DATABASE']\n",
    "\n",
    "try:\n",
    "    cnx = psycopg2.connect(\n",
    "        user=db_config['USER'],\n",
    "        password=db_config['PASSWORD'],\n",
    "        host=db_config['HOST'],\n",
    "        port=db_config['PORT'],\n",
    "        database=db_config['NAME'],\n",
    "        sslmode='require'\n",
    "    )\n",
    "    \n",
    "    print(\"Connected successfully!\")\n",
    "    cursor = cnx.cursor()\n",
    "\n",
    "except Exception as e:\n",
    "    print(f\"Error: {e}\")"
   ]
  },
  {
   "cell_type": "code",
   "execution_count": 74,
   "id": "d7f1f900-45b1-4f9b-9fb2-fe7e8e8828ad",
   "metadata": {},
   "outputs": [],
   "source": [
    "for track in df.index:\n",
    "    # print(df['Title Artist'][track])\n",
    "    hallo = df['Title Artist'][track].partition(\"–\")\n",
    "    song = hallo[0]\n",
    "    artist = hallo[2]\n",
    "\n",
    "    add_salary = (\"INSERT INTO Music \"\n",
    "              \"(id, title, artist, valence)\"\n",
    "              \"VALUES (%(id)s, %(title)s, %(artist)s, %(valence)s)\")\n",
    "\n",
    "    data_salary = {\n",
    "      'id': 2,\n",
    "      'title': song,\n",
    "      'artist': artist,\n",
    "      'valence': 0.91,\n",
    "    }\n",
    "    \n",
    "    cursor.execute(add_salary, data_salary)\n",
    "    cnx.commit()\n",
    "    \n",
    "# cursor.close()\n",
    "# cnx.close()"
   ]
  },
  {
   "cell_type": "code",
   "execution_count": 79,
   "id": "c175c548-4eb2-4c54-92c9-517741a58bb1",
   "metadata": {},
   "outputs": [
    {
     "ename": "ProgrammingError",
     "evalue": "no results to fetch",
     "output_type": "error",
     "traceback": [
      "\u001b[0;31m---------------------------------------------------------------------------\u001b[0m",
      "\u001b[0;31mProgrammingError\u001b[0m                          Traceback (most recent call last)",
      "Cell \u001b[0;32mIn[79], line 8\u001b[0m\n\u001b[1;32m      1\u001b[0m cursor \u001b[38;5;241m=\u001b[39m cnx\u001b[38;5;241m.\u001b[39mcursor()\n\u001b[1;32m      2\u001b[0m \u001b[38;5;66;03m# #### Query ###########################################\u001b[39;00m\n\u001b[1;32m      3\u001b[0m \u001b[38;5;66;03m# cur.execute(\"\"\"\u001b[39;00m\n\u001b[1;32m      4\u001b[0m \u001b[38;5;66;03m#     INSERT INTO Music VALUES (1, 'Queen', 'We Are The Champions', 0.91)\u001b[39;00m\n\u001b[1;32m      5\u001b[0m \u001b[38;5;66;03m# \"\"\")\u001b[39;00m\n\u001b[1;32m      6\u001b[0m \n\u001b[1;32m      7\u001b[0m \u001b[38;5;66;03m#Fetch tbl names\u001b[39;00m\n\u001b[0;32m----> 8\u001b[0m table_names \u001b[38;5;241m=\u001b[39m \u001b[43mcursor\u001b[49m\u001b[38;5;241;43m.\u001b[39;49m\u001b[43mfetchall\u001b[49m\u001b[43m(\u001b[49m\u001b[43m)\u001b[49m\n\u001b[1;32m      9\u001b[0m \u001b[38;5;28;01mfor\u001b[39;00m table \u001b[38;5;129;01min\u001b[39;00m table_names:\n\u001b[1;32m     10\u001b[0m     \u001b[38;5;28mprint\u001b[39m(table)\n",
      "\u001b[0;31mProgrammingError\u001b[0m: no results to fetch"
     ]
    }
   ],
   "source": [
    "#     cursor = cnx.cursor()\n",
    "#     # #### Query ###########################################\n",
    "#     # cur.execute(\"\"\"\n",
    "#     #     INSERT INTO Music VALUES (1, 'Queen', 'We Are The Champions', 0.91)\n",
    "#     # \"\"\")\n",
    "\n",
    "#     #Fetch tbl names\n",
    "#     table_names = cursor.fetchall()\n",
    "#     for table in table_names:\n",
    "#         print(table)\n",
    "        \n",
    "#     cursor.close()\n",
    "#     cnx.close()\n",
    "\n",
    "# # except Exception as e:\n",
    "# #     print(f\"Error: {e}\")"
   ]
  },
  {
   "cell_type": "code",
   "execution_count": null,
   "id": "9fc48e5e-190c-4011-8b20-6c9ad2b8d9a2",
   "metadata": {},
   "outputs": [],
   "source": []
  },
  {
   "cell_type": "code",
   "execution_count": null,
   "id": "e27baf68-0e95-4d83-a33b-55b97512d078",
   "metadata": {},
   "outputs": [],
   "source": []
  }
 ],
 "metadata": {
  "kernelspec": {
   "display_name": "Python 3 (ipykernel)",
   "language": "python",
   "name": "python3"
  },
  "language_info": {
   "codemirror_mode": {
    "name": "ipython",
    "version": 3
   },
   "file_extension": ".py",
   "mimetype": "text/x-python",
   "name": "python",
   "nbconvert_exporter": "python",
   "pygments_lexer": "ipython3",
   "version": "3.11.6"
  }
 },
 "nbformat": 4,
 "nbformat_minor": 5
}
